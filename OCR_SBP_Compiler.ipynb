{
  "nbformat": 4,
  "nbformat_minor": 0,
  "metadata": {
    "colab": {
      "name": "OCR_SBP_Compiler.ipynb",
      "provenance": [],
      "collapsed_sections": []
    },
    "kernelspec": {
      "name": "python3",
      "display_name": "Python 3"
    }
  },
  "cells": [
    {
      "cell_type": "markdown",
      "metadata": {
        "id": "KVSE1sj5wXuD"
      },
      "source": [
        "https://pypi.org/project/pdf2image/\r\n",
        "\r\n",
        "https://github.com/bhadreshpsavani/OCR_using_TesseatactLib_Project/blob/master/OCRusingTesseract.ipynb\r\n",
        "\r\n",
        "https://simply-python.com/2018/11/15/convert-pdf-pages-to-jpeg-with-python/"
      ]
    },
    {
      "cell_type": "code",
      "metadata": {
        "id": "TfaqeAWvp8Mc",
        "colab": {
          "base_uri": "https://localhost:8080/"
        },
        "outputId": "b82313c5-e71b-4e52-ffa3-6c1fa3e302ef"
      },
      "source": [
        "!sudo apt install tesseract-ocr\r\n",
        "!pip install pytesseract\r\n",
        "!pip install pdf2image\r\n",
        "!pip install date-extractor\r\n",
        "from pdf2image import convert_from_path, convert_from_bytes\r\n",
        "from pdf2image.exceptions import (\r\n",
        "    PDFInfoNotInstalledError,\r\n",
        "    PDFPageCountError,\r\n",
        "    PDFSyntaxError\r\n",
        ")\r\n",
        "!apt-get install poppler-utils \r\n",
        "import pandas as pd\r\n",
        "import numpy as np\r\n",
        "import pytesseract\r\n",
        "import shutil\r\n",
        "import os\r\n",
        "import random\r\n",
        "import tempfile\r\n",
        "from date_extractor import extract_dates\r\n",
        "date, text = [], []\r\n",
        "try:\r\n",
        "    from PIL import Image\r\n",
        "except ImportError:\r\n",
        "    import Image"
      ],
      "execution_count": null,
      "outputs": [
        {
          "output_type": "stream",
          "text": [
            "Reading package lists... Done\n",
            "Building dependency tree       \n",
            "Reading state information... Done\n",
            "The following additional packages will be installed:\n",
            "  tesseract-ocr-eng tesseract-ocr-osd\n",
            "The following NEW packages will be installed:\n",
            "  tesseract-ocr tesseract-ocr-eng tesseract-ocr-osd\n",
            "0 upgraded, 3 newly installed, 0 to remove and 15 not upgraded.\n",
            "Need to get 4,795 kB of archives.\n",
            "After this operation, 15.8 MB of additional disk space will be used.\n",
            "Get:1 http://archive.ubuntu.com/ubuntu bionic/universe amd64 tesseract-ocr-eng all 4.00~git24-0e00fe6-1.2 [1,588 kB]\n",
            "Get:2 http://archive.ubuntu.com/ubuntu bionic/universe amd64 tesseract-ocr-osd all 4.00~git24-0e00fe6-1.2 [2,989 kB]\n",
            "Get:3 http://archive.ubuntu.com/ubuntu bionic/universe amd64 tesseract-ocr amd64 4.00~git2288-10f4998a-2 [218 kB]\n",
            "Fetched 4,795 kB in 3s (1,547 kB/s)\n",
            "debconf: unable to initialize frontend: Dialog\n",
            "debconf: (No usable dialog-like program is installed, so the dialog based frontend cannot be used. at /usr/share/perl5/Debconf/FrontEnd/Dialog.pm line 76, <> line 3.)\n",
            "debconf: falling back to frontend: Readline\n",
            "debconf: unable to initialize frontend: Readline\n",
            "debconf: (This frontend requires a controlling tty.)\n",
            "debconf: falling back to frontend: Teletype\n",
            "dpkg-preconfigure: unable to re-open stdin: \n",
            "Selecting previously unselected package tesseract-ocr-eng.\n",
            "(Reading database ... 146456 files and directories currently installed.)\n",
            "Preparing to unpack .../tesseract-ocr-eng_4.00~git24-0e00fe6-1.2_all.deb ...\n",
            "Unpacking tesseract-ocr-eng (4.00~git24-0e00fe6-1.2) ...\n",
            "Selecting previously unselected package tesseract-ocr-osd.\n",
            "Preparing to unpack .../tesseract-ocr-osd_4.00~git24-0e00fe6-1.2_all.deb ...\n",
            "Unpacking tesseract-ocr-osd (4.00~git24-0e00fe6-1.2) ...\n",
            "Selecting previously unselected package tesseract-ocr.\n",
            "Preparing to unpack .../tesseract-ocr_4.00~git2288-10f4998a-2_amd64.deb ...\n",
            "Unpacking tesseract-ocr (4.00~git2288-10f4998a-2) ...\n",
            "Setting up tesseract-ocr-osd (4.00~git24-0e00fe6-1.2) ...\n",
            "Setting up tesseract-ocr-eng (4.00~git24-0e00fe6-1.2) ...\n",
            "Setting up tesseract-ocr (4.00~git2288-10f4998a-2) ...\n",
            "Processing triggers for man-db (2.8.3-2ubuntu0.1) ...\n",
            "Collecting pytesseract\n",
            "  Downloading https://files.pythonhosted.org/packages/a0/e6/a4e9fc8a93c1318540e8de6d8d4beb5749b7960388a7c7f27799fc2dd016/pytesseract-0.3.7.tar.gz\n",
            "Requirement already satisfied: Pillow in /usr/local/lib/python3.6/dist-packages (from pytesseract) (7.0.0)\n",
            "Building wheels for collected packages: pytesseract\n",
            "  Building wheel for pytesseract (setup.py) ... \u001b[?25l\u001b[?25hdone\n",
            "  Created wheel for pytesseract: filename=pytesseract-0.3.7-py2.py3-none-any.whl size=13945 sha256=4545a6c7865acebfebccc9f7e558742afcbd889063dbb1b15af1d897c855b8d1\n",
            "  Stored in directory: /root/.cache/pip/wheels/81/20/7e/1dd0daad1575d5260916bb1e9781246430647adaef4b3ca3b3\n",
            "Successfully built pytesseract\n",
            "Installing collected packages: pytesseract\n",
            "Successfully installed pytesseract-0.3.7\n",
            "Collecting pdf2image\n",
            "  Downloading https://files.pythonhosted.org/packages/03/62/089030fd16ab3e5c245315d63c80b29250b8f9e4579b5a09306eb7e7539c/pdf2image-1.14.0-py3-none-any.whl\n",
            "Requirement already satisfied: pillow in /usr/local/lib/python3.6/dist-packages (from pdf2image) (7.0.0)\n",
            "Installing collected packages: pdf2image\n",
            "Successfully installed pdf2image-1.14.0\n",
            "Collecting date-extractor\n",
            "  Downloading https://files.pythonhosted.org/packages/d8/4c/1075398fdb6033186d3c673f49b50fee41637b87d219de62e804bc2e5b4c/date-extractor-5.1.5.tar.gz\n",
            "Requirement already satisfied: pytz in /usr/local/lib/python3.6/dist-packages (from date-extractor) (2018.9)\n",
            "Requirement already satisfied: regex in /usr/local/lib/python3.6/dist-packages (from date-extractor) (2019.12.20)\n",
            "Building wheels for collected packages: date-extractor\n",
            "  Building wheel for date-extractor (setup.py) ... \u001b[?25l\u001b[?25hdone\n",
            "  Created wheel for date-extractor: filename=date_extractor-5.1.5-cp36-none-any.whl size=17895 sha256=e9c833a6670aed11032ffa427c069f0abb0f310c42da886a26fac0fc6d748f40\n",
            "  Stored in directory: /root/.cache/pip/wheels/d8/a4/e5/bab872b591d56b2d565599abd7cdbf27c70d333457d864be53\n",
            "Successfully built date-extractor\n",
            "Installing collected packages: date-extractor\n",
            "Successfully installed date-extractor-5.1.5\n",
            "Reading package lists... Done\n",
            "Building dependency tree       \n",
            "Reading state information... Done\n",
            "The following NEW packages will be installed:\n",
            "  poppler-utils\n",
            "0 upgraded, 1 newly installed, 0 to remove and 15 not upgraded.\n",
            "Need to get 154 kB of archives.\n",
            "After this operation, 613 kB of additional disk space will be used.\n",
            "Get:1 http://archive.ubuntu.com/ubuntu bionic-updates/main amd64 poppler-utils amd64 0.62.0-2ubuntu2.12 [154 kB]\n",
            "Fetched 154 kB in 1s (116 kB/s)\n",
            "Selecting previously unselected package poppler-utils.\n",
            "(Reading database ... 146503 files and directories currently installed.)\n",
            "Preparing to unpack .../poppler-utils_0.62.0-2ubuntu2.12_amd64.deb ...\n",
            "Unpacking poppler-utils (0.62.0-2ubuntu2.12) ...\n",
            "Setting up poppler-utils (0.62.0-2ubuntu2.12) ...\n",
            "Processing triggers for man-db (2.8.3-2ubuntu0.1) ...\n"
          ],
          "name": "stdout"
        }
      ]
    },
    {
      "cell_type": "code",
      "metadata": {
        "id": "vuVXVEErKHUv"
      },
      "source": [
        "df = pd.DataFrame(columns=['Date','SBP Press Release'])"
      ],
      "execution_count": null,
      "outputs": []
    },
    {
      "cell_type": "code",
      "metadata": {
        "id": "RyW4pNkeYcQx"
      },
      "source": [
        "directory = '/content'\r\n",
        "\r\n",
        "for filename in os.listdir(directory):\r\n",
        "    if filename.endswith(\".pdf\"):\r\n",
        "      for i in range(0,1):\r\n",
        "        with tempfile.TemporaryDirectory() as path:\r\n",
        "          try:\r\n",
        "            images_from_path = convert_from_path(filename, output_folder=path, last_page=1, first_page =0)\r\n",
        "          except PDFPageCountError:\r\n",
        "            images_from_path = 0\r\n",
        "      if images_from_path != 0:\r\n",
        "        base_filename  =  os.path.splitext(os.path.basename(filename))[0] + '.jpg'     \r\n",
        "        save_dir = '/content'\r\n",
        "        for page in images_from_path:\r\n",
        "          page.save(os.path.join(save_dir, base_filename), 'JPEG')\r\n",
        "        extractedInformation = pytesseract.image_to_string(Image.open('/content/'+str(base_filename)))\r\n",
        "        date = []\r\n",
        "        date.append(extract_dates(extractedInformation))\r\n",
        "        if len(date[0])>0:\r\n",
        "          temp= {\"Date\":str(date[0][0]),\"SBP Press Release\":extractedInformation}\r\n",
        "          df = df.append(temp, ignore_index=True)"
      ],
      "execution_count": null,
      "outputs": []
    },
    {
      "cell_type": "code",
      "metadata": {
        "colab": {
          "base_uri": "https://localhost:8080/",
          "height": 195
        },
        "id": "h-XAjltYmf7n",
        "outputId": "0facfe47-744d-4c1a-a2bc-3661e81ae4f6"
      },
      "source": [
        "df.tail()"
      ],
      "execution_count": null,
      "outputs": [
        {
          "output_type": "execute_result",
          "data": {
            "text/html": [
              "<div>\n",
              "<style scoped>\n",
              "    .dataframe tbody tr th:only-of-type {\n",
              "        vertical-align: middle;\n",
              "    }\n",
              "\n",
              "    .dataframe tbody tr th {\n",
              "        vertical-align: top;\n",
              "    }\n",
              "\n",
              "    .dataframe thead th {\n",
              "        text-align: right;\n",
              "    }\n",
              "</style>\n",
              "<table border=\"1\" class=\"dataframe\">\n",
              "  <thead>\n",
              "    <tr style=\"text-align: right;\">\n",
              "      <th></th>\n",
              "      <th>Date</th>\n",
              "      <th>SBP Press Release</th>\n",
              "    </tr>\n",
              "  </thead>\n",
              "  <tbody>\n",
              "    <tr>\n",
              "      <th>1236</th>\n",
              "      <td>2014-07-19 00:00:00+00:00</td>\n",
              "      <td>£2014,719\\n\\nKe EGS a2 SALA rsh o95-2014\\n\\nLI...</td>\n",
              "    </tr>\n",
              "    <tr>\n",
              "      <th>1237</th>\n",
              "      <td>2002-02-01 00:00:00+00:00</td>\n",
              "      <td>\\n\\nExternal Relations Department\\n\\n \\n\\n \\n...</td>\n",
              "    </tr>\n",
              "    <tr>\n",
              "      <th>1238</th>\n",
              "      <td>1952-01-09 00:00:00+00:00</td>\n",
              "      <td>£2020 us? 06\\nBS bp eup She edd Soto bed fed\\n...</td>\n",
              "    </tr>\n",
              "    <tr>\n",
              "      <th>1239</th>\n",
              "      <td>2019-09-09 00:00:00+00:00</td>\n",
              "      <td>\\n\\nExternal Relations Department\\n\\n \\n\\n \\n...</td>\n",
              "    </tr>\n",
              "    <tr>\n",
              "      <th>1240</th>\n",
              "      <td>1931-03-05 00:00:00+00:00</td>\n",
              "      <td>\\n\\nExternal Relations Department\\n\\n \\n\\n \\n...</td>\n",
              "    </tr>\n",
              "  </tbody>\n",
              "</table>\n",
              "</div>"
            ],
            "text/plain": [
              "                           Date                                  SBP Press Release\n",
              "1236  2014-07-19 00:00:00+00:00  £2014,719\\n\\nKe EGS a2 SALA rsh o95-2014\\n\\nLI...\n",
              "1237  2002-02-01 00:00:00+00:00   \\n\\nExternal Relations Department\\n\\n \\n\\n \\n...\n",
              "1238  1952-01-09 00:00:00+00:00  £2020 us? 06\\nBS bp eup She edd Soto bed fed\\n...\n",
              "1239  2019-09-09 00:00:00+00:00   \\n\\nExternal Relations Department\\n\\n \\n\\n \\n...\n",
              "1240  1931-03-05 00:00:00+00:00   \\n\\nExternal Relations Department\\n\\n \\n\\n \\n..."
            ]
          },
          "metadata": {
            "tags": []
          },
          "execution_count": 23
        }
      ]
    },
    {
      "cell_type": "code",
      "metadata": {
        "id": "cT-L6GkAq46S"
      },
      "source": [
        "df.to_csv(\"data.csv\", encoding='utf-8',  sep = ',', index = True) #Save dataframe as CSV"
      ],
      "execution_count": null,
      "outputs": []
    },
    {
      "cell_type": "code",
      "metadata": {
        "id": "ludhUTTp6wP7"
      },
      "source": [
        "from google.colab import files"
      ],
      "execution_count": null,
      "outputs": []
    },
    {
      "cell_type": "code",
      "metadata": {
        "colab": {
          "base_uri": "https://localhost:8080/",
          "height": 17
        },
        "id": "-9cHZJvY6ojd",
        "outputId": "cddc3190-3367-48c2-f9b8-6a9e70f6247f"
      },
      "source": [
        "files.download('data.csv')"
      ],
      "execution_count": null,
      "outputs": [
        {
          "output_type": "display_data",
          "data": {
            "application/javascript": [
              "\n",
              "    async function download(id, filename, size) {\n",
              "      if (!google.colab.kernel.accessAllowed) {\n",
              "        return;\n",
              "      }\n",
              "      const div = document.createElement('div');\n",
              "      const label = document.createElement('label');\n",
              "      label.textContent = `Downloading \"${filename}\": `;\n",
              "      div.appendChild(label);\n",
              "      const progress = document.createElement('progress');\n",
              "      progress.max = size;\n",
              "      div.appendChild(progress);\n",
              "      document.body.appendChild(div);\n",
              "\n",
              "      const buffers = [];\n",
              "      let downloaded = 0;\n",
              "\n",
              "      const channel = await google.colab.kernel.comms.open(id);\n",
              "      // Send a message to notify the kernel that we're ready.\n",
              "      channel.send({})\n",
              "\n",
              "      for await (const message of channel.messages) {\n",
              "        // Send a message to notify the kernel that we're ready.\n",
              "        channel.send({})\n",
              "        if (message.buffers) {\n",
              "          for (const buffer of message.buffers) {\n",
              "            buffers.push(buffer);\n",
              "            downloaded += buffer.byteLength;\n",
              "            progress.value = downloaded;\n",
              "          }\n",
              "        }\n",
              "      }\n",
              "      const blob = new Blob(buffers, {type: 'application/binary'});\n",
              "      const a = document.createElement('a');\n",
              "      a.href = window.URL.createObjectURL(blob);\n",
              "      a.download = filename;\n",
              "      div.appendChild(a);\n",
              "      a.click();\n",
              "      div.remove();\n",
              "    }\n",
              "  "
            ],
            "text/plain": [
              "<IPython.core.display.Javascript object>"
            ]
          },
          "metadata": {
            "tags": []
          }
        },
        {
          "output_type": "display_data",
          "data": {
            "application/javascript": [
              "download(\"download_d97e1567-ff6d-406a-ae71-bbb1132523b9\", \"data.csv\", 1874087)"
            ],
            "text/plain": [
              "<IPython.core.display.Javascript object>"
            ]
          },
          "metadata": {
            "tags": []
          }
        }
      ]
    }
  ]
}