{
  "nbformat": 4,
  "nbformat_minor": 0,
  "metadata": {
    "colab": {
      "name": "GlobalOilScraper.ipynb",
      "provenance": [],
      "collapsed_sections": []
    },
    "kernelspec": {
      "name": "python3",
      "display_name": "Python 3"
    }
  },
  "cells": [
    {
      "cell_type": "code",
      "metadata": {
        "id": "jfrj37VF33QE"
      },
      "source": [
        "import pandas as pd\r\n",
        "import numpy as np\r\n",
        "import datetime\r\n",
        "from datetime import date, timedelta\r\n",
        "import requests\r\n",
        "import os"
      ],
      "execution_count": 76,
      "outputs": []
    },
    {
      "cell_type": "code",
      "metadata": {
        "colab": {
          "base_uri": "https://localhost:8080/"
        },
        "id": "Gmpf_CqVET4F",
        "outputId": "96586253-8547-43bc-c26d-72423f4e115d"
      },
      "source": [
        "!pip install selenium\r\n",
        "!apt-get update # to update ubuntu to correctly run apt install\r\n",
        "!apt install chromium-chromedriver\r\n",
        "!cp /usr/lib/chromium-browser/chromedriver /usr/bin\r\n",
        "import sys\r\n",
        "import urllib.request\r\n",
        "import time\r\n",
        "sys.path.insert(0,'/usr/lib/chromium-browser/chromedriver')\r\n",
        "from selenium import webdriver\r\n",
        "chrome_options = webdriver.ChromeOptions()\r\n",
        "chrome_options.add_argument('--headless')\r\n",
        "chrome_options.add_argument('--no-sandbox')\r\n",
        "chrome_options.add_argument('--disable-dev-shm-usage')"
      ],
      "execution_count": 77,
      "outputs": [
        {
          "output_type": "stream",
          "text": [
            "Requirement already satisfied: selenium in /usr/local/lib/python3.6/dist-packages (3.141.0)\n",
            "Requirement already satisfied: urllib3 in /usr/local/lib/python3.6/dist-packages (from selenium) (1.24.3)\n",
            "Hit:1 https://cloud.r-project.org/bin/linux/ubuntu bionic-cran40/ InRelease\n",
            "Ign:2 https://developer.download.nvidia.com/compute/cuda/repos/ubuntu1804/x86_64  InRelease\n",
            "Ign:3 https://developer.download.nvidia.com/compute/machine-learning/repos/ubuntu1804/x86_64  InRelease\n",
            "Hit:4 https://developer.download.nvidia.com/compute/cuda/repos/ubuntu1804/x86_64  Release\n",
            "Hit:5 https://developer.download.nvidia.com/compute/machine-learning/repos/ubuntu1804/x86_64  Release\n",
            "Get:6 http://security.ubuntu.com/ubuntu bionic-security InRelease [88.7 kB]\n",
            "Get:7 http://ppa.launchpad.net/c2d4u.team/c2d4u4.0+/ubuntu bionic InRelease [15.9 kB]\n",
            "Hit:8 http://archive.ubuntu.com/ubuntu bionic InRelease\n",
            "Get:9 http://archive.ubuntu.com/ubuntu bionic-updates InRelease [88.7 kB]\n",
            "Hit:11 http://ppa.launchpad.net/cran/libgit2/ubuntu bionic InRelease\n",
            "Hit:13 http://ppa.launchpad.net/graphics-drivers/ppa/ubuntu bionic InRelease\n",
            "Get:14 http://archive.ubuntu.com/ubuntu bionic-backports InRelease [74.6 kB]\n",
            "Get:15 http://ppa.launchpad.net/c2d4u.team/c2d4u4.0+/ubuntu bionic/main Sources [1,729 kB]\n",
            "Get:16 http://archive.ubuntu.com/ubuntu bionic-updates/universe amd64 Packages [2,162 kB]\n",
            "Get:17 http://ppa.launchpad.net/c2d4u.team/c2d4u4.0+/ubuntu bionic/main amd64 Packages [885 kB]\n",
            "Get:18 http://archive.ubuntu.com/ubuntu bionic-updates/main amd64 Packages [2,358 kB]\n",
            "Fetched 7,401 kB in 3s (2,236 kB/s)\n",
            "Reading package lists... Done\n",
            "Reading package lists... Done\n",
            "Building dependency tree       \n",
            "Reading state information... Done\n",
            "chromium-chromedriver is already the newest version (87.0.4280.66-0ubuntu0.18.04.1).\n",
            "0 upgraded, 0 newly installed, 0 to remove and 25 not upgraded.\n",
            "cp: '/usr/lib/chromium-browser/chromedriver' and '/usr/bin/chromedriver' are the same file\n"
          ],
          "name": "stdout"
        }
      ]
    },
    {
      "cell_type": "code",
      "metadata": {
        "colab": {
          "base_uri": "https://localhost:8080/"
        },
        "id": "CP0ntJ7YEXv3",
        "outputId": "11d19255-6a98-43aa-fb37-b31823ccb5b1"
      },
      "source": [
        "driver = webdriver.Chrome('chromedriver',chrome_options=chrome_options)\r\n",
        "driver.get(\"https://finance.yahoo.com/quote/CL%3DF/history/\")\r\n",
        "time.sleep(3)"
      ],
      "execution_count": 28,
      "outputs": [
        {
          "output_type": "stream",
          "text": [
            "/usr/local/lib/python3.6/dist-packages/ipykernel_launcher.py:1: DeprecationWarning: use options instead of chrome_options\n",
            "  \"\"\"Entry point for launching an IPython kernel.\n"
          ],
          "name": "stderr"
        }
      ]
    },
    {
      "cell_type": "code",
      "metadata": {
        "id": "r9OsnaaqFAv6"
      },
      "source": [
        "download_link = driver.find_element_by_partial_link_text('Download')\r\n",
        "download_link.click()"
      ],
      "execution_count": 66,
      "outputs": []
    },
    {
      "cell_type": "code",
      "metadata": {
        "id": "maIbsxlGJP_Z"
      },
      "source": [
        "daily = pd.read_csv('CL=F.csv')\r\n",
        "daily = daily.drop(\"Adj Close\", axis=1)\r\n",
        "daily = daily.round(3)"
      ],
      "execution_count": 67,
      "outputs": []
    },
    {
      "cell_type": "code",
      "metadata": {
        "colab": {
          "base_uri": "https://localhost:8080/",
          "height": 204
        },
        "id": "wau3_tzaw9GG",
        "outputId": "511c7778-a83f-42a3-998c-fbd08da0c84a"
      },
      "source": [
        "daily.tail()"
      ],
      "execution_count": 75,
      "outputs": [
        {
          "output_type": "execute_result",
          "data": {
            "text/html": [
              "<div>\n",
              "<style scoped>\n",
              "    .dataframe tbody tr th:only-of-type {\n",
              "        vertical-align: middle;\n",
              "    }\n",
              "\n",
              "    .dataframe tbody tr th {\n",
              "        vertical-align: top;\n",
              "    }\n",
              "\n",
              "    .dataframe thead th {\n",
              "        text-align: right;\n",
              "    }\n",
              "</style>\n",
              "<table border=\"1\" class=\"dataframe\">\n",
              "  <thead>\n",
              "    <tr style=\"text-align: right;\">\n",
              "      <th></th>\n",
              "      <th>Date</th>\n",
              "      <th>Open</th>\n",
              "      <th>High</th>\n",
              "      <th>Low</th>\n",
              "      <th>Close</th>\n",
              "      <th>Volume</th>\n",
              "    </tr>\n",
              "  </thead>\n",
              "  <tbody>\n",
              "    <tr>\n",
              "      <th>301</th>\n",
              "      <td>2021-02-05</td>\n",
              "      <td>56.46</td>\n",
              "      <td>57.29</td>\n",
              "      <td>56.43</td>\n",
              "      <td>56.85</td>\n",
              "      <td>381404.0</td>\n",
              "    </tr>\n",
              "    <tr>\n",
              "      <th>302</th>\n",
              "      <td>2021-02-07</td>\n",
              "      <td>NaN</td>\n",
              "      <td>NaN</td>\n",
              "      <td>NaN</td>\n",
              "      <td>NaN</td>\n",
              "      <td>NaN</td>\n",
              "    </tr>\n",
              "    <tr>\n",
              "      <th>303</th>\n",
              "      <td>2021-02-08</td>\n",
              "      <td>57.06</td>\n",
              "      <td>58.14</td>\n",
              "      <td>57.00</td>\n",
              "      <td>57.97</td>\n",
              "      <td>399724.0</td>\n",
              "    </tr>\n",
              "    <tr>\n",
              "      <th>304</th>\n",
              "      <td>2021-02-09</td>\n",
              "      <td>58.11</td>\n",
              "      <td>58.62</td>\n",
              "      <td>57.27</td>\n",
              "      <td>58.36</td>\n",
              "      <td>399724.0</td>\n",
              "    </tr>\n",
              "    <tr>\n",
              "      <th>305</th>\n",
              "      <td>2021-02-10</td>\n",
              "      <td>58.45</td>\n",
              "      <td>58.87</td>\n",
              "      <td>58.08</td>\n",
              "      <td>58.76</td>\n",
              "      <td>257593.0</td>\n",
              "    </tr>\n",
              "  </tbody>\n",
              "</table>\n",
              "</div>"
            ],
            "text/plain": [
              "           Date   Open   High    Low  Close    Volume\n",
              "301  2021-02-05  56.46  57.29  56.43  56.85  381404.0\n",
              "302  2021-02-07    NaN    NaN    NaN    NaN       NaN\n",
              "303  2021-02-08  57.06  58.14  57.00  57.97  399724.0\n",
              "304  2021-02-09  58.11  58.62  57.27  58.36  399724.0\n",
              "305  2021-02-10  58.45  58.87  58.08  58.76  257593.0"
            ]
          },
          "metadata": {
            "tags": []
          },
          "execution_count": 75
        }
      ]
    },
    {
      "cell_type": "code",
      "metadata": {
        "colab": {
          "base_uri": "https://localhost:8080/",
          "height": 80
        },
        "id": "ElnJOcjo0r_W",
        "outputId": "a25e5a46-3f22-4809-ee1f-23373b586e42"
      },
      "source": [
        "daily.tail(1)"
      ],
      "execution_count": 70,
      "outputs": [
        {
          "output_type": "execute_result",
          "data": {
            "text/html": [
              "<div>\n",
              "<style scoped>\n",
              "    .dataframe tbody tr th:only-of-type {\n",
              "        vertical-align: middle;\n",
              "    }\n",
              "\n",
              "    .dataframe tbody tr th {\n",
              "        vertical-align: top;\n",
              "    }\n",
              "\n",
              "    .dataframe thead th {\n",
              "        text-align: right;\n",
              "    }\n",
              "</style>\n",
              "<table border=\"1\" class=\"dataframe\">\n",
              "  <thead>\n",
              "    <tr style=\"text-align: right;\">\n",
              "      <th></th>\n",
              "      <th>Date</th>\n",
              "      <th>Open</th>\n",
              "      <th>High</th>\n",
              "      <th>Low</th>\n",
              "      <th>Close</th>\n",
              "      <th>Volume</th>\n",
              "    </tr>\n",
              "  </thead>\n",
              "  <tbody>\n",
              "    <tr>\n",
              "      <th>305</th>\n",
              "      <td>2021-02-10</td>\n",
              "      <td>58.45</td>\n",
              "      <td>58.87</td>\n",
              "      <td>58.08</td>\n",
              "      <td>58.76</td>\n",
              "      <td>257593.0</td>\n",
              "    </tr>\n",
              "  </tbody>\n",
              "</table>\n",
              "</div>"
            ],
            "text/plain": [
              "           Date   Open   High    Low  Close    Volume\n",
              "305  2021-02-10  58.45  58.87  58.08  58.76  257593.0"
            ]
          },
          "metadata": {
            "tags": []
          },
          "execution_count": 70
        }
      ]
    },
    {
      "cell_type": "code",
      "metadata": {
        "colab": {
          "base_uri": "https://localhost:8080/",
          "height": 204
        },
        "id": "BjtkW7L-3fQp",
        "outputId": "ad44c7d5-994a-4165-85fe-7d9b1dc09e80"
      },
      "source": [
        "updated = pd.read_csv('updated_oilprice.csv')\r\n",
        "updated.tail()"
      ],
      "execution_count": 80,
      "outputs": [
        {
          "output_type": "execute_result",
          "data": {
            "text/html": [
              "<div>\n",
              "<style scoped>\n",
              "    .dataframe tbody tr th:only-of-type {\n",
              "        vertical-align: middle;\n",
              "    }\n",
              "\n",
              "    .dataframe tbody tr th {\n",
              "        vertical-align: top;\n",
              "    }\n",
              "\n",
              "    .dataframe thead th {\n",
              "        text-align: right;\n",
              "    }\n",
              "</style>\n",
              "<table border=\"1\" class=\"dataframe\">\n",
              "  <thead>\n",
              "    <tr style=\"text-align: right;\">\n",
              "      <th></th>\n",
              "      <th>Date</th>\n",
              "      <th>Open</th>\n",
              "      <th>High</th>\n",
              "      <th>Low</th>\n",
              "      <th>Close</th>\n",
              "      <th>Volume</th>\n",
              "    </tr>\n",
              "  </thead>\n",
              "  <tbody>\n",
              "    <tr>\n",
              "      <th>6161</th>\n",
              "      <td>2021-02-04</td>\n",
              "      <td>55.96</td>\n",
              "      <td>56.58</td>\n",
              "      <td>55.30</td>\n",
              "      <td>56.23</td>\n",
              "      <td>381404.0</td>\n",
              "    </tr>\n",
              "    <tr>\n",
              "      <th>6162</th>\n",
              "      <td>2021-02-05</td>\n",
              "      <td>56.46</td>\n",
              "      <td>57.29</td>\n",
              "      <td>56.43</td>\n",
              "      <td>56.85</td>\n",
              "      <td>381404.0</td>\n",
              "    </tr>\n",
              "    <tr>\n",
              "      <th>6163</th>\n",
              "      <td>2021-02-07</td>\n",
              "      <td>NaN</td>\n",
              "      <td>NaN</td>\n",
              "      <td>NaN</td>\n",
              "      <td>NaN</td>\n",
              "      <td>NaN</td>\n",
              "    </tr>\n",
              "    <tr>\n",
              "      <th>6164</th>\n",
              "      <td>2021-02-08</td>\n",
              "      <td>57.06</td>\n",
              "      <td>58.14</td>\n",
              "      <td>57.00</td>\n",
              "      <td>57.97</td>\n",
              "      <td>399724.0</td>\n",
              "    </tr>\n",
              "    <tr>\n",
              "      <th>6165</th>\n",
              "      <td>2021-02-09</td>\n",
              "      <td>58.11</td>\n",
              "      <td>58.62</td>\n",
              "      <td>57.27</td>\n",
              "      <td>58.36</td>\n",
              "      <td>399724.0</td>\n",
              "    </tr>\n",
              "  </tbody>\n",
              "</table>\n",
              "</div>"
            ],
            "text/plain": [
              "            Date   Open   High    Low  Close    Volume\n",
              "6161  2021-02-04  55.96  56.58  55.30  56.23  381404.0\n",
              "6162  2021-02-05  56.46  57.29  56.43  56.85  381404.0\n",
              "6163  2021-02-07    NaN    NaN    NaN    NaN       NaN\n",
              "6164  2021-02-08  57.06  58.14  57.00  57.97  399724.0\n",
              "6165  2021-02-09  58.11  58.62  57.27  58.36  399724.0"
            ]
          },
          "metadata": {
            "tags": []
          },
          "execution_count": 80
        }
      ]
    },
    {
      "cell_type": "code",
      "metadata": {
        "id": "D5FcZm2T6yBD"
      },
      "source": [
        "updated = updated.append(daily.tail(1),ignore_index=True)"
      ],
      "execution_count": 81,
      "outputs": []
    },
    {
      "cell_type": "code",
      "metadata": {
        "colab": {
          "base_uri": "https://localhost:8080/",
          "height": 204
        },
        "id": "DkdLwTOL7Gd1",
        "outputId": "94b34a12-a055-4537-9eee-f0a8f11b25f5"
      },
      "source": [
        "updated.tail()"
      ],
      "execution_count": 82,
      "outputs": [
        {
          "output_type": "execute_result",
          "data": {
            "text/html": [
              "<div>\n",
              "<style scoped>\n",
              "    .dataframe tbody tr th:only-of-type {\n",
              "        vertical-align: middle;\n",
              "    }\n",
              "\n",
              "    .dataframe tbody tr th {\n",
              "        vertical-align: top;\n",
              "    }\n",
              "\n",
              "    .dataframe thead th {\n",
              "        text-align: right;\n",
              "    }\n",
              "</style>\n",
              "<table border=\"1\" class=\"dataframe\">\n",
              "  <thead>\n",
              "    <tr style=\"text-align: right;\">\n",
              "      <th></th>\n",
              "      <th>Date</th>\n",
              "      <th>Open</th>\n",
              "      <th>High</th>\n",
              "      <th>Low</th>\n",
              "      <th>Close</th>\n",
              "      <th>Volume</th>\n",
              "    </tr>\n",
              "  </thead>\n",
              "  <tbody>\n",
              "    <tr>\n",
              "      <th>6162</th>\n",
              "      <td>2021-02-05</td>\n",
              "      <td>56.46</td>\n",
              "      <td>57.29</td>\n",
              "      <td>56.43</td>\n",
              "      <td>56.85</td>\n",
              "      <td>381404.0</td>\n",
              "    </tr>\n",
              "    <tr>\n",
              "      <th>6163</th>\n",
              "      <td>2021-02-07</td>\n",
              "      <td>NaN</td>\n",
              "      <td>NaN</td>\n",
              "      <td>NaN</td>\n",
              "      <td>NaN</td>\n",
              "      <td>NaN</td>\n",
              "    </tr>\n",
              "    <tr>\n",
              "      <th>6164</th>\n",
              "      <td>2021-02-08</td>\n",
              "      <td>57.06</td>\n",
              "      <td>58.14</td>\n",
              "      <td>57.00</td>\n",
              "      <td>57.97</td>\n",
              "      <td>399724.0</td>\n",
              "    </tr>\n",
              "    <tr>\n",
              "      <th>6165</th>\n",
              "      <td>2021-02-09</td>\n",
              "      <td>58.11</td>\n",
              "      <td>58.62</td>\n",
              "      <td>57.27</td>\n",
              "      <td>58.36</td>\n",
              "      <td>399724.0</td>\n",
              "    </tr>\n",
              "    <tr>\n",
              "      <th>6166</th>\n",
              "      <td>2021-02-10</td>\n",
              "      <td>58.45</td>\n",
              "      <td>58.87</td>\n",
              "      <td>58.08</td>\n",
              "      <td>58.76</td>\n",
              "      <td>257593.0</td>\n",
              "    </tr>\n",
              "  </tbody>\n",
              "</table>\n",
              "</div>"
            ],
            "text/plain": [
              "            Date   Open   High    Low  Close    Volume\n",
              "6162  2021-02-05  56.46  57.29  56.43  56.85  381404.0\n",
              "6163  2021-02-07    NaN    NaN    NaN    NaN       NaN\n",
              "6164  2021-02-08  57.06  58.14  57.00  57.97  399724.0\n",
              "6165  2021-02-09  58.11  58.62  57.27  58.36  399724.0\n",
              "6166  2021-02-10  58.45  58.87  58.08  58.76  257593.0"
            ]
          },
          "metadata": {
            "tags": []
          },
          "execution_count": 82
        }
      ]
    },
    {
      "cell_type": "code",
      "metadata": {
        "id": "y6PRtIl73urI"
      },
      "source": [
        "updated.to_csv('updated_oilprice.csv',index=False)"
      ],
      "execution_count": 83,
      "outputs": []
    }
  ]
}