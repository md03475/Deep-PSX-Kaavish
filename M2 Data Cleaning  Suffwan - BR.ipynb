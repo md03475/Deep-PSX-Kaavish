{
 "cells": [
  {
   "cell_type": "markdown",
   "metadata": {},
   "source": [
    "# Data Preprocessing"
   ]
  },
  {
   "cell_type": "markdown",
   "metadata": {},
   "source": [
    "### Import relevant libraries"
   ]
  },
  {
   "cell_type": "code",
   "execution_count": 126,
   "metadata": {},
   "outputs": [],
   "source": [
    "import pandas as pd\n",
    "import datetime"
   ]
  },
  {
   "cell_type": "markdown",
   "metadata": {},
   "source": [
    "### Import and build news data"
   ]
  },
  {
   "cell_type": "code",
   "execution_count": 127,
   "metadata": {},
   "outputs": [],
   "source": [
    "news_data = pd.read_csv('BR_News.txt', names = ['Date', 'News'], index_col = 0) #Original raw data file"
   ]
  },
  {
   "cell_type": "code",
   "execution_count": 128,
   "metadata": {},
   "outputs": [],
   "source": [
    "news_data['Polarity'] = [0 for i in range(len(news_data))] #Initialize polarities to zero"
   ]
  },
  {
   "cell_type": "code",
   "execution_count": 129,
   "metadata": {},
   "outputs": [],
   "source": [
    "news_data.drop_duplicates(subset =\"News\", \n",
    "                     keep = False, inplace = True) \n",
    "  "
   ]
  },
  {
   "cell_type": "code",
   "execution_count": 130,
   "metadata": {},
   "outputs": [
    {
     "data": {
      "text/html": [
       "<div>\n",
       "<style scoped>\n",
       "    .dataframe tbody tr th:only-of-type {\n",
       "        vertical-align: middle;\n",
       "    }\n",
       "\n",
       "    .dataframe tbody tr th {\n",
       "        vertical-align: top;\n",
       "    }\n",
       "\n",
       "    .dataframe thead th {\n",
       "        text-align: right;\n",
       "    }\n",
       "</style>\n",
       "<table border=\"1\" class=\"dataframe\">\n",
       "  <thead>\n",
       "    <tr style=\"text-align: right;\">\n",
       "      <th></th>\n",
       "      <th>Date</th>\n",
       "      <th>News</th>\n",
       "      <th>Polarity</th>\n",
       "    </tr>\n",
       "  </thead>\n",
       "  <tbody>\n",
       "    <tr>\n",
       "      <th>NaN</th>\n",
       "      <td>date</td>\n",
       "      <td>news</td>\n",
       "      <td>0</td>\n",
       "    </tr>\n",
       "    <tr>\n",
       "      <th>0.0</th>\n",
       "      <td>2011-04-02</td>\n",
       "      <td>Political parties should work for resolution o...</td>\n",
       "      <td>0</td>\n",
       "    </tr>\n",
       "    <tr>\n",
       "      <th>1.0</th>\n",
       "      <td>2011-04-05</td>\n",
       "      <td>China to invest in hydel, renewable energy pow...</td>\n",
       "      <td>0</td>\n",
       "    </tr>\n",
       "    <tr>\n",
       "      <th>2.0</th>\n",
       "      <td>2011-04-06</td>\n",
       "      <td>Govt mulling to empower eight public sector en...</td>\n",
       "      <td>0</td>\n",
       "    </tr>\n",
       "    <tr>\n",
       "      <th>3.0</th>\n",
       "      <td>2011-04-06</td>\n",
       "      <td>China offers financial, technical assistance f...</td>\n",
       "      <td>0</td>\n",
       "    </tr>\n",
       "  </tbody>\n",
       "</table>\n",
       "</div>"
      ],
      "text/plain": [
       "           Date                                               News  Polarity\n",
       "NaN        date                                               news         0\n",
       "0.0  2011-04-02  Political parties should work for resolution o...         0\n",
       "1.0  2011-04-05  China to invest in hydel, renewable energy pow...         0\n",
       "2.0  2011-04-06  Govt mulling to empower eight public sector en...         0\n",
       "3.0  2011-04-06  China offers financial, technical assistance f...         0"
      ]
     },
     "execution_count": 130,
     "metadata": {},
     "output_type": "execute_result"
    }
   ],
   "source": [
    "news_data.head()"
   ]
  },
  {
   "cell_type": "code",
   "execution_count": 131,
   "metadata": {},
   "outputs": [
    {
     "name": "stdout",
     "output_type": "stream",
     "text": [
      "<class 'pandas.core.frame.DataFrame'>\n",
      "Float64Index: 57997 entries, nan to 58988.0\n",
      "Data columns (total 3 columns):\n",
      " #   Column    Non-Null Count  Dtype \n",
      "---  ------    --------------  ----- \n",
      " 0   Date      57997 non-null  object\n",
      " 1   News      57997 non-null  object\n",
      " 2   Polarity  57997 non-null  int64 \n",
      "dtypes: int64(1), object(2)\n",
      "memory usage: 1.8+ MB\n"
     ]
    },
    {
     "data": {
      "text/html": [
       "<div>\n",
       "<style scoped>\n",
       "    .dataframe tbody tr th:only-of-type {\n",
       "        vertical-align: middle;\n",
       "    }\n",
       "\n",
       "    .dataframe tbody tr th {\n",
       "        vertical-align: top;\n",
       "    }\n",
       "\n",
       "    .dataframe thead th {\n",
       "        text-align: right;\n",
       "    }\n",
       "</style>\n",
       "<table border=\"1\" class=\"dataframe\">\n",
       "  <thead>\n",
       "    <tr style=\"text-align: right;\">\n",
       "      <th></th>\n",
       "      <th>Date</th>\n",
       "      <th>News</th>\n",
       "      <th>Polarity</th>\n",
       "    </tr>\n",
       "  </thead>\n",
       "  <tbody>\n",
       "    <tr>\n",
       "      <th>0.0</th>\n",
       "      <td>2011-04-02</td>\n",
       "      <td>Political parties should work for resolution o...</td>\n",
       "      <td>0</td>\n",
       "    </tr>\n",
       "    <tr>\n",
       "      <th>1.0</th>\n",
       "      <td>2011-04-05</td>\n",
       "      <td>China to invest in hydel, renewable energy pow...</td>\n",
       "      <td>0</td>\n",
       "    </tr>\n",
       "    <tr>\n",
       "      <th>2.0</th>\n",
       "      <td>2011-04-06</td>\n",
       "      <td>Govt mulling to empower eight public sector en...</td>\n",
       "      <td>0</td>\n",
       "    </tr>\n",
       "    <tr>\n",
       "      <th>3.0</th>\n",
       "      <td>2011-04-06</td>\n",
       "      <td>China offers financial, technical assistance f...</td>\n",
       "      <td>0</td>\n",
       "    </tr>\n",
       "    <tr>\n",
       "      <th>4.0</th>\n",
       "      <td>2011-04-06</td>\n",
       "      <td>Shipping activity at Port Qasim - KARACHI: Shi...</td>\n",
       "      <td>0</td>\n",
       "    </tr>\n",
       "  </tbody>\n",
       "</table>\n",
       "</div>"
      ],
      "text/plain": [
       "           Date                                               News  Polarity\n",
       "0.0  2011-04-02  Political parties should work for resolution o...         0\n",
       "1.0  2011-04-05  China to invest in hydel, renewable energy pow...         0\n",
       "2.0  2011-04-06  Govt mulling to empower eight public sector en...         0\n",
       "3.0  2011-04-06  China offers financial, technical assistance f...         0\n",
       "4.0  2011-04-06  Shipping activity at Port Qasim - KARACHI: Shi...         0"
      ]
     },
     "execution_count": 131,
     "metadata": {},
     "output_type": "execute_result"
    }
   ],
   "source": [
    "news_data.info()\n",
    "\n",
    "news_data = news_data.iloc[1:]\n",
    "news_data.head()"
   ]
  },
  {
   "cell_type": "code",
   "execution_count": 132,
   "metadata": {},
   "outputs": [
    {
     "data": {
      "text/plain": [
       "0.0        Political parties should work for resolution o...\n",
       "1.0        China to invest in hydel, renewable energy pow...\n",
       "2.0        Govt mulling to empower eight public sector en...\n",
       "3.0        China offers financial, technical assistance f...\n",
       "4.0        Shipping activity at Port Qasim - KARACHI: Shi...\n",
       "                                 ...                        \n",
       "58984.0    90pc criminals acquitted due to faulty investi...\n",
       "58985.0    Regulatory bodies: AGP to begin audit decision...\n",
       "58986.0    Northern South Asian region: Goethe-Institut h...\n",
       "58987.0    Buzdar making efforts to woo opposition MPAs a...\n",
       "58988.0    DS inspects KCR track - KARACHI: The newly app...\n",
       "Name: News, Length: 57996, dtype: object"
      ]
     },
     "execution_count": 132,
     "metadata": {},
     "output_type": "execute_result"
    }
   ],
   "source": [
    "news_data['Date'] = pd.to_datetime(news_data['Date']) #Convert to datetime\n",
    "news_data['Date'] = news_data[\"Date\"].dt.strftime(\"%d %m %Y\") #Format date\n",
    "news_data['News'].map(str) #Convert news to string"
   ]
  },
  {
   "cell_type": "code",
   "execution_count": 133,
   "metadata": {
    "scrolled": true
   },
   "outputs": [
    {
     "data": {
      "text/html": [
       "<div>\n",
       "<style scoped>\n",
       "    .dataframe tbody tr th:only-of-type {\n",
       "        vertical-align: middle;\n",
       "    }\n",
       "\n",
       "    .dataframe tbody tr th {\n",
       "        vertical-align: top;\n",
       "    }\n",
       "\n",
       "    .dataframe thead th {\n",
       "        text-align: right;\n",
       "    }\n",
       "</style>\n",
       "<table border=\"1\" class=\"dataframe\">\n",
       "  <thead>\n",
       "    <tr style=\"text-align: right;\">\n",
       "      <th></th>\n",
       "      <th>Date</th>\n",
       "      <th>News</th>\n",
       "      <th>Polarity</th>\n",
       "    </tr>\n",
       "  </thead>\n",
       "  <tbody>\n",
       "    <tr>\n",
       "      <th>58984.0</th>\n",
       "      <td>29 01 2021</td>\n",
       "      <td>90pc criminals acquitted due to faulty investi...</td>\n",
       "      <td>0</td>\n",
       "    </tr>\n",
       "    <tr>\n",
       "      <th>58985.0</th>\n",
       "      <td>29 01 2021</td>\n",
       "      <td>Regulatory bodies: AGP to begin audit decision...</td>\n",
       "      <td>0</td>\n",
       "    </tr>\n",
       "    <tr>\n",
       "      <th>58986.0</th>\n",
       "      <td>29 01 2021</td>\n",
       "      <td>Northern South Asian region: Goethe-Institut h...</td>\n",
       "      <td>0</td>\n",
       "    </tr>\n",
       "    <tr>\n",
       "      <th>58987.0</th>\n",
       "      <td>29 01 2021</td>\n",
       "      <td>Buzdar making efforts to woo opposition MPAs a...</td>\n",
       "      <td>0</td>\n",
       "    </tr>\n",
       "    <tr>\n",
       "      <th>58988.0</th>\n",
       "      <td>29 01 2021</td>\n",
       "      <td>DS inspects KCR track - KARACHI: The newly app...</td>\n",
       "      <td>0</td>\n",
       "    </tr>\n",
       "  </tbody>\n",
       "</table>\n",
       "</div>"
      ],
      "text/plain": [
       "               Date                                               News  \\\n",
       "58984.0  29 01 2021  90pc criminals acquitted due to faulty investi...   \n",
       "58985.0  29 01 2021  Regulatory bodies: AGP to begin audit decision...   \n",
       "58986.0  29 01 2021  Northern South Asian region: Goethe-Institut h...   \n",
       "58987.0  29 01 2021  Buzdar making efforts to woo opposition MPAs a...   \n",
       "58988.0  29 01 2021  DS inspects KCR track - KARACHI: The newly app...   \n",
       "\n",
       "         Polarity  \n",
       "58984.0         0  \n",
       "58985.0         0  \n",
       "58986.0         0  \n",
       "58987.0         0  \n",
       "58988.0         0  "
      ]
     },
     "execution_count": 133,
     "metadata": {},
     "output_type": "execute_result"
    }
   ],
   "source": [
    "news_data.tail()\n"
   ]
  },
  {
   "cell_type": "code",
   "execution_count": 134,
   "metadata": {},
   "outputs": [],
   "source": [
    "news_data.drop_duplicates(subset = 'News', keep = False, inplace = True)\n"
   ]
  },
  {
   "cell_type": "code",
   "execution_count": 135,
   "metadata": {},
   "outputs": [
    {
     "data": {
      "text/html": [
       "<div>\n",
       "<style scoped>\n",
       "    .dataframe tbody tr th:only-of-type {\n",
       "        vertical-align: middle;\n",
       "    }\n",
       "\n",
       "    .dataframe tbody tr th {\n",
       "        vertical-align: top;\n",
       "    }\n",
       "\n",
       "    .dataframe thead th {\n",
       "        text-align: right;\n",
       "    }\n",
       "</style>\n",
       "<table border=\"1\" class=\"dataframe\">\n",
       "  <thead>\n",
       "    <tr style=\"text-align: right;\">\n",
       "      <th></th>\n",
       "      <th>Date</th>\n",
       "      <th>News</th>\n",
       "      <th>Polarity</th>\n",
       "    </tr>\n",
       "  </thead>\n",
       "  <tbody>\n",
       "    <tr>\n",
       "      <th>0.0</th>\n",
       "      <td>02 04 2011</td>\n",
       "      <td>Political parties should work for resolution o...</td>\n",
       "      <td>0</td>\n",
       "    </tr>\n",
       "    <tr>\n",
       "      <th>1.0</th>\n",
       "      <td>05 04 2011</td>\n",
       "      <td>China to invest in hydel, renewable energy pow...</td>\n",
       "      <td>0</td>\n",
       "    </tr>\n",
       "    <tr>\n",
       "      <th>2.0</th>\n",
       "      <td>06 04 2011</td>\n",
       "      <td>Govt mulling to empower eight public sector en...</td>\n",
       "      <td>0</td>\n",
       "    </tr>\n",
       "    <tr>\n",
       "      <th>3.0</th>\n",
       "      <td>06 04 2011</td>\n",
       "      <td>China offers financial, technical assistance f...</td>\n",
       "      <td>0</td>\n",
       "    </tr>\n",
       "    <tr>\n",
       "      <th>4.0</th>\n",
       "      <td>06 04 2011</td>\n",
       "      <td>Shipping activity at Port Qasim - KARACHI: Shi...</td>\n",
       "      <td>0</td>\n",
       "    </tr>\n",
       "  </tbody>\n",
       "</table>\n",
       "</div>"
      ],
      "text/plain": [
       "           Date                                               News  Polarity\n",
       "0.0  02 04 2011  Political parties should work for resolution o...         0\n",
       "1.0  05 04 2011  China to invest in hydel, renewable energy pow...         0\n",
       "2.0  06 04 2011  Govt mulling to empower eight public sector en...         0\n",
       "3.0  06 04 2011  China offers financial, technical assistance f...         0\n",
       "4.0  06 04 2011  Shipping activity at Port Qasim - KARACHI: Shi...         0"
      ]
     },
     "execution_count": 135,
     "metadata": {},
     "output_type": "execute_result"
    }
   ],
   "source": [
    "news_data.head()"
   ]
  },
  {
   "cell_type": "code",
   "execution_count": 136,
   "metadata": {},
   "outputs": [],
   "source": [
    "news_data.reset_index(drop = True, inplace = True)"
   ]
  },
  {
   "cell_type": "code",
   "execution_count": 137,
   "metadata": {},
   "outputs": [
    {
     "data": {
      "text/html": [
       "<div>\n",
       "<style scoped>\n",
       "    .dataframe tbody tr th:only-of-type {\n",
       "        vertical-align: middle;\n",
       "    }\n",
       "\n",
       "    .dataframe tbody tr th {\n",
       "        vertical-align: top;\n",
       "    }\n",
       "\n",
       "    .dataframe thead th {\n",
       "        text-align: right;\n",
       "    }\n",
       "</style>\n",
       "<table border=\"1\" class=\"dataframe\">\n",
       "  <thead>\n",
       "    <tr style=\"text-align: right;\">\n",
       "      <th></th>\n",
       "      <th>Date</th>\n",
       "      <th>News</th>\n",
       "      <th>Polarity</th>\n",
       "    </tr>\n",
       "  </thead>\n",
       "  <tbody>\n",
       "    <tr>\n",
       "      <th>0</th>\n",
       "      <td>02 04 2011</td>\n",
       "      <td>Political parties should work for resolution o...</td>\n",
       "      <td>0</td>\n",
       "    </tr>\n",
       "    <tr>\n",
       "      <th>1</th>\n",
       "      <td>05 04 2011</td>\n",
       "      <td>China to invest in hydel, renewable energy pow...</td>\n",
       "      <td>0</td>\n",
       "    </tr>\n",
       "    <tr>\n",
       "      <th>2</th>\n",
       "      <td>06 04 2011</td>\n",
       "      <td>Govt mulling to empower eight public sector en...</td>\n",
       "      <td>0</td>\n",
       "    </tr>\n",
       "    <tr>\n",
       "      <th>3</th>\n",
       "      <td>06 04 2011</td>\n",
       "      <td>China offers financial, technical assistance f...</td>\n",
       "      <td>0</td>\n",
       "    </tr>\n",
       "    <tr>\n",
       "      <th>4</th>\n",
       "      <td>06 04 2011</td>\n",
       "      <td>Shipping activity at Port Qasim - KARACHI: Shi...</td>\n",
       "      <td>0</td>\n",
       "    </tr>\n",
       "  </tbody>\n",
       "</table>\n",
       "</div>"
      ],
      "text/plain": [
       "         Date                                               News  Polarity\n",
       "0  02 04 2011  Political parties should work for resolution o...         0\n",
       "1  05 04 2011  China to invest in hydel, renewable energy pow...         0\n",
       "2  06 04 2011  Govt mulling to empower eight public sector en...         0\n",
       "3  06 04 2011  China offers financial, technical assistance f...         0\n",
       "4  06 04 2011  Shipping activity at Port Qasim - KARACHI: Shi...         0"
      ]
     },
     "execution_count": 137,
     "metadata": {},
     "output_type": "execute_result"
    }
   ],
   "source": [
    "news_data.head()"
   ]
  },
  {
   "cell_type": "markdown",
   "metadata": {},
   "source": [
    "### Import and stock prices as daily difference"
   ]
  },
  {
   "cell_type": "code",
   "execution_count": 138,
   "metadata": {},
   "outputs": [],
   "source": [
    "diff = pd.read_csv('Companies diff\\ABOT PA Equity.csv')"
   ]
  },
  {
   "cell_type": "code",
   "execution_count": 139,
   "metadata": {},
   "outputs": [
    {
     "data": {
      "text/html": [
       "<div>\n",
       "<style scoped>\n",
       "    .dataframe tbody tr th:only-of-type {\n",
       "        vertical-align: middle;\n",
       "    }\n",
       "\n",
       "    .dataframe tbody tr th {\n",
       "        vertical-align: top;\n",
       "    }\n",
       "\n",
       "    .dataframe thead th {\n",
       "        text-align: right;\n",
       "    }\n",
       "</style>\n",
       "<table border=\"1\" class=\"dataframe\">\n",
       "  <thead>\n",
       "    <tr style=\"text-align: right;\">\n",
       "      <th></th>\n",
       "      <th>Open</th>\n",
       "      <th>High</th>\n",
       "      <th>Low</th>\n",
       "      <th>Close</th>\n",
       "      <th>Volume</th>\n",
       "    </tr>\n",
       "  </thead>\n",
       "  <tbody>\n",
       "    <tr>\n",
       "      <th>count</th>\n",
       "      <td>5157.000000</td>\n",
       "      <td>5157.000000</td>\n",
       "      <td>5157.000000</td>\n",
       "      <td>5157.000000</td>\n",
       "      <td>5157.000000</td>\n",
       "    </tr>\n",
       "    <tr>\n",
       "      <th>mean</th>\n",
       "      <td>0.147057</td>\n",
       "      <td>0.149578</td>\n",
       "      <td>0.145137</td>\n",
       "      <td>0.147993</td>\n",
       "      <td>5.805895</td>\n",
       "    </tr>\n",
       "    <tr>\n",
       "      <th>std</th>\n",
       "      <td>8.392596</td>\n",
       "      <td>6.892363</td>\n",
       "      <td>7.040883</td>\n",
       "      <td>6.328886</td>\n",
       "      <td>62090.918356</td>\n",
       "    </tr>\n",
       "    <tr>\n",
       "      <th>min</th>\n",
       "      <td>-88.884400</td>\n",
       "      <td>-58.971300</td>\n",
       "      <td>-41.226500</td>\n",
       "      <td>-45.014800</td>\n",
       "      <td>-925733.000000</td>\n",
       "    </tr>\n",
       "    <tr>\n",
       "      <th>25%</th>\n",
       "      <td>-0.763300</td>\n",
       "      <td>-0.825200</td>\n",
       "      <td>-0.660600</td>\n",
       "      <td>-0.731900</td>\n",
       "      <td>-3408.000000</td>\n",
       "    </tr>\n",
       "    <tr>\n",
       "      <th>50%</th>\n",
       "      <td>0.000000</td>\n",
       "      <td>0.000000</td>\n",
       "      <td>0.000000</td>\n",
       "      <td>0.000000</td>\n",
       "      <td>0.000000</td>\n",
       "    </tr>\n",
       "    <tr>\n",
       "      <th>75%</th>\n",
       "      <td>0.854600</td>\n",
       "      <td>0.882200</td>\n",
       "      <td>0.811400</td>\n",
       "      <td>0.757100</td>\n",
       "      <td>3200.000000</td>\n",
       "    </tr>\n",
       "    <tr>\n",
       "      <th>max</th>\n",
       "      <td>83.756400</td>\n",
       "      <td>43.741300</td>\n",
       "      <td>52.988800</td>\n",
       "      <td>52.143600</td>\n",
       "      <td>918700.000000</td>\n",
       "    </tr>\n",
       "  </tbody>\n",
       "</table>\n",
       "</div>"
      ],
      "text/plain": [
       "              Open         High          Low        Close         Volume\n",
       "count  5157.000000  5157.000000  5157.000000  5157.000000    5157.000000\n",
       "mean      0.147057     0.149578     0.145137     0.147993       5.805895\n",
       "std       8.392596     6.892363     7.040883     6.328886   62090.918356\n",
       "min     -88.884400   -58.971300   -41.226500   -45.014800 -925733.000000\n",
       "25%      -0.763300    -0.825200    -0.660600    -0.731900   -3408.000000\n",
       "50%       0.000000     0.000000     0.000000     0.000000       0.000000\n",
       "75%       0.854600     0.882200     0.811400     0.757100    3200.000000\n",
       "max      83.756400    43.741300    52.988800    52.143600  918700.000000"
      ]
     },
     "execution_count": 139,
     "metadata": {},
     "output_type": "execute_result"
    }
   ],
   "source": [
    "diff.describe()"
   ]
  },
  {
   "cell_type": "code",
   "execution_count": 140,
   "metadata": {},
   "outputs": [],
   "source": [
    "diff['Date'] = pd.to_datetime(diff['Date']) #Convert date to datetime"
   ]
  },
  {
   "cell_type": "code",
   "execution_count": 141,
   "metadata": {
    "scrolled": true
   },
   "outputs": [
    {
     "data": {
      "text/html": [
       "<div>\n",
       "<style scoped>\n",
       "    .dataframe tbody tr th:only-of-type {\n",
       "        vertical-align: middle;\n",
       "    }\n",
       "\n",
       "    .dataframe tbody tr th {\n",
       "        vertical-align: top;\n",
       "    }\n",
       "\n",
       "    .dataframe thead th {\n",
       "        text-align: right;\n",
       "    }\n",
       "</style>\n",
       "<table border=\"1\" class=\"dataframe\">\n",
       "  <thead>\n",
       "    <tr style=\"text-align: right;\">\n",
       "      <th></th>\n",
       "      <th>Open</th>\n",
       "      <th>High</th>\n",
       "      <th>Low</th>\n",
       "      <th>Close</th>\n",
       "      <th>Volume</th>\n",
       "      <th>Date</th>\n",
       "    </tr>\n",
       "  </thead>\n",
       "  <tbody>\n",
       "    <tr>\n",
       "      <th>0</th>\n",
       "      <td>0.0</td>\n",
       "      <td>0.0</td>\n",
       "      <td>0.0</td>\n",
       "      <td>0.0</td>\n",
       "      <td>0.0</td>\n",
       "      <td>2001-01-03</td>\n",
       "    </tr>\n",
       "    <tr>\n",
       "      <th>1</th>\n",
       "      <td>0.0</td>\n",
       "      <td>0.0</td>\n",
       "      <td>0.0</td>\n",
       "      <td>0.0</td>\n",
       "      <td>0.0</td>\n",
       "      <td>2001-01-04</td>\n",
       "    </tr>\n",
       "    <tr>\n",
       "      <th>2</th>\n",
       "      <td>0.0</td>\n",
       "      <td>0.0</td>\n",
       "      <td>0.0</td>\n",
       "      <td>0.0</td>\n",
       "      <td>0.0</td>\n",
       "      <td>2001-01-05</td>\n",
       "    </tr>\n",
       "    <tr>\n",
       "      <th>3</th>\n",
       "      <td>0.0</td>\n",
       "      <td>0.0</td>\n",
       "      <td>0.0</td>\n",
       "      <td>0.0</td>\n",
       "      <td>0.0</td>\n",
       "      <td>2001-01-08</td>\n",
       "    </tr>\n",
       "    <tr>\n",
       "      <th>4</th>\n",
       "      <td>0.0</td>\n",
       "      <td>0.0</td>\n",
       "      <td>0.0</td>\n",
       "      <td>0.0</td>\n",
       "      <td>0.0</td>\n",
       "      <td>2001-01-09</td>\n",
       "    </tr>\n",
       "  </tbody>\n",
       "</table>\n",
       "</div>"
      ],
      "text/plain": [
       "   Open  High  Low  Close  Volume       Date\n",
       "0   0.0   0.0  0.0    0.0     0.0 2001-01-03\n",
       "1   0.0   0.0  0.0    0.0     0.0 2001-01-04\n",
       "2   0.0   0.0  0.0    0.0     0.0 2001-01-05\n",
       "3   0.0   0.0  0.0    0.0     0.0 2001-01-08\n",
       "4   0.0   0.0  0.0    0.0     0.0 2001-01-09"
      ]
     },
     "execution_count": 141,
     "metadata": {},
     "output_type": "execute_result"
    }
   ],
   "source": [
    "diff.head()"
   ]
  },
  {
   "cell_type": "code",
   "execution_count": 161,
   "metadata": {},
   "outputs": [
    {
     "data": {
      "text/html": [
       "<div>\n",
       "<style scoped>\n",
       "    .dataframe tbody tr th:only-of-type {\n",
       "        vertical-align: middle;\n",
       "    }\n",
       "\n",
       "    .dataframe tbody tr th {\n",
       "        vertical-align: top;\n",
       "    }\n",
       "\n",
       "    .dataframe thead th {\n",
       "        text-align: right;\n",
       "    }\n",
       "</style>\n",
       "<table border=\"1\" class=\"dataframe\">\n",
       "  <thead>\n",
       "    <tr style=\"text-align: right;\">\n",
       "      <th></th>\n",
       "      <th>Open</th>\n",
       "      <th>High</th>\n",
       "      <th>Low</th>\n",
       "      <th>Close</th>\n",
       "      <th>Volume</th>\n",
       "      <th>Date</th>\n",
       "    </tr>\n",
       "  </thead>\n",
       "  <tbody>\n",
       "    <tr>\n",
       "      <th>5152</th>\n",
       "      <td>0.99</td>\n",
       "      <td>-1.0</td>\n",
       "      <td>0.00</td>\n",
       "      <td>-11.20</td>\n",
       "      <td>250.0</td>\n",
       "      <td>2020-10-02</td>\n",
       "    </tr>\n",
       "    <tr>\n",
       "      <th>5153</th>\n",
       "      <td>-6.00</td>\n",
       "      <td>-1.0</td>\n",
       "      <td>-33.00</td>\n",
       "      <td>-3.58</td>\n",
       "      <td>25250.0</td>\n",
       "      <td>2020-10-05</td>\n",
       "    </tr>\n",
       "    <tr>\n",
       "      <th>5154</th>\n",
       "      <td>-10.00</td>\n",
       "      <td>-9.0</td>\n",
       "      <td>23.00</td>\n",
       "      <td>-2.12</td>\n",
       "      <td>-22950.0</td>\n",
       "      <td>2020-10-06</td>\n",
       "    </tr>\n",
       "    <tr>\n",
       "      <th>5155</th>\n",
       "      <td>19.55</td>\n",
       "      <td>11.0</td>\n",
       "      <td>0.05</td>\n",
       "      <td>13.62</td>\n",
       "      <td>12700.0</td>\n",
       "      <td>2020-10-07</td>\n",
       "    </tr>\n",
       "    <tr>\n",
       "      <th>5156</th>\n",
       "      <td>6.45</td>\n",
       "      <td>9.0</td>\n",
       "      <td>16.05</td>\n",
       "      <td>6.78</td>\n",
       "      <td>6600.0</td>\n",
       "      <td>2020-10-08</td>\n",
       "    </tr>\n",
       "  </tbody>\n",
       "</table>\n",
       "</div>"
      ],
      "text/plain": [
       "       Open  High    Low  Close   Volume       Date\n",
       "5152   0.99  -1.0   0.00 -11.20    250.0 2020-10-02\n",
       "5153  -6.00  -1.0 -33.00  -3.58  25250.0 2020-10-05\n",
       "5154 -10.00  -9.0  23.00  -2.12 -22950.0 2020-10-06\n",
       "5155  19.55  11.0   0.05  13.62  12700.0 2020-10-07\n",
       "5156   6.45   9.0  16.05   6.78   6600.0 2020-10-08"
      ]
     },
     "execution_count": 161,
     "metadata": {},
     "output_type": "execute_result"
    }
   ],
   "source": [
    "diff.tail()"
   ]
  },
  {
   "cell_type": "markdown",
   "metadata": {},
   "source": [
    "### Make relevant functions to map polarities and take into account weekends"
   ]
  },
  {
   "cell_type": "code",
   "execution_count": 142,
   "metadata": {},
   "outputs": [
    {
     "data": {
      "text/plain": [
       "datetime.datetime(2009, 2, 6, 0, 0)"
      ]
     },
     "execution_count": 142,
     "metadata": {},
     "output_type": "execute_result"
    }
   ],
   "source": [
    "def pol(val):\n",
    "    #print(val)\n",
    "    if val >= 0:\n",
    "        \n",
    "        return 1\n",
    "    \n",
    "    else:\n",
    "        \n",
    "        return 0\n",
    "    \n",
    "\n",
    "\n",
    "# Year, month, day\t\n",
    "def check(x):\n",
    "    d3 = datetime.datetime.strptime(x, '%d %m %Y')\n",
    "    d2 = datetime.datetime.strptime(x, '%d %m %Y').weekday()\n",
    "   # print(d3)\n",
    "    ##print(d2)\n",
    "\n",
    "    if (d2 == 5):\n",
    "        d1 = d3 - datetime.timedelta(days = 1)\n",
    "    elif (d2 == 6):\n",
    "        d1 = d3 - datetime.timedelta(days = 2)\n",
    "    else:\n",
    "        d1 = d3\n",
    "    #print(d1)    \n",
    "    return d1\n",
    "\n",
    "\n",
    "check('08 02 2009')"
   ]
  },
  {
   "cell_type": "code",
   "execution_count": 143,
   "metadata": {
    "scrolled": true
   },
   "outputs": [
    {
     "data": {
      "text/html": [
       "<div>\n",
       "<style scoped>\n",
       "    .dataframe tbody tr th:only-of-type {\n",
       "        vertical-align: middle;\n",
       "    }\n",
       "\n",
       "    .dataframe tbody tr th {\n",
       "        vertical-align: top;\n",
       "    }\n",
       "\n",
       "    .dataframe thead th {\n",
       "        text-align: right;\n",
       "    }\n",
       "</style>\n",
       "<table border=\"1\" class=\"dataframe\">\n",
       "  <thead>\n",
       "    <tr style=\"text-align: right;\">\n",
       "      <th></th>\n",
       "      <th>Date</th>\n",
       "      <th>News</th>\n",
       "      <th>Polarity</th>\n",
       "    </tr>\n",
       "  </thead>\n",
       "  <tbody>\n",
       "    <tr>\n",
       "      <th>0</th>\n",
       "      <td>02 04 2011</td>\n",
       "      <td>Political parties should work for resolution o...</td>\n",
       "      <td>0</td>\n",
       "    </tr>\n",
       "    <tr>\n",
       "      <th>1</th>\n",
       "      <td>05 04 2011</td>\n",
       "      <td>China to invest in hydel, renewable energy pow...</td>\n",
       "      <td>0</td>\n",
       "    </tr>\n",
       "    <tr>\n",
       "      <th>2</th>\n",
       "      <td>06 04 2011</td>\n",
       "      <td>Govt mulling to empower eight public sector en...</td>\n",
       "      <td>0</td>\n",
       "    </tr>\n",
       "    <tr>\n",
       "      <th>3</th>\n",
       "      <td>06 04 2011</td>\n",
       "      <td>China offers financial, technical assistance f...</td>\n",
       "      <td>0</td>\n",
       "    </tr>\n",
       "    <tr>\n",
       "      <th>4</th>\n",
       "      <td>06 04 2011</td>\n",
       "      <td>Shipping activity at Port Qasim - KARACHI: Shi...</td>\n",
       "      <td>0</td>\n",
       "    </tr>\n",
       "  </tbody>\n",
       "</table>\n",
       "</div>"
      ],
      "text/plain": [
       "         Date                                               News  Polarity\n",
       "0  02 04 2011  Political parties should work for resolution o...         0\n",
       "1  05 04 2011  China to invest in hydel, renewable energy pow...         0\n",
       "2  06 04 2011  Govt mulling to empower eight public sector en...         0\n",
       "3  06 04 2011  China offers financial, technical assistance f...         0\n",
       "4  06 04 2011  Shipping activity at Port Qasim - KARACHI: Shi...         0"
      ]
     },
     "execution_count": 143,
     "metadata": {},
     "output_type": "execute_result"
    }
   ],
   "source": [
    "news_data.head()"
   ]
  },
  {
   "cell_type": "code",
   "execution_count": 147,
   "metadata": {},
   "outputs": [
    {
     "name": "stdout",
     "output_type": "stream",
     "text": [
      "57996\n"
     ]
    }
   ],
   "source": [
    "x = len(news_data)\n",
    "print(x)"
   ]
  },
  {
   "cell_type": "code",
   "execution_count": 160,
   "metadata": {},
   "outputs": [
    {
     "name": "stdout",
     "output_type": "stream",
     "text": [
      "5157\n"
     ]
    }
   ],
   "source": [
    "print(len(diff))\n"
   ]
  },
  {
   "cell_type": "markdown",
   "metadata": {},
   "source": [
    "### Label data with polarity"
   ]
  },
  {
   "cell_type": "code",
   "execution_count": 163,
   "metadata": {},
   "outputs": [
    {
     "name": "stderr",
     "output_type": "stream",
     "text": [
      "<ipython-input-163-a18f4eedbb39>:12: SettingWithCopyWarning: \n",
      "A value is trying to be set on a copy of a slice from a DataFrame\n",
      "\n",
      "See the caveats in the documentation: https://pandas.pydata.org/pandas-docs/stable/user_guide/indexing.html#returning-a-view-versus-a-copy\n",
      "  news_data['Polarity'][i] = polarity\n"
     ]
    }
   ],
   "source": [
    "for i in range(5157):\n",
    "    #print(i)\n",
    "    #print(news_data['Date'][i])\n",
    "    date = check(news_data['Date'][i])\n",
    "    #print(date)\n",
    "    index = diff.index[diff['Date'] == date]\n",
    "    #print(type(index))\n",
    "    #print(index)\n",
    "    #print(diff['Close'][index])\n",
    "    polarity = pol(float(diff['Close'][index]))\n",
    "    #print(polarity)\n",
    "    news_data['Polarity'][i] = polarity\n",
    "    "
   ]
  },
  {
   "cell_type": "code",
   "execution_count": 164,
   "metadata": {},
   "outputs": [
    {
     "data": {
      "text/html": [
       "<div>\n",
       "<style scoped>\n",
       "    .dataframe tbody tr th:only-of-type {\n",
       "        vertical-align: middle;\n",
       "    }\n",
       "\n",
       "    .dataframe tbody tr th {\n",
       "        vertical-align: top;\n",
       "    }\n",
       "\n",
       "    .dataframe thead th {\n",
       "        text-align: right;\n",
       "    }\n",
       "</style>\n",
       "<table border=\"1\" class=\"dataframe\">\n",
       "  <thead>\n",
       "    <tr style=\"text-align: right;\">\n",
       "      <th></th>\n",
       "      <th>Polarity</th>\n",
       "    </tr>\n",
       "  </thead>\n",
       "  <tbody>\n",
       "    <tr>\n",
       "      <th>count</th>\n",
       "      <td>57996.000000</td>\n",
       "    </tr>\n",
       "    <tr>\n",
       "      <th>mean</th>\n",
       "      <td>0.488465</td>\n",
       "    </tr>\n",
       "    <tr>\n",
       "      <th>std</th>\n",
       "      <td>0.499871</td>\n",
       "    </tr>\n",
       "    <tr>\n",
       "      <th>min</th>\n",
       "      <td>0.000000</td>\n",
       "    </tr>\n",
       "    <tr>\n",
       "      <th>25%</th>\n",
       "      <td>0.000000</td>\n",
       "    </tr>\n",
       "    <tr>\n",
       "      <th>50%</th>\n",
       "      <td>0.000000</td>\n",
       "    </tr>\n",
       "    <tr>\n",
       "      <th>75%</th>\n",
       "      <td>1.000000</td>\n",
       "    </tr>\n",
       "    <tr>\n",
       "      <th>max</th>\n",
       "      <td>1.000000</td>\n",
       "    </tr>\n",
       "  </tbody>\n",
       "</table>\n",
       "</div>"
      ],
      "text/plain": [
       "           Polarity\n",
       "count  57996.000000\n",
       "mean       0.488465\n",
       "std        0.499871\n",
       "min        0.000000\n",
       "25%        0.000000\n",
       "50%        0.000000\n",
       "75%        1.000000\n",
       "max        1.000000"
      ]
     },
     "execution_count": 164,
     "metadata": {},
     "output_type": "execute_result"
    }
   ],
   "source": [
    "news_data.describe()"
   ]
  },
  {
   "cell_type": "markdown",
   "metadata": {},
   "source": [
    "### Save labelled data"
   ]
  },
  {
   "cell_type": "code",
   "execution_count": null,
   "metadata": {},
   "outputs": [],
   "source": [
    "news_data.to_csv(path_or_buf = 'C:/Users/CZ/Kaavish/BR_News' + '.csv', index = False) #Save dataframe as CSV\n",
    "    "
   ]
  }
 ],
 "metadata": {
  "kernelspec": {
   "display_name": "Python 3",
   "language": "python",
   "name": "python3"
  },
  "language_info": {
   "codemirror_mode": {
    "name": "ipython",
    "version": 3
   },
   "file_extension": ".py",
   "mimetype": "text/x-python",
   "name": "python",
   "nbconvert_exporter": "python",
   "pygments_lexer": "ipython3",
   "version": "3.8.5"
  }
 },
 "nbformat": 4,
 "nbformat_minor": 4
}
