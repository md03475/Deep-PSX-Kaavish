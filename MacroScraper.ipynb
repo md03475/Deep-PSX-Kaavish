{
  "nbformat": 4,
  "nbformat_minor": 0,
  "metadata": {
    "colab": {
      "name": "MacroScraper.ipynb",
      "provenance": []
    },
    "kernelspec": {
      "name": "python3",
      "display_name": "Python 3"
    }
  },
  "cells": [
    {
      "cell_type": "code",
      "metadata": {
        "id": "vBb1XOhp3LzN"
      },
      "source": [
        "from urllib.request import urlopen\n",
        "from zipfile import ZipFile\n",
        "from datetime import date, timedelta\n",
        "import datetime\n",
        "import requests\n",
        "import os\n",
        "from io import BytesIO\n",
        "\n",
        "\n",
        "# Year, month, day\t\n",
        "today = datetime.date.today()\n",
        "sdate = date(2020, 10, 8)   # start date\n",
        "edate = today   # end date\n",
        "delta = edate - sdate       # as timedelta\n",
        "\n",
        "basestring = 'https://dps.psx.com.pk/download/mkt_summary/'\n",
        "\n",
        "for i in range(delta.days):\n",
        "    day = sdate + timedelta(days=i)\n",
        "    dayToStr = day.strftime(\"%Y-%m-%d\")\n",
        "    day2 = day.weekday()\n",
        "    variablestring = dayToStr + '.Z'\n",
        "    zipurl = basestring + variablestring\n",
        "    request = requests.get(zipurl)\n",
        "    if (request.status_code != 200) or (day2==5) or (day2==6):\n",
        "      continue\n",
        "    else:\n",
        "      with urlopen(zipurl) as zipresp:\n",
        "        with ZipFile(BytesIO(zipresp.read())) as zfile:\n",
        "          zfile.extractall('/')"
      ],
      "execution_count": 8,
      "outputs": []
    }
  ]
}