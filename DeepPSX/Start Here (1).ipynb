{
 "cells": [
  {
   "cell_type": "markdown",
   "metadata": {},
   "source": [
    "# DeepPSX: Prediction and Simulation of PSX using Deep Learning, Sentimental and Technical Analysis\n",
    "\n"
   ]
  },
  {
   "cell_type": "markdown",
   "metadata": {},
   "source": [
    "## Please select the appropriate module below"
   ]
  },
  {
   "cell_type": "markdown",
   "metadata": {},
   "source": [
    "\n",
    "# [Module 1 Stock price prediction based on historical data in time series format using modern recurrent neural networks](https://github.com/md03475/Deep-PSX-Kaavish/blob/main/DeepPSX/Module1/Prediction%20using%20Deep%20Learning.ipynb)\n",
    "\n",
    "\n",
    "\n",
    "\n"
   ]
  },
  {
   "cell_type": "markdown",
   "metadata": {},
   "source": [
    "# [Module 2: Polarity prediction of news/announcements (good/bad) using sentiment analysis and natural language processing](https://github.com/md03475/Deep-PSX-Kaavish/blob/main/DeepPSX/Module2/Module%202%20Final.ipynb)\n"
   ]
  },
  {
   "cell_type": "markdown",
   "metadata": {},
   "source": [
    "# [Module 3: Generation of buy/sell signals on daily basis using data from first two modules and technical indicators along with simulation and reporting](https://github.com/md03475/Deep-PSX-Kaavish/blob/main/DeepPSX/Module3/Module%203%20Final.ipynb) \n"
   ]
  },
  {
   "cell_type": "markdown",
   "metadata": {},
   "source": [
    "# [Module 4: Trading Simulator is back-testing framework on our proposed hybrid solution](https://github.com/md03475/Deep-PSX-Kaavish/blob/main/DeepPSX/Module4/Module4Final.ipynb)\n"
   ]
  },
  {
   "cell_type": "markdown",
   "metadata": {},
   "source": [
    "# [Module 5: Displaying results on a dashboard](module5/StartHere.ipynb)\n"
   ]
  }
 ],
 "metadata": {
  "kernelspec": {
   "display_name": "Python 3",
   "language": "python",
   "name": "python3"
  },
  "language_info": {
   "codemirror_mode": {
    "name": "ipython",
    "version": 3
   },
   "file_extension": ".py",
   "mimetype": "text/x-python",
   "name": "python",
   "nbconvert_exporter": "python",
   "pygments_lexer": "ipython3",
   "version": "3.8.5"
  }
 },
 "nbformat": 4,
 "nbformat_minor": 2
}
