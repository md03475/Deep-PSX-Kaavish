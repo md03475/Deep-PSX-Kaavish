{
  "nbformat": 4,
  "nbformat_minor": 0,
  "metadata": {
    "colab": {
      "name": "StatebankScraper.ipynb",
      "provenance": []
    },
    "kernelspec": {
      "name": "python3",
      "display_name": "Python 3"
    }
  },
  "cells": [
    {
      "cell_type": "code",
      "metadata": {
        "id": "GTUnb7WmeeIA"
      },
      "source": [
        "import os\n",
        "import requests\n",
        "from urllib.parse import urljoin\n",
        "from bs4 import BeautifulSoup\n",
        "\n",
        "year = 2005\n",
        "url1 = \"https://www.sbp.org.pk/press/\"\n",
        "url2 = \"/index2.asp\"\n",
        "while True:\n",
        "  if year > 2007:\n",
        "    url = url1 + str(year) + url2\n",
        "  elif year == 2005:\n",
        "    url = url1 + str(year) + \"/\" + str(year) + \".asp\"\n",
        "  else:\n",
        "    url = url1 + str(year) + '/index.asp'\n",
        "\n",
        "  #If there is no such folder, the script will create one automatically\n",
        "  folder_location = r'3:\\state' + str(year)\n",
        "  if not os.path.exists(folder_location):os.mkdir(folder_location)\n",
        "\n",
        "  response = requests.get(url)\n",
        "  soup= BeautifulSoup(response.text, \"html.parser\")\n",
        "  for link in soup.select(\"a[href$='.pdf']\"):\n",
        "    #Name the pdf files using the last portion of each link which are unique in this case\n",
        "    filename = os.path.join(folder_location,link['href'].split('/')[-1])\n",
        "    with open(filename, 'wb') as f:\n",
        "      f.write(requests.get(urljoin(url,link['href'])).content)     \n",
        "  #for link in soup.select(\"a[href$='.pdf']\"):\n",
        "      #Name the pdf files using the last portion of each link which are unique in this case\n",
        "      #filename = os.path.join(folder_location,link['href'].split('/')[-1])\n",
        "      #with open(filename, 'wb') as f:\n",
        "          #f.write(requests.get(urljoin(url,link['href'])).content)\n",
        "  \n",
        "  year = year + 1\n",
        "  if year == 2022:\n",
        "    break"
      ],
      "execution_count": null,
      "outputs": []
    }
  ]
}