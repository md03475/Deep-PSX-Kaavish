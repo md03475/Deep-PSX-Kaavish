{
 "cells": [
  {
   "cell_type": "code",
   "execution_count": null,
   "metadata": {
    "id": "wk4o8jjVB5of"
   },
   "outputs": [],
   "source": [
    "!unzip /content/2016-Complete.zip -d /content"
   ]
  },
  {
   "cell_type": "code",
   "execution_count": null,
   "metadata": {
    "id": "qgHcEEKNCp43"
   },
   "outputs": [],
   "source": [
    "!sudo apt install tesseract-ocr\n",
    "!pip install pytesseract\n",
    "!pip install pdf2image\n",
    "!pip install date-extractor\n",
    "from pdf2image import convert_from_path, convert_from_bytes\n",
    "from pdf2image.exceptions import (\n",
    "    PDFInfoNotInstalledError,\n",
    "    PDFPageCountError,\n",
    "    PDFSyntaxError\n",
    ")\n",
    "!apt-get install poppler-utils \n",
    "import pandas as pd\n",
    "import numpy as np\n",
    "import pytesseract\n",
    "import shutil\n",
    "import os\n",
    "import random\n",
    "import tempfile\n",
    "from date_extractor import extract_dates\n",
    "date, text = [], []\n",
    "try:\n",
    "    from PIL import Image\n",
    "except ImportError:\n",
    "    import Image"
   ]
  },
  {
   "cell_type": "code",
   "execution_count": null,
   "metadata": {
    "id": "7iGY_1YyC-8R"
   },
   "outputs": [],
   "source": [
    "directory = '/content'\n",
    "df = pd.DataFrame(columns=['Date', 'Press Release'])\n",
    "\n",
    "for filename in os.listdir(directory):\n",
    "    if filename.endswith(\".pdf\"):\n",
    "      for i in range(0,1):\n",
    "        with tempfile.TemporaryDirectory() as path:\n",
    "          try:\n",
    "            images_from_path = convert_from_path(filename, output_folder=path, last_page=1, first_page =0)\n",
    "          except PDFPageCountError:\n",
    "            images_from_path = 0\n",
    "      if images_from_path != 0:\n",
    "        base_filename  =  os.path.splitext(os.path.basename(filename))[0] + '.jpg'     \n",
    "        save_dir = '/content'\n",
    "        for page in images_from_path:\n",
    "          page.save(os.path.join(save_dir, base_filename), 'JPEG')\n",
    "        extractedInformation = pytesseract.image_to_string(Image.open('/content/'+str(base_filename)))\n",
    "        date = []\n",
    "        date.append(extract_dates(base_filename))\n",
    "        #change the below year to which ever year you are working on\n",
    "        if len(date[0])>0 and date[0][0].year==2015:\n",
    "          temp= {\"Date\":str(date[0][0]),\"Press Release\":extractedInformation}\n",
    "          df = df.append(temp, ignore_index=True)\n",
    "df.to_csv(\"Input/data_2020.csv\", encoding='utf-8',  sep = ',', index = True) #Save dataframe as CSV\n",
    "from google.colab import files\n",
    "files.download('data_2020.csv')"
   ]
  }
 ],
 "metadata": {
  "colab": {
   "name": "PSXOutput.ipynb",
   "provenance": []
  },
  "kernelspec": {
   "display_name": "Python 3",
   "language": "python",
   "name": "python3"
  },
  "language_info": {
   "codemirror_mode": {
    "name": "ipython",
    "version": 3
   },
   "file_extension": ".py",
   "mimetype": "text/x-python",
   "name": "python",
   "nbconvert_exporter": "python",
   "pygments_lexer": "ipython3",
   "version": "3.8.3"
  }
 },
 "nbformat": 4,
 "nbformat_minor": 1
}
