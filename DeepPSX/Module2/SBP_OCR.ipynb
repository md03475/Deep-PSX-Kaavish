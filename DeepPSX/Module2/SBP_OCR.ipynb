{
 "cells": [
  {
   "cell_type": "markdown",
   "metadata": {
    "id": "KVSE1sj5wXuD"
   },
   "source": [
    "https://pypi.org/project/pdf2image/\n",
    "\n",
    "https://github.com/bhadreshpsavani/OCR_using_TesseatactLib_Project/blob/master/OCRusingTesseract.ipynb\n",
    "\n",
    "https://simply-python.com/2018/11/15/convert-pdf-pages-to-jpeg-with-python/"
   ]
  },
  {
   "cell_type": "code",
   "execution_count": null,
   "metadata": {
    "colab": {
     "base_uri": "https://localhost:8080/"
    },
    "id": "TfaqeAWvp8Mc",
    "outputId": "b82313c5-e71b-4e52-ffa3-6c1fa3e302ef"
   },
   "outputs": [
    {
     "name": "stdout",
     "output_type": "stream",
     "text": [
      "Reading package lists... Done\n",
      "Building dependency tree       \n",
      "Reading state information... Done\n",
      "The following additional packages will be installed:\n",
      "  tesseract-ocr-eng tesseract-ocr-osd\n",
      "The following NEW packages will be installed:\n",
      "  tesseract-ocr tesseract-ocr-eng tesseract-ocr-osd\n",
      "0 upgraded, 3 newly installed, 0 to remove and 15 not upgraded.\n",
      "Need to get 4,795 kB of archives.\n",
      "After this operation, 15.8 MB of additional disk space will be used.\n",
      "Get:1 http://archive.ubuntu.com/ubuntu bionic/universe amd64 tesseract-ocr-eng all 4.00~git24-0e00fe6-1.2 [1,588 kB]\n",
      "Get:2 http://archive.ubuntu.com/ubuntu bionic/universe amd64 tesseract-ocr-osd all 4.00~git24-0e00fe6-1.2 [2,989 kB]\n",
      "Get:3 http://archive.ubuntu.com/ubuntu bionic/universe amd64 tesseract-ocr amd64 4.00~git2288-10f4998a-2 [218 kB]\n",
      "Fetched 4,795 kB in 3s (1,547 kB/s)\n",
      "debconf: unable to initialize frontend: Dialog\n",
      "debconf: (No usable dialog-like program is installed, so the dialog based frontend cannot be used. at /usr/share/perl5/Debconf/FrontEnd/Dialog.pm line 76, <> line 3.)\n",
      "debconf: falling back to frontend: Readline\n",
      "debconf: unable to initialize frontend: Readline\n",
      "debconf: (This frontend requires a controlling tty.)\n",
      "debconf: falling back to frontend: Teletype\n",
      "dpkg-preconfigure: unable to re-open stdin: \n",
      "Selecting previously unselected package tesseract-ocr-eng.\n",
      "(Reading database ... 146456 files and directories currently installed.)\n",
      "Preparing to unpack .../tesseract-ocr-eng_4.00~git24-0e00fe6-1.2_all.deb ...\n",
      "Unpacking tesseract-ocr-eng (4.00~git24-0e00fe6-1.2) ...\n",
      "Selecting previously unselected package tesseract-ocr-osd.\n",
      "Preparing to unpack .../tesseract-ocr-osd_4.00~git24-0e00fe6-1.2_all.deb ...\n",
      "Unpacking tesseract-ocr-osd (4.00~git24-0e00fe6-1.2) ...\n",
      "Selecting previously unselected package tesseract-ocr.\n",
      "Preparing to unpack .../tesseract-ocr_4.00~git2288-10f4998a-2_amd64.deb ...\n",
      "Unpacking tesseract-ocr (4.00~git2288-10f4998a-2) ...\n",
      "Setting up tesseract-ocr-osd (4.00~git24-0e00fe6-1.2) ...\n",
      "Setting up tesseract-ocr-eng (4.00~git24-0e00fe6-1.2) ...\n",
      "Setting up tesseract-ocr (4.00~git2288-10f4998a-2) ...\n",
      "Processing triggers for man-db (2.8.3-2ubuntu0.1) ...\n",
      "Collecting pytesseract\n",
      "  Downloading https://files.pythonhosted.org/packages/a0/e6/a4e9fc8a93c1318540e8de6d8d4beb5749b7960388a7c7f27799fc2dd016/pytesseract-0.3.7.tar.gz\n",
      "Requirement already satisfied: Pillow in /usr/local/lib/python3.6/dist-packages (from pytesseract) (7.0.0)\n",
      "Building wheels for collected packages: pytesseract\n",
      "  Building wheel for pytesseract (setup.py) ... \u001b[?25l\u001b[?25hdone\n",
      "  Created wheel for pytesseract: filename=pytesseract-0.3.7-py2.py3-none-any.whl size=13945 sha256=4545a6c7865acebfebccc9f7e558742afcbd889063dbb1b15af1d897c855b8d1\n",
      "  Stored in directory: /root/.cache/pip/wheels/81/20/7e/1dd0daad1575d5260916bb1e9781246430647adaef4b3ca3b3\n",
      "Successfully built pytesseract\n",
      "Installing collected packages: pytesseract\n",
      "Successfully installed pytesseract-0.3.7\n",
      "Collecting pdf2image\n",
      "  Downloading https://files.pythonhosted.org/packages/03/62/089030fd16ab3e5c245315d63c80b29250b8f9e4579b5a09306eb7e7539c/pdf2image-1.14.0-py3-none-any.whl\n",
      "Requirement already satisfied: pillow in /usr/local/lib/python3.6/dist-packages (from pdf2image) (7.0.0)\n",
      "Installing collected packages: pdf2image\n",
      "Successfully installed pdf2image-1.14.0\n",
      "Collecting date-extractor\n",
      "  Downloading https://files.pythonhosted.org/packages/d8/4c/1075398fdb6033186d3c673f49b50fee41637b87d219de62e804bc2e5b4c/date-extractor-5.1.5.tar.gz\n",
      "Requirement already satisfied: pytz in /usr/local/lib/python3.6/dist-packages (from date-extractor) (2018.9)\n",
      "Requirement already satisfied: regex in /usr/local/lib/python3.6/dist-packages (from date-extractor) (2019.12.20)\n",
      "Building wheels for collected packages: date-extractor\n",
      "  Building wheel for date-extractor (setup.py) ... \u001b[?25l\u001b[?25hdone\n",
      "  Created wheel for date-extractor: filename=date_extractor-5.1.5-cp36-none-any.whl size=17895 sha256=e9c833a6670aed11032ffa427c069f0abb0f310c42da886a26fac0fc6d748f40\n",
      "  Stored in directory: /root/.cache/pip/wheels/d8/a4/e5/bab872b591d56b2d565599abd7cdbf27c70d333457d864be53\n",
      "Successfully built date-extractor\n",
      "Installing collected packages: date-extractor\n",
      "Successfully installed date-extractor-5.1.5\n",
      "Reading package lists... Done\n",
      "Building dependency tree       \n",
      "Reading state information... Done\n",
      "The following NEW packages will be installed:\n",
      "  poppler-utils\n",
      "0 upgraded, 1 newly installed, 0 to remove and 15 not upgraded.\n",
      "Need to get 154 kB of archives.\n",
      "After this operation, 613 kB of additional disk space will be used.\n",
      "Get:1 http://archive.ubuntu.com/ubuntu bionic-updates/main amd64 poppler-utils amd64 0.62.0-2ubuntu2.12 [154 kB]\n",
      "Fetched 154 kB in 1s (116 kB/s)\n",
      "Selecting previously unselected package poppler-utils.\n",
      "(Reading database ... 146503 files and directories currently installed.)\n",
      "Preparing to unpack .../poppler-utils_0.62.0-2ubuntu2.12_amd64.deb ...\n",
      "Unpacking poppler-utils (0.62.0-2ubuntu2.12) ...\n",
      "Setting up poppler-utils (0.62.0-2ubuntu2.12) ...\n",
      "Processing triggers for man-db (2.8.3-2ubuntu0.1) ...\n"
     ]
    }
   ],
   "source": [
    "!sudo apt install tesseract-ocr\n",
    "!pip install pytesseract\n",
    "!pip install pdf2image\n",
    "!pip install date-extractor\n",
    "from pdf2image import convert_from_path, convert_from_bytes\n",
    "from pdf2image.exceptions import (\n",
    "    PDFInfoNotInstalledError,\n",
    "    PDFPageCountError,\n",
    "    PDFSyntaxError\n",
    ")\n",
    "!apt-get install poppler-utils \n",
    "import pandas as pd\n",
    "import numpy as np\n",
    "import pytesseract\n",
    "import shutil\n",
    "import os\n",
    "import random\n",
    "import tempfile\n",
    "from date_extractor import extract_dates\n",
    "date, text = [], []\n",
    "try:\n",
    "    from PIL import Image\n",
    "except ImportError:\n",
    "    import Image"
   ]
  },
  {
   "cell_type": "code",
   "execution_count": null,
   "metadata": {
    "id": "vuVXVEErKHUv"
   },
   "outputs": [],
   "source": [
    "df = pd.DataFrame(columns=['Date','SBP Press Release'])"
   ]
  },
  {
   "cell_type": "code",
   "execution_count": null,
   "metadata": {
    "id": "RyW4pNkeYcQx"
   },
   "outputs": [],
   "source": [
    "directory = '/content'\n",
    "\n",
    "for filename in os.listdir(directory):\n",
    "    if filename.endswith(\".pdf\"):\n",
    "      for i in range(0,1):\n",
    "        with tempfile.TemporaryDirectory() as path:\n",
    "          try:\n",
    "            images_from_path = convert_from_path(filename, output_folder=path, last_page=1, first_page =0)\n",
    "          except PDFPageCountError:\n",
    "            images_from_path = 0\n",
    "      if images_from_path != 0:\n",
    "        base_filename  =  os.path.splitext(os.path.basename(filename))[0] + '.jpg'     \n",
    "        save_dir = '/content'\n",
    "        for page in images_from_path:\n",
    "          page.save(os.path.join(save_dir, base_filename), 'JPEG')\n",
    "        extractedInformation = pytesseract.image_to_string(Image.open('/content/'+str(base_filename)))\n",
    "        date = []\n",
    "        date.append(extract_dates(extractedInformation))\n",
    "        if len(date[0])>0:\n",
    "          temp= {\"Date\":str(date[0][0]),\"SBP Press Release\":extractedInformation}\n",
    "          df = df.append(temp, ignore_index=True)"
   ]
  },
  {
   "cell_type": "code",
   "execution_count": null,
   "metadata": {
    "colab": {
     "base_uri": "https://localhost:8080/",
     "height": 195
    },
    "id": "h-XAjltYmf7n",
    "outputId": "0facfe47-744d-4c1a-a2bc-3661e81ae4f6"
   },
   "outputs": [
    {
     "data": {
      "text/html": [
       "<div>\n",
       "<style scoped>\n",
       "    .dataframe tbody tr th:only-of-type {\n",
       "        vertical-align: middle;\n",
       "    }\n",
       "\n",
       "    .dataframe tbody tr th {\n",
       "        vertical-align: top;\n",
       "    }\n",
       "\n",
       "    .dataframe thead th {\n",
       "        text-align: right;\n",
       "    }\n",
       "</style>\n",
       "<table border=\"1\" class=\"dataframe\">\n",
       "  <thead>\n",
       "    <tr style=\"text-align: right;\">\n",
       "      <th></th>\n",
       "      <th>Date</th>\n",
       "      <th>SBP Press Release</th>\n",
       "    </tr>\n",
       "  </thead>\n",
       "  <tbody>\n",
       "    <tr>\n",
       "      <th>1236</th>\n",
       "      <td>2014-07-19 00:00:00+00:00</td>\n",
       "      <td>£2014,719\\n\\nKe EGS a2 SALA rsh o95-2014\\n\\nLI...</td>\n",
       "    </tr>\n",
       "    <tr>\n",
       "      <th>1237</th>\n",
       "      <td>2002-02-01 00:00:00+00:00</td>\n",
       "      <td>\\n\\nExternal Relations Department\\n\\n \\n\\n \\n...</td>\n",
       "    </tr>\n",
       "    <tr>\n",
       "      <th>1238</th>\n",
       "      <td>1952-01-09 00:00:00+00:00</td>\n",
       "      <td>£2020 us? 06\\nBS bp eup She edd Soto bed fed\\n...</td>\n",
       "    </tr>\n",
       "    <tr>\n",
       "      <th>1239</th>\n",
       "      <td>2019-09-09 00:00:00+00:00</td>\n",
       "      <td>\\n\\nExternal Relations Department\\n\\n \\n\\n \\n...</td>\n",
       "    </tr>\n",
       "    <tr>\n",
       "      <th>1240</th>\n",
       "      <td>1931-03-05 00:00:00+00:00</td>\n",
       "      <td>\\n\\nExternal Relations Department\\n\\n \\n\\n \\n...</td>\n",
       "    </tr>\n",
       "  </tbody>\n",
       "</table>\n",
       "</div>"
      ],
      "text/plain": [
       "                           Date                                  SBP Press Release\n",
       "1236  2014-07-19 00:00:00+00:00  £2014,719\\n\\nKe EGS a2 SALA rsh o95-2014\\n\\nLI...\n",
       "1237  2002-02-01 00:00:00+00:00   \\n\\nExternal Relations Department\\n\\n \\n\\n \\n...\n",
       "1238  1952-01-09 00:00:00+00:00  £2020 us? 06\\nBS bp eup She edd Soto bed fed\\n...\n",
       "1239  2019-09-09 00:00:00+00:00   \\n\\nExternal Relations Department\\n\\n \\n\\n \\n...\n",
       "1240  1931-03-05 00:00:00+00:00   \\n\\nExternal Relations Department\\n\\n \\n\\n \\n..."
      ]
     },
     "execution_count": 23,
     "metadata": {
      "tags": []
     },
     "output_type": "execute_result"
    }
   ],
   "source": [
    "df.tail()"
   ]
  },
  {
   "cell_type": "code",
   "execution_count": null,
   "metadata": {
    "id": "cT-L6GkAq46S"
   },
   "outputs": [],
   "source": [
    "df.to_csv(\"Input/SBP_Master_Data.csv\", encoding='utf-8',  sep = ',', index = True) #Save dataframe as CSV"
   ]
  }
 ],
 "metadata": {
  "colab": {
   "collapsed_sections": [],
   "name": "OCR_SBP_Compiler.ipynb",
   "provenance": []
  },
  "kernelspec": {
   "display_name": "Python 3",
   "language": "python",
   "name": "python3"
  },
  "language_info": {
   "codemirror_mode": {
    "name": "ipython",
    "version": 3
   },
   "file_extension": ".py",
   "mimetype": "text/x-python",
   "name": "python",
   "nbconvert_exporter": "python",
   "pygments_lexer": "ipython3",
   "version": "3.8.3"
  }
 },
 "nbformat": 4,
 "nbformat_minor": 1
}
