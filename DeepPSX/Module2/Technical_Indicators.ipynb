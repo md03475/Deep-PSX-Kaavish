{
 "cells": [
  {
   "cell_type": "code",
   "execution_count": 4,
   "metadata": {
    "colab": {
     "base_uri": "https://localhost:8080/"
    },
    "id": "s_WnRe-brkm6",
    "outputId": "4e6d2c6c-10e7-44c4-a4ba-23b106bccfd0"
   },
   "outputs": [
    {
     "name": "stdout",
     "output_type": "stream",
     "text": [
      "Processing c:\\users\\cz\\deeppsx\\deeppsx\\module2\\ta_lib-0.4.19-cp37-cp37m-win_amd64.whl\n",
      "TA-Lib is already installed with the same version as the provided wheel. Use --force-reinstall to force an installation of the wheel.\n",
      "Note: you may need to restart the kernel to use updated packages.\n"
     ]
    }
   ],
   "source": [
    "pip install TA_Lib-0.4.19-cp37-cp37m-win_amd64.whl"
   ]
  },
  {
   "cell_type": "code",
   "execution_count": null,
   "metadata": {},
   "outputs": [],
   "source": []
  },
  {
   "cell_type": "code",
   "execution_count": 5,
   "metadata": {
    "id": "n8-QX7pxrabl"
   },
   "outputs": [],
   "source": [
    "import numpy\n",
    "import talib\n",
    "import pandas as pd"
   ]
  },
  {
   "cell_type": "markdown",
   "metadata": {
    "id": "7seSyu8hrabs"
   },
   "source": [
    "### Testing Talib"
   ]
  },
  {
   "cell_type": "code",
   "execution_count": 6,
   "metadata": {
    "colab": {
     "base_uri": "https://localhost:8080/"
    },
    "id": "SQl0QHCCrabt",
    "outputId": "df68fc2c-e98b-4fcb-dd7a-378a63de6d6d"
   },
   "outputs": [
    {
     "data": {
      "text/plain": [
       "array([        nan,         nan,         nan,         nan,         nan,\n",
       "               nan,         nan,         nan,         nan,         nan,\n",
       "               nan,         nan,         nan,         nan,         nan,\n",
       "               nan,         nan,         nan,         nan,         nan,\n",
       "       43.63796136, 43.46168127, 39.61374087, 40.15486884, 40.43373265,\n",
       "       40.3713111 , 42.10439442, 40.26485844, 44.27101404, 41.45853801,\n",
       "       39.83749071, 42.70493772, 44.90585254, 47.74043866, 45.977706  ,\n",
       "       45.85446805, 44.5383044 , 47.84420375, 48.60037653, 47.99215958,\n",
       "       48.22834651, 47.5870453 , 46.43905231, 49.80285528, 49.87972585,\n",
       "       48.51268675, 49.08963918, 50.8454976 , 51.95011896, 51.14834379,\n",
       "       52.38819578, 53.13963202, 50.94807008, 48.99263202, 45.47048103,\n",
       "       46.64481216, 45.2610338 , 49.42791643, 50.68387858, 53.29406026,\n",
       "       51.46922397, 51.45769314, 50.93463488, 51.28426479, 49.04225031,\n",
       "       47.42313907, 46.30539688, 43.28267118, 40.66154899, 43.82194215,\n",
       "       42.61524973, 40.68289118, 40.84741239, 40.17751569, 42.24661666,\n",
       "       43.9204141 , 42.30976559, 41.75830815, 40.23099925, 40.18297261,\n",
       "       37.66753338, 38.41853203, 41.08275003, 44.80644582, 44.69628301,\n",
       "       43.05773403, 43.908419  , 47.04855381, 46.28972744, 49.26483357,\n",
       "       45.55879637, 47.61282136, 49.82701308, 48.46669111, 51.59405404,\n",
       "       50.7601135 , 49.7513259 , 52.90677411, 55.20235622, 55.35915289])"
      ]
     },
     "execution_count": 6,
     "metadata": {},
     "output_type": "execute_result"
    }
   ],
   "source": [
    "close = numpy.random.random(100) * 100\n",
    "output = talib.SMA(close, timeperiod = 21)\n",
    "output"
   ]
  },
  {
   "cell_type": "markdown",
   "metadata": {
    "id": "pFQGWmLrrabv"
   },
   "source": [
    "### Simple Moving Average"
   ]
  },
  {
   "cell_type": "code",
   "execution_count": 7,
   "metadata": {
    "id": "a1k3pQF1rabw"
   },
   "outputs": [],
   "source": [
    "def SMA(df):\n",
    "  close = df['Close']\n",
    "  \n",
    "  output = talib.SMA(close, timeperiod=21)\n",
    "  df['21 SMA'] = output \n",
    "\n",
    "  output = talib.SMA(close, timeperiod=50)\n",
    "  df['50 SMA'] = output\n",
    "\n",
    "  output = talib.SMA(close, timeperiod=100)\n",
    "  df['100 SMA'] = output  \n",
    "\n",
    "  output = talib.SMA(close, timeperiod=200)\n",
    "  df['200 SMA'] = output\n",
    "\n",
    "  return df "
   ]
  },
  {
   "cell_type": "markdown",
   "metadata": {
    "id": "0XGhZtpOrabx"
   },
   "source": [
    "### RSI"
   ]
  },
  {
   "cell_type": "code",
   "execution_count": 8,
   "metadata": {
    "id": "YsygPaGNraby"
   },
   "outputs": [],
   "source": [
    "def RSI(df):\n",
    "  close = df['Close']\n",
    "  real = talib.RSI(close, timeperiod=14)\n",
    "  df['14 RSI'] = real \n",
    "\n",
    "  return df"
   ]
  },
  {
   "cell_type": "markdown",
   "metadata": {
    "id": "ea4JKVsSraby"
   },
   "source": [
    "### Bollinger Bands"
   ]
  },
  {
   "cell_type": "code",
   "execution_count": 9,
   "metadata": {
    "id": "JZbhHWfsraby"
   },
   "outputs": [],
   "source": [
    "def bollinger(df):\n",
    "  close = df['Close']\n",
    "  upperband, middleband, lowerband = talib.BBANDS(close, timeperiod=20, nbdevup=2, nbdevdn=2, matype=0)\n",
    "  df['Upper BBand'] = upperband\n",
    "  df['Middle BBand'] = middleband\n",
    "  df['Lower BBand'] = lowerband\n",
    "\n",
    "  return df"
   ]
  },
  {
   "cell_type": "markdown",
   "metadata": {
    "id": "coksP_2Crabz"
   },
   "source": [
    "### MACD"
   ]
  },
  {
   "cell_type": "code",
   "execution_count": 10,
   "metadata": {
    "id": "WHh1yuxfrabz"
   },
   "outputs": [],
   "source": [
    "def macd(df):\n",
    "  close = df['Close']\n",
    "  macd, macdsignal, macdhist = talib.MACD(close, fastperiod=12, slowperiod=26, signalperiod=9)\n",
    "  trend = []\n",
    "  for i in range(len(macdhist)):\n",
    "      if (i <= 32):\n",
    "          trend.append('NaN')\n",
    "      else:\n",
    "          if (macdhist[i] > 0):\n",
    "              trend.append('Bullish')\n",
    "          else:\n",
    "              trend.append('Bearish')\n",
    "\n",
    "  df['MACD'] = macd        \n",
    "  df['MACD Signal'] = macdsignal\n",
    "  df['MACD Trend'] = trend\n",
    "\n",
    "  return df"
   ]
  },
  {
   "cell_type": "markdown",
   "metadata": {
    "id": "2tbCuYEurabz"
   },
   "source": [
    "### 52 Week High"
   ]
  },
  {
   "cell_type": "code",
   "execution_count": 11,
   "metadata": {
    "id": "bWPD-dQArabz"
   },
   "outputs": [],
   "source": [
    "def high(df):\n",
    "  close = df['Close']\n",
    "  high = []\n",
    "  for i in range(len(df['Close'])):\n",
    "      if (i >=260):\n",
    "          temp = df['Close'][i-260:i]\n",
    "          high.append(max(temp))\n",
    "      else:\n",
    "          high.append('NaN')\n",
    "\n",
    "  df['52-week high'] = high\n",
    "\n",
    "  return df"
   ]
  },
  {
   "cell_type": "markdown",
   "metadata": {
    "id": "TZdn9UcIrab0"
   },
   "source": [
    "### 52 Week Low"
   ]
  },
  {
   "cell_type": "code",
   "execution_count": 12,
   "metadata": {
    "id": "eLDgYk_orab0"
   },
   "outputs": [],
   "source": [
    "def low(df):\n",
    "  close = df['Close']\n",
    "  low = []\n",
    "  for i in range(len(df['Close'])):\n",
    "      if (i >=260):\n",
    "          temp = df['Close'][i-260:i]\n",
    "          low.append(min(temp))\n",
    "      else:\n",
    "          low.append('NaN')\n",
    "\n",
    "  df['52-week low'] = low\n",
    "\n",
    "  return df"
   ]
  },
  {
   "cell_type": "markdown",
   "metadata": {
    "id": "RYBERfPsrab0"
   },
   "source": [
    "### Average Volume"
   ]
  },
  {
   "cell_type": "code",
   "execution_count": 13,
   "metadata": {
    "id": "iD4dyARvrab1",
    "scrolled": true
   },
   "outputs": [],
   "source": [
    "def volume(df):\n",
    "  close = df['Close']\n",
    "  avg = []\n",
    "  for i in range(len(df['Volume'])):\n",
    "      if (i >=21):\n",
    "          temp = df['Volume'][i-21:i]\n",
    "          avg.append(sum(temp)/len(temp))\n",
    "      else:\n",
    "          avg.append('NaN')\n",
    "\n",
    "  df['21-avg volume'] = avg\n",
    "\n",
    "  return df\n"
   ]
  },
  {
   "cell_type": "markdown",
   "metadata": {
    "id": "Xv0a8doQrab1"
   },
   "source": [
    "### Resistance"
   ]
  },
  {
   "cell_type": "code",
   "execution_count": 14,
   "metadata": {
    "id": "KaoLg9Zwrab1"
   },
   "outputs": [],
   "source": [
    "def resistance(df):\n",
    "  close = df['Close']\n",
    "  high = df['High']\n",
    "  low = df['Low']\n",
    "  pivot = (high+close+low)/3\n",
    "  R1 = (2*pivot) - low\n",
    "  R2 = pivot + (high - low)\n",
    "  R3 = high + 2*(pivot - low)\n",
    "  df['First Resistance'] = R1\n",
    "  df['Second Resistance'] = R2\n",
    "  df['Third Resistance'] = R3\n",
    "\n",
    "  return df\n"
   ]
  },
  {
   "cell_type": "markdown",
   "metadata": {
    "id": "DWn-xOcBrab1"
   },
   "source": [
    "### Support"
   ]
  },
  {
   "cell_type": "code",
   "execution_count": 15,
   "metadata": {
    "id": "yGe44JaZrab2"
   },
   "outputs": [],
   "source": [
    "def support(df):\n",
    "  close = df['Close']\n",
    "  high = df['High']\n",
    "  low = df['Low']\n",
    "  pivot = (high+close+low)/3\n",
    "  S1 = (2*pivot) - high\n",
    "  S2 = pivot - (high - low)\n",
    "  S3 = low - 2*(high - pivot)\n",
    "  df['First Support'] = S1\n",
    "  df['Second Support'] = S2\n",
    "  df['Third Support'] = S3\n",
    "\n",
    "  return df"
   ]
  },
  {
   "cell_type": "markdown",
   "metadata": {
    "id": "WZE3oE1zigI6"
   },
   "source": [
    "### Adding all indicators in the dataframe"
   ]
  },
  {
   "cell_type": "code",
   "execution_count": 16,
   "metadata": {
    "id": "2x7opZutdF54"
   },
   "outputs": [],
   "source": [
    "def add_indicators(df):\n",
    "  df = SMA(df)\n",
    "  df = RSI(df)\n",
    "  df = bollinger(df)\n",
    "  df = macd(df)\n",
    "  df = high(df)\n",
    "  df = low(df)\n",
    "  df = volume(df)\n",
    "  df = resistance(df)\n",
    "  df = support(df)\n",
    "\n",
    "  return df"
   ]
  },
  {
   "cell_type": "markdown",
   "metadata": {
    "id": "pVBLZuaVjDU1"
   },
   "source": [
    "### Running on KSE100"
   ]
  },
  {
   "cell_type": "code",
   "execution_count": null,
   "metadata": {
    "colab": {
     "base_uri": "https://localhost:8080/"
    },
    "id": "4vv54dV9fFnd",
    "outputId": "624f201d-1fc0-4656-c143-e98f9b9e3402"
   },
   "outputs": [],
   "source": [
    "KSE100 = pd.read_csv(\"Input/KSE100.csv\")\n",
    "\n",
    "for i in range(len(KSE100)):\n",
    "    \n",
    "    print(i) \n",
    "    name = KSE100['Ticker'][i]\n",
    "    load_name = 'Input/' + name +'.csv'\n",
    "    df = pd.read_csv(load_name)\n",
    "\n",
    "    df = add_indicators(df)\n",
    "    df.to_csv('Output/Indicators/' + name +'.csv') "
   ]
  },
  {
   "cell_type": "code",
   "execution_count": 19,
   "metadata": {
    "id": "aFugUs3gDi5a"
   },
   "outputs": [],
   "source": [
    "def check(df1, df2):\n",
    "  for i in range(len(df1)):\n",
    "    if df1['Date'][i] == df2['Date'][0]:\n",
    "      return i"
   ]
  },
  {
   "cell_type": "markdown",
   "metadata": {
    "id": "ryonuya6jKqN"
   },
   "source": [
    "### Merging indicators and Module 1 input"
   ]
  },
  {
   "cell_type": "code",
   "execution_count": 20,
   "metadata": {
    "id": "AsmjBp1tGhjf"
   },
   "outputs": [],
   "source": [
    "def merge(df1, df2):\n",
    "\n",
    "  index = check(df1,df2)\n",
    "\n",
    "  close = df1['Close'][index:].values\n",
    "  df2['Original Price'] = close\n",
    "\n",
    "  SMA21 = df1['21 SMA'][index:].values\n",
    "  SMA50 = df1['50 SMA'][index:].values\n",
    "  SMA100 = df1['100 SMA'][index:].values\n",
    "  SMA200 = df1['200 SMA'][index:].values\n",
    "  RSI = df1['14 RSI'][index:].values\n",
    "  vol = df1['21-avg volume'][index:].values\n",
    "  upper = df1['Upper BBand'][index:].values\n",
    "  middle = df1['Middle BBand'][index:].values\n",
    "  lower = df1['Lower BBand'][index:].values\n",
    "  high = df1['52-week high'][index:].values\n",
    "  low = df1['52-week low'][index:].values\n",
    "  macd = df1['MACD'][index:].values\n",
    "  macdsignal = df1['MACD Signal'][index:].values\n",
    "  trend = df1['MACD Trend'][index:].values\n",
    "\n",
    "  df2['21 SMA'] = SMA21\n",
    "  df2['50 SMA'] = SMA50\n",
    "  df2['100 SMA'] = SMA100\n",
    "  df2['200 SMA'] = SMA200\n",
    "  df2['RSI'] = RSI\n",
    "  df2['21-avg volume'] = vol\n",
    "  df2['Upper BBand'] = upper\n",
    "  df2['Middle BBand'] = middle\n",
    "  df2['Lower BBand'] = lower\n",
    "  df2['52-week high'] = high\n",
    "  df2['52-week low'] = low\n",
    "  df2['MACD'] = macd\n",
    "  df2['MACD Signal'] = macdsignal\n",
    "  df2['MACD Trend'] = trend\n",
    "\n",
    "  return df2"
   ]
  },
  {
   "cell_type": "markdown",
   "metadata": {
    "id": "2VpzE1Wcj7ak"
   },
   "source": [
    "### Final KSE100 files"
   ]
  },
  {
   "cell_type": "code",
   "execution_count": null,
   "metadata": {
    "colab": {
     "base_uri": "https://localhost:8080/"
    },
    "id": "BG8MiCI_vP55",
    "outputId": "ed3748b3-7370-417e-811c-b31ada6a456c"
   },
   "outputs": [],
   "source": [
    "for i in range(len(KSE100)):\n",
    "    \n",
    "    print(i) \n",
    "    name = KSE100['Ticker'][i]\n",
    "    load_name = 'Output/Indicators/' + name +'.csv'\n",
    "    df1 = pd.read_csv(load_name)\n",
    "    load_name = 'Input/' + name +'.csv'\n",
    "    df2 = pd.read_csv(load_name)\n",
    "\n",
    "    df3 = merge(df1, df2)\n",
    "    df3.to_csv('Output/' + name +'.csv') "
   ]
  }
 ],
 "metadata": {
  "colab": {
   "name": "Technical Indicators.ipynb",
   "provenance": [],
   "toc_visible": true
  },
  "kernelspec": {
   "display_name": "Python 3",
   "language": "python",
   "name": "python3"
  },
  "language_info": {
   "codemirror_mode": {
    "name": "ipython",
    "version": 3
   },
   "file_extension": ".py",
   "mimetype": "text/x-python",
   "name": "python",
   "nbconvert_exporter": "python",
   "pygments_lexer": "ipython3",
   "version": "3.8.3"
  }
 },
 "nbformat": 4,
 "nbformat_minor": 1
}
