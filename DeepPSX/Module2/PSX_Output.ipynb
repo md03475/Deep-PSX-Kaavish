{
 "cells": [
  {
   "cell_type": "code",
   "execution_count": null,
   "metadata": {
    "id": "FJNw85V3czhK"
   },
   "outputs": [],
   "source": [
    "import pandas as pd"
   ]
  },
  {
   "cell_type": "code",
   "execution_count": null,
   "metadata": {
    "id": "yRKEukU6cbMJ"
   },
   "outputs": [],
   "source": [
    "df = pd.DataFrame(columns=['Date','Press Release'])"
   ]
  },
  {
   "cell_type": "code",
   "execution_count": null,
   "metadata": {
    "colab": {
     "base_uri": "https://localhost:8080/",
     "height": 195
    },
    "id": "rHULLCTFc2hR",
    "outputId": "e2aa876c-4ff1-4b07-ed60-a2738dfb3379"
   },
   "outputs": [
    {
     "data": {
      "text/html": [
       "<div>\n",
       "<style scoped>\n",
       "    .dataframe tbody tr th:only-of-type {\n",
       "        vertical-align: middle;\n",
       "    }\n",
       "\n",
       "    .dataframe tbody tr th {\n",
       "        vertical-align: top;\n",
       "    }\n",
       "\n",
       "    .dataframe thead th {\n",
       "        text-align: right;\n",
       "    }\n",
       "</style>\n",
       "<table border=\"1\" class=\"dataframe\">\n",
       "  <thead>\n",
       "    <tr style=\"text-align: right;\">\n",
       "      <th></th>\n",
       "      <th>Date</th>\n",
       "      <th>Press Release</th>\n",
       "    </tr>\n",
       "  </thead>\n",
       "  <tbody>\n",
       "    <tr>\n",
       "      <th>39589</th>\n",
       "      <td>2021-01-08 00:00:00+00:00</td>\n",
       "      <td>\\n\\nALSHAHEER\\n\\nFOODS\\n\\n \\n\\n \\n\\nDated: Ja...</td>\n",
       "    </tr>\n",
       "    <tr>\n",
       "      <th>39590</th>\n",
       "      <td>2021-01-08 00:00:00+00:00</td>\n",
       "      <td>Macter International Limited\\n\\npsu,\\n\\nCo SUe...</td>\n",
       "    </tr>\n",
       "    <tr>\n",
       "      <th>39591</th>\n",
       "      <td>2021-01-08 00:00:00+00:00</td>\n",
       "      <td>\\n\\n       \\n   \\n \\n\\nDear Sit\\n\\nWe have to...</td>\n",
       "    </tr>\n",
       "    <tr>\n",
       "      <th>39592</th>\n",
       "      <td>2021-01-08 00:00:00+00:00</td>\n",
       "      <td>Fax FRONTIER CERAMICS LIMITED\\nFORTE\\n\\nRef: F...</td>\n",
       "    </tr>\n",
       "    <tr>\n",
       "      <th>39593</th>\n",
       "      <td>2021-01-08 00:00:00+00:00</td>\n",
       "      <td>EL, Imperial Limited\\n\\nImperial| Limited\\n\\nM...</td>\n",
       "    </tr>\n",
       "  </tbody>\n",
       "</table>\n",
       "</div>"
      ],
      "text/plain": [
       "                            Date                                      Press Release\n",
       "39589  2021-01-08 00:00:00+00:00   \\n\\nALSHAHEER\\n\\nFOODS\\n\\n \\n\\n \\n\\nDated: Ja...\n",
       "39590  2021-01-08 00:00:00+00:00  Macter International Limited\\n\\npsu,\\n\\nCo SUe...\n",
       "39591  2021-01-08 00:00:00+00:00   \\n\\n       \\n   \\n \\n\\nDear Sit\\n\\nWe have to...\n",
       "39592  2021-01-08 00:00:00+00:00  Fax FRONTIER CERAMICS LIMITED\\nFORTE\\n\\nRef: F...\n",
       "39593  2021-01-08 00:00:00+00:00  EL, Imperial Limited\\n\\nImperial| Limited\\n\\nM..."
      ]
     },
     "execution_count": 23,
     "metadata": {
      "tags": []
     },
     "output_type": "execute_result"
    }
   ],
   "source": [
    "for i in range (15,22):\n",
    "  df_temp = pd.read_csv('Input/data_20'+str(i)+'.csv', index_col=0)\n",
    "  df=df.append(df_temp, ignore_index=True)\n",
    "df.sort_values(by=['Date'])\n",
    "df.tail()"
   ]
  },
  {
   "cell_type": "code",
   "execution_count": null,
   "metadata": {
    "colab": {
     "base_uri": "https://localhost:8080/",
     "height": 34
    },
    "id": "8X5rRRyfjRd1",
    "outputId": "2a1c946d-8601-4549-d7ff-81535a1f21a1"
   },
   "outputs": [
    {
     "data": {
      "application/javascript": [
       "\n",
       "    async function download(id, filename, size) {\n",
       "      if (!google.colab.kernel.accessAllowed) {\n",
       "        return;\n",
       "      }\n",
       "      const div = document.createElement('div');\n",
       "      const label = document.createElement('label');\n",
       "      label.textContent = `Downloading \"${filename}\": `;\n",
       "      div.appendChild(label);\n",
       "      const progress = document.createElement('progress');\n",
       "      progress.max = size;\n",
       "      div.appendChild(progress);\n",
       "      document.body.appendChild(div);\n",
       "\n",
       "      const buffers = [];\n",
       "      let downloaded = 0;\n",
       "\n",
       "      const channel = await google.colab.kernel.comms.open(id);\n",
       "      // Send a message to notify the kernel that we're ready.\n",
       "      channel.send({})\n",
       "\n",
       "      for await (const message of channel.messages) {\n",
       "        // Send a message to notify the kernel that we're ready.\n",
       "        channel.send({})\n",
       "        if (message.buffers) {\n",
       "          for (const buffer of message.buffers) {\n",
       "            buffers.push(buffer);\n",
       "            downloaded += buffer.byteLength;\n",
       "            progress.value = downloaded;\n",
       "          }\n",
       "        }\n",
       "      }\n",
       "      const blob = new Blob(buffers, {type: 'application/binary'});\n",
       "      const a = document.createElement('a');\n",
       "      a.href = window.URL.createObjectURL(blob);\n",
       "      a.download = filename;\n",
       "      div.appendChild(a);\n",
       "      a.click();\n",
       "      div.remove();\n",
       "    }\n",
       "  "
      ],
      "text/plain": [
       "<IPython.core.display.Javascript object>"
      ]
     },
     "metadata": {
      "tags": []
     },
     "output_type": "display_data"
    },
    {
     "data": {
      "application/javascript": [
       "download(\"download_74f7eeef-01e0-43ff-a1c1-c1c8b87fad57\", \"PSX_Master_data.csv\", 55397527)"
      ],
      "text/plain": [
       "<IPython.core.display.Javascript object>"
      ]
     },
     "metadata": {
      "tags": []
     },
     "output_type": "display_data"
    }
   ],
   "source": [
    "df.to_csv(\"Input/PSX_Master_data.csv\", encoding='utf-8',  sep = ',', index = True) #Save dataframe as CSV\n",
    "from google.colab import files\n",
    "files.download('PSX_Master_data.csv')"
   ]
  },
  {
   "cell_type": "code",
   "execution_count": null,
   "metadata": {
    "colab": {
     "base_uri": "https://localhost:8080/",
     "height": 195
    },
    "id": "N9LUHC2IJMVg",
    "outputId": "158d2814-3cc3-4100-b053-a43fb3399f80"
   },
   "outputs": [
    {
     "data": {
      "text/html": [
       "<div>\n",
       "<style scoped>\n",
       "    .dataframe tbody tr th:only-of-type {\n",
       "        vertical-align: middle;\n",
       "    }\n",
       "\n",
       "    .dataframe tbody tr th {\n",
       "        vertical-align: top;\n",
       "    }\n",
       "\n",
       "    .dataframe thead th {\n",
       "        text-align: right;\n",
       "    }\n",
       "</style>\n",
       "<table border=\"1\" class=\"dataframe\">\n",
       "  <thead>\n",
       "    <tr style=\"text-align: right;\">\n",
       "      <th></th>\n",
       "      <th>Date</th>\n",
       "      <th>Press Release</th>\n",
       "      <th>Unnamed: 0</th>\n",
       "    </tr>\n",
       "  </thead>\n",
       "  <tbody>\n",
       "    <tr>\n",
       "      <th>0</th>\n",
       "      <td>2018-04-18 00:00:00+00:00</td>\n",
       "      <td>\\n\\nHBL Asset Management Limited\\nHead Office...</td>\n",
       "      <td>0.0</td>\n",
       "    </tr>\n",
       "    <tr>\n",
       "      <th>1</th>\n",
       "      <td>2018-04-18 00:00:00+00:00</td>\n",
       "      <td>Textile Mills Limited\\n\\n   \\n\\nAHTM/2018/0821...</td>\n",
       "      <td>1.0</td>\n",
       "    </tr>\n",
       "    <tr>\n",
       "      <th>2</th>\n",
       "      <td>2018-04-18 00:00:00+00:00</td>\n",
       "      <td>12018 F118 94 (3) CVetestin\\nee ee\\n\\nwww Jaga...</td>\n",
       "      <td>2.0</td>\n",
       "    </tr>\n",
       "    <tr>\n",
       "      <th>3</th>\n",
       "      <td>2018-04-18 00:00:00+00:00</td>\n",
       "      <td>engro polymer &amp; chemicals\\n\\nApril 18, 2018\\n\\...</td>\n",
       "      <td>3.0</td>\n",
       "    </tr>\n",
       "    <tr>\n",
       "      <th>4</th>\n",
       "      <td>2018-04-18 00:00:00+00:00</td>\n",
       "      <td>se FAUJI FERTILIZER COMPANY LIMITED\\nZG\\n\\n \\n...</td>\n",
       "      <td>4.0</td>\n",
       "    </tr>\n",
       "  </tbody>\n",
       "</table>\n",
       "</div>"
      ],
      "text/plain": [
       "                        Date  ... Unnamed: 0\n",
       "0  2018-04-18 00:00:00+00:00  ...        0.0\n",
       "1  2018-04-18 00:00:00+00:00  ...        1.0\n",
       "2  2018-04-18 00:00:00+00:00  ...        2.0\n",
       "3  2018-04-18 00:00:00+00:00  ...        3.0\n",
       "4  2018-04-18 00:00:00+00:00  ...        4.0\n",
       "\n",
       "[5 rows x 3 columns]"
      ]
     },
     "execution_count": 67,
     "metadata": {
      "tags": []
     },
     "output_type": "execute_result"
    }
   ],
   "source": [
    "df.head()"
   ]
  }
 ],
 "metadata": {
  "colab": {
   "name": "Master_CSV.ipynb",
   "provenance": []
  },
  "kernelspec": {
   "display_name": "Python 3",
   "language": "python",
   "name": "python3"
  },
  "language_info": {
   "codemirror_mode": {
    "name": "ipython",
    "version": 3
   },
   "file_extension": ".py",
   "mimetype": "text/x-python",
   "name": "python",
   "nbconvert_exporter": "python",
   "pygments_lexer": "ipython3",
   "version": "3.8.3"
  }
 },
 "nbformat": 4,
 "nbformat_minor": 1
}
