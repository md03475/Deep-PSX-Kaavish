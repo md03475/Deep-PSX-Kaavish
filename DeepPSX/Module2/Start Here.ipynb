{
 "cells": [
  {
   "cell_type": "markdown",
   "metadata": {},
   "source": [
    "# Module 2: Polarity prediction of news/announcements (good/bad) using sentiment analysis and natural language processing"
   ]
  },
  {
   "cell_type": "markdown",
   "metadata": {},
   "source": [
    "## [Step 1](https://github.com/md03475/Deep-PSX-Kaavish/blob/main/DeepPSX/Module2/NewsScraper.ipynb) - News Scraper  "
   ]
  },
  {
   "cell_type": "markdown",
   "metadata": {},
   "source": [
    "* Run the scraper file \n",
    "* All the news from start date (April 4 2011) till end date (current date) from Dawn & Business Recorder would be downloaded and stores in raw form."
   ]
  },
  {
   "cell_type": "markdown",
   "metadata": {},
   "source": [
    "## [Step 2](https://github.com/md03475/Deep-PSX-Kaavish/blob/main/DeepPSX/Module2/Data%20Cleaning.ipynb) - Data Cleaning "
   ]
  },
  {
   "cell_type": "markdown",
   "metadata": {},
   "source": [
    "* Merge news from Dawn & Business recorder into one file. So for each date, we have combined news from both sources. \n",
    "* Add polarity and sentiment columns in the dataframe \n",
    "* Adding compound sentiment using Vader\n",
    "* Data labelled with with commulative labels\n",
    "* Save news data as csv in the final form for model. "
   ]
  },
  {
   "cell_type": "markdown",
   "metadata": {},
   "source": [
    "## [Step 3](https://github.com/md03475/Deep-PSX-Kaavish/blob/main/DeepPSX/Module2/Technical_Indicators.ipynb) - Technical Indicators"
   ]
  },
  {
   "cell_type": "markdown",
   "metadata": {},
   "source": [
    "* Calculate important technical indicators for all 100 companies.\n",
    "* Merge technical indicators with the output of module 1."
   ]
  },
  {
   "cell_type": "markdown",
   "metadata": {},
   "source": [
    "## [Step 4](https://github.com/md03475/Deep-PSX-Kaavish/blob/main/DeepPSX/Module2/Sentiment%20Analysis.ipynb) - Sentiment Analysis"
   ]
  },
  {
   "cell_type": "markdown",
   "metadata": {},
   "source": [
    "* Preprocess data file coming from Step 2\n",
    "* Stemming & Word Embedding of news.\n",
    "* Tokenise using NLTK\n",
    "* Splitting test-train-validate data set\n",
    "* Training Model - BiDirectional LSTM and Signle Layer CNN\n",
    "* Creating & Saving the Model on 100 companies.\n",
    "* Move to [Module 3](https://github.com/md03475/Deep-PSX-Kaavish/blob/main/DeepPSX/Module3/Signal%20Generator.ipynb)"
   ]
  },
  {
   "cell_type": "markdown",
   "metadata": {},
   "source": [
    "## Extras"
   ]
  },
  {
   "cell_type": "markdown",
   "metadata": {},
   "source": [
    "* [PSX Scraper](https://github.com/md03475/Deep-PSX-Kaavish/blob/main/DeepPSX/Module2/PSX_Scraper.ipynb)\n",
    "* [PSX Compiler](https://github.com/md03475/Deep-PSX-Kaavish/blob/main/DeepPSX/Module2/PSX_Compiler.ipynb)\n",
    "* [PSX OCR](https://github.com/md03475/Deep-PSX-Kaavish/blob/main/DeepPSX/Module2/PSX_OCR.ipynb)\n",
    "* [PSX Output](https://github.com/md03475/Deep-PSX-Kaavish/blob/main/DeepPSX/Module2/PSX_Output.ipynb)\n",
    "* [SBP Scraper](https://github.com/md03475/Deep-PSX-Kaavish/blob/main/DeepPSX/Module2/SBP_Scraper.ipynb)\n",
    "* [SBP OCR](https://github.com/md03475/Deep-PSX-Kaavish/blob/main/DeepPSX/Module2/SBP_OCR.ipynb)"
   ]
  }
 ],
 "metadata": {
  "kernelspec": {
   "display_name": "Python 3",
   "language": "python",
   "name": "python3"
  },
  "language_info": {
   "codemirror_mode": {
    "name": "ipython",
    "version": 3
   },
   "file_extension": ".py",
   "mimetype": "text/x-python",
   "name": "python",
   "nbconvert_exporter": "python",
   "pygments_lexer": "ipython3",
   "version": "3.8.3"
  }
 },
 "nbformat": 4,
 "nbformat_minor": 4
}
