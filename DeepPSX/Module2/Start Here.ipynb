{
 "cells": [
  {
   "cell_type": "markdown",
   "metadata": {},
   "source": [
    "# Module 2: Polarity prediction of news/announcements (good/bad) using sentiment analysis and natural language processing"
   ]
  },
  {
   "cell_type": "markdown",
   "metadata": {},
   "source": [
    "## [Step 1](NewsScraper.ipynb) - News Scraper  "
   ]
  },
  {
   "cell_type": "markdown",
   "metadata": {},
   "source": [
    "* Run the scraper file \n",
    "* All the news from start date (April 4 2011) till end date (current date) from Dawn & Business Recorder would be downloaded and stores in raw form."
   ]
  },
  {
   "cell_type": "markdown",
   "metadata": {},
   "source": [
    "## [Step 2](Data%20Cleaning.ipynb) - Data Cleaning "
   ]
  },
  {
   "cell_type": "markdown",
   "metadata": {},
   "source": [
    "* Merge news from Dawn & Business recorder into one file. So for each date, we have combined news from both sources. \n",
    "* Add polarity and sentiment columns in the dataframe \n",
    "* Adding compound sentiment using Vader\n",
    "* Data labelled with with commulative labels\n",
    "* Save news data as csv in the final form for model. "
   ]
  },
  {
   "cell_type": "markdown",
   "metadata": {},
   "source": [
    "## [Step 3](Technical_Indicators.ipynb) - Technical Indicators"
   ]
  },
  {
   "cell_type": "markdown",
   "metadata": {},
   "source": [
    "* Calculate important technical indicators for all 100 companies.\n",
    "* Merge technical indicators with the output of module 1."
   ]
  },
  {
   "cell_type": "markdown",
   "metadata": {},
   "source": [
    "## [Step 4](Sentiment%20Analysis.ipynb) - Sentiment Analysis"
   ]
  },
  {
   "cell_type": "markdown",
   "metadata": {},
   "source": [
    "* Preprocess data file coming from Step 2\n",
    "* Stemming & Word Embedding of news.\n",
    "* Tokenise using NLTK\n",
    "* Splitting test-train-validate data set\n",
    "* Training Model - BiDirectional LSTM and Signle Layer CNN\n",
    "* Creating & Saving the Model on 100 companies.\n",
    "* Move to Module 3"
   ]
  },
  {
   "cell_type": "markdown",
   "metadata": {},
   "source": [
    "## Extras"
   ]
  },
  {
   "cell_type": "markdown",
   "metadata": {},
   "source": [
    "* [PSX Scraper](PSX_Scraper.ipynb)\n",
    "* [PSX Compiler](PSX_Compiler.ipynb)\n",
    "* [PSX OCR](PSX_OCR.ipynb)\n",
    "* [PSX Output](PSX_Output.ipynb)\n",
    "* [SBP Scraper](SBP_Scraper.ipynb)\n",
    "* [SBP OCR](SBP_OCR.ipynb)"
   ]
  }
 ],
 "metadata": {
  "kernelspec": {
   "display_name": "Python 3",
   "language": "python",
   "name": "python3"
  },
  "language_info": {
   "codemirror_mode": {
    "name": "ipython",
    "version": 3
   },
   "file_extension": ".py",
   "mimetype": "text/x-python",
   "name": "python",
   "nbconvert_exporter": "python",
   "pygments_lexer": "ipython3",
   "version": "3.8.3"
  }
 },
 "nbformat": 4,
 "nbformat_minor": 4
}
