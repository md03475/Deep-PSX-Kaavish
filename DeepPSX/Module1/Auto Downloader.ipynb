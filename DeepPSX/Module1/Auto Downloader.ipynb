{
  "nbformat": 4,
  "nbformat_minor": 0,
  "metadata": {
    "colab": {
      "name": "MacroScraper.ipynb",
      "provenance": []
    },
    "kernelspec": {
      "name": "python3",
      "display_name": "Python 3"
    }
  },
  "cells": [
    {
      "cell_type": "code",
      "metadata": {
        "id": "vBb1XOhp3LzN",
        "colab": {
          "base_uri": "https://localhost:8080/"
        },
        "outputId": "80c2b13b-881c-4250-dfb7-98a9a5d9b91b"
      },
      "source": [
        "from urllib.request import urlopen\n",
        "from zipfile import ZipFile\n",
        "from datetime import date, timedelta\n",
        "import datetime\n",
        "import requests\n",
        "import os\n",
        "from io import BytesIO\n",
        "from urllib.request import urlopen\n",
        "from tempfile import NamedTemporaryFile\n",
        "from shutil import unpack_archive\n",
        "\n",
        "\n",
        "# Year, month, day\t\n",
        "today = datetime.date.today()\n",
        "sdate = date(2020, 8, 10)   # start date\n",
        "edate = today   # end date\n",
        "delta = edate - sdate       # as timedelta\n",
        "\n",
        "basestring = 'https://dps.psx.com.pk/download/mkt_summary/'\n",
        "\n",
        "for i in range(delta.days):\n",
        "    day = sdate + timedelta(days=i)\n",
        "    dayToStr = day.strftime(\"%Y-%m-%d\")\n",
        "    day2 = day.weekday()\n",
        "    variablestring = dayToStr + '.Z'\n",
        "    zipurl = basestring + variablestring\n",
        "    print(zipurl)\n",
        "    request = requests.get(zipurl)\n",
        "    if (request.status_code != 200) or (day2==5) or (day2==6):\n",
        "      continue\n",
        "    else:\n",
        "      with urlopen(zipurl) as zipresp, NamedTemporaryFile() as tfile:\n",
        "        tfile.write(zipresp.read())\n",
        "        tfile.seek(0)\n",
        "        directory = '/content/' + dayToStr\n",
        "        unpack_archive(tfile.name, directory , format = 'zip')"
      ],
      "execution_count": null,
      "outputs": [
        {
          "output_type": "stream",
          "text": [
            "https://dps.psx.com.pk/download/mkt_summary/2020-08-10.Z\n",
            "https://dps.psx.com.pk/download/mkt_summary/2020-08-11.Z\n",
            "https://dps.psx.com.pk/download/mkt_summary/2020-08-12.Z\n",
            "https://dps.psx.com.pk/download/mkt_summary/2020-08-13.Z\n",
            "https://dps.psx.com.pk/download/mkt_summary/2020-08-14.Z\n",
            "https://dps.psx.com.pk/download/mkt_summary/2020-08-15.Z\n",
            "https://dps.psx.com.pk/download/mkt_summary/2020-08-16.Z\n",
            "https://dps.psx.com.pk/download/mkt_summary/2020-08-17.Z\n",
            "https://dps.psx.com.pk/download/mkt_summary/2020-08-18.Z\n",
            "https://dps.psx.com.pk/download/mkt_summary/2020-08-19.Z\n",
            "https://dps.psx.com.pk/download/mkt_summary/2020-08-20.Z\n",
            "https://dps.psx.com.pk/download/mkt_summary/2020-08-21.Z\n",
            "https://dps.psx.com.pk/download/mkt_summary/2020-08-22.Z\n"
          ],
          "name": "stdout"
        }
      ]
    }
  ]
}