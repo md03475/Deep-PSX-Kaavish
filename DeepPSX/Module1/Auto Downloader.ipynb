{
 "cells": [
  {
   "cell_type": "code",
   "execution_count": 2,
   "metadata": {
    "colab": {
     "base_uri": "https://localhost:8080/"
    },
    "id": "vBb1XOhp3LzN",
    "outputId": "80c2b13b-881c-4250-dfb7-98a9a5d9b91b"
   },
   "outputs": [],
   "source": [
    "import urllib\n",
    "import zipfile\n",
    "from datetime import date, timedelta\n",
    "import datetime\n",
    "import requests\n",
    "import os\n",
    "from io import BytesIO\n",
    "from urllib.request import urlopen\n",
    "from tempfile import NamedTemporaryFile\n",
    "from shutil import unpack_archive\n",
    "import csv, re\n",
    "\n",
    "# Year, month, day\t\n",
    "today = datetime.date.today()\n",
    "sdate = date(2020, 10, 8)   # start date\n",
    "edate = today   # end date\n",
    "delta = edate - sdate       # as timedelta\n",
    "basestring = 'https://dps.psx.com.pk/download/mkt_summary/'\n",
    "\n",
    "for i in range(delta.days):\n",
    "    day = sdate + timedelta(days=i)\n",
    "    dayToStr = day.strftime(\"%Y-%m-%d\")\n",
    "    day2 = day.weekday()\n",
    "    variablestring = dayToStr + '.Z'\n",
    "    url = basestring + variablestring\n",
    "    request = requests.get(url)\n",
    "    holidays = ['2020-10-30','2020-12-25','2020-02-05']\n",
    "    if (day2==5) or (day2==6) or (request.status_code != 200) or dayToStr in holidays:\n",
    "        continue\n",
    "    else:\n",
    "        filehandle, _ = urllib.request.urlretrieve(url)\n",
    "        zip_file_object = zipfile.ZipFile(filehandle, 'r')\n",
    "        first_file = zip_file_object.namelist()[0]\n",
    "        file = zip_file_object.open(first_file)\n",
    "        content = file.read()  \n",
    "        data = content.decode('utf-8').splitlines()\n",
    "        name = dayToStr + '.csv'\n",
    "        fileName = 'Input/Temp/' + name\n",
    "        with open(fileName, \"w\") as csv_file:\n",
    "            writer = csv.writer(csv_file, delimiter = '\\t')\n",
    "            for line in data:\n",
    "                writer.writerow(re.split('\\s+',line))"
   ]
  }
 ],
 "metadata": {
  "colab": {
   "name": "MacroScraper.ipynb",
   "provenance": []
  },
  "kernelspec": {
   "display_name": "Python 3",
   "language": "python",
   "name": "python3"
  },
  "language_info": {
   "codemirror_mode": {
    "name": "ipython",
    "version": 3
   },
   "file_extension": ".py",
   "mimetype": "text/x-python",
   "name": "python",
   "nbconvert_exporter": "python",
   "pygments_lexer": "ipython3",
   "version": "3.8.5"
  }
 },
 "nbformat": 4,
 "nbformat_minor": 1
}
