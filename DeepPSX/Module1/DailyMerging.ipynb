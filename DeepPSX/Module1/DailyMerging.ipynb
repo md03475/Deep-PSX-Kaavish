{
 "cells": [
  {
   "cell_type": "code",
   "execution_count": 1,
   "metadata": {},
   "outputs": [],
   "source": [
    "import pandas as pd\n",
    "import numpy as np\n",
    "import matplotlib.pyplot as plt\n",
    "import seaborn as sns\n",
    "import sklearn\n",
    "import csv"
   ]
  },
  {
   "cell_type": "code",
   "execution_count": 2,
   "metadata": {},
   "outputs": [],
   "source": [
    "KSE100 = pd.read_csv('Input/KSE100.csv')"
   ]
  },
  {
   "cell_type": "code",
   "execution_count": 3,
   "metadata": {},
   "outputs": [],
   "source": [
    "todayDT = pd.to_datetime(\"today\").date()\n",
    "fileName =  'Input/Temp/' + str(todayDT) + '.csv'\n",
    "f = open(fileName,'r')"
   ]
  },
  {
   "cell_type": "code",
   "execution_count": 4,
   "metadata": {},
   "outputs": [],
   "source": [
    "tryname = 'Input/Temp/'+ 'try' + str(todayDT) + '.csv'\n",
    "with open(tryname, 'w', newline='') as file:\n",
    "    writer = csv.writer(file)\n",
    "    for line in f:\n",
    "        if line == \"\\n\":\n",
    "            pass\n",
    "        else:\n",
    "            i = 0\n",
    "            Date = ''\n",
    "            Ticker = ''\n",
    "            x=''\n",
    "            y=''\n",
    "            Open = ''\n",
    "            High = ''\n",
    "            Low = ''\n",
    "            Close = ''\n",
    "            Volume = ''\n",
    "\n",
    "            while line[i]!='|':\n",
    "                Date+=line[i]\n",
    "                i+=1\n",
    "            i+=1\n",
    "\n",
    "            while line[i]!='|':\n",
    "                Ticker+=line[i]\n",
    "                i+=1\n",
    "            i+=1\n",
    "\n",
    "            while line[i]!='|':\n",
    "                x+=line[i]\n",
    "                i+=1\n",
    "            i+=1\n",
    "\n",
    "            while line[i]!='|':\n",
    "                y+=line[i]\n",
    "                i+=1\n",
    "            i+=1\n",
    "\n",
    "            while line[i]!='|':\n",
    "                Open+=line[i]\n",
    "                i+=1\n",
    "            i+=1\n",
    "\n",
    "            while line[i]!='|':\n",
    "                High+=line[i]\n",
    "                i+=1\n",
    "            i+=1\n",
    "\n",
    "            while line[i]!='|':\n",
    "                Low+=line[i]\n",
    "                i+=1\n",
    "            i+=1\n",
    "\n",
    "            while line[i]!='|':\n",
    "                Close+=line[i]\n",
    "                i+=1\n",
    "            i+=1\n",
    "\n",
    "            while line[i]!='|':\n",
    "                Volume+=line[i]\n",
    "                i+=1\n",
    "            i+=1\n",
    "\n",
    "            writer.writerow([Date, Ticker, x, y, Open, High, Low, Close, Volume])"
   ]
  },
  {
   "cell_type": "code",
   "execution_count": 5,
   "metadata": {},
   "outputs": [],
   "source": [
    "df = pd.read_csv(tryname, \n",
    "                  names=[\"Date\", \"Ticker\", \"x\", \"y\",\"Open\", \"High\",\"Low\",\"Close\",\"Volume\"]\n",
    "                  ,index_col=False)\n",
    "df = df.drop(['x', 'y'], axis = 1)"
   ]
  },
  {
   "cell_type": "code",
   "execution_count": 6,
   "metadata": {},
   "outputs": [],
   "source": [
    "filtered = KSE100['Ticker'].tolist() #Filtered companies stored in a list\n",
    "\n",
    "tickers = df['Ticker'].tolist()\n",
    "names = []\n",
    "df.drop('Ticker',axis=1,inplace=True)\n",
    "for i in range(len(df)-1):\n",
    "    name = str(tickers[i]) + \" PA Equity\"\n",
    "    \n",
    "    if name in filtered: #Extracts only shortlisted companies\n",
    "        names.append(name)\n",
    "        df['Open'] = pd.to_numeric(df['Open']) #Change datatype of Open (Initially object type)\n",
    "        df['High'] = pd.to_numeric(df['High']) #Change datatype of High (Initially object type)\n",
    "        df['Low'] = pd.to_numeric(df['Low']) #Change datatype of Low (Initially object type)\n",
    "        df['Close'] = pd.to_numeric(df['Close']) #Change datatype of Close (Initially object type)\n",
    "        df['Volume'] = pd.to_numeric(df['Volume']) #Change datatype of Volume (Initially object type)\n",
    "        df['Date'] = pd.to_datetime(df['Date']) #Change data type to datetime (Iitially object type)\n",
    "        df.iloc[i:i+1].to_csv(path_or_buf = 'Input/Temp/' + name + '_temp.csv', encoding='utf-8',  sep = ',', index = False) #Save dataframe as CSV"
   ]
  },
  {
   "cell_type": "code",
   "execution_count": 7,
   "metadata": {},
   "outputs": [],
   "source": [
    "for i in range(len(names)):\n",
    "    rows=[]\n",
    "    name = 'Input/' + names[i] + '.csv'\n",
    "    temp_file = 'Input/Temp/' + names[i] + '_temp.csv'\n",
    "    with open(temp_file, 'r') as file:\n",
    "        reader = csv.reader(file)\n",
    "        for row in reader:\n",
    "            rows.append(row)\n",
    "    \n",
    "    with open(name, 'a',newline='') as file:\n",
    "        writer = csv.writer(file)\n",
    "        writer.writerow(rows[-1])"
   ]
  }
 ],
 "metadata": {
  "kernelspec": {
   "display_name": "Python 3",
   "language": "python",
   "name": "python3"
  },
  "language_info": {
   "codemirror_mode": {
    "name": "ipython",
    "version": 3
   },
   "file_extension": ".py",
   "mimetype": "text/x-python",
   "name": "python",
   "nbconvert_exporter": "python",
   "pygments_lexer": "ipython3",
   "version": "3.8.5"
  }
 },
 "nbformat": 4,
 "nbformat_minor": 4
}
