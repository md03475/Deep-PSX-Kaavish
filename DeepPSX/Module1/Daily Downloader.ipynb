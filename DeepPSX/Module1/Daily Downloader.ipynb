{
  "nbformat": 4,
  "nbformat_minor": 0,
  "metadata": {
    "colab": {
      "name": "M1-scraper.ipynb",
      "provenance": []
    },
    "kernelspec": {
      "name": "python3",
      "display_name": "Python 3"
    }
  },
  "cells": [
    {
      "cell_type": "code",
      "metadata": {
        "id": "QtmySzIeOAAM",
        "outputId": "dc95bebc-87b5-4f82-a78d-01ee70269470",
        "colab": {
          "base_uri": "https://localhost:8080/"
        }
      },
      "source": [
        "from urllib.request import urlopen\n",
        "from zipfile import ZipFile\n",
        "import datetime\n",
        "\n",
        "# Year, month, day\t\n",
        "today = datetime.date.today()\n",
        "d2 = datetime.datetime.today().weekday()\n",
        "\n",
        "if (d2 == 5):\n",
        "  d1 = today - datetime.timedelta(days = 1)\n",
        "elif (d2 == 6):\n",
        "  d1 = today - datetime.timedelta(days = 2)\n",
        "else:\n",
        "  d1 = today\n",
        "\n",
        "d1 = d1.strftime(\"%Y-%m-%d\")\n",
        "variablestring = d1 + '.Z'\n",
        "print('d1 : ',d1)\n",
        "\n",
        "basestring = 'https://dps.psx.com.pk/download/mkt_summary/'\n",
        "\n",
        "zipurl = basestring + variablestring\n",
        "    # Download the file from the URL\n",
        "zipresp = urlopen(zipurl)\n",
        "    # Create a new file on the hard drive\n",
        "tempzip = open(\"/tmp/tempfile.zip\", \"wb\")\n",
        "    # Write the contents of the downloaded file into the new file\n",
        "tempzip.write(zipresp.read())\n",
        "    # Close the newly-created file\n",
        "tempzip.close()\n",
        "    # Re-open the newly-created file with ZipFile()\n",
        "zf = ZipFile(\"/tmp/tempfile.zip\")\n",
        "    # Extract its contents into <extraction_path>\n",
        "    # note that extractall will automatically create the path\n",
        "zf.extractall(path = '<extraction_path>')\n",
        "    # close the ZipFile instance\n",
        "zf.close()\n"
      ],
      "execution_count": 29,
      "outputs": [
        {
          "output_type": "stream",
          "text": [
            "d1 :  2020-11-13\n"
          ],
          "name": "stdout"
        }
      ]
    },
    {
      "cell_type": "code",
      "metadata": {
        "id": "1aCBxsBqTMat"
      },
      "source": [
        ""
      ],
      "execution_count": null,
      "outputs": []
    }
  ]
}