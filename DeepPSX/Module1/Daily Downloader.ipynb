{
 "cells": [
  {
   "cell_type": "code",
   "execution_count": 4,
   "metadata": {
    "colab": {
     "base_uri": "https://localhost:8080/"
    },
    "id": "QtmySzIeOAAM",
    "outputId": "dc95bebc-87b5-4f82-a78d-01ee70269470"
   },
   "outputs": [],
   "source": [
    "import urllib\n",
    "import zipfile\n",
    "from datetime import date, timedelta\n",
    "import datetime\n",
    "import requests\n",
    "import os\n",
    "from io import BytesIO\n",
    "from urllib.request import urlopen\n",
    "from tempfile import NamedTemporaryFile\n",
    "from shutil import unpack_archive\n",
    "import csv, re\n",
    "\n",
    "# Year, month, day\t\n",
    "today = datetime.date.today()\n",
    "d2 = datetime.datetime.today().weekday()\n",
    "\n",
    "if (d2 == 5):\n",
    "  d1 = today - datetime.timedelta(days = 1)\n",
    "elif (d2 == 6):\n",
    "  d1 = today - datetime.timedelta(days = 2)\n",
    "else:\n",
    "  d1 = today\n",
    "\n",
    "d1 = d1.strftime(\"%Y-%m-%d\")\n",
    "variablestring = d1 + '.Z'\n",
    "basestring = 'https://dps.psx.com.pk/download/mkt_summary/'\n",
    "url = basestring + variablestring\n",
    "request = requests.get(url)\n",
    "holidays = ['2020-10-30','2020-12-25','2020-02-05']\n",
    "if (request.status_code != 200):\n",
    "    pass\n",
    "else:\n",
    "    filehandle, _ = urllib.request.urlretrieve(url)\n",
    "    zip_file_object = zipfile.ZipFile(filehandle, 'r')\n",
    "    first_file = zip_file_object.namelist()[0]\n",
    "    file = zip_file_object.open(first_file)\n",
    "    content = file.read()  \n",
    "    data = content.decode('utf-8').splitlines()\n",
    "    name = 'Input/Temp/' + d1 + '.csv'\n",
    "    with open(name, \"w\") as csv_file:\n",
    "        writer = csv.writer(csv_file, delimiter = '\\t')\n",
    "        for line in data:\n",
    "          writer.writerow(re.split('\\s+',line))"
   ]
  }
 ],
 "metadata": {
  "colab": {
   "name": "M1-scraper.ipynb",
   "provenance": []
  },
  "kernelspec": {
   "display_name": "Python 3",
   "language": "python",
   "name": "python3"
  },
  "language_info": {
   "codemirror_mode": {
    "name": "ipython",
    "version": 3
   },
   "file_extension": ".py",
   "mimetype": "text/x-python",
   "name": "python",
   "nbconvert_exporter": "python",
   "pygments_lexer": "ipython3",
   "version": "3.8.5"
  }
 },
 "nbformat": 4,
 "nbformat_minor": 1
}
