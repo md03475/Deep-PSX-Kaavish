{
 "cells": [
  {
   "cell_type": "markdown",
   "metadata": {},
   "source": [
    "# Module 1: Stock price prediction based on historical data in time series format using modern recurrent neural networks"
   ]
  },
  {
   "cell_type": "markdown",
   "metadata": {},
   "source": [
    "## [Step 1](https://github.com/md03475/Deep-PSX-Kaavish/blob/main/DeepPSX/Module1/Data%20Cleaning.ipynb) - Data Cleaning"
   ]
  },
  {
   "cell_type": "markdown",
   "metadata": {},
   "source": [
    "* Downloading 20 years of daily stock prices data of PSX from Bloomsberg. \n",
    "* Shortlist companies on the basis of KSE100 Index.\n",
    "* Run the data cleaning file upon shortlisted 100 companies. "
   ]
  },
  {
   "cell_type": "markdown",
   "metadata": {},
   "source": [
    "## [Step 2](https://github.com/md03475/Deep-PSX-Kaavish/blob/main/DeepPSX/Module1/Auto%20Downloader.ipynb) - Auto Downloader"
   ]
  },
  {
   "cell_type": "markdown",
   "metadata": {},
   "source": [
    "* Script to download daily stock prices data from PSX starting 8th October 2020 till current date."
   ]
  },
  {
   "cell_type": "markdown",
   "metadata": {},
   "source": [
    "## [Step 3](https://github.com/md03475/Deep-PSX-Kaavish/blob/main/DeepPSX/Module1/DataMerging.ipynb) - Data Merging"
   ]
  },
  {
   "cell_type": "markdown",
   "metadata": {},
   "source": [
    "* Merging new data with original data to update our dataset."
   ]
  },
  {
   "cell_type": "markdown",
   "metadata": {},
   "source": [
    "## [Step 4](https://github.com/md03475/Deep-PSX-Kaavish/blob/main/DeepPSX/Module1/Daily%20Downloader.ipynb) - Daily Downloader  (Optional)"
   ]
  },
  {
   "cell_type": "markdown",
   "metadata": {},
   "source": [
    "* Script to download daily stock prices data from PSX of present date.\n",
    "* This script can be run daily to update our existing dataset.\n",
    "* [Merging this dataset with previous data.](https://github.com/md03475/Deep-PSX-Kaavish/blob/main/DeepPSX/Module1/DailyMerging.ipynb)"
   ]
  },
  {
   "cell_type": "markdown",
   "metadata": {},
   "source": [
    "## [Step 5](https://github.com/md03475/Deep-PSX-Kaavish/blob/main/DeepPSX/Module1/Prediction%20using%20Deep%20Learning.ipynb) - Price Prediction"
   ]
  },
  {
   "cell_type": "markdown",
   "metadata": {},
   "source": [
    "* Run the script to predict prices using deep learning for the next 14 days for all 100 companies.\n",
    "* Saves the output for all comapnies.\n",
    "* [Move to module 2](https://github.com/md03475/Deep-PSX-Kaavish/blob/main/DeepPSX/Module2/Start%20Here.ipynb)"
   ]
  },
  {
   "cell_type": "markdown",
   "metadata": {},
   "source": [
    "## Extras:\n",
    "* [Exploratory Data Analysis](https://github.com/md03475/Deep-PSX-Kaavish/blob/main/DeepPSX/Module1/Exploratory%20Data%20Analysis.ipynb) - Price prediction using non deep learning techniques.\n",
    "* [Forex Scraper](https://github.com/md03475/Deep-PSX-Kaavish/blob/main/DeepPSX/Module1/ForexScraper.ipynb) - Daily scraper of forex data.\n",
    "* [Global Oil Scraper](https://github.com/md03475/Deep-PSX-Kaavish/blob/main/DeepPSX/Module1/GlobalOilScraper.ipynb) - Daily scraper of global oil prices.\n"
   ]
  }
 ],
 "metadata": {
  "kernelspec": {
   "display_name": "Python 3",
   "language": "python",
   "name": "python3"
  },
  "language_info": {
   "codemirror_mode": {
    "name": "ipython",
    "version": 3
   },
   "file_extension": ".py",
   "mimetype": "text/x-python",
   "name": "python",
   "nbconvert_exporter": "python",
   "pygments_lexer": "ipython3",
   "version": "3.8.3"
  }
 },
 "nbformat": 4,
 "nbformat_minor": 4
}
