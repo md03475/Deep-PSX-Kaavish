{
 "cells": [
  {
   "cell_type": "code",
   "execution_count": 1,
   "metadata": {},
   "outputs": [],
   "source": [
    "import pandas as pd\n",
    "import numpy as np\n",
    "import matplotlib.pyplot as plt\n",
    "import seaborn as sns\n",
    "import sklearn\n",
    "import csv\n",
    "import datetime"
   ]
  },
  {
   "cell_type": "code",
   "execution_count": 2,
   "metadata": {},
   "outputs": [],
   "source": [
    "KSE100 = pd.read_csv('Input/KSE100.csv')"
   ]
  },
  {
   "cell_type": "code",
   "execution_count": 3,
   "metadata": {},
   "outputs": [
    {
     "name": "stdout",
     "output_type": "stream",
     "text": [
      "2021-05-11\n",
      "2020-10-09\n"
     ]
    }
   ],
   "source": [
    "startingDate = '2020-10-09'\n",
    "startingDateDT = datetime.datetime.strptime(startingDate, '%Y-%m-%d').date()\n",
    "todayDT = pd.to_datetime(\"today\").date()\n",
    "todayStr = str(todayDT)\n",
    "startingDateStr = str(startingDateDT)\n",
    "\n",
    "print(todayStr)\n",
    "print(startingDateStr)"
   ]
  },
  {
   "cell_type": "code",
   "execution_count": 4,
   "metadata": {},
   "outputs": [],
   "source": [
    "numOfDays = todayDT - startingDateDT\n",
    "currentDate = startingDateDT\n",
    "dateList = []\n",
    "for i in range(numOfDays.days):\n",
    "    filename = 'Input/Temp/' + str(currentDate) + '.csv'\n",
    "    try:\n",
    "        f = open(filename,'r')\n",
    "        dateList.append(str(currentDate) + '.csv')\n",
    "    except IOError:\n",
    "        pass\n",
    "    currentDate += datetime.timedelta(days=1)"
   ]
  },
  {
   "cell_type": "code",
   "execution_count": 5,
   "metadata": {},
   "outputs": [],
   "source": [
    "filtered = KSE100['Ticker'].tolist() #Filtered companies stored in a list"
   ]
  },
  {
   "cell_type": "code",
   "execution_count": 6,
   "metadata": {},
   "outputs": [
    {
     "name": "stdout",
     "output_type": "stream",
     "text": [
      "['2020-10-09.csv', '2020-10-12.csv', '2020-10-13.csv', '2020-10-14.csv', '2020-10-15.csv', '2020-10-16.csv', '2020-10-19.csv', '2020-10-20.csv', '2020-10-21.csv', '2020-10-22.csv', '2020-10-23.csv', '2020-10-26.csv', '2020-10-27.csv', '2020-10-28.csv', '2020-10-29.csv', '2020-11-02.csv', '2020-11-03.csv', '2020-11-04.csv', '2020-11-05.csv', '2020-11-06.csv', '2020-11-09.csv', '2020-11-10.csv', '2020-11-11.csv', '2020-11-12.csv', '2020-11-13.csv', '2020-11-16.csv', '2020-11-17.csv', '2020-11-18.csv', '2020-11-19.csv', '2020-11-20.csv', '2020-11-23.csv', '2020-11-24.csv', '2020-11-25.csv', '2020-11-26.csv', '2020-11-27.csv', '2020-11-30.csv', '2020-12-01.csv', '2020-12-02.csv', '2020-12-03.csv', '2020-12-04.csv', '2020-12-07.csv', '2020-12-08.csv', '2020-12-09.csv', '2020-12-10.csv', '2020-12-11.csv', '2020-12-14.csv', '2020-12-15.csv', '2020-12-16.csv', '2020-12-17.csv', '2020-12-18.csv', '2020-12-21.csv', '2020-12-22.csv', '2020-12-23.csv', '2020-12-24.csv', '2020-12-28.csv', '2020-12-29.csv', '2020-12-30.csv', '2020-12-31.csv', '2021-01-01.csv', '2021-01-04.csv', '2021-01-05.csv', '2021-01-06.csv', '2021-01-07.csv', '2021-01-08.csv', '2021-01-11.csv', '2021-01-12.csv', '2021-01-13.csv', '2021-01-14.csv', '2021-01-15.csv', '2021-01-18.csv', '2021-01-19.csv', '2021-01-20.csv', '2021-01-21.csv', '2021-01-22.csv', '2021-01-25.csv', '2021-01-26.csv', '2021-01-27.csv', '2021-01-28.csv', '2021-01-29.csv', '2021-02-01.csv', '2021-02-02.csv', '2021-02-03.csv', '2021-02-04.csv', '2021-02-08.csv', '2021-02-09.csv', '2021-02-10.csv', '2021-02-11.csv', '2021-02-12.csv', '2021-02-15.csv', '2021-02-16.csv', '2021-02-17.csv', '2021-02-18.csv', '2021-02-19.csv', '2021-02-22.csv', '2021-02-23.csv', '2021-02-24.csv', '2021-02-25.csv', '2021-02-26.csv', '2021-03-01.csv', '2021-03-02.csv', '2021-03-03.csv', '2021-03-04.csv', '2021-03-05.csv', '2021-03-08.csv', '2021-03-09.csv', '2021-03-10.csv', '2021-03-11.csv', '2021-03-12.csv', '2021-03-15.csv', '2021-03-16.csv', '2021-03-17.csv', '2021-03-18.csv', '2021-03-19.csv', '2021-03-22.csv', '2021-03-24.csv', '2021-03-25.csv', '2021-03-26.csv', '2021-03-29.csv', '2021-03-30.csv', '2021-03-31.csv', '2021-04-01.csv', '2021-04-02.csv', '2021-04-05.csv', '2021-04-06.csv', '2021-04-07.csv', '2021-04-08.csv', '2021-04-09.csv', '2021-04-12.csv', '2021-04-13.csv', '2021-04-14.csv', '2021-04-15.csv', '2021-04-16.csv', '2021-04-19.csv', '2021-04-20.csv', '2021-04-21.csv', '2021-04-22.csv', '2021-04-23.csv', '2021-04-26.csv', '2021-04-27.csv', '2021-04-28.csv', '2021-04-29.csv', '2021-04-30.csv', '2021-05-03.csv', '2021-05-04.csv', '2021-05-05.csv', '2021-05-06.csv']\n"
     ]
    }
   ],
   "source": [
    "print(dateList)"
   ]
  },
  {
   "cell_type": "code",
   "execution_count": 7,
   "metadata": {},
   "outputs": [],
   "source": [
    "for i in range(len(dateList)):\n",
    "    f = open(dateList[i],'r')\n",
    "    tryname = 'Input/Temp/'+ 'try' + dateList[i]\n",
    "    with open(tryname, 'w', newline='') as file:\n",
    "        writer = csv.writer(file)\n",
    "        for line in f:\n",
    "            if line == \"\\n\":\n",
    "                pass\n",
    "            else:\n",
    "                i = 0\n",
    "                Date = ''\n",
    "                Ticker = ''\n",
    "                x=''\n",
    "                y=''\n",
    "                Open = ''\n",
    "                High = ''\n",
    "                Low = ''\n",
    "                Close = ''\n",
    "                Volume = ''\n",
    "\n",
    "                while line[i]!='|':\n",
    "                    Date+=line[i]\n",
    "                    i+=1\n",
    "                i+=1\n",
    "\n",
    "                while line[i]!='|':\n",
    "                    Ticker+=line[i]\n",
    "                    i+=1\n",
    "                i+=1\n",
    "\n",
    "                while line[i]!='|':\n",
    "                    x+=line[i]\n",
    "                    i+=1\n",
    "                i+=1\n",
    "\n",
    "                while line[i]!='|':\n",
    "                    y+=line[i]\n",
    "                    i+=1\n",
    "                i+=1\n",
    "\n",
    "                while line[i]!='|':\n",
    "                    Open+=line[i]\n",
    "                    i+=1\n",
    "                i+=1\n",
    "\n",
    "                while line[i]!='|':\n",
    "                    High+=line[i]\n",
    "                    i+=1\n",
    "                i+=1\n",
    "\n",
    "                while line[i]!='|':\n",
    "                    Low+=line[i]\n",
    "                    i+=1\n",
    "                i+=1\n",
    "\n",
    "                while line[i]!='|':\n",
    "                    Close+=line[i]\n",
    "                    i+=1\n",
    "                i+=1\n",
    "\n",
    "                while line[i]!='|':\n",
    "                    Volume+=line[i]\n",
    "                    i+=1\n",
    "                i+=1\n",
    "\n",
    "                writer.writerow([Date, Ticker, x, y, Open, High, Low, Close, Volume])"
   ]
  },
  {
   "cell_type": "code",
   "execution_count": 8,
   "metadata": {},
   "outputs": [],
   "source": [
    "for i in range(len(dateList)):\n",
    "    tryname = 'Input/Temp/' + 'try' + dateList[i]\n",
    "    df = pd.read_csv(tryname, \n",
    "                  names=[\"Date\", \"Ticker\", \"x\", \"y\",\"Open\", \"High\",\"Low\",\"Close\",\"Volume\"]\n",
    "                  ,index_col=False)\n",
    "    df = df.drop(['x', 'y'], axis = 1)\n",
    "\n",
    "    tickers = df['Ticker'].tolist()\n",
    "    names = []\n",
    "    df.drop('Ticker',axis=1,inplace=True)\n",
    "    \n",
    "    for j in range(len(df)-1):\n",
    "        name = str(tickers[j]) + \" PA Equity\"\n",
    "        if name in filtered: #Extracts only shortlisted companies\n",
    "            names.append(name)\n",
    "            df['Open'] = pd.to_numeric(df['Open']) #Change datatype of Open (Initially object type)\n",
    "            df['High'] = pd.to_numeric(df['High']) #Change datatype of High (Initially object type)\n",
    "            df['Low'] = pd.to_numeric(df['Low']) #Change datatype of Low (Initially object type)\n",
    "            df['Close'] = pd.to_numeric(df['Close']) #Change datatype of Close (Initially object type)\n",
    "            df['Volume'] = pd.to_numeric(df['Volume']) #Change datatype of Volume (Initially object type)\n",
    "            df['Date'] = pd.to_datetime(df['Date']) #Change data type to datetime (Iitially object type)\n",
    "            df.iloc[j:j+1].to_csv(path_or_buf = 'Input/Temp/' + name + '_temp.csv', encoding='utf-8',  sep = ',', index = False) #Save dataframe as CSV\n",
    "    \n",
    "    for k in range(len(names)):\n",
    "        rows=[]\n",
    "        name = 'Input/' + names[k] + '.csv'\n",
    "        temp_file = 'Input/Temp/' + names[k] + '_temp.csv'\n",
    "        with open(temp_file, 'r') as file:\n",
    "            reader = csv.reader(file)\n",
    "            for row in reader:\n",
    "                rows.append(row)\n",
    "        inputCompany = name\n",
    "        with open(inputCompany, 'a',newline=\"\") as file:\n",
    "            writer = csv.writer(file)\n",
    "            writer.writerow(rows[-1])"
   ]
  }
 ],
 "metadata": {
  "kernelspec": {
   "display_name": "Python 3",
   "language": "python",
   "name": "python3"
  },
  "language_info": {
   "codemirror_mode": {
    "name": "ipython",
    "version": 3
   },
   "file_extension": ".py",
   "mimetype": "text/x-python",
   "name": "python",
   "nbconvert_exporter": "python",
   "pygments_lexer": "ipython3",
   "version": "3.8.5"
  }
 },
 "nbformat": 4,
 "nbformat_minor": 4
}
