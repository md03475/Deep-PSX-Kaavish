{
 "cells": [
  {
   "cell_type": "code",
   "execution_count": 56,
   "metadata": {
    "id": "eQGTuIXHxeLQ"
   },
   "outputs": [],
   "source": [
    "import pandas as pd\n",
    "import numpy as np\n",
    "import datetime\n",
    "from datetime import date, timedelta\n",
    "import requests\n",
    "import os"
   ]
  },
  {
   "cell_type": "code",
   "execution_count": 57,
   "metadata": {
    "colab": {
     "base_uri": "https://localhost:8080/"
    },
    "id": "k-hxK1ScFi_R",
    "outputId": "82f5b7ee-6696-44c2-fadb-645f5dd5fcca"
   },
   "outputs": [
    {
     "name": "stdout",
     "output_type": "stream",
     "text": [
      "Requirement already satisfied: selenium in /usr/local/lib/python3.6/dist-packages (3.141.0)\n",
      "Requirement already satisfied: urllib3 in /usr/local/lib/python3.6/dist-packages (from selenium) (1.24.3)\n",
      "Hit:1 https://cloud.r-project.org/bin/linux/ubuntu bionic-cran40/ InRelease\n",
      "Ign:2 https://developer.download.nvidia.com/compute/cuda/repos/ubuntu1804/x86_64  InRelease\n",
      "Hit:3 http://security.ubuntu.com/ubuntu bionic-security InRelease\n",
      "Ign:4 https://developer.download.nvidia.com/compute/machine-learning/repos/ubuntu1804/x86_64  InRelease\n",
      "Hit:5 https://developer.download.nvidia.com/compute/cuda/repos/ubuntu1804/x86_64  Release\n",
      "Hit:6 https://developer.download.nvidia.com/compute/machine-learning/repos/ubuntu1804/x86_64  Release\n",
      "Hit:7 http://archive.ubuntu.com/ubuntu bionic InRelease\n",
      "Hit:8 http://ppa.launchpad.net/c2d4u.team/c2d4u4.0+/ubuntu bionic InRelease\n",
      "Hit:9 http://archive.ubuntu.com/ubuntu bionic-updates InRelease\n",
      "Hit:12 http://ppa.launchpad.net/cran/libgit2/ubuntu bionic InRelease\n",
      "Hit:13 http://archive.ubuntu.com/ubuntu bionic-backports InRelease\n",
      "Hit:14 http://ppa.launchpad.net/graphics-drivers/ppa/ubuntu bionic InRelease\n",
      "Reading package lists... Done\n",
      "Reading package lists... Done\n",
      "Building dependency tree       \n",
      "Reading state information... Done\n",
      "chromium-chromedriver is already the newest version (87.0.4280.66-0ubuntu0.18.04.1).\n",
      "0 upgraded, 0 newly installed, 0 to remove and 19 not upgraded.\n",
      "cp: '/usr/lib/chromium-browser/chromedriver' and '/usr/bin/chromedriver' are the same file\n"
     ]
    }
   ],
   "source": [
    "!pip install selenium\n",
    "!apt-get update # to update ubuntu to correctly run apt install\n",
    "!apt install chromium-chromedriver\n",
    "!cp /usr/lib/chromium-browser/chromedriver /usr/bin\n",
    "import sys\n",
    "import urllib.request\n",
    "import time\n",
    "sys.path.insert(0,'/usr/lib/chromium-browser/chromedriver')\n",
    "from selenium import webdriver\n",
    "chrome_options = webdriver.ChromeOptions()\n",
    "chrome_options.add_argument('--headless')\n",
    "chrome_options.add_argument('--no-sandbox')\n",
    "chrome_options.add_argument('--disable-dev-shm-usage')"
   ]
  },
  {
   "cell_type": "code",
   "execution_count": null,
   "metadata": {
    "colab": {
     "base_uri": "https://localhost:8080/"
    },
    "id": "s8HDh3XNFqf5",
    "outputId": "eb78049a-9a68-4248-98fc-00f8d7dd724d"
   },
   "outputs": [],
   "source": [
    "driver = webdriver.Chrome('chromedriver',chrome_options=chrome_options)\n",
    "driver.get(\"https://finance.yahoo.com/quote/USDPKR%3DX/history/\")\n",
    "time.sleep(7)"
   ]
  },
  {
   "cell_type": "code",
   "execution_count": 59,
   "metadata": {
    "id": "EMnU3pM6GWKc"
   },
   "outputs": [],
   "source": [
    "download_link = driver.find_element_by_partial_link_text('Download')\n",
    "download_link.click()"
   ]
  },
  {
   "cell_type": "code",
   "execution_count": 60,
   "metadata": {
    "colab": {
     "base_uri": "https://localhost:8080/",
     "height": 204
    },
    "id": "LZbccXUZx-X1",
    "outputId": "321a4931-ced4-40c0-a9e9-e6440bfd86cd"
   },
   "outputs": [
    {
     "data": {
      "text/html": [
       "<div>\n",
       "<style scoped>\n",
       "    .dataframe tbody tr th:only-of-type {\n",
       "        vertical-align: middle;\n",
       "    }\n",
       "\n",
       "    .dataframe tbody tr th {\n",
       "        vertical-align: top;\n",
       "    }\n",
       "\n",
       "    .dataframe thead th {\n",
       "        text-align: right;\n",
       "    }\n",
       "</style>\n",
       "<table border=\"1\" class=\"dataframe\">\n",
       "  <thead>\n",
       "    <tr style=\"text-align: right;\">\n",
       "      <th></th>\n",
       "      <th>Date</th>\n",
       "      <th>Open</th>\n",
       "      <th>High</th>\n",
       "      <th>Low</th>\n",
       "      <th>Close</th>\n",
       "    </tr>\n",
       "  </thead>\n",
       "  <tbody>\n",
       "    <tr>\n",
       "      <th>0</th>\n",
       "      <td>2020-02-12</td>\n",
       "      <td>152.853</td>\n",
       "      <td>152.959</td>\n",
       "      <td>152.853</td>\n",
       "      <td>154.000</td>\n",
       "    </tr>\n",
       "    <tr>\n",
       "      <th>1</th>\n",
       "      <td>2020-02-13</td>\n",
       "      <td>153.516</td>\n",
       "      <td>154.000</td>\n",
       "      <td>152.910</td>\n",
       "      <td>152.959</td>\n",
       "    </tr>\n",
       "    <tr>\n",
       "      <th>2</th>\n",
       "      <td>2020-02-14</td>\n",
       "      <td>153.191</td>\n",
       "      <td>153.800</td>\n",
       "      <td>152.855</td>\n",
       "      <td>153.750</td>\n",
       "    </tr>\n",
       "    <tr>\n",
       "      <th>3</th>\n",
       "      <td>2020-02-17</td>\n",
       "      <td>152.844</td>\n",
       "      <td>154.000</td>\n",
       "      <td>152.844</td>\n",
       "      <td>153.800</td>\n",
       "    </tr>\n",
       "    <tr>\n",
       "      <th>4</th>\n",
       "      <td>2020-02-18</td>\n",
       "      <td>153.047</td>\n",
       "      <td>154.000</td>\n",
       "      <td>152.892</td>\n",
       "      <td>154.000</td>\n",
       "    </tr>\n",
       "  </tbody>\n",
       "</table>\n",
       "</div>"
      ],
      "text/plain": [
       "         Date     Open     High      Low    Close\n",
       "0  2020-02-12  152.853  152.959  152.853  154.000\n",
       "1  2020-02-13  153.516  154.000  152.910  152.959\n",
       "2  2020-02-14  153.191  153.800  152.855  153.750\n",
       "3  2020-02-17  152.844  154.000  152.844  153.800\n",
       "4  2020-02-18  153.047  154.000  152.892  154.000"
      ]
     },
     "execution_count": 60,
     "metadata": {
      "tags": []
     },
     "output_type": "execute_result"
    }
   ],
   "source": [
    "recent = pd.read_csv('USDPKR=X.csv')\n",
    "recent = recent.drop(\"Adj Close\", axis=1)\n",
    "recent = recent.drop(\"Volume\", axis=1)\n",
    "recent = recent.round(3)\n",
    "recent.head()"
   ]
  },
  {
   "cell_type": "code",
   "execution_count": 61,
   "metadata": {
    "colab": {
     "base_uri": "https://localhost:8080/",
     "height": 204
    },
    "id": "bm0CWDw7HImU",
    "outputId": "bdd084be-51b2-4efd-eea2-ba3bea67f0b1"
   },
   "outputs": [
    {
     "data": {
      "text/html": [
       "<div>\n",
       "<style scoped>\n",
       "    .dataframe tbody tr th:only-of-type {\n",
       "        vertical-align: middle;\n",
       "    }\n",
       "\n",
       "    .dataframe tbody tr th {\n",
       "        vertical-align: top;\n",
       "    }\n",
       "\n",
       "    .dataframe thead th {\n",
       "        text-align: right;\n",
       "    }\n",
       "</style>\n",
       "<table border=\"1\" class=\"dataframe\">\n",
       "  <thead>\n",
       "    <tr style=\"text-align: right;\">\n",
       "      <th></th>\n",
       "      <th>Date</th>\n",
       "      <th>Open</th>\n",
       "      <th>High</th>\n",
       "      <th>Low</th>\n",
       "      <th>Close</th>\n",
       "    </tr>\n",
       "  </thead>\n",
       "  <tbody>\n",
       "    <tr>\n",
       "      <th>258</th>\n",
       "      <td>2021-02-08</td>\n",
       "      <td>158.151</td>\n",
       "      <td>159.80</td>\n",
       "      <td>158.151</td>\n",
       "      <td>159.800</td>\n",
       "    </tr>\n",
       "    <tr>\n",
       "      <th>259</th>\n",
       "      <td>2021-02-09</td>\n",
       "      <td>158.544</td>\n",
       "      <td>159.60</td>\n",
       "      <td>158.544</td>\n",
       "      <td>159.550</td>\n",
       "    </tr>\n",
       "    <tr>\n",
       "      <th>260</th>\n",
       "      <td>2021-02-10</td>\n",
       "      <td>159.500</td>\n",
       "      <td>159.50</td>\n",
       "      <td>158.584</td>\n",
       "      <td>159.550</td>\n",
       "    </tr>\n",
       "    <tr>\n",
       "      <th>261</th>\n",
       "      <td>2021-02-11</td>\n",
       "      <td>158.873</td>\n",
       "      <td>159.10</td>\n",
       "      <td>157.739</td>\n",
       "      <td>159.100</td>\n",
       "    </tr>\n",
       "    <tr>\n",
       "      <th>262</th>\n",
       "      <td>2021-02-12</td>\n",
       "      <td>159.000</td>\n",
       "      <td>159.16</td>\n",
       "      <td>158.531</td>\n",
       "      <td>158.531</td>\n",
       "    </tr>\n",
       "  </tbody>\n",
       "</table>\n",
       "</div>"
      ],
      "text/plain": [
       "           Date     Open    High      Low    Close\n",
       "258  2021-02-08  158.151  159.80  158.151  159.800\n",
       "259  2021-02-09  158.544  159.60  158.544  159.550\n",
       "260  2021-02-10  159.500  159.50  158.584  159.550\n",
       "261  2021-02-11  158.873  159.10  157.739  159.100\n",
       "262  2021-02-12  159.000  159.16  158.531  158.531"
      ]
     },
     "execution_count": 61,
     "metadata": {
      "tags": []
     },
     "output_type": "execute_result"
    }
   ],
   "source": [
    "recent.tail()"
   ]
  },
  {
   "cell_type": "code",
   "execution_count": 62,
   "metadata": {
    "colab": {
     "base_uri": "https://localhost:8080/",
     "height": 204
    },
    "id": "uKRptXM7Gyjb",
    "outputId": "d5a2913d-ac5e-4239-80c6-e50f3f849eec"
   },
   "outputs": [
    {
     "data": {
      "text/html": [
       "<div>\n",
       "<style scoped>\n",
       "    .dataframe tbody tr th:only-of-type {\n",
       "        vertical-align: middle;\n",
       "    }\n",
       "\n",
       "    .dataframe tbody tr th {\n",
       "        vertical-align: top;\n",
       "    }\n",
       "\n",
       "    .dataframe thead th {\n",
       "        text-align: right;\n",
       "    }\n",
       "</style>\n",
       "<table border=\"1\" class=\"dataframe\">\n",
       "  <thead>\n",
       "    <tr style=\"text-align: right;\">\n",
       "      <th></th>\n",
       "      <th>Date</th>\n",
       "      <th>Open</th>\n",
       "      <th>High</th>\n",
       "      <th>Low</th>\n",
       "      <th>Close</th>\n",
       "    </tr>\n",
       "  </thead>\n",
       "  <tbody>\n",
       "    <tr>\n",
       "      <th>0</th>\n",
       "      <td>2-Jan-01</td>\n",
       "      <td>58.4</td>\n",
       "      <td>58.65</td>\n",
       "      <td>58.4</td>\n",
       "      <td>58.65</td>\n",
       "    </tr>\n",
       "    <tr>\n",
       "      <th>1</th>\n",
       "      <td>3-Jan-01</td>\n",
       "      <td>57.8</td>\n",
       "      <td>58.15</td>\n",
       "      <td>57.8</td>\n",
       "      <td>58.15</td>\n",
       "    </tr>\n",
       "    <tr>\n",
       "      <th>2</th>\n",
       "      <td>4-Jan-01</td>\n",
       "      <td>58.7</td>\n",
       "      <td>58.90</td>\n",
       "      <td>58.7</td>\n",
       "      <td>58.90</td>\n",
       "    </tr>\n",
       "    <tr>\n",
       "      <th>3</th>\n",
       "      <td>5-Jan-01</td>\n",
       "      <td>58.9</td>\n",
       "      <td>59.10</td>\n",
       "      <td>58.9</td>\n",
       "      <td>59.10</td>\n",
       "    </tr>\n",
       "    <tr>\n",
       "      <th>4</th>\n",
       "      <td>8-Jan-01</td>\n",
       "      <td>58.9</td>\n",
       "      <td>59.15</td>\n",
       "      <td>58.9</td>\n",
       "      <td>59.15</td>\n",
       "    </tr>\n",
       "  </tbody>\n",
       "</table>\n",
       "</div>"
      ],
      "text/plain": [
       "       Date  Open   High   Low  Close\n",
       "0  2-Jan-01  58.4  58.65  58.4  58.65\n",
       "1  3-Jan-01  57.8  58.15  57.8  58.15\n",
       "2  4-Jan-01  58.7  58.90  58.7  58.90\n",
       "3  5-Jan-01  58.9  59.10  58.9  59.10\n",
       "4  8-Jan-01  58.9  59.15  58.9  59.15"
      ]
     },
     "execution_count": 62,
     "metadata": {
      "tags": []
     },
     "output_type": "execute_result"
    }
   ],
   "source": [
    "updated = pd.read_csv('Output/updated_forex.csv')\n",
    "updated.head()"
   ]
  },
  {
   "cell_type": "code",
   "execution_count": 63,
   "metadata": {
    "colab": {
     "base_uri": "https://localhost:8080/",
     "height": 204
    },
    "id": "xEH2qHRZG_gu",
    "outputId": "267ec0f5-7ba9-4670-efcb-4542d6357d9b"
   },
   "outputs": [
    {
     "data": {
      "text/html": [
       "<div>\n",
       "<style scoped>\n",
       "    .dataframe tbody tr th:only-of-type {\n",
       "        vertical-align: middle;\n",
       "    }\n",
       "\n",
       "    .dataframe tbody tr th {\n",
       "        vertical-align: top;\n",
       "    }\n",
       "\n",
       "    .dataframe thead th {\n",
       "        text-align: right;\n",
       "    }\n",
       "</style>\n",
       "<table border=\"1\" class=\"dataframe\">\n",
       "  <thead>\n",
       "    <tr style=\"text-align: right;\">\n",
       "      <th></th>\n",
       "      <th>Date</th>\n",
       "      <th>Open</th>\n",
       "      <th>High</th>\n",
       "      <th>Low</th>\n",
       "      <th>Close</th>\n",
       "    </tr>\n",
       "  </thead>\n",
       "  <tbody>\n",
       "    <tr>\n",
       "      <th>5784</th>\n",
       "      <td>2021-02-08</td>\n",
       "      <td>158.151</td>\n",
       "      <td>159.80</td>\n",
       "      <td>158.151</td>\n",
       "      <td>159.800</td>\n",
       "    </tr>\n",
       "    <tr>\n",
       "      <th>5785</th>\n",
       "      <td>2021-02-09</td>\n",
       "      <td>158.544</td>\n",
       "      <td>159.60</td>\n",
       "      <td>158.544</td>\n",
       "      <td>159.550</td>\n",
       "    </tr>\n",
       "    <tr>\n",
       "      <th>5786</th>\n",
       "      <td>2021-02-10</td>\n",
       "      <td>159.500</td>\n",
       "      <td>159.50</td>\n",
       "      <td>158.584</td>\n",
       "      <td>159.550</td>\n",
       "    </tr>\n",
       "    <tr>\n",
       "      <th>5787</th>\n",
       "      <td>2021-02-11</td>\n",
       "      <td>158.873</td>\n",
       "      <td>159.10</td>\n",
       "      <td>157.739</td>\n",
       "      <td>159.100</td>\n",
       "    </tr>\n",
       "    <tr>\n",
       "      <th>5788</th>\n",
       "      <td>2021-02-12</td>\n",
       "      <td>159.000</td>\n",
       "      <td>159.16</td>\n",
       "      <td>158.531</td>\n",
       "      <td>158.531</td>\n",
       "    </tr>\n",
       "  </tbody>\n",
       "</table>\n",
       "</div>"
      ],
      "text/plain": [
       "            Date     Open    High      Low    Close\n",
       "5784  2021-02-08  158.151  159.80  158.151  159.800\n",
       "5785  2021-02-09  158.544  159.60  158.544  159.550\n",
       "5786  2021-02-10  159.500  159.50  158.584  159.550\n",
       "5787  2021-02-11  158.873  159.10  157.739  159.100\n",
       "5788  2021-02-12  159.000  159.16  158.531  158.531"
      ]
     },
     "execution_count": 63,
     "metadata": {
      "tags": []
     },
     "output_type": "execute_result"
    }
   ],
   "source": [
    "updated.tail()"
   ]
  },
  {
   "cell_type": "code",
   "execution_count": 64,
   "metadata": {
    "colab": {
     "base_uri": "https://localhost:8080/",
     "height": 419
    },
    "id": "E4aOQrGaHQyD",
    "outputId": "6d67962e-4420-46aa-ab1c-cc34efaff80d"
   },
   "outputs": [
    {
     "data": {
      "text/html": [
       "<div>\n",
       "<style scoped>\n",
       "    .dataframe tbody tr th:only-of-type {\n",
       "        vertical-align: middle;\n",
       "    }\n",
       "\n",
       "    .dataframe tbody tr th {\n",
       "        vertical-align: top;\n",
       "    }\n",
       "\n",
       "    .dataframe thead th {\n",
       "        text-align: right;\n",
       "    }\n",
       "</style>\n",
       "<table border=\"1\" class=\"dataframe\">\n",
       "  <thead>\n",
       "    <tr style=\"text-align: right;\">\n",
       "      <th></th>\n",
       "      <th>Date</th>\n",
       "      <th>Open</th>\n",
       "      <th>High</th>\n",
       "      <th>Low</th>\n",
       "      <th>Close</th>\n",
       "    </tr>\n",
       "  </thead>\n",
       "  <tbody>\n",
       "    <tr>\n",
       "      <th>0</th>\n",
       "      <td>2-Jan-01</td>\n",
       "      <td>58.400</td>\n",
       "      <td>58.65</td>\n",
       "      <td>58.400</td>\n",
       "      <td>58.650</td>\n",
       "    </tr>\n",
       "    <tr>\n",
       "      <th>1</th>\n",
       "      <td>3-Jan-01</td>\n",
       "      <td>57.800</td>\n",
       "      <td>58.15</td>\n",
       "      <td>57.800</td>\n",
       "      <td>58.150</td>\n",
       "    </tr>\n",
       "    <tr>\n",
       "      <th>2</th>\n",
       "      <td>4-Jan-01</td>\n",
       "      <td>58.700</td>\n",
       "      <td>58.90</td>\n",
       "      <td>58.700</td>\n",
       "      <td>58.900</td>\n",
       "    </tr>\n",
       "    <tr>\n",
       "      <th>3</th>\n",
       "      <td>5-Jan-01</td>\n",
       "      <td>58.900</td>\n",
       "      <td>59.10</td>\n",
       "      <td>58.900</td>\n",
       "      <td>59.100</td>\n",
       "    </tr>\n",
       "    <tr>\n",
       "      <th>4</th>\n",
       "      <td>8-Jan-01</td>\n",
       "      <td>58.900</td>\n",
       "      <td>59.15</td>\n",
       "      <td>58.900</td>\n",
       "      <td>59.150</td>\n",
       "    </tr>\n",
       "    <tr>\n",
       "      <th>...</th>\n",
       "      <td>...</td>\n",
       "      <td>...</td>\n",
       "      <td>...</td>\n",
       "      <td>...</td>\n",
       "      <td>...</td>\n",
       "    </tr>\n",
       "    <tr>\n",
       "      <th>5785</th>\n",
       "      <td>2021-02-09</td>\n",
       "      <td>158.544</td>\n",
       "      <td>159.60</td>\n",
       "      <td>158.544</td>\n",
       "      <td>159.550</td>\n",
       "    </tr>\n",
       "    <tr>\n",
       "      <th>5786</th>\n",
       "      <td>2021-02-10</td>\n",
       "      <td>159.500</td>\n",
       "      <td>159.50</td>\n",
       "      <td>158.584</td>\n",
       "      <td>159.550</td>\n",
       "    </tr>\n",
       "    <tr>\n",
       "      <th>5787</th>\n",
       "      <td>2021-02-11</td>\n",
       "      <td>158.873</td>\n",
       "      <td>159.10</td>\n",
       "      <td>157.739</td>\n",
       "      <td>159.100</td>\n",
       "    </tr>\n",
       "    <tr>\n",
       "      <th>5788</th>\n",
       "      <td>2021-02-12</td>\n",
       "      <td>159.000</td>\n",
       "      <td>159.16</td>\n",
       "      <td>158.531</td>\n",
       "      <td>158.531</td>\n",
       "    </tr>\n",
       "    <tr>\n",
       "      <th>5789</th>\n",
       "      <td>2021-02-12</td>\n",
       "      <td>159.000</td>\n",
       "      <td>159.16</td>\n",
       "      <td>158.531</td>\n",
       "      <td>158.531</td>\n",
       "    </tr>\n",
       "  </tbody>\n",
       "</table>\n",
       "<p>5790 rows × 5 columns</p>\n",
       "</div>"
      ],
      "text/plain": [
       "            Date     Open    High      Low    Close\n",
       "0       2-Jan-01   58.400   58.65   58.400   58.650\n",
       "1       3-Jan-01   57.800   58.15   57.800   58.150\n",
       "2       4-Jan-01   58.700   58.90   58.700   58.900\n",
       "3       5-Jan-01   58.900   59.10   58.900   59.100\n",
       "4       8-Jan-01   58.900   59.15   58.900   59.150\n",
       "...          ...      ...     ...      ...      ...\n",
       "5785  2021-02-09  158.544  159.60  158.544  159.550\n",
       "5786  2021-02-10  159.500  159.50  158.584  159.550\n",
       "5787  2021-02-11  158.873  159.10  157.739  159.100\n",
       "5788  2021-02-12  159.000  159.16  158.531  158.531\n",
       "5789  2021-02-12  159.000  159.16  158.531  158.531\n",
       "\n",
       "[5790 rows x 5 columns]"
      ]
     },
     "execution_count": 64,
     "metadata": {
      "tags": []
     },
     "output_type": "execute_result"
    }
   ],
   "source": [
    "updated = updated.append(recent.tail(1),ignore_index=True)"
   ]
  },
  {
   "cell_type": "code",
   "execution_count": 55,
   "metadata": {
    "id": "QHcIZrebIia6"
   },
   "outputs": [],
   "source": [
    "updated.to_csv('Output/updated_forex.csv',index=False)"
   ]
  }
 ],
 "metadata": {
  "colab": {
   "name": "ForexScraper.ipynb",
   "provenance": []
  },
  "kernelspec": {
   "display_name": "Python 3",
   "language": "python",
   "name": "python3"
  },
  "language_info": {
   "codemirror_mode": {
    "name": "ipython",
    "version": 3
   },
   "file_extension": ".py",
   "mimetype": "text/x-python",
   "name": "python",
   "nbconvert_exporter": "python",
   "pygments_lexer": "ipython3",
   "version": "3.8.3"
  }
 },
 "nbformat": 4,
 "nbformat_minor": 1
}
