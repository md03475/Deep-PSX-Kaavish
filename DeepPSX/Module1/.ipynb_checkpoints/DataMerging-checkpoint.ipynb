{
 "cells": [
  {
   "cell_type": "code",
   "execution_count": 3,
   "metadata": {},
   "outputs": [],
   "source": [
    "import pandas as pd\n",
    "import numpy as np\n",
    "import matplotlib.pyplot as plt\n",
    "import seaborn as sns\n",
    "import sklearn\n",
    "import csv\n",
    "import datetime"
   ]
  },
  {
   "cell_type": "code",
   "execution_count": 4,
   "metadata": {},
   "outputs": [],
   "source": [
    "KSE100 = pd.read_csv('Input/KSE100.csv')"
   ]
  },
  {
   "cell_type": "code",
   "execution_count": 3,
   "metadata": {},
   "outputs": [
    {
     "name": "stdout",
     "output_type": "stream",
     "text": [
      "2021-05-15\n",
      "2020-10-09\n"
     ]
    }
   ],
   "source": [
    "startingDate = '2020-10-09'\n",
    "startingDateDT = datetime.datetime.strptime(startingDate, '%Y-%m-%d').date()\n",
    "todayDT = pd.to_datetime(\"today\").date()\n",
    "todayStr = str(todayDT)\n",
    "startingDateStr = str(startingDateDT)\n",
    "\n",
    "print(todayStr)\n",
    "print(startingDateStr)"
   ]
  },
  {
   "cell_type": "code",
   "execution_count": 4,
   "metadata": {},
   "outputs": [],
   "source": [
    "numOfDays = todayDT - startingDateDT\n",
    "currentDate = startingDateDT\n",
    "dateList = []\n",
    "for i in range(numOfDays.days):\n",
    "    filename = 'Input/Temp/' + str(currentDate) + '.csv'\n",
    "    try:\n",
    "        f = open(filename,'r')\n",
    "        dateList.append(str(currentDate) + '.csv')\n",
    "    except IOError:\n",
    "        pass\n",
    "    currentDate += datetime.timedelta(days=1)"
   ]
  },
  {
   "cell_type": "code",
   "execution_count": 5,
   "metadata": {},
   "outputs": [],
   "source": [
    "filtered = KSE100['Ticker'].tolist() #Filtered companies stored in a list"
   ]
  },
  {
   "cell_type": "code",
   "execution_count": 6,
   "metadata": {},
   "outputs": [
    {
     "name": "stdout",
     "output_type": "stream",
     "text": [
      "['HBL PA Equity', 'UBL PA Equity', 'HUBC PA Equity', 'MCB PA Equity', 'OGDC PA Equity', 'LUCK PA Equity', 'ENGRO PA Equity', 'PPL PA Equity', 'FFC PA Equity', 'PSO PA Equity', 'DAWH PA Equity', 'DGKC PA Equity', 'POL PA Equity', 'EFERT PA Equity', 'KAPCO PA Equity', 'NBP PA Equity', 'NESTLE PA Equity', 'SEARL PA Equity', 'BAHL PA Equity', 'FCCL PA Equity', 'MLCF PA Equity', 'KEL PA Equity', 'PSEL PA Equity', 'PIBTL PA Equity', 'PKGS PA Equity', 'NML PA Equity', 'BAFL PA Equity', 'MARI PA Equity', 'PAEL PA Equity', 'FFBL PA Equity', 'KTML PA Equity', 'ABOT PA Equity', 'ABL PA Equity', 'TRG PA Equity', 'EFUG PA Equity', 'FCEPL PA Equity', 'INDU PA Equity', 'NRL PA Equity', 'MUREB PA Equity', 'FATIMA PA Equity', 'HCAR PA Equity', 'NATF PA Equity', 'HASCOL PA Equity', 'PIOC PA Equity', 'HMB PA Equity', 'PAKT PA Equity', 'JDWS PA Equity', 'CHCC PA Equity', 'KOHC PA Equity', 'AICL PA Equity', 'MTL PA Equity', 'GLAXO PA Equity', 'THALL PA Equity', 'ATRL PA Equity', 'PSMC PA Equity', 'APL PA Equity', 'FEROZ PA Equity', 'NCPL PA Equity', 'PTC PA Equity', 'SNGP PA Equity', 'ISL PA Equity', 'NPL PA Equity', 'SSGC PA Equity', 'IGIHL PA Equity', 'JLICL PA Equity', 'ICI PA Equity', 'SHEL PA Equity', 'COLG PA Equity', 'CPPL PA Equity', 'AKBL PA Equity', 'SHFA PA Equity', 'BATA PA Equity', 'GHGL PA Equity', 'HGFA PA Equity', 'SPWL PA Equity', 'FABL PA Equity', 'SRVI PA Equity', 'AHCL PA Equity', 'DCR PA Equity', 'BOP PA Equity', 'PICT PA Equity', 'JSCL PA Equity', 'NCL PA Equity', 'MEBL PA Equity', 'HUMNL PA Equity', 'SNBL PA Equity', 'FML PA Equity', 'SCBPL PA Equity', 'JGICL PA Equity', 'RMPL PA Equity', 'LPL PA Equity', 'PKGP PA Equity', 'EFUL PA Equity', 'OLPL PA Equity', 'IDYM PA Equity', 'ARM PA Equity', 'IBFL PA Equity', 'PUNO PA Equity', 'BNWM PA Equity', 'ASRL PA Equity']\n"
     ]
    }
   ],
   "source": [
    "print(filtered)"
   ]
  },
  {
   "cell_type": "code",
   "execution_count": 8,
   "metadata": {},
   "outputs": [],
   "source": [
    "for i in range(len(dateList)):\n",
    "    f = open('Input/Temp/' + dateList[i],'r')\n",
    "    tryname = 'Input/Temp/'+ 'try' + dateList[i]\n",
    "    with open(tryname, 'w', newline='') as file:\n",
    "        writer = csv.writer(file)\n",
    "        for line in f:\n",
    "            if line == \"\\n\":\n",
    "                pass\n",
    "            else:\n",
    "                i = 0\n",
    "                Date = ''\n",
    "                Ticker = ''\n",
    "                x=''\n",
    "                y=''\n",
    "                Open = ''\n",
    "                High = ''\n",
    "                Low = ''\n",
    "                Close = ''\n",
    "                Volume = ''\n",
    "\n",
    "                while line[i]!='|':\n",
    "                    Date+=line[i]\n",
    "                    i+=1\n",
    "                i+=1\n",
    "\n",
    "                while line[i]!='|':\n",
    "                    Ticker+=line[i]\n",
    "                    i+=1\n",
    "                i+=1\n",
    "\n",
    "                while line[i]!='|':\n",
    "                    x+=line[i]\n",
    "                    i+=1\n",
    "                i+=1\n",
    "\n",
    "                while line[i]!='|':\n",
    "                    y+=line[i]\n",
    "                    i+=1\n",
    "                i+=1\n",
    "\n",
    "                while line[i]!='|':\n",
    "                    Open+=line[i]\n",
    "                    i+=1\n",
    "                i+=1\n",
    "\n",
    "                while line[i]!='|':\n",
    "                    High+=line[i]\n",
    "                    i+=1\n",
    "                i+=1\n",
    "\n",
    "                while line[i]!='|':\n",
    "                    Low+=line[i]\n",
    "                    i+=1\n",
    "                i+=1\n",
    "\n",
    "                while line[i]!='|':\n",
    "                    Close+=line[i]\n",
    "                    i+=1\n",
    "                i+=1\n",
    "\n",
    "                while line[i]!='|':\n",
    "                    Volume+=line[i]\n",
    "                    i+=1\n",
    "                i+=1\n",
    "\n",
    "                writer.writerow([Date, Ticker, x, y, Open, High, Low, Close, Volume])"
   ]
  },
  {
   "cell_type": "code",
   "execution_count": 9,
   "metadata": {},
   "outputs": [],
   "source": [
    "for i in range(len(dateList)):\n",
    "    tryname = 'Input/Temp/' + 'try' + dateList[i]\n",
    "    df = pd.read_csv(tryname, \n",
    "                  names=[\"Date\", \"Ticker\", \"x\", \"y\",\"Open\", \"High\",\"Low\",\"Close\",\"Volume\"]\n",
    "                  ,index_col=False)\n",
    "    df = df.drop(['x', 'y'], axis = 1)\n",
    "\n",
    "    tickers = df['Ticker'].tolist()\n",
    "    names = []\n",
    "    df.drop('Ticker',axis=1,inplace=True)\n",
    "    \n",
    "    for j in range(len(df)-1):\n",
    "        name = str(tickers[j]) + \" PA Equity\"\n",
    "        if name in filtered: #Extracts only shortlisted companies\n",
    "            names.append(name)\n",
    "            df['Open'] = pd.to_numeric(df['Open']) #Change datatype of Open (Initially object type)\n",
    "            df['High'] = pd.to_numeric(df['High']) #Change datatype of High (Initially object type)\n",
    "            df['Low'] = pd.to_numeric(df['Low']) #Change datatype of Low (Initially object type)\n",
    "            df['Close'] = pd.to_numeric(df['Close']) #Change datatype of Close (Initially object type)\n",
    "            df['Volume'] = pd.to_numeric(df['Volume']) #Change datatype of Volume (Initially object type)\n",
    "            df['Date'] = pd.to_datetime(df['Date']) #Change data type to datetime (Iitially object type)\n",
    "            df.iloc[j:j+1].to_csv(path_or_buf = 'Input/Temp/' + name + '_temp.csv', encoding='utf-8',  sep = ',', index = False) #Save dataframe as CSV\n",
    "    \n",
    "    for k in range(len(names)):\n",
    "        rows=[]\n",
    "        name = 'Input/' + names[k] + '.csv'\n",
    "        temp_file = 'Input/Temp/' + names[k] + '_temp.csv'\n",
    "        with open(temp_file, 'r') as file:\n",
    "            reader = csv.reader(file)\n",
    "            for row in reader:\n",
    "                rows.append(row)\n",
    "        inputCompany = name\n",
    "        with open(inputCompany, 'a',newline=\"\") as file:\n",
    "            writer = csv.writer(file)\n",
    "            writer.writerow(rows[-1])"
   ]
  },
  {
   "cell_type": "code",
   "execution_count": 8,
   "metadata": {},
   "outputs": [],
   "source": [
    "for i in range(len(filtered)):  \n",
    "    name = 'Input/' + filtered[i] + '.csv'\n",
    "    df = pd.read_csv(name)\n",
    "    temp = df['Date'][1:]\n",
    "    df = df.drop(['Date'], axis = 1)\n",
    "    df = df.diff()\n",
    "    df = df.iloc[1:]\n",
    "    df['Date'] = temp\n",
    "    df.to_csv(path_or_buf = 'Input/Difference/' + filtered[i] + '.csv', index = False) #Save dataframe as CSV"
   ]
  }
 ],
 "metadata": {
  "kernelspec": {
   "display_name": "Python 3",
   "language": "python",
   "name": "python3"
  },
  "language_info": {
   "codemirror_mode": {
    "name": "ipython",
    "version": 3
   },
   "file_extension": ".py",
   "mimetype": "text/x-python",
   "name": "python",
   "nbconvert_exporter": "python",
   "pygments_lexer": "ipython3",
   "version": "3.7.10"
  }
 },
 "nbformat": 4,
 "nbformat_minor": 4
}
