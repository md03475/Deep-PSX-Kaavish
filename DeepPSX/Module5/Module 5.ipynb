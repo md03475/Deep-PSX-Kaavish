{
 "cells": [
  {
   "cell_type": "code",
   "execution_count": 1,
   "metadata": {},
   "outputs": [
    {
     "name": "stdout",
     "output_type": "stream",
     "text": [
      "Requirement already satisfied: pandas in d:\\anaconda\\lib\\site-packages (1.0.5)\n",
      "Requirement already satisfied: numpy>=1.13.3 in d:\\anaconda\\lib\\site-packages (from pandas) (1.19.5)\n",
      "Requirement already satisfied: python-dateutil>=2.6.1 in d:\\anaconda\\lib\\site-packages (from pandas) (2.8.1)\n",
      "Requirement already satisfied: pytz>=2017.2 in d:\\anaconda\\lib\\site-packages (from pandas) (2020.1)\n",
      "Requirement already satisfied: six>=1.5 in c:\\users\\aun electronic\\appdata\\roaming\\python\\python38\\site-packages (from python-dateutil>=2.6.1->pandas) (1.15.0)\n"
     ]
    }
   ],
   "source": [
    "!pip install pandas\n",
    "import pandas as pd\n",
    "import numpy as np"
   ]
  },
  {
   "cell_type": "code",
   "execution_count": 3,
   "metadata": {},
   "outputs": [
    {
     "name": "stdout",
     "output_type": "stream",
     "text": [
      "NBP PA Equity\n",
      "NESTLE PA Equity\n",
      "MLCF PA Equity\n",
      "PSEL PA Equity\n",
      "MARI PA Equity\n",
      "PAEL PA Equity\n",
      "TRG PA Equity\n",
      "FCEPL PA Equity\n",
      "FATIMA PA Equity\n",
      "HMB PA Equity\n",
      "PAKT PA Equity\n",
      "JDWS PA Equity\n",
      "AICL PA Equity\n",
      "MTL PA Equity\n",
      "FEROZ PA Equity\n",
      "SNGP PA Equity\n",
      "SSGC PA Equity\n",
      "IGIHL PA Equity\n",
      "JLICL PA Equity\n",
      "SHEL PA Equity\n",
      "COLG PA Equity\n",
      "CPPL PA Equity\n",
      "SHFA PA Equity\n",
      "BATA PA Equity\n",
      "HGFA PA Equity\n",
      "SRVI PA Equity\n",
      "JSCL PA Equity\n",
      "HUMNL PA Equity\n",
      "FML PA Equity\n",
      "JGICL PA Equity\n",
      "RMPL PA Equity\n",
      "EFUL PA Equity\n",
      "IDYM PA Equity\n",
      "IBFL PA Equity\n",
      "BNWM PA Equity\n",
      "ASRL PA Equity\n"
     ]
    }
   ],
   "source": [
    "KSE100 = pd.read_csv('Input/KSE100.csv')\n",
    "filtered = KSE100['Ticker'].tolist()\n",
    "l=np.nan\n",
    "\n",
    "def sorting(filtered):\n",
    "    for i in range(len(filtered)):\n",
    "        name = filtered[i]\n",
    "        df_final = pd.DataFrame(columns=['Date','Predicted Price','Original Price','21 SMA',\n",
    "                                         'RSI','Upper BBand','Middle BBand','Lower BBand','MACD','MACD Signal',\n",
    "                                         'Score','Signal','Open','High','Low','Close','Volume'])\n",
    "        df = pd.read_csv('Input/'+name+'.csv')\n",
    "        for i in range(len(df)):\n",
    "            new_row = {}\n",
    "            for loop in df_final.columns:\n",
    "                new_row[loop] = l\n",
    "            df_final = df_final.append(new_row, ignore_index=True)\n",
    "        for i in range(len(df)):\n",
    "            df_final['Date'][i] = df['Date'][i]\n",
    "            df_final['Predicted Price'][i] = df['Predicted Price'][i]\n",
    "            df_final['Original Price'][i] = df['Close'][i]\n",
    "            df_final['21 SMA'][i] = df['21 SMA'][i]\n",
    "            df_final['RSI'][i] = df['RSI'][i]\n",
    "            df_final['Upper BBand'][i] = df['Upper BBand'][i]\n",
    "            df_final['Middle BBand'][i] = df['Middle BBand'][i]\n",
    "            df_final['Lower BBand'][i] = df['Lower BBand'][i]\n",
    "            df_final['MACD'][i] = df['MACD'][i]\n",
    "            df_final['MACD Signal'][i] = df['MACD Signal'][i]\n",
    "            df_final['Score'][i] = df['Score'][i]\n",
    "            df_final['Signal'][i] = df['Pred'][i]\n",
    "            df_final['Open'][i] = df['Open'][i]\n",
    "            df_final['High'][i] = df['High'][i]\n",
    "            df_final['Low'][i] = df['Low'][i]\n",
    "            df_final['Close'][i] = df['Close'][i]\n",
    "            df_final['Volume'][i] = df['Volume'][i]\n",
    "            \n",
    "        df_final['Signal'] = df_final['Signal'].astype(float)  \n",
    "        \n",
    "        if df_final['Signal'].iloc[-1] == 0:\n",
    "            for i in range(2, len(df_final)):\n",
    "                if df_final['Signal'].iloc[-i] != 0:\n",
    "                    print(name)\n",
    "                    if df_final['Signal'].iloc[-i] == 1.0:\n",
    "                        df_final['Signal'].iloc[-1] = 0.5\n",
    "                    elif df_final['Signal'].iloc[-i] == -1.0:\n",
    "                        df_final['Signal'].iloc[-1] = -0.5\n",
    "                    break\n",
    "        \n",
    "        df1 = pd.read_csv('Input/14 Day/'+ name + '.csv')\n",
    "        data = df1['Close'].tolist()\n",
    "        for j in range(14):  \n",
    "            new_row = {}\n",
    "            for loop in df_final.columns:\n",
    "                if loop == 'Predicted Price':\n",
    "                    new_row[loop] = data[j]\n",
    "                else:\n",
    "                    new_row[loop] = l\n",
    "            df_final = df_final.append(new_row, ignore_index=True)\n",
    "        \n",
    "        df_final.to_csv('Output/' + name + '.csv', index = False)\n",
    "    \n",
    "sorting(filtered)"
   ]
  }
 ],
 "metadata": {
  "kernelspec": {
   "display_name": "Python 3",
   "language": "python",
   "name": "python3"
  },
  "language_info": {
   "codemirror_mode": {
    "name": "ipython",
    "version": 3
   },
   "file_extension": ".py",
   "mimetype": "text/x-python",
   "name": "python",
   "nbconvert_exporter": "python",
   "pygments_lexer": "ipython3",
   "version": "3.8.3"
  }
 },
 "nbformat": 4,
 "nbformat_minor": 5
}
