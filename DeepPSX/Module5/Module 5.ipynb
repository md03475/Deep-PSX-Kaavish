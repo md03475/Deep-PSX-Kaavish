{
 "cells": [
  {
   "cell_type": "code",
   "execution_count": 10,
   "metadata": {},
   "outputs": [
    {
     "name": "stdout",
     "output_type": "stream",
     "text": [
      "Requirement already satisfied: pandas in c:\\users\\legion\\anaconda3\\envs\\m1 pipeline\\lib\\site-packages (1.2.4)\n",
      "Requirement already satisfied: pytz>=2017.3 in c:\\users\\legion\\anaconda3\\envs\\m1 pipeline\\lib\\site-packages (from pandas) (2021.1)\n",
      "Requirement already satisfied: python-dateutil>=2.7.3 in c:\\users\\legion\\anaconda3\\envs\\m1 pipeline\\lib\\site-packages (from pandas) (2.8.1)\n",
      "Requirement already satisfied: numpy>=1.16.5 in c:\\users\\legion\\anaconda3\\envs\\m1 pipeline\\lib\\site-packages (from pandas) (1.19.2)\n",
      "Requirement already satisfied: six>=1.5 in c:\\users\\legion\\anaconda3\\envs\\m1 pipeline\\lib\\site-packages (from python-dateutil>=2.7.3->pandas) (1.15.0)\n"
     ]
    }
   ],
   "source": [
    "!pip install pandas\n",
    "import pandas as pd\n",
    "import numpy as np"
   ]
  },
  {
   "cell_type": "code",
   "execution_count": 36,
   "metadata": {},
   "outputs": [],
   "source": [
    "KSE100 = pd.read_csv('Input/KSE100.csv')\n",
    "filtered = KSE100['Ticker'].tolist()\n",
    "l=np.nan\n",
    "\n",
    "def predictions_100(filtered):\n",
    "    \n",
    "    for i in range(len(filtered)):\n",
    "        name = filtered[i]\n",
    "        df = pd.read_csv('Input/'+ name + '.csv')\n",
    "        df1 = pd.read_csv('Input/14 Day/'+ name + '.csv')\n",
    "        data = df1['Close'].tolist()\n",
    "        for j in range(14):  \n",
    "            new_row = {}\n",
    "            for loop in df.columns:\n",
    "                if loop == 'Predicted Price':\n",
    "                    new_row[loop] = data[j]\n",
    "                else:\n",
    "                    new_row[loop] = l\n",
    "            df = df.append(new_row, ignore_index=True)\n",
    "        df.to_csv('Output/' + name + '.csv')\n",
    "        \n",
    "predictions_100(filtered)"
   ]
  }
 ],
 "metadata": {
  "kernelspec": {
   "display_name": "Python 3",
   "language": "python",
   "name": "python3"
  },
  "language_info": {
   "codemirror_mode": {
    "name": "ipython",
    "version": 3
   },
   "file_extension": ".py",
   "mimetype": "text/x-python",
   "name": "python",
   "nbconvert_exporter": "python",
   "pygments_lexer": "ipython3",
   "version": "3.8.3"
  }
 },
 "nbformat": 4,
 "nbformat_minor": 5
}
