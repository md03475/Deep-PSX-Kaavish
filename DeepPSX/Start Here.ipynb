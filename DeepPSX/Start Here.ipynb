{
 "cells": [
  {
   "cell_type": "markdown",
   "metadata": {},
   "source": [
    "# Welcome to the DeepPSX\n",
    "\n",
    "Please select the appropriate module below.\n",
    "\n",
    "* [Module 1](https://github.com/md03475/Deep-PSX-Kaavish/blob/main/DeepPSX/Module1/Prediction%20using%20Deep%20Learning.ipynb) - Analysis and Prediction.\n",
    "* [Module 2](https://github.com/md03475/Deep-PSX-Kaavish/blob/main/DeepPSX/Module2/Module%202%20Final.ipynb) - Data Cleaning and Sentiment Analysis.\n",
    "* [Module 3](https://github.com/md03475/Deep-PSX-Kaavish/blob/main/DeepPSX/Module3/Module%203%20Final.ipynb) - Hybrid Model. \n",
    "* [Module 4](https://github.com/md03475/Deep-PSX-Kaavish/blob/main/DeepPSX/Module4/Module4Final.ipynb) - Simulaton.\n",
    "* [Module 5](module5/StartHere.ipynb) - Dashboard.\n"
   ]
  }
 ],
 "metadata": {
  "kernelspec": {
   "display_name": "Python 3",
   "language": "python",
   "name": "python3"
  },
  "language_info": {
   "codemirror_mode": {
    "name": "ipython",
    "version": 3
   },
   "file_extension": ".py",
   "mimetype": "text/x-python",
   "name": "python",
   "nbconvert_exporter": "python",
   "pygments_lexer": "ipython3",
   "version": "3.8.3"
  }
 },
 "nbformat": 4,
 "nbformat_minor": 2
}
