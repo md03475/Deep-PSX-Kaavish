{
 "cells": [
  {
   "cell_type": "markdown",
   "metadata": {},
   "source": [
    "# DeepPSX: Prediction and Simulation of PSX using Deep Learning, Sentimental and Technical Analysis\n",
    "\n"
   ]
  },
  {
   "cell_type": "markdown",
   "metadata": {},
   "source": [
    "## Please select the appropriate module below"
   ]
  },
  {
   "cell_type": "markdown",
   "metadata": {},
   "source": [
    "\n",
    "* [Module 1](https://github.com/md03475/Deep-PSX-Kaavish/blob/main/DeepPSX/Module1/Start%20Here.ipynb) - Stock price prediction based on historical data in time series format using modern recurrent neural networks.\n",
    "* [Module 2](https://github.com/md03475/Deep-PSX-Kaavish/blob/main/DeepPSX/Module2/Start%20Here.ipynb) - Polarity prediction of news/announcements (good/bad) using sentiment analysis and natural language processing.\n",
    "* [Module 3](https://github.com/md03475/Deep-PSX-Kaavish/blob/main/DeepPSX/Module3/Signal%20Generator.ipynb) - Generation of buy/sell signals on daily basis using data from first two modules and technical indicators along with simulation and reporting.\n",
    "* [Module 4](https://github.com/md03475/Deep-PSX-Kaavish/blob/main/DeepPSX/Module4/Simulation.ipynb) - Trading Simulator is back-testing framework on our proposed hybrid solution.\n",
    "* [Module 5](https://deeppsx.netlify.app/) - Displaying results on a dashboard.\n",
    "\n",
    "\n",
    "\n",
    "\n",
    "\n"
   ]
  }
 ],
 "metadata": {
  "kernelspec": {
   "display_name": "Python 3",
   "language": "python",
   "name": "python3"
  },
  "language_info": {
   "codemirror_mode": {
    "name": "ipython",
    "version": 3
   },
   "file_extension": ".py",
   "mimetype": "text/x-python",
   "name": "python",
   "nbconvert_exporter": "python",
   "pygments_lexer": "ipython3",
   "version": "3.8.3"
  }
 },
 "nbformat": 4,
 "nbformat_minor": 2
}
