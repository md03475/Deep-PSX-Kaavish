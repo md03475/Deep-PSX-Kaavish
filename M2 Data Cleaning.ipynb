{
 "cells": [
  {
   "cell_type": "markdown",
   "metadata": {},
   "source": [
    "# Data Preprocessing"
   ]
  },
  {
   "cell_type": "markdown",
   "metadata": {},
   "source": [
    "### Import relevant libraries"
   ]
  },
  {
   "cell_type": "code",
   "execution_count": 215,
   "metadata": {},
   "outputs": [],
   "source": [
    "import pandas as pd\n",
    "import datetime"
   ]
  },
  {
   "cell_type": "markdown",
   "metadata": {},
   "source": [
    "### Import and build news data"
   ]
  },
  {
   "cell_type": "code",
   "execution_count": 216,
   "metadata": {},
   "outputs": [],
   "source": [
    "news_data = pd.read_csv('Dawn_News.txt', names = ['Date', 'News'], index_col = 0) #Original raw data file"
   ]
  },
  {
   "cell_type": "code",
   "execution_count": 217,
   "metadata": {},
   "outputs": [],
   "source": [
    "news_data['Polarity'] = [0 for i in range(len(news_data))] #Initialize polarities to zero"
   ]
  },
  {
   "cell_type": "code",
   "execution_count": 218,
   "metadata": {},
   "outputs": [
    {
     "data": {
      "text/html": [
       "<div>\n",
       "<style scoped>\n",
       "    .dataframe tbody tr th:only-of-type {\n",
       "        vertical-align: middle;\n",
       "    }\n",
       "\n",
       "    .dataframe tbody tr th {\n",
       "        vertical-align: top;\n",
       "    }\n",
       "\n",
       "    .dataframe thead th {\n",
       "        text-align: right;\n",
       "    }\n",
       "</style>\n",
       "<table border=\"1\" class=\"dataframe\">\n",
       "  <thead>\n",
       "    <tr style=\"text-align: right;\">\n",
       "      <th></th>\n",
       "      <th>Date</th>\n",
       "      <th>News</th>\n",
       "      <th>Polarity</th>\n",
       "    </tr>\n",
       "  </thead>\n",
       "  <tbody>\n",
       "    <tr>\n",
       "      <th>0</th>\n",
       "      <td>2011-04-01</td>\n",
       "      <td>Judgment on judges` extension case suspended</td>\n",
       "      <td>0</td>\n",
       "    </tr>\n",
       "    <tr>\n",
       "      <th>1</th>\n",
       "      <td>2011-04-01</td>\n",
       "      <td>Gilani hints at giving subsidy on oil prices</td>\n",
       "      <td>0</td>\n",
       "    </tr>\n",
       "    <tr>\n",
       "      <th>2</th>\n",
       "      <td>2011-04-01</td>\n",
       "      <td>Agencies averse to aerial survey by foreigners</td>\n",
       "      <td>0</td>\n",
       "    </tr>\n",
       "    <tr>\n",
       "      <th>3</th>\n",
       "      <td>2011-04-01</td>\n",
       "      <td>SC gives PPP leaders time to file reply in con...</td>\n",
       "      <td>0</td>\n",
       "    </tr>\n",
       "    <tr>\n",
       "      <th>4</th>\n",
       "      <td>2011-04-01</td>\n",
       "      <td>Quake measuring 5.2 rattles Islamabad, Mansehra</td>\n",
       "      <td>0</td>\n",
       "    </tr>\n",
       "  </tbody>\n",
       "</table>\n",
       "</div>"
      ],
      "text/plain": [
       "         Date                                               News  Polarity\n",
       "0  2011-04-01       Judgment on judges` extension case suspended         0\n",
       "1  2011-04-01       Gilani hints at giving subsidy on oil prices         0\n",
       "2  2011-04-01     Agencies averse to aerial survey by foreigners         0\n",
       "3  2011-04-01  SC gives PPP leaders time to file reply in con...         0\n",
       "4  2011-04-01    Quake measuring 5.2 rattles Islamabad, Mansehra         0"
      ]
     },
     "execution_count": 218,
     "metadata": {},
     "output_type": "execute_result"
    }
   ],
   "source": [
    "news_data.head()"
   ]
  },
  {
   "cell_type": "code",
   "execution_count": 219,
   "metadata": {},
   "outputs": [
    {
     "name": "stdout",
     "output_type": "stream",
     "text": [
      "<class 'pandas.core.frame.DataFrame'>\n",
      "Int64Index: 28603 entries, 0 to 28602\n",
      "Data columns (total 3 columns):\n",
      " #   Column    Non-Null Count  Dtype \n",
      "---  ------    --------------  ----- \n",
      " 0   Date      28603 non-null  object\n",
      " 1   News      28601 non-null  object\n",
      " 2   Polarity  28603 non-null  int64 \n",
      "dtypes: int64(1), object(2)\n",
      "memory usage: 893.8+ KB\n"
     ]
    }
   ],
   "source": [
    "news_data.info()"
   ]
  },
  {
   "cell_type": "code",
   "execution_count": 220,
   "metadata": {},
   "outputs": [
    {
     "data": {
      "text/plain": [
       "0             Judgment on judges` extension case suspended\n",
       "1             Gilani hints at giving subsidy on oil prices\n",
       "2           Agencies averse to aerial survey by foreigners\n",
       "3        SC gives PPP leaders time to file reply in con...\n",
       "4          Quake measuring 5.2 rattles Islamabad, Mansehra\n",
       "                               ...                        \n",
       "28598        Pakistan to stop manual visas from next month\n",
       "28599                  Pakistan, Kuwait vow to expand ties\n",
       "28600                    ‘Digital Pakistan coming to life’\n",
       "28601    Pakistan grab late wickets to take command aga...\n",
       "28602    Pakistan women take on SA in T20 series commen...\n",
       "Name: News, Length: 28603, dtype: object"
      ]
     },
     "execution_count": 220,
     "metadata": {},
     "output_type": "execute_result"
    }
   ],
   "source": [
    "news_data['Date'] = pd.to_datetime(news_data['Date']) #Convert to datetime\n",
    "news_data['Date'] = news_data[\"Date\"].dt.strftime(\"%d %m %Y\") #Format date\n",
    "news_data['News'].map(str) #Convert news to string"
   ]
  },
  {
   "cell_type": "code",
   "execution_count": 221,
   "metadata": {},
   "outputs": [
    {
     "data": {
      "text/html": [
       "<div>\n",
       "<style scoped>\n",
       "    .dataframe tbody tr th:only-of-type {\n",
       "        vertical-align: middle;\n",
       "    }\n",
       "\n",
       "    .dataframe tbody tr th {\n",
       "        vertical-align: top;\n",
       "    }\n",
       "\n",
       "    .dataframe thead th {\n",
       "        text-align: right;\n",
       "    }\n",
       "</style>\n",
       "<table border=\"1\" class=\"dataframe\">\n",
       "  <thead>\n",
       "    <tr style=\"text-align: right;\">\n",
       "      <th></th>\n",
       "      <th>Date</th>\n",
       "      <th>News</th>\n",
       "      <th>Polarity</th>\n",
       "    </tr>\n",
       "  </thead>\n",
       "  <tbody>\n",
       "    <tr>\n",
       "      <th>28598</th>\n",
       "      <td>28 01 2021</td>\n",
       "      <td>Pakistan to stop manual visas from next month</td>\n",
       "      <td>0</td>\n",
       "    </tr>\n",
       "    <tr>\n",
       "      <th>28599</th>\n",
       "      <td>28 01 2021</td>\n",
       "      <td>Pakistan, Kuwait vow to expand ties</td>\n",
       "      <td>0</td>\n",
       "    </tr>\n",
       "    <tr>\n",
       "      <th>28600</th>\n",
       "      <td>28 01 2021</td>\n",
       "      <td>‘Digital Pakistan coming to life’</td>\n",
       "      <td>0</td>\n",
       "    </tr>\n",
       "    <tr>\n",
       "      <th>28601</th>\n",
       "      <td>28 01 2021</td>\n",
       "      <td>Pakistan grab late wickets to take command aga...</td>\n",
       "      <td>0</td>\n",
       "    </tr>\n",
       "    <tr>\n",
       "      <th>28602</th>\n",
       "      <td>28 01 2021</td>\n",
       "      <td>Pakistan women take on SA in T20 series commen...</td>\n",
       "      <td>0</td>\n",
       "    </tr>\n",
       "  </tbody>\n",
       "</table>\n",
       "</div>"
      ],
      "text/plain": [
       "             Date                                               News  Polarity\n",
       "28598  28 01 2021      Pakistan to stop manual visas from next month         0\n",
       "28599  28 01 2021                Pakistan, Kuwait vow to expand ties         0\n",
       "28600  28 01 2021                  ‘Digital Pakistan coming to life’         0\n",
       "28601  28 01 2021  Pakistan grab late wickets to take command aga...         0\n",
       "28602  28 01 2021  Pakistan women take on SA in T20 series commen...         0"
      ]
     },
     "execution_count": 221,
     "metadata": {},
     "output_type": "execute_result"
    }
   ],
   "source": [
    "news_data.tail()"
   ]
  },
  {
   "cell_type": "markdown",
   "metadata": {},
   "source": [
    "### Import and stock prices as daily difference"
   ]
  },
  {
   "cell_type": "code",
   "execution_count": 250,
   "metadata": {},
   "outputs": [],
   "source": [
    "diff = pd.read_csv('Companies diff\\ABL PA Equity.csv')"
   ]
  },
  {
   "cell_type": "code",
   "execution_count": 251,
   "metadata": {},
   "outputs": [
    {
     "data": {
      "text/html": [
       "<div>\n",
       "<style scoped>\n",
       "    .dataframe tbody tr th:only-of-type {\n",
       "        vertical-align: middle;\n",
       "    }\n",
       "\n",
       "    .dataframe tbody tr th {\n",
       "        vertical-align: top;\n",
       "    }\n",
       "\n",
       "    .dataframe thead th {\n",
       "        text-align: right;\n",
       "    }\n",
       "</style>\n",
       "<table border=\"1\" class=\"dataframe\">\n",
       "  <thead>\n",
       "    <tr style=\"text-align: right;\">\n",
       "      <th></th>\n",
       "      <th>Open</th>\n",
       "      <th>High</th>\n",
       "      <th>Low</th>\n",
       "      <th>Close</th>\n",
       "      <th>Volume</th>\n",
       "    </tr>\n",
       "  </thead>\n",
       "  <tbody>\n",
       "    <tr>\n",
       "      <th>count</th>\n",
       "      <td>3951.000000</td>\n",
       "      <td>3951.000000</td>\n",
       "      <td>3951.000000</td>\n",
       "      <td>3951.000000</td>\n",
       "      <td>3.951000e+03</td>\n",
       "    </tr>\n",
       "    <tr>\n",
       "      <th>mean</th>\n",
       "      <td>0.020610</td>\n",
       "      <td>0.020730</td>\n",
       "      <td>0.019534</td>\n",
       "      <td>0.020362</td>\n",
       "      <td>1.030979e+01</td>\n",
       "    </tr>\n",
       "    <tr>\n",
       "      <th>std</th>\n",
       "      <td>1.031389</td>\n",
       "      <td>0.972631</td>\n",
       "      <td>0.901209</td>\n",
       "      <td>0.861705</td>\n",
       "      <td>1.192969e+06</td>\n",
       "    </tr>\n",
       "    <tr>\n",
       "      <th>min</th>\n",
       "      <td>-10.434400</td>\n",
       "      <td>-7.801300</td>\n",
       "      <td>-6.190000</td>\n",
       "      <td>-5.945200</td>\n",
       "      <td>-4.124428e+07</td>\n",
       "    </tr>\n",
       "    <tr>\n",
       "      <th>25%</th>\n",
       "      <td>-0.302100</td>\n",
       "      <td>-0.293500</td>\n",
       "      <td>-0.269550</td>\n",
       "      <td>-0.282600</td>\n",
       "      <td>-7.485000e+04</td>\n",
       "    </tr>\n",
       "    <tr>\n",
       "      <th>50%</th>\n",
       "      <td>0.000000</td>\n",
       "      <td>0.000000</td>\n",
       "      <td>0.000000</td>\n",
       "      <td>0.000000</td>\n",
       "      <td>0.000000e+00</td>\n",
       "    </tr>\n",
       "    <tr>\n",
       "      <th>75%</th>\n",
       "      <td>0.334400</td>\n",
       "      <td>0.325950</td>\n",
       "      <td>0.312200</td>\n",
       "      <td>0.292350</td>\n",
       "      <td>6.629200e+04</td>\n",
       "    </tr>\n",
       "    <tr>\n",
       "      <th>max</th>\n",
       "      <td>7.996400</td>\n",
       "      <td>6.320000</td>\n",
       "      <td>8.084100</td>\n",
       "      <td>5.587700</td>\n",
       "      <td>4.325089e+07</td>\n",
       "    </tr>\n",
       "  </tbody>\n",
       "</table>\n",
       "</div>"
      ],
      "text/plain": [
       "              Open         High          Low        Close        Volume\n",
       "count  3951.000000  3951.000000  3951.000000  3951.000000  3.951000e+03\n",
       "mean      0.020610     0.020730     0.019534     0.020362  1.030979e+01\n",
       "std       1.031389     0.972631     0.901209     0.861705  1.192969e+06\n",
       "min     -10.434400    -7.801300    -6.190000    -5.945200 -4.124428e+07\n",
       "25%      -0.302100    -0.293500    -0.269550    -0.282600 -7.485000e+04\n",
       "50%       0.000000     0.000000     0.000000     0.000000  0.000000e+00\n",
       "75%       0.334400     0.325950     0.312200     0.292350  6.629200e+04\n",
       "max       7.996400     6.320000     8.084100     5.587700  4.325089e+07"
      ]
     },
     "execution_count": 251,
     "metadata": {},
     "output_type": "execute_result"
    }
   ],
   "source": [
    "diff.describe()"
   ]
  },
  {
   "cell_type": "code",
   "execution_count": 252,
   "metadata": {},
   "outputs": [],
   "source": [
    "diff['Date'] = pd.to_datetime(diff['Date']) #Convert date to datetime"
   ]
  },
  {
   "cell_type": "code",
   "execution_count": 253,
   "metadata": {},
   "outputs": [
    {
     "data": {
      "text/html": [
       "<div>\n",
       "<style scoped>\n",
       "    .dataframe tbody tr th:only-of-type {\n",
       "        vertical-align: middle;\n",
       "    }\n",
       "\n",
       "    .dataframe tbody tr th {\n",
       "        vertical-align: top;\n",
       "    }\n",
       "\n",
       "    .dataframe thead th {\n",
       "        text-align: right;\n",
       "    }\n",
       "</style>\n",
       "<table border=\"1\" class=\"dataframe\">\n",
       "  <thead>\n",
       "    <tr style=\"text-align: right;\">\n",
       "      <th></th>\n",
       "      <th>Open</th>\n",
       "      <th>High</th>\n",
       "      <th>Low</th>\n",
       "      <th>Close</th>\n",
       "      <th>Volume</th>\n",
       "      <th>Date</th>\n",
       "    </tr>\n",
       "  </thead>\n",
       "  <tbody>\n",
       "    <tr>\n",
       "      <th>0</th>\n",
       "      <td>0.0000</td>\n",
       "      <td>0.0000</td>\n",
       "      <td>0.0000</td>\n",
       "      <td>0.0000</td>\n",
       "      <td>0.0</td>\n",
       "      <td>2005-08-18</td>\n",
       "    </tr>\n",
       "    <tr>\n",
       "      <th>1</th>\n",
       "      <td>4.7980</td>\n",
       "      <td>-0.9625</td>\n",
       "      <td>0.9255</td>\n",
       "      <td>0.0000</td>\n",
       "      <td>-21684.0</td>\n",
       "      <td>2005-08-19</td>\n",
       "    </tr>\n",
       "    <tr>\n",
       "      <th>2</th>\n",
       "      <td>0.0000</td>\n",
       "      <td>0.1480</td>\n",
       "      <td>0.1481</td>\n",
       "      <td>0.0889</td>\n",
       "      <td>57398.0</td>\n",
       "      <td>2005-08-22</td>\n",
       "    </tr>\n",
       "    <tr>\n",
       "      <th>3</th>\n",
       "      <td>0.0889</td>\n",
       "      <td>-0.0740</td>\n",
       "      <td>-0.2073</td>\n",
       "      <td>-0.0592</td>\n",
       "      <td>-31888.0</td>\n",
       "      <td>2005-08-23</td>\n",
       "    </tr>\n",
       "    <tr>\n",
       "      <th>4</th>\n",
       "      <td>-0.0592</td>\n",
       "      <td>-0.0074</td>\n",
       "      <td>0.0963</td>\n",
       "      <td>-0.1481</td>\n",
       "      <td>-8928.0</td>\n",
       "      <td>2005-08-24</td>\n",
       "    </tr>\n",
       "  </tbody>\n",
       "</table>\n",
       "</div>"
      ],
      "text/plain": [
       "     Open    High     Low   Close   Volume       Date\n",
       "0  0.0000  0.0000  0.0000  0.0000      0.0 2005-08-18\n",
       "1  4.7980 -0.9625  0.9255  0.0000 -21684.0 2005-08-19\n",
       "2  0.0000  0.1480  0.1481  0.0889  57398.0 2005-08-22\n",
       "3  0.0889 -0.0740 -0.2073 -0.0592 -31888.0 2005-08-23\n",
       "4 -0.0592 -0.0074  0.0963 -0.1481  -8928.0 2005-08-24"
      ]
     },
     "execution_count": 253,
     "metadata": {},
     "output_type": "execute_result"
    }
   ],
   "source": [
    "diff.head()"
   ]
  },
  {
   "cell_type": "markdown",
   "metadata": {},
   "source": [
    "### Make relevant functions to map polarities and take into account weekends"
   ]
  },
  {
   "cell_type": "code",
   "execution_count": 257,
   "metadata": {},
   "outputs": [
    {
     "data": {
      "text/plain": [
       "datetime.datetime(2009, 2, 6, 0, 0)"
      ]
     },
     "execution_count": 257,
     "metadata": {},
     "output_type": "execute_result"
    }
   ],
   "source": [
    "def pol(val):\n",
    "    #print(val)\n",
    "    if val >= 0:\n",
    "        \n",
    "        return 1\n",
    "    \n",
    "    else:\n",
    "        \n",
    "        return 0\n",
    "    \n",
    "\n",
    "\n",
    "# Year, month, day\t\n",
    "def check(x):\n",
    "    d3 = datetime.datetime.strptime(x, '%d %m %Y')\n",
    "    d2 = datetime.datetime.strptime(x, '%d %m %Y').weekday()\n",
    "   # print(d3)\n",
    "    ##print(d2)\n",
    "\n",
    "    if (d2 == 5):\n",
    "        d1 = d3 - datetime.timedelta(days = 1)\n",
    "    elif (d2 == 6):\n",
    "        d1 = d3 - datetime.timedelta(days = 2)\n",
    "    else:\n",
    "        d1 = d3\n",
    "    #print(d1)    \n",
    "    return d1\n",
    "\n",
    "\n",
    "check('08 02 2009')"
   ]
  },
  {
   "cell_type": "markdown",
   "metadata": {},
   "source": [
    "### Label data with polarity"
   ]
  },
  {
   "cell_type": "code",
   "execution_count": 258,
   "metadata": {},
   "outputs": [
    {
     "name": "stderr",
     "output_type": "stream",
     "text": [
      "C:\\Users\\CZ\\anaconda3\\lib\\site-packages\\ipykernel_launcher.py:10: SettingWithCopyWarning: \n",
      "A value is trying to be set on a copy of a slice from a DataFrame\n",
      "\n",
      "See the caveats in the documentation: https://pandas.pydata.org/pandas-docs/stable/user_guide/indexing.html#returning-a-view-versus-a-copy\n",
      "  # Remove the CWD from sys.path while we load stuff.\n"
     ]
    }
   ],
   "source": [
    "for i in range(28000):\n",
    "    #print(i)\n",
    "    #print(news_data['Date'][i])\n",
    "    date = check(news_data['Date'][i])\n",
    "    #print(date)\n",
    "    index = diff.index[diff['Date'] == date]\n",
    "    #print(index)\n",
    "    #print(int(diff['Close'][index]))\n",
    "    polarity = pol(float(diff['Close'][index]))\n",
    "    news_data['Polarity'][i] = polarity\n",
    "    "
   ]
  },
  {
   "cell_type": "code",
   "execution_count": 259,
   "metadata": {},
   "outputs": [
    {
     "data": {
      "text/html": [
       "<div>\n",
       "<style scoped>\n",
       "    .dataframe tbody tr th:only-of-type {\n",
       "        vertical-align: middle;\n",
       "    }\n",
       "\n",
       "    .dataframe tbody tr th {\n",
       "        vertical-align: top;\n",
       "    }\n",
       "\n",
       "    .dataframe thead th {\n",
       "        text-align: right;\n",
       "    }\n",
       "</style>\n",
       "<table border=\"1\" class=\"dataframe\">\n",
       "  <thead>\n",
       "    <tr style=\"text-align: right;\">\n",
       "      <th></th>\n",
       "      <th>Polarity</th>\n",
       "    </tr>\n",
       "  </thead>\n",
       "  <tbody>\n",
       "    <tr>\n",
       "      <th>count</th>\n",
       "      <td>28603.000000</td>\n",
       "    </tr>\n",
       "    <tr>\n",
       "      <th>mean</th>\n",
       "      <td>0.532182</td>\n",
       "    </tr>\n",
       "    <tr>\n",
       "      <th>std</th>\n",
       "      <td>0.498972</td>\n",
       "    </tr>\n",
       "    <tr>\n",
       "      <th>min</th>\n",
       "      <td>0.000000</td>\n",
       "    </tr>\n",
       "    <tr>\n",
       "      <th>25%</th>\n",
       "      <td>0.000000</td>\n",
       "    </tr>\n",
       "    <tr>\n",
       "      <th>50%</th>\n",
       "      <td>1.000000</td>\n",
       "    </tr>\n",
       "    <tr>\n",
       "      <th>75%</th>\n",
       "      <td>1.000000</td>\n",
       "    </tr>\n",
       "    <tr>\n",
       "      <th>max</th>\n",
       "      <td>1.000000</td>\n",
       "    </tr>\n",
       "  </tbody>\n",
       "</table>\n",
       "</div>"
      ],
      "text/plain": [
       "           Polarity\n",
       "count  28603.000000\n",
       "mean       0.532182\n",
       "std        0.498972\n",
       "min        0.000000\n",
       "25%        0.000000\n",
       "50%        1.000000\n",
       "75%        1.000000\n",
       "max        1.000000"
      ]
     },
     "execution_count": 259,
     "metadata": {},
     "output_type": "execute_result"
    }
   ],
   "source": [
    "news_data.describe()"
   ]
  },
  {
   "cell_type": "markdown",
   "metadata": {},
   "source": [
    "### Save labelled data"
   ]
  },
  {
   "cell_type": "code",
   "execution_count": 261,
   "metadata": {},
   "outputs": [],
   "source": [
    "news_data.to_csv(path_or_buf = 'E:/Fall 2020/Kaavish/suffwan randi' + '.csv', index = False) #Save dataframe as CSV\n",
    "    "
   ]
  }
 ],
 "metadata": {
  "kernelspec": {
   "display_name": "Python 3",
   "language": "python",
   "name": "python3"
  },
  "language_info": {
   "codemirror_mode": {
    "name": "ipython",
    "version": 3
   },
   "file_extension": ".py",
   "mimetype": "text/x-python",
   "name": "python",
   "nbconvert_exporter": "python",
   "pygments_lexer": "ipython3",
   "version": "3.7.6"
  }
 },
 "nbformat": 4,
 "nbformat_minor": 4
}
