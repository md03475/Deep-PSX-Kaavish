{
 "cells": [
  {
   "cell_type": "markdown",
   "metadata": {},
   "source": [
    "# Prediction Mechanism "
   ]
  },
  {
   "cell_type": "markdown",
   "metadata": {},
   "source": [
    "## Import all relevant libraries and data"
   ]
  },
  {
   "cell_type": "code",
   "execution_count": 1,
   "metadata": {},
   "outputs": [
    {
     "name": "stderr",
     "output_type": "stream",
     "text": [
      "C:\\Users\\CZ\\anaconda3\\lib\\site-packages\\tensorflow\\python\\framework\\dtypes.py:516: FutureWarning: Passing (type, 1) or '1type' as a synonym of type is deprecated; in a future version of numpy, it will be understood as (type, (1,)) / '(1,)type'.\n",
      "  _np_qint8 = np.dtype([(\"qint8\", np.int8, 1)])\n",
      "C:\\Users\\CZ\\anaconda3\\lib\\site-packages\\tensorflow\\python\\framework\\dtypes.py:517: FutureWarning: Passing (type, 1) or '1type' as a synonym of type is deprecated; in a future version of numpy, it will be understood as (type, (1,)) / '(1,)type'.\n",
      "  _np_quint8 = np.dtype([(\"quint8\", np.uint8, 1)])\n",
      "C:\\Users\\CZ\\anaconda3\\lib\\site-packages\\tensorflow\\python\\framework\\dtypes.py:518: FutureWarning: Passing (type, 1) or '1type' as a synonym of type is deprecated; in a future version of numpy, it will be understood as (type, (1,)) / '(1,)type'.\n",
      "  _np_qint16 = np.dtype([(\"qint16\", np.int16, 1)])\n",
      "C:\\Users\\CZ\\anaconda3\\lib\\site-packages\\tensorflow\\python\\framework\\dtypes.py:519: FutureWarning: Passing (type, 1) or '1type' as a synonym of type is deprecated; in a future version of numpy, it will be understood as (type, (1,)) / '(1,)type'.\n",
      "  _np_quint16 = np.dtype([(\"quint16\", np.uint16, 1)])\n",
      "C:\\Users\\CZ\\anaconda3\\lib\\site-packages\\tensorflow\\python\\framework\\dtypes.py:520: FutureWarning: Passing (type, 1) or '1type' as a synonym of type is deprecated; in a future version of numpy, it will be understood as (type, (1,)) / '(1,)type'.\n",
      "  _np_qint32 = np.dtype([(\"qint32\", np.int32, 1)])\n",
      "C:\\Users\\CZ\\anaconda3\\lib\\site-packages\\tensorflow\\python\\framework\\dtypes.py:525: FutureWarning: Passing (type, 1) or '1type' as a synonym of type is deprecated; in a future version of numpy, it will be understood as (type, (1,)) / '(1,)type'.\n",
      "  np_resource = np.dtype([(\"resource\", np.ubyte, 1)])\n",
      "C:\\Users\\CZ\\anaconda3\\lib\\site-packages\\tensorboard\\compat\\tensorflow_stub\\dtypes.py:541: FutureWarning: Passing (type, 1) or '1type' as a synonym of type is deprecated; in a future version of numpy, it will be understood as (type, (1,)) / '(1,)type'.\n",
      "  _np_qint8 = np.dtype([(\"qint8\", np.int8, 1)])\n",
      "C:\\Users\\CZ\\anaconda3\\lib\\site-packages\\tensorboard\\compat\\tensorflow_stub\\dtypes.py:542: FutureWarning: Passing (type, 1) or '1type' as a synonym of type is deprecated; in a future version of numpy, it will be understood as (type, (1,)) / '(1,)type'.\n",
      "  _np_quint8 = np.dtype([(\"quint8\", np.uint8, 1)])\n",
      "C:\\Users\\CZ\\anaconda3\\lib\\site-packages\\tensorboard\\compat\\tensorflow_stub\\dtypes.py:543: FutureWarning: Passing (type, 1) or '1type' as a synonym of type is deprecated; in a future version of numpy, it will be understood as (type, (1,)) / '(1,)type'.\n",
      "  _np_qint16 = np.dtype([(\"qint16\", np.int16, 1)])\n",
      "C:\\Users\\CZ\\anaconda3\\lib\\site-packages\\tensorboard\\compat\\tensorflow_stub\\dtypes.py:544: FutureWarning: Passing (type, 1) or '1type' as a synonym of type is deprecated; in a future version of numpy, it will be understood as (type, (1,)) / '(1,)type'.\n",
      "  _np_quint16 = np.dtype([(\"quint16\", np.uint16, 1)])\n",
      "C:\\Users\\CZ\\anaconda3\\lib\\site-packages\\tensorboard\\compat\\tensorflow_stub\\dtypes.py:545: FutureWarning: Passing (type, 1) or '1type' as a synonym of type is deprecated; in a future version of numpy, it will be understood as (type, (1,)) / '(1,)type'.\n",
      "  _np_qint32 = np.dtype([(\"qint32\", np.int32, 1)])\n",
      "C:\\Users\\CZ\\anaconda3\\lib\\site-packages\\tensorboard\\compat\\tensorflow_stub\\dtypes.py:550: FutureWarning: Passing (type, 1) or '1type' as a synonym of type is deprecated; in a future version of numpy, it will be understood as (type, (1,)) / '(1,)type'.\n",
      "  np_resource = np.dtype([(\"resource\", np.ubyte, 1)])\n",
      "Using TensorFlow backend.\n"
     ]
    }
   ],
   "source": [
    "import pandas as pd\n",
    "import numpy as np\n",
    "import matplotlib.pyplot as plt\n",
    "import seaborn as sns\n",
    "import tensorflow as tf\n",
    "import tensorflow_docs as tfdocs\n",
    "import tensorflow_docs.modeling\n",
    "import tensorflow_docs.plots\n",
    "import tensorflow_docs as tfdocs\n",
    "from keras.optimizers import adam\n",
    "from keras.utils import plot_model\n",
    "from tensorflow import keras\n",
    "from keras.models import Sequential, save_model, load_model\n",
    "from keras.layers import LSTM, Dense, Dropout, GRU\n",
    "from sklearn.preprocessing import MinMaxScaler\n"
   ]
  },
  {
   "cell_type": "markdown",
   "metadata": {},
   "source": [
    "## Data Visualization"
   ]
  },
  {
   "cell_type": "markdown",
   "metadata": {},
   "source": [
    "#### A file is chosen as a sample. The code is generalized for all such files."
   ]
  },
  {
   "cell_type": "code",
   "execution_count": 2,
   "metadata": {},
   "outputs": [
    {
     "data": {
      "text/html": [
       "<div>\n",
       "<style scoped>\n",
       "    .dataframe tbody tr th:only-of-type {\n",
       "        vertical-align: middle;\n",
       "    }\n",
       "\n",
       "    .dataframe tbody tr th {\n",
       "        vertical-align: top;\n",
       "    }\n",
       "\n",
       "    .dataframe thead th {\n",
       "        text-align: right;\n",
       "    }\n",
       "</style>\n",
       "<table border=\"1\" class=\"dataframe\">\n",
       "  <thead>\n",
       "    <tr style=\"text-align: right;\">\n",
       "      <th></th>\n",
       "      <th>Date</th>\n",
       "      <th>Open</th>\n",
       "      <th>High</th>\n",
       "      <th>Low</th>\n",
       "      <th>Close</th>\n",
       "      <th>Volume</th>\n",
       "    </tr>\n",
       "  </thead>\n",
       "  <tbody>\n",
       "    <tr>\n",
       "      <th>5154</th>\n",
       "      <td>10/5/2020</td>\n",
       "      <td>750.00</td>\n",
       "      <td>768.0</td>\n",
       "      <td>717.00</td>\n",
       "      <td>752.55</td>\n",
       "      <td>36100</td>\n",
       "    </tr>\n",
       "    <tr>\n",
       "      <th>5155</th>\n",
       "      <td>10/6/2020</td>\n",
       "      <td>740.00</td>\n",
       "      <td>759.0</td>\n",
       "      <td>740.00</td>\n",
       "      <td>750.43</td>\n",
       "      <td>13150</td>\n",
       "    </tr>\n",
       "    <tr>\n",
       "      <th>5156</th>\n",
       "      <td>10/7/2020</td>\n",
       "      <td>759.55</td>\n",
       "      <td>770.0</td>\n",
       "      <td>740.05</td>\n",
       "      <td>764.05</td>\n",
       "      <td>25850</td>\n",
       "    </tr>\n",
       "    <tr>\n",
       "      <th>5157</th>\n",
       "      <td>10/8/2020</td>\n",
       "      <td>766.00</td>\n",
       "      <td>779.0</td>\n",
       "      <td>756.10</td>\n",
       "      <td>770.83</td>\n",
       "      <td>32450</td>\n",
       "    </tr>\n",
       "    <tr>\n",
       "      <th>5158</th>\n",
       "      <td>10/8/2020</td>\n",
       "      <td>100000.00</td>\n",
       "      <td>1000000.0</td>\n",
       "      <td>10000.00</td>\n",
       "      <td>0.00</td>\n",
       "      <td>0</td>\n",
       "    </tr>\n",
       "  </tbody>\n",
       "</table>\n",
       "</div>"
      ],
      "text/plain": [
       "           Date       Open       High       Low   Close  Volume\n",
       "5154  10/5/2020     750.00      768.0    717.00  752.55   36100\n",
       "5155  10/6/2020     740.00      759.0    740.00  750.43   13150\n",
       "5156  10/7/2020     759.55      770.0    740.05  764.05   25850\n",
       "5157  10/8/2020     766.00      779.0    756.10  770.83   32450\n",
       "5158  10/8/2020  100000.00  1000000.0  10000.00    0.00       0"
      ]
     },
     "execution_count": 2,
     "metadata": {},
     "output_type": "execute_result"
    }
   ],
   "source": [
    "abl = pd.read_csv('ABOT PA Equity.csv') \n",
    "abl.tail()"
   ]
  },
  {
   "cell_type": "code",
   "execution_count": 3,
   "metadata": {},
   "outputs": [
    {
     "data": {
      "image/png": "[encoded data removed]",
      "text/plain": [
       "<Figure size 1296x648 with 1 Axes>"
      ]
     },
     "metadata": {
      "needs_background": "light"
     },
     "output_type": "display_data"
    }
   ],
   "source": [
    "plt.figure(figsize = (18,9))\n",
    "plt.plot(range(abl.shape[0]), abl['Open'])\n",
    "plt.xticks(range(0, abl.shape[0], 500), rotation=45)\n",
    "plt.xlabel('Date', fontsize=18)\n",
    "plt.ylabel('Open', fontsize=18)\n",
    "plt.show()"
   ]
  },
  {
   "cell_type": "markdown",
   "metadata": {},
   "source": [
    "## Test-Train-Validation Split"
   ]
  },
  {
   "cell_type": "markdown",
   "metadata": {},
   "source": [
    "#### The data is split into 3 parts. \n",
    "\n",
    "#### The first is the train part where we provide the model real prices as input and labels. It analyses the prices and attempts to predict the next day price. When predicted, the actual price for that day is given so it can learn accordingly.\n",
    "\n",
    "#### The second is the test part, where we provide the model data it has not seen before and ask it to predict using this new data entirely.\n",
    "\n",
    "#### The third part is the validation part. We keep some data never shown to the model in train and test parts and then ask it to predict this without ever seeing it."
   ]
  },
  {
   "cell_type": "code",
   "execution_count": 4,
   "metadata": {},
   "outputs": [
    {
     "name": "stdout",
     "output_type": "stream",
     "text": [
      "3611\n",
      "516\n",
      "1032\n"
     ]
    }
   ],
   "source": [
    "def test_train_split(df, column):\n",
    "\n",
    "    prices = df[column] #We choose to predict the price of the given column\n",
    "\n",
    "    # 80-20 split into Train-Test\n",
    "\n",
    "    train_data = prices[:int(len(prices)*0.7)]\n",
    "    test_data = prices[int(len(prices)*0.7):int(len(prices)*0.8)]\n",
    "    val_data = prices[int(len(prices)*0.8):]\n",
    "    \n",
    "    #Convert to ndarray\n",
    "\n",
    "    train_data = np.asarray(train_data)\n",
    "    test_data = np.asarray(test_data)\n",
    "    val_data = np.asarray(val_data)\n",
    "    \n",
    "    #Transform data\n",
    "    \n",
    "    train_data = train_data.reshape(-1, 1)\n",
    "    test_data = test_data.reshape(-1, 1)\n",
    "    val_data = val_data.reshape(-1, 1)\n",
    "    \n",
    "\n",
    "    print(train_data.shape[0])\n",
    "    print(test_data.shape[0])\n",
    "    print(val_data.shape[0])\n",
    "\n",
    "    \n",
    "    return train_data, test_data, val_data\n",
    "    \n",
    "train_data, test_data, val_data = test_train_split(abl, 'Open')"
   ]
  },
  {
   "cell_type": "code",
   "execution_count": null,
   "metadata": {},
   "outputs": [],
   "source": []
  },
  {
   "cell_type": "markdown",
   "metadata": {},
   "source": [
    "## Check distribution of data with scaling"
   ]
  },
  {
   "cell_type": "markdown",
   "metadata": {},
   "source": [
    "#### A recurrent neural network works better when data is squished between a limit. We want to see if scaling our data this way has any change on its distribution. "
   ]
  },
  {
   "cell_type": "code",
   "execution_count": 5,
   "metadata": {},
   "outputs": [
    {
     "data": {
      "text/plain": [
       "{'whiskers': [<matplotlib.lines.Line2D at 0x1e51f311748>,\n",
       "  <matplotlib.lines.Line2D at 0x1e51f311f08>],\n",
       " 'caps': [<matplotlib.lines.Line2D at 0x1e51f317ac8>,\n",
       "  <matplotlib.lines.Line2D at 0x1e51f317bc8>],\n",
       " 'boxes': [<matplotlib.patches.PathPatch at 0x1e51f3110c8>],\n",
       " 'medians': [<matplotlib.lines.Line2D at 0x1e51f31abc8>],\n",
       " 'fliers': [<matplotlib.lines.Line2D at 0x1e51f31acc8>],\n",
       " 'means': []}"
      ]
     },
     "execution_count": 5,
     "metadata": {},
     "output_type": "execute_result"
    },
    {
     "data": {
      "image/png": "[encoded data removed]",
      "text/plain": [
       "<Figure size 432x288 with 1 Axes>"
      ]
     },
     "metadata": {
      "needs_background": "light"
     },
     "output_type": "display_data"
    },
    {
     "data": {
      "image/png": "[encoded data removed]",
      "text/plain": [
       "<Figure size 432x288 with 1 Axes>"
      ]
     },
     "metadata": {
      "needs_background": "light"
     },
     "output_type": "display_data"
    }
   ],
   "source": [
    "fig1, ax1 = plt.subplots()\n",
    "ax1.set_title('Data Distribution')\n",
    "ax1.boxplot(train_data, patch_artist=True)\n",
    "\n",
    "tempScaler = MinMaxScaler()\n",
    "scaled_data = tempScaler.fit_transform(train_data)\n",
    "\n",
    "fig1, ax1 = plt.subplots()\n",
    "ax1.set_title('Scaled Data Distribution')\n",
    "ax1.boxplot(scaled_data, patch_artist=True)\n",
    "\n",
    "\n"
   ]
  },
  {
   "cell_type": "markdown",
   "metadata": {},
   "source": [
    "#### We can see scaling our data does not change the distribution"
   ]
  },
  {
   "cell_type": "markdown",
   "metadata": {},
   "source": [
    "## Prepare Train set"
   ]
  },
  {
   "cell_type": "markdown",
   "metadata": {},
   "source": [
    "#### The data is prepared with the following methodology:\n",
    "\n",
    "#### We take a window (set of days) to analyze the recent stock movemement. Based on that analysis, and the weight of historical learning (previous analyses), a prediction for  the window+1 day is made. The model compares the predicted price with the original price and adjusts its parameters. This is done iteratively, with a step of window+1 in each iteration. \n",
    "\n",
    "#### For example, for a window of 5, the model would look at day 1 to day 5 and predict day 6. Once day 6 is predicted, it would adjust parameters and then move onto the next window of day 7 to day 11 and predict day 12 and so on.\n",
    "\n",
    "#### The days in the window are stored in x_train (the features). The days to be predicted are stored in y_train (labels). This results in two arrays, x_train and y_train which we would feed into the model"
   ]
  },
  {
   "cell_type": "code",
   "execution_count": 6,
   "metadata": {},
   "outputs": [
    {
     "name": "stdout",
     "output_type": "stream",
     "text": [
      "(3596, 15, 1) (3596, 1) MinMaxScaler(copy=True, feature_range=(0, 1))\n"
     ]
    }
   ],
   "source": [
    "def train_prep(train_data, window):\n",
    "\n",
    "    scaler = MinMaxScaler((0, 1))\n",
    "    scaled_train_data = scaler.fit_transform(train_data)\n",
    "\n",
    "    x_train = [] #Features\n",
    "    y_train = [] #Labels\n",
    "\n",
    "    for i in range(window, scaled_train_data.shape[0]): #Make windows of 60 days for training until last day\n",
    "\n",
    "        x_train.append(train_data[i-window:i]) #n day window to look back\n",
    "        y_train.append(train_data[i:i+1, 0]) #predict for specified days\n",
    "\n",
    "    x_train = np.array(x_train) \n",
    "    y_train = np.array(y_train)\n",
    "    \n",
    "    print(x_train.shape, y_train.shape, scaler)\n",
    "    \n",
    "    return x_train, y_train, scaler\n",
    "    \n",
    "x_train, y_train, scale_train = train_prep(train_data, 15)"
   ]
  },
  {
   "cell_type": "markdown",
   "metadata": {},
   "source": [
    "## Prepare test and validation set"
   ]
  },
  {
   "cell_type": "markdown",
   "metadata": {},
   "source": [
    "#### Exactly the same way as train set, we will make the test set. The only difference is that the test set takes the last window from the train set so it can predict in continuation. "
   ]
  },
  {
   "cell_type": "code",
   "execution_count": 7,
   "metadata": {},
   "outputs": [
    {
     "name": "stdout",
     "output_type": "stream",
     "text": [
      "(33, 15, 1) (33, 1) [0.00135099]\n"
     ]
    }
   ],
   "source": [
    "def test_prep(test_data, train_data, window):\n",
    "    \n",
    "    scaler = MinMaxScaler((0, 1))\n",
    "    test_data = np.concatenate((train_data[:window], test_data), axis = 0) #Add last previous observations of train data to test\n",
    "    scaled_test_data = scaler.fit_transform(test_data)\n",
    "\n",
    "    x_test = []\n",
    "    y_test = []\n",
    "\n",
    "    for i in range(window, test_data.shape[0], window+1):\n",
    "        x_test.append(test_data[i-window:i])\n",
    "        y_test.append(test_data[i:i+1, 0])\n",
    "\n",
    "    x_test = np.array(x_test)\n",
    "    y_test = np.array(y_test)\n",
    "        \n",
    "    print(x_test.shape, y_test.shape, scaler.scale_)\n",
    "    return x_test, y_test, scaler.scale_\n",
    "    \n",
    "x_test, y_test, test_scale = test_prep(test_data, train_data, 15)"
   ]
  },
  {
   "cell_type": "code",
   "execution_count": 8,
   "metadata": {},
   "outputs": [
    {
     "name": "stdout",
     "output_type": "stream",
     "text": [
      "(65, 15, 1) (65, 1) [1.00294021e-05]\n"
     ]
    }
   ],
   "source": [
    "def val_prep(val_data, test_data, window):\n",
    "    \n",
    "    scaler = MinMaxScaler((0, 1))\n",
    "    val_data = np.concatenate((test_data[:window], val_data), axis = 0) #Add last previous observations of train data to test\n",
    "    scaled_val_data = scaler.fit_transform(val_data)\n",
    "\n",
    "    x_val = []\n",
    "    y_val = []\n",
    "\n",
    "    for i in range(window, val_data.shape[0], window+1):\n",
    "        x_val.append(val_data[i-window:i])\n",
    "        y_val.append(val_data[i:i+1, 0])\n",
    "\n",
    "    x_val = np.array(x_val)\n",
    "    y_val = np.array(y_val)\n",
    "        \n",
    "    print(x_val.shape, y_val.shape, scaler.scale_)\n",
    "    return x_val, y_val, scaler.scale_\n",
    "    \n",
    "x_val, y_val, val_scale = val_prep(val_data, test_data, 15)"
   ]
  },
  {
   "cell_type": "markdown",
   "metadata": {},
   "source": [
    "## Building the LSTM"
   ]
  },
  {
   "cell_type": "markdown",
   "metadata": {},
   "source": [
    "#### We chose the GRU model as it performed the best on our problem. The architecture is such that there are two layers of GRU. The first layer takes the input as we defined in train and test sets. It then forwards its results to the second layer which works similarly. Both layers are activated by ReLU on the output to ensure non-linearity of our problem. "
   ]
  },
  {
   "cell_type": "code",
   "execution_count": 9,
   "metadata": {},
   "outputs": [
    {
     "name": "stdout",
     "output_type": "stream",
     "text": [
      "Model: \"sequential_1\"\n",
      "_________________________________________________________________\n",
      "Layer (type)                 Output Shape              Param #   \n",
      "=================================================================\n",
      "gru_1 (GRU)                  (None, 15, 16)            864       \n",
      "_________________________________________________________________\n",
      "gru_2 (GRU)                  (None, 32)                4704      \n",
      "_________________________________________________________________\n",
      "dense_1 (Dense)              (None, 1)                 33        \n",
      "=================================================================\n",
      "Total params: 5,601\n",
      "Trainable params: 5,601\n",
      "Non-trainable params: 0\n",
      "_________________________________________________________________\n"
     ]
    },
    {
     "data": {
      "image/png": "[encoded data removed]",
      "text/plain": [
       "<IPython.core.display.Image object>"
      ]
     },
     "execution_count": 9,
     "metadata": {},
     "output_type": "execute_result"
    }
   ],
   "source": [
    "def create_model(x_train, units_1, units_2):\n",
    "\n",
    "    model = Sequential()\n",
    "\n",
    "    model.add(GRU(units = units_1, activation = 'relu', return_sequences = True, input_shape = (x_train.shape[1], x_train.shape[2])))\n",
    "\n",
    "    model.add(GRU(units = units_2, activation = 'relu'))\n",
    "\n",
    "    model.add(Dense(units = 1))\n",
    "    \n",
    "    return model\n",
    "    \n",
    "model = create_model(x_train, 16, 32)\n",
    "\n",
    "model.summary()\n",
    "\n",
    "plot_model(model, to_file='model.png')"
   ]
  },
  {
   "cell_type": "markdown",
   "metadata": {},
   "source": [
    "#### ADAM is an optimizer used to optimize the Stochastic Gradient Descent used to minimize the error the model makes. Mean Squared Error is the error or loss function used to tell the model how to minimize the error in each step. The number of epochs is defined as how many times the model would need to go through the whole data in order to reach the minimum point of the loss. We have chosen the number at which we are sure the loss becomes constant and does not drop significiantly anymore. The batch size is defined as how many training examples should it put in one batch since the parameters are adjusted after each batch."
   ]
  },
  {
   "cell_type": "code",
   "execution_count": 10,
   "metadata": {
    "scrolled": false
   },
   "outputs": [
    {
     "name": "stdout",
     "output_type": "stream",
     "text": [
      "WARNING:tensorflow:From C:\\Users\\CZ\\anaconda3\\lib\\site-packages\\keras\\backend\\tensorflow_backend.py:422: The name tf.global_variables is deprecated. Please use tf.compat.v1.global_variables instead.\n",
      "\n",
      "Train on 3596 samples, validate on 33 samples\n",
      "Epoch 1/10\n",
      "3596/3596 [==============================] - 2s 638us/step - loss: 8292.5458 - val_loss: 7518.5756\n",
      "Epoch 2/10\n",
      "3596/3596 [==============================] - 2s 439us/step - loss: 28.0493 - val_loss: 7551.3310\n",
      "Epoch 3/10\n",
      "3596/3596 [==============================] - 2s 539us/step - loss: 25.7634 - val_loss: 7440.8797\n",
      "Epoch 4/10\n",
      "3596/3596 [==============================] - 2s 504us/step - loss: 27.3019 - val_loss: 7596.9598\n",
      "Epoch 5/10\n",
      "3596/3596 [==============================] - 2s 419us/step - loss: 29.8223 - val_loss: 7438.8043\n",
      "Epoch 6/10\n",
      "3596/3596 [==============================] - 2s 419us/step - loss: 27.2061 - val_loss: 7415.4719\n",
      "Epoch 7/10\n",
      "3596/3596 [==============================] - 2s 434us/step - loss: 24.5996 - val_loss: 7433.8555\n",
      "Epoch 8/10\n",
      "3596/3596 [==============================] - 1s 400us/step - loss: 21.9029 - val_loss: 7548.1157\n",
      "Epoch 9/10\n",
      "3596/3596 [==============================] - 1s 392us/step - loss: 22.2949 - val_loss: 7368.3133\n",
      "Epoch 10/10\n",
      "3596/3596 [==============================] - 2s 457us/step - loss: 23.8384 - val_loss: 7409.5451\n"
     ]
    }
   ],
   "source": [
    "def compile_model(model, x_train, y_train, x_test, y_test):\n",
    "\n",
    "    model.compile(optimizer='adam', loss= 'mean_squared_error')\n",
    "    history = model.fit(x_train, y_train, epochs=10, batch_size=32, validation_data = (x_test, y_test), verbose = 1)\n",
    "    return history\n",
    "\n",
    "history = compile_model(model, x_train, y_train, x_test, y_test)\n",
    "model.save(\"GRU\")"
   ]
  },
  {
   "cell_type": "code",
   "execution_count": null,
   "metadata": {},
   "outputs": [],
   "source": []
  },
  {
   "cell_type": "markdown",
   "metadata": {},
   "source": [
    "## Testing"
   ]
  },
  {
   "cell_type": "markdown",
   "metadata": {},
   "source": [
    "#### This is the part where we test our results. y_hat is an array which holds the predictions done on the test dataset we created earlier. After we have y_hat, we revert the scale of data to get original prices once again. These prices are then plotted to closely see how our model is behaving."
   ]
  },
  {
   "cell_type": "code",
   "execution_count": 11,
   "metadata": {},
   "outputs": [],
   "source": [
    "y_hat = model.predict(x_test) #Prediction over test set\n"
   ]
  },
  {
   "cell_type": "code",
   "execution_count": 12,
   "metadata": {},
   "outputs": [],
   "source": [
    "#y_hat_unscaled = y_hat/test_scale[0]\n",
    "#y_test_unscaled = y_test/test_scale[0]\n",
    "\n",
    "#Scaling back to original values\n"
   ]
  },
  {
   "cell_type": "code",
   "execution_count": 17,
   "metadata": {},
   "outputs": [
    {
     "data": {
      "image/png": "[encoded data removed]",
      "text/plain": [
       "<Figure size 1008x360 with 1 Axes>"
      ]
     },
     "metadata": {
      "needs_background": "light"
     },
     "output_type": "display_data"
    }
   ],
   "source": [
    "def plot_comparison(y_test, y_hat):\n",
    "\n",
    "    plt.figure(figsize=(14,5))\n",
    "    plt.plot(y_test[:], color = 'red', label = 'Real Stock Price')\n",
    "    plt.plot(y_hat[:], color = 'blue', label = 'Predicted Stock Price')\n",
    "    plt.title('Stock Price Prediction')\n",
    "    plt.xlabel('Time')\n",
    "    plt.ylabel('Stock Price')\n",
    "    plt.legend()\n",
    "    plt.savefig('iqbal_randi')\n",
    "    plt.show()\n",
    "    \n",
    "plot_comparison(y_test, y_hat)"
   ]
  },
  {
   "cell_type": "code",
   "execution_count": 14,
   "metadata": {},
   "outputs": [
    {
     "ename": "NameError",
     "evalue": "name 'y_hat_unscaled' is not defined",
     "output_type": "error",
     "traceback": [
      "\u001b[1;31m---------------------------------------------------------------------------\u001b[0m",
      "\u001b[1;31mNameError\u001b[0m                                 Traceback (most recent call last)",
      "\u001b[1;32m<ipython-input-14-1fcf43a5f8a7>\u001b[0m in \u001b[0;36m<module>\u001b[1;34m\u001b[0m\n\u001b[0;32m      1\u001b[0m \u001b[0mlst\u001b[0m\u001b[1;33m=\u001b[0m\u001b[1;33m[\u001b[0m\u001b[1;33m]\u001b[0m\u001b[1;33m\u001b[0m\u001b[1;33m\u001b[0m\u001b[0m\n\u001b[1;32m----> 2\u001b[1;33m \u001b[1;32mfor\u001b[0m \u001b[0mi\u001b[0m \u001b[1;32min\u001b[0m \u001b[0mrange\u001b[0m\u001b[1;33m(\u001b[0m\u001b[1;36m1\u001b[0m\u001b[1;33m,\u001b[0m \u001b[0mlen\u001b[0m\u001b[1;33m(\u001b[0m\u001b[0my_hat_unscaled\u001b[0m\u001b[1;33m-\u001b[0m\u001b[1;36m1\u001b[0m\u001b[1;33m)\u001b[0m\u001b[1;33m)\u001b[0m\u001b[1;33m:\u001b[0m\u001b[1;33m\u001b[0m\u001b[1;33m\u001b[0m\u001b[0m\n\u001b[0m\u001b[0;32m      3\u001b[0m     \u001b[1;31m#difference = abs(y_val_unscaled[i][0] - y_hat_val_unscaled[i][0])\u001b[0m\u001b[1;33m\u001b[0m\u001b[1;33m\u001b[0m\u001b[1;33m\u001b[0m\u001b[0m\n\u001b[0;32m      4\u001b[0m     \u001b[1;32mif\u001b[0m \u001b[1;33m(\u001b[0m\u001b[0my_test_unscaled\u001b[0m\u001b[1;33m[\u001b[0m\u001b[0mi\u001b[0m\u001b[1;33m]\u001b[0m\u001b[1;33m[\u001b[0m\u001b[1;36m0\u001b[0m\u001b[1;33m]\u001b[0m \u001b[1;33m>=\u001b[0m \u001b[0my_hat_unscaled\u001b[0m\u001b[1;33m[\u001b[0m\u001b[0mi\u001b[0m\u001b[1;33m]\u001b[0m\u001b[1;33m[\u001b[0m\u001b[1;36m0\u001b[0m\u001b[1;33m]\u001b[0m\u001b[1;33m)\u001b[0m\u001b[1;33m:\u001b[0m\u001b[1;33m\u001b[0m\u001b[1;33m\u001b[0m\u001b[0m\n\u001b[0;32m      5\u001b[0m         \u001b[0maccuracy\u001b[0m \u001b[1;33m=\u001b[0m \u001b[1;33m(\u001b[0m\u001b[0my_hat_unscaled\u001b[0m\u001b[1;33m[\u001b[0m\u001b[0mi\u001b[0m\u001b[1;33m]\u001b[0m\u001b[1;33m[\u001b[0m\u001b[1;36m0\u001b[0m\u001b[1;33m]\u001b[0m\u001b[1;33m/\u001b[0m\u001b[0my_test_unscaled\u001b[0m\u001b[1;33m[\u001b[0m\u001b[0mi\u001b[0m\u001b[1;33m]\u001b[0m\u001b[1;33m[\u001b[0m\u001b[1;36m0\u001b[0m\u001b[1;33m]\u001b[0m\u001b[1;33m)\u001b[0m\u001b[1;33m*\u001b[0m\u001b[1;36m100\u001b[0m\u001b[1;33m\u001b[0m\u001b[1;33m\u001b[0m\u001b[0m\n",
      "\u001b[1;31mNameError\u001b[0m: name 'y_hat_unscaled' is not defined"
     ]
    }
   ],
   "source": [
    "lst=[]\n",
    "for i in range(1, len(y_hat_unscaled-1)):\n",
    "    #difference = abs(y_val_unscaled[i][0] - y_hat_val_unscaled[i][0])\n",
    "    if (y_test_unscaled[i][0] >= y_hat_unscaled[i][0]):\n",
    "        accuracy = (y_hat_unscaled[i][0]/y_test_unscaled[i][0])*100\n",
    "        lst.append(accuracy)\n",
    "    else:\n",
    "        accuracy = (y_test_unscaled[i][0]/y_hat_unscaled[i][0])*100\n",
    "        lst.append(accuracy)\n",
    "\n",
    "summ = 0    \n",
    "for i in lst:\n",
    "    summ+=i\n",
    "    \n",
    "mean_acc = summ/len(lst)\n",
    "mean_acc"
   ]
  },
  {
   "cell_type": "code",
   "execution_count": null,
   "metadata": {},
   "outputs": [],
   "source": [
    "# Define plot space\n",
    "fig, ax = plt.subplots(figsize=(10, 6))\n",
    "\n",
    "# Create scatter plot\n",
    "ax.scatter(range(y_test.shape[0]), \n",
    "           y_test)\n",
    "\n",
    "ax.scatter(range(y_test.shape[0]), \n",
    "           y_hat)\n",
    "\n",
    "plt.show()\n"
   ]
  },
  {
   "cell_type": "code",
   "execution_count": null,
   "metadata": {},
   "outputs": [],
   "source": []
  },
  {
   "cell_type": "code",
   "execution_count": null,
   "metadata": {},
   "outputs": [],
   "source": []
  },
  {
   "cell_type": "markdown",
   "metadata": {},
   "source": [
    "## Validating\n",
    "\n"
   ]
  },
  {
   "cell_type": "code",
   "execution_count": 15,
   "metadata": {},
   "outputs": [],
   "source": [
    "y_hat_val = model.predict(x_val) #Prediction over val set\n",
    "\n"
   ]
  },
  {
   "cell_type": "code",
   "execution_count": null,
   "metadata": {},
   "outputs": [],
   "source": [
    "#y_hat_val_unscaled = y_hat_val/val_scale[0]\n",
    "#y_val_unscaled = y_val/val_scale[0]\n",
    "\n",
    "#Scaling back to original values\n"
   ]
  },
  {
   "cell_type": "code",
   "execution_count": null,
   "metadata": {},
   "outputs": [],
   "source": [
    "#x_val[-1]/val_scale[0]"
   ]
  },
  {
   "cell_type": "code",
   "execution_count": 18,
   "metadata": {},
   "outputs": [
    {
     "data": {
      "image/png": "[encoded data removed]",
      "text/plain": [
       "<Figure size 1008x360 with 1 Axes>"
      ]
     },
     "metadata": {
      "needs_background": "light"
     },
     "output_type": "display_data"
    }
   ],
   "source": [
    "plot_comparison(y_val, y_hat_val)"
   ]
  },
  {
   "cell_type": "code",
   "execution_count": null,
   "metadata": {},
   "outputs": [],
   "source": [
    "lst=[]\n",
    "for i in range(1, len(y_val_unscaled-1)):\n",
    "    #difference = abs(y_val_unscaled[i][0] - y_hat_val_unscaled[i][0])\n",
    "    if (y_val_unscaled[i][0] >= y_hat_val_unscaled[i][0]):\n",
    "        accuracy = (y_hat_val_unscaled[i][0]/y_val_unscaled[i][0])*100\n",
    "        lst.append(accuracy)\n",
    "    else:\n",
    "        accuracy = (y_val_unscaled[i][0]/y_hat_val_unscaled[i][0])*100\n",
    "        lst.append(accuracy)\n",
    "\n",
    "summ = 0    \n",
    "for i in lst:\n",
    "    summ+=i\n",
    "    \n",
    "mean_acc = summ/len(lst)\n",
    "mean_acc"
   ]
  },
  {
   "cell_type": "markdown",
   "metadata": {},
   "source": [
    "## Future Prices"
   ]
  },
  {
   "cell_type": "markdown",
   "metadata": {},
   "source": [
    "#### To predict further into the future, we iterate the model to predict each day, store its predicted value and using that predict further. "
   ]
  },
  {
   "cell_type": "code",
   "execution_count": null,
   "metadata": {},
   "outputs": [],
   "source": [
    "import datetime\n",
    "def future(array, model, days):\n",
    "    temp = prices[-17:]\n",
    "\n",
    "    temp = np.asarray(temp)\n",
    "    temp = data.reshape(-1, 1)\n",
    "    \n",
    "    temp = x_val[-1][-15:].reshape(-1)\n",
    "    temp = temp.tolist()\n",
    "    \n",
    "    for i in range(days):\n",
    "        prev = np.array(temp[-15:]).reshape(1, 15, 1)\n",
    "        temp.append(model.predict(prev)[0][0])\n",
    "    #temp = temp/test_scale[0]\n",
    "\n",
    "    dates = abl['Date'].iloc[-15:]\n",
    "    dates = np.array(dates).tolist()\n",
    "\n",
    "    today = datetime.date.today()\n",
    "    i=1\n",
    "    while len(dates)<len(temp):\n",
    "        d1 = today + datetime.timedelta(days = i)\n",
    "        i+=1\n",
    "        d2 = d1.weekday()\n",
    "        if (d2==5 or d2==6):\n",
    "            continue\n",
    "        d1 = d1.strftime(\"%Y-%m-%d\")\n",
    "        dates.append(d1)\n",
    "    \n",
    "    return(temp, dates)\n",
    "\n",
    "lookahead, dates = future(x_val, model, 7)\n",
    "print(lookahead)\n",
    "#y_val_unscaled[-1][-1]"
   ]
  },
  {
   "cell_type": "code",
   "execution_count": null,
   "metadata": {},
   "outputs": [],
   "source": [
    "lookahead.shape"
   ]
  },
  {
   "cell_type": "code",
   "execution_count": null,
   "metadata": {},
   "outputs": [],
   "source": [
    "def plot_future(dates, lookahead):\n",
    "\n",
    "    plt.figure(figsize = (18,9))\n",
    "    plt.plot(dates[:15], lookahead[:15])\n",
    "    plt.plot(dates[14:], lookahead[14:])\n",
    "    plt.xlabel('Date', fontsize=18)\n",
    "    plt.xticks(range(0, len(dates), 1), rotation=45)\n",
    "    plt.ylabel('Open', fontsize=18)\n",
    "    #plt.savefig('OGDC_30')\n",
    "    plt.show()\n",
    "\n"
   ]
  },
  {
   "cell_type": "code",
   "execution_count": null,
   "metadata": {},
   "outputs": [],
   "source": [
    "lookahead, dates = future(x_val, model, 1)\n",
    "plot_future(dates, lookahead)\n"
   ]
  },
  {
   "cell_type": "code",
   "execution_count": null,
   "metadata": {},
   "outputs": [],
   "source": []
  },
  {
   "cell_type": "code",
   "execution_count": null,
   "metadata": {},
   "outputs": [],
   "source": [
    "lookahead, dates = future(x_val, model, 7)\n",
    "plot_future(dates, lookahead)"
   ]
  },
  {
   "cell_type": "code",
   "execution_count": null,
   "metadata": {},
   "outputs": [],
   "source": [
    "lookahead, dates = future(x_val, model, 14)\n",
    "plot_future(dates, lookahead)"
   ]
  },
  {
   "cell_type": "code",
   "execution_count": null,
   "metadata": {},
   "outputs": [],
   "source": [
    "lookahead, dates = future(x_val, model, 30)\n",
    "plot_future(dates, lookahead)"
   ]
  },
  {
   "cell_type": "code",
   "execution_count": null,
   "metadata": {},
   "outputs": [],
   "source": [
    "\n",
    "\n",
    "prices = abl['Open'] #We choose to predict the price of the given column\n",
    "\n",
    "    # 80-20 split into Train-Test\n",
    "old = prices[-18:]\n",
    "data = prices[-17:]\n",
    "\n",
    "data = np.asarray(data)\n",
    "data = data.reshape(-1, 1)\n",
    "\n",
    "old = np.asarray(old)\n",
    "old = data.reshape(-1, 1)\n",
    "\n",
    "#print(data)\n",
    "data_x, data_y, scale = val_prep(data, old, 15)\n",
    "output = model.predict(data_x)\n",
    "#print(data_x)\n",
    "print('------------------------------------')\n",
    "print(data_x[-1])\n",
    "print(output[-1])\n",
    "print(data_y[-1])\n",
    "\n",
    "\n",
    "    \n",
    "    "
   ]
  }
 ],
 "metadata": {
  "kernelspec": {
   "display_name": "Python 3",
   "language": "python",
   "name": "python3"
  },
  "language_info": {
   "codemirror_mode": {
    "name": "ipython",
    "version": 3
   },
   "file_extension": ".py",
   "mimetype": "text/x-python",
   "name": "python",
   "nbconvert_exporter": "python",
   "pygments_lexer": "ipython3",
   "version": "3.7.6"
  }
 },
 "nbformat": 4,
 "nbformat_minor": 4
}
