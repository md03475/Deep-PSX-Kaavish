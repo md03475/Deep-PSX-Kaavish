{
  "nbformat": 4,
  "nbformat_minor": 0,
  "metadata": {
    "kernelspec": {
      "display_name": "Python 3",
      "language": "python",
      "name": "python3"
    },
    "language_info": {
      "codemirror_mode": {
        "name": "ipython",
        "version": 3
      },
      "file_extension": ".py",
      "mimetype": "text/x-python",
      "name": "python",
      "nbconvert_exporter": "python",
      "pygments_lexer": "ipython3",
      "version": "3.7.6"
    },
    "colab": {
      "name": "GRU KSE100.ipynb",
      "provenance": [],
      "collapsed_sections": []
    }
  },
  "cells": [
    {
      "cell_type": "markdown",
      "metadata": {
        "id": "57BuHAzQmthN"
      },
      "source": [
        "# Prediction Mechanism "
      ]
    },
    {
      "cell_type": "markdown",
      "metadata": {
        "id": "2ov6NdACmthR"
      },
      "source": [
        "## Import all relevant libraries and data"
      ]
    },
    {
      "cell_type": "code",
      "metadata": {
        "colab": {
          "base_uri": "https://localhost:8080/"
        },
        "id": "--YJLkgcqtNz",
        "outputId": "714fc889-e976-4fd4-96ca-e0f459d34e09"
      },
      "source": [
        "!pip install tensorflow\r\n",
        "!pip install keras"
      ],
      "execution_count": 93,
      "outputs": [
        {
          "output_type": "stream",
          "text": [
            "Requirement already satisfied: tensorflow in /usr/local/lib/python3.7/dist-packages (2.4.1)\n",
            "Requirement already satisfied: wrapt~=1.12.1 in /usr/local/lib/python3.7/dist-packages (from tensorflow) (1.12.1)\n",
            "Requirement already satisfied: astunparse~=1.6.3 in /usr/local/lib/python3.7/dist-packages (from tensorflow) (1.6.3)\n",
            "Requirement already satisfied: tensorboard~=2.4 in /usr/local/lib/python3.7/dist-packages (from tensorflow) (2.4.1)\n",
            "Requirement already satisfied: keras-preprocessing~=1.1.2 in /usr/local/lib/python3.7/dist-packages (from tensorflow) (1.1.2)\n",
            "Requirement already satisfied: grpcio~=1.32.0 in /usr/local/lib/python3.7/dist-packages (from tensorflow) (1.32.0)\n",
            "Requirement already satisfied: typing-extensions~=3.7.4 in /usr/local/lib/python3.7/dist-packages (from tensorflow) (3.7.4.3)\n",
            "Requirement already satisfied: flatbuffers~=1.12.0 in /usr/local/lib/python3.7/dist-packages (from tensorflow) (1.12)\n",
            "Requirement already satisfied: numpy~=1.19.2 in /usr/local/lib/python3.7/dist-packages (from tensorflow) (1.19.5)\n",
            "Requirement already satisfied: opt-einsum~=3.3.0 in /usr/local/lib/python3.7/dist-packages (from tensorflow) (3.3.0)\n",
            "Requirement already satisfied: protobuf>=3.9.2 in /usr/local/lib/python3.7/dist-packages (from tensorflow) (3.12.4)\n",
            "Requirement already satisfied: six~=1.15.0 in /usr/local/lib/python3.7/dist-packages (from tensorflow) (1.15.0)\n",
            "Requirement already satisfied: wheel~=0.35 in /usr/local/lib/python3.7/dist-packages (from tensorflow) (0.36.2)\n",
            "Requirement already satisfied: gast==0.3.3 in /usr/local/lib/python3.7/dist-packages (from tensorflow) (0.3.3)\n",
            "Requirement already satisfied: absl-py~=0.10 in /usr/local/lib/python3.7/dist-packages (from tensorflow) (0.10.0)\n",
            "Requirement already satisfied: tensorflow-estimator<2.5.0,>=2.4.0 in /usr/local/lib/python3.7/dist-packages (from tensorflow) (2.4.0)\n",
            "Requirement already satisfied: termcolor~=1.1.0 in /usr/local/lib/python3.7/dist-packages (from tensorflow) (1.1.0)\n",
            "Requirement already satisfied: h5py~=2.10.0 in /usr/local/lib/python3.7/dist-packages (from tensorflow) (2.10.0)\n",
            "Requirement already satisfied: google-pasta~=0.2 in /usr/local/lib/python3.7/dist-packages (from tensorflow) (0.2.0)\n",
            "Requirement already satisfied: markdown>=2.6.8 in /usr/local/lib/python3.7/dist-packages (from tensorboard~=2.4->tensorflow) (3.3.4)\n",
            "Requirement already satisfied: setuptools>=41.0.0 in /usr/local/lib/python3.7/dist-packages (from tensorboard~=2.4->tensorflow) (54.0.0)\n",
            "Requirement already satisfied: google-auth<2,>=1.6.3 in /usr/local/lib/python3.7/dist-packages (from tensorboard~=2.4->tensorflow) (1.27.0)\n",
            "Requirement already satisfied: requests<3,>=2.21.0 in /usr/local/lib/python3.7/dist-packages (from tensorboard~=2.4->tensorflow) (2.23.0)\n",
            "Requirement already satisfied: werkzeug>=0.11.15 in /usr/local/lib/python3.7/dist-packages (from tensorboard~=2.4->tensorflow) (1.0.1)\n",
            "Requirement already satisfied: google-auth-oauthlib<0.5,>=0.4.1 in /usr/local/lib/python3.7/dist-packages (from tensorboard~=2.4->tensorflow) (0.4.2)\n",
            "Requirement already satisfied: tensorboard-plugin-wit>=1.6.0 in /usr/local/lib/python3.7/dist-packages (from tensorboard~=2.4->tensorflow) (1.8.0)\n",
            "Requirement already satisfied: importlib-metadata; python_version < \"3.8\" in /usr/local/lib/python3.7/dist-packages (from markdown>=2.6.8->tensorboard~=2.4->tensorflow) (3.7.0)\n",
            "Requirement already satisfied: pyasn1-modules>=0.2.1 in /usr/local/lib/python3.7/dist-packages (from google-auth<2,>=1.6.3->tensorboard~=2.4->tensorflow) (0.2.8)\n",
            "Requirement already satisfied: rsa<5,>=3.1.4; python_version >= \"3.6\" in /usr/local/lib/python3.7/dist-packages (from google-auth<2,>=1.6.3->tensorboard~=2.4->tensorflow) (4.7.2)\n",
            "Requirement already satisfied: cachetools<5.0,>=2.0.0 in /usr/local/lib/python3.7/dist-packages (from google-auth<2,>=1.6.3->tensorboard~=2.4->tensorflow) (4.2.1)\n",
            "Requirement already satisfied: certifi>=2017.4.17 in /usr/local/lib/python3.7/dist-packages (from requests<3,>=2.21.0->tensorboard~=2.4->tensorflow) (2020.12.5)\n",
            "Requirement already satisfied: chardet<4,>=3.0.2 in /usr/local/lib/python3.7/dist-packages (from requests<3,>=2.21.0->tensorboard~=2.4->tensorflow) (3.0.4)\n",
            "Requirement already satisfied: urllib3!=1.25.0,!=1.25.1,<1.26,>=1.21.1 in /usr/local/lib/python3.7/dist-packages (from requests<3,>=2.21.0->tensorboard~=2.4->tensorflow) (1.24.3)\n",
            "Requirement already satisfied: idna<3,>=2.5 in /usr/local/lib/python3.7/dist-packages (from requests<3,>=2.21.0->tensorboard~=2.4->tensorflow) (2.10)\n",
            "Requirement already satisfied: requests-oauthlib>=0.7.0 in /usr/local/lib/python3.7/dist-packages (from google-auth-oauthlib<0.5,>=0.4.1->tensorboard~=2.4->tensorflow) (1.3.0)\n",
            "Requirement already satisfied: zipp>=0.5 in /usr/local/lib/python3.7/dist-packages (from importlib-metadata; python_version < \"3.8\"->markdown>=2.6.8->tensorboard~=2.4->tensorflow) (3.4.0)\n",
            "Requirement already satisfied: pyasn1<0.5.0,>=0.4.6 in /usr/local/lib/python3.7/dist-packages (from pyasn1-modules>=0.2.1->google-auth<2,>=1.6.3->tensorboard~=2.4->tensorflow) (0.4.8)\n",
            "Requirement already satisfied: oauthlib>=3.0.0 in /usr/local/lib/python3.7/dist-packages (from requests-oauthlib>=0.7.0->google-auth-oauthlib<0.5,>=0.4.1->tensorboard~=2.4->tensorflow) (3.1.0)\n",
            "Requirement already satisfied: keras in /usr/local/lib/python3.7/dist-packages (2.4.3)\n",
            "Requirement already satisfied: h5py in /usr/local/lib/python3.7/dist-packages (from keras) (2.10.0)\n",
            "Requirement already satisfied: scipy>=0.14 in /usr/local/lib/python3.7/dist-packages (from keras) (1.4.1)\n",
            "Requirement already satisfied: pyyaml in /usr/local/lib/python3.7/dist-packages (from keras) (3.13)\n",
            "Requirement already satisfied: numpy>=1.9.1 in /usr/local/lib/python3.7/dist-packages (from keras) (1.19.5)\n",
            "Requirement already satisfied: six in /usr/local/lib/python3.7/dist-packages (from h5py->keras) (1.15.0)\n"
          ],
          "name": "stdout"
        }
      ]
    },
    {
      "cell_type": "code",
      "metadata": {
        "id": "HGHp3QckmthS"
      },
      "source": [
        "import pandas as pd\n",
        "import numpy as np\n",
        "import matplotlib.pyplot as plt\n",
        "import seaborn as sns\n",
        "import tensorflow as tf\n",
        "from keras.optimizers import Adam\n",
        "from keras.utils import plot_model\n",
        "from tensorflow import keras\n",
        "from keras.models import Sequential, save_model, load_model\n",
        "from keras.layers import LSTM, Dense, Dropout, GRU\n",
        "from sklearn.preprocessing import MinMaxScaler\n"
      ],
      "execution_count": 94,
      "outputs": []
    },
    {
      "cell_type": "markdown",
      "metadata": {
        "id": "PPBmCNC5mthT"
      },
      "source": [
        "## Data Visualization"
      ]
    },
    {
      "cell_type": "markdown",
      "metadata": {
        "id": "fxRjsekDmthT"
      },
      "source": [
        "#### A file is chosen as a sample. The code is generalized for all such files."
      ]
    },
    {
      "cell_type": "code",
      "metadata": {
        "colab": {
          "base_uri": "https://localhost:8080/",
          "height": 204
        },
        "id": "XRdtXU4EmthT",
        "outputId": "fa7f196a-6b76-4d0a-a39f-064eacf9d7d2"
      },
      "source": [
        "abl = pd.read_csv('BATA PA Equity.csv') \n",
        "abl.tail()"
      ],
      "execution_count": 95,
      "outputs": [
        {
          "output_type": "execute_result",
          "data": {
            "text/html": [
              "<div>\n",
              "<style scoped>\n",
              "    .dataframe tbody tr th:only-of-type {\n",
              "        vertical-align: middle;\n",
              "    }\n",
              "\n",
              "    .dataframe tbody tr th {\n",
              "        vertical-align: top;\n",
              "    }\n",
              "\n",
              "    .dataframe thead th {\n",
              "        text-align: right;\n",
              "    }\n",
              "</style>\n",
              "<table border=\"1\" class=\"dataframe\">\n",
              "  <thead>\n",
              "    <tr style=\"text-align: right;\">\n",
              "      <th></th>\n",
              "      <th>Date</th>\n",
              "      <th>Open</th>\n",
              "      <th>High</th>\n",
              "      <th>Low</th>\n",
              "      <th>Close</th>\n",
              "      <th>Volume</th>\n",
              "    </tr>\n",
              "  </thead>\n",
              "  <tbody>\n",
              "    <tr>\n",
              "      <th>5153</th>\n",
              "      <td>2020-10-02</td>\n",
              "      <td>1840.0</td>\n",
              "      <td>1840.0</td>\n",
              "      <td>1689.01</td>\n",
              "      <td>1689.51</td>\n",
              "      <td>400</td>\n",
              "    </tr>\n",
              "    <tr>\n",
              "      <th>5154</th>\n",
              "      <td>2020-10-05</td>\n",
              "      <td>1650.0</td>\n",
              "      <td>1660.0</td>\n",
              "      <td>1630.00</td>\n",
              "      <td>1650.00</td>\n",
              "      <td>320</td>\n",
              "    </tr>\n",
              "    <tr>\n",
              "      <th>5155</th>\n",
              "      <td>2020-10-06</td>\n",
              "      <td>1625.0</td>\n",
              "      <td>1634.0</td>\n",
              "      <td>1600.00</td>\n",
              "      <td>1631.60</td>\n",
              "      <td>620</td>\n",
              "    </tr>\n",
              "    <tr>\n",
              "      <th>5156</th>\n",
              "      <td>2020-10-07</td>\n",
              "      <td>1636.0</td>\n",
              "      <td>1638.0</td>\n",
              "      <td>1630.00</td>\n",
              "      <td>1636.50</td>\n",
              "      <td>560</td>\n",
              "    </tr>\n",
              "    <tr>\n",
              "      <th>5157</th>\n",
              "      <td>2020-10-08</td>\n",
              "      <td>1625.0</td>\n",
              "      <td>1625.0</td>\n",
              "      <td>1625.00</td>\n",
              "      <td>1625.00</td>\n",
              "      <td>20</td>\n",
              "    </tr>\n",
              "  </tbody>\n",
              "</table>\n",
              "</div>"
            ],
            "text/plain": [
              "            Date    Open    High      Low    Close  Volume\n",
              "5153  2020-10-02  1840.0  1840.0  1689.01  1689.51     400\n",
              "5154  2020-10-05  1650.0  1660.0  1630.00  1650.00     320\n",
              "5155  2020-10-06  1625.0  1634.0  1600.00  1631.60     620\n",
              "5156  2020-10-07  1636.0  1638.0  1630.00  1636.50     560\n",
              "5157  2020-10-08  1625.0  1625.0  1625.00  1625.00      20"
            ]
          },
          "metadata": {
            "tags": []
          },
          "execution_count": 95
        }
      ]
    },
    {
      "cell_type": "code",
      "metadata": {
        "colab": {
          "base_uri": "https://localhost:8080/",
          "height": 574
        },
        "id": "yxFbxalAmthT",
        "outputId": "4fb0ace4-5341-4fed-e0d7-b30e62382ebd"
      },
      "source": [
        "plt.figure(figsize = (18,9))\n",
        "plt.plot(range(abl.shape[0]), abl['Close'])\n",
        "plt.xticks(range(0, abl.shape[0], 500), rotation=45)\n",
        "plt.xlabel('Date', fontsize=18)\n",
        "plt.ylabel('Open', fontsize=18)\n",
        "plt.show()"
      ],
      "execution_count": 96,
      "outputs": [
        {
          "output_type": "display_data",
          "data": {
            "image/png": "[encoded data removed]",
            "text/plain": [
              "<Figure size 1296x648 with 1 Axes>"
            ]
          },
          "metadata": {
            "tags": [],
            "needs_background": "light"
          }
        }
      ]
    },
    {
      "cell_type": "markdown",
      "metadata": {
        "id": "_Wa3paXpmthU"
      },
      "source": [
        "## Test-Train-Validation Split"
      ]
    },
    {
      "cell_type": "markdown",
      "metadata": {
        "id": "VJMeVdnBmthU"
      },
      "source": [
        "#### The data is split into 3 parts. \n",
        "\n",
        "#### The first is the train part where we provide the model real prices as input and labels. It analyses the prices and attempts to predict the next day price. When predicted, the actual price for that day is given so it can learn accordingly.\n",
        "\n",
        "#### The second is the test part, where we provide the model data it has not seen before and ask it to predict using this new data entirely.\n",
        "\n",
        "#### The third part is the validation part. We keep some data never shown to the model in train and test parts and then ask it to predict this without ever seeing it."
      ]
    },
    {
      "cell_type": "code",
      "metadata": {
        "colab": {
          "base_uri": "https://localhost:8080/"
        },
        "id": "au5jeJInmthU",
        "outputId": "6a11e756-ce32-40e3-bb0d-9a289774b00c"
      },
      "source": [
        "def test_train_split(df, column):\n",
        "\n",
        "    prices = df[column] #We choose to predict the price of the given column\n",
        "\n",
        "    # 80-20 split into Train-Test\n",
        "\n",
        "    train_data = prices[:int(len(prices)*0.7)]\n",
        "    test_data = prices[int(len(prices)*0.7):int(len(prices)*0.8)]\n",
        "    val_data = prices[int(len(prices)*0.8):]\n",
        "    \n",
        "    #Convert to ndarray\n",
        "\n",
        "    train_data = np.asarray(train_data)\n",
        "    test_data = np.asarray(test_data)\n",
        "    val_data = np.asarray(val_data)\n",
        "    \n",
        "    #Transform data\n",
        "    \n",
        "    train_data = train_data.reshape(-1, 1)\n",
        "    test_data = test_data.reshape(-1, 1)\n",
        "    val_data = val_data.reshape(-1, 1)\n",
        "    \n",
        "\n",
        "    print(train_data.shape[0])\n",
        "    print(test_data.shape[0])\n",
        "    print(val_data.shape[0])\n",
        "\n",
        "    \n",
        "    return train_data, test_data, val_data\n",
        "    \n",
        "train_data, test_data, val_data = test_train_split(abl, 'Close')"
      ],
      "execution_count": 97,
      "outputs": [
        {
          "output_type": "stream",
          "text": [
            "3610\n",
            "516\n",
            "1032\n"
          ],
          "name": "stdout"
        }
      ]
    },
    {
      "cell_type": "code",
      "metadata": {
        "colab": {
          "base_uri": "https://localhost:8080/"
        },
        "id": "N7qc0iGhmthU",
        "outputId": "230db828-f7d5-42e0-cba1-889921bdcb58"
      },
      "source": [
        "dates = abl['Date']\r\n",
        "dates1 = dates[int(len(dates)*0.7):]\r\n",
        "dates1"
      ],
      "execution_count": 112,
      "outputs": [
        {
          "output_type": "execute_result",
          "data": {
            "text/plain": [
              "3610    2014-11-04\n",
              "3611    2014-11-05\n",
              "3612    2014-11-06\n",
              "3613    2014-11-07\n",
              "3614    2014-11-10\n",
              "           ...    \n",
              "5153    2020-10-02\n",
              "5154    2020-10-05\n",
              "5155    2020-10-06\n",
              "5156    2020-10-07\n",
              "5157    2020-10-08\n",
              "Name: Date, Length: 1548, dtype: object"
            ]
          },
          "metadata": {
            "tags": []
          },
          "execution_count": 112
        }
      ]
    },
    {
      "cell_type": "markdown",
      "metadata": {
        "id": "2sU_RnvomthU"
      },
      "source": [
        "## Check distribution of data with scaling"
      ]
    },
    {
      "cell_type": "markdown",
      "metadata": {
        "id": "fE2VNnH0mthV"
      },
      "source": [
        "#### A recurrent neural network works better when data is squished between a limit. We want to see if scaling our data this way has any change on its distribution. "
      ]
    },
    {
      "cell_type": "code",
      "metadata": {
        "colab": {
          "base_uri": "https://localhost:8080/",
          "height": 52
        },
        "id": "2VuhSnQemthV",
        "outputId": "5598580d-07c1-4e3b-a15d-0d7d3e8e68d5"
      },
      "source": [
        "''''fig1, ax1 = plt.subplots()\n",
        "ax1.set_title('Data Distribution')\n",
        "ax1.boxplot(train_data, patch_artist=True)\n",
        "\n",
        "#tempScaler = MinMaxScaler()\n",
        "#scaled_data = tempScaler.fit_transform(train_data)\n",
        "\n",
        "fig1, ax1 = plt.subplots()\n",
        "ax1.set_title('Scaled Data Distribution')\n",
        "ax1.boxplot(scaled_data, patch_artist=True)'''\n",
        "\n",
        "\n"
      ],
      "execution_count": 98,
      "outputs": [
        {
          "output_type": "execute_result",
          "data": {
            "application/vnd.google.colaboratory.intrinsic+json": {
              "type": "string"
            },
            "text/plain": [
              "\"'fig1, ax1 = plt.subplots()\\nax1.set_title('Data Distribution')\\nax1.boxplot(train_data, patch_artist=True)\\n\\n#tempScaler = MinMaxScaler()\\n#scaled_data = tempScaler.fit_transform(train_data)\\n\\nfig1, ax1 = plt.subplots()\\nax1.set_title('Scaled Data Distribution')\\nax1.boxplot(scaled_data, patch_artist=True)\""
            ]
          },
          "metadata": {
            "tags": []
          },
          "execution_count": 98
        }
      ]
    },
    {
      "cell_type": "markdown",
      "metadata": {
        "id": "Bx6RA-wNmthV"
      },
      "source": [
        "#### We can see scaling our data does not change the distribution"
      ]
    },
    {
      "cell_type": "markdown",
      "metadata": {
        "id": "8FPN6FogmthV"
      },
      "source": [
        "## Prepare Train set"
      ]
    },
    {
      "cell_type": "markdown",
      "metadata": {
        "id": "6FdXiMZGmthV"
      },
      "source": [
        "#### The data is prepared with the following methodology:\n",
        "\n",
        "#### We take a window (set of days) to analyze the recent stock movemement. Based on that analysis, and the weight of historical learning (previous analyses), a prediction for  the window+1 day is made. The model compares the predicted price with the original price and adjusts its parameters. This is done iteratively, with a step of window+1 in each iteration. \n",
        "\n",
        "#### For example, for a window of 5, the model would look at day 1 to day 5 and predict day 6. Once day 6 is predicted, it would adjust parameters and then move onto the next window of day 7 to day 11 and predict day 12 and so on.\n",
        "\n",
        "#### The days in the window are stored in x_train (the features). The days to be predicted are stored in y_train (labels). This results in two arrays, x_train and y_train which we would feed into the model"
      ]
    },
    {
      "cell_type": "code",
      "metadata": {
        "colab": {
          "base_uri": "https://localhost:8080/"
        },
        "id": "4pa8V594mthW",
        "outputId": "8307f360-d99f-4690-85a6-0979f34c5ad8"
      },
      "source": [
        "def train_prep(train_data, window):\n",
        "\n",
        "    scaler = MinMaxScaler((0, 1))\n",
        "    scaled_train_data = scaler.fit_transform(train_data)\n",
        "\n",
        "    x_train = [] #Features\n",
        "    y_train = [] #Labels\n",
        "\n",
        "    for i in range(window, scaled_train_data.shape[0], window+1): #Make windows of 60 days for training until last day\n",
        "\n",
        "        x_train.append(train_data[i-window:i]) #n day window to look back\n",
        "        y_train.append(train_data[i:i+1, 0]) #predict for specified days\n",
        "\n",
        "    x_train = np.array(x_train) \n",
        "    y_train = np.array(y_train)\n",
        "    \n",
        "    print(x_train.shape, y_train.shape, scaler.scale_)\n",
        "    \n",
        "    return x_train, y_train, scaler.scale_\n",
        "    \n",
        "x_train, y_train, scale_train = train_prep(train_data, 5)"
      ],
      "execution_count": 99,
      "outputs": [
        {
          "output_type": "stream",
          "text": [
            "(601, 5, 1) (601, 1) [0.0003578]\n"
          ],
          "name": "stdout"
        }
      ]
    },
    {
      "cell_type": "markdown",
      "metadata": {
        "id": "7MWRIYr1mthW"
      },
      "source": [
        "## Prepare test and validation set"
      ]
    },
    {
      "cell_type": "markdown",
      "metadata": {
        "id": "PBg_MhFYmthW"
      },
      "source": [
        "#### Exactly the same way as train set, we will make the test set. The only difference is that the test set takes the last window from the train set so it can predict in continuation. "
      ]
    },
    {
      "cell_type": "code",
      "metadata": {
        "colab": {
          "base_uri": "https://localhost:8080/"
        },
        "id": "pDNaoW0bmthW",
        "outputId": "501ff973-d7b6-46ea-eb5e-241cfd3569b3"
      },
      "source": [
        "def test_prep(test_data, train_data, window):\n",
        "    \n",
        "    scaler = MinMaxScaler((0, 1))\n",
        "    test_data = np.concatenate((train_data[:window], test_data), axis = 0) #Add last previous observations of train data to test\n",
        "    scaled_test_data = scaler.fit_transform(test_data)\n",
        "\n",
        "    x_test = []\n",
        "    y_test = []\n",
        "\n",
        "    for i in range(window, test_data.shape[0], window+1):\n",
        "        x_test.append(test_data[i-window:i])\n",
        "        y_test.append(test_data[i:i+1, 0])\n",
        "\n",
        "    x_test = np.array(x_test)\n",
        "    y_test = np.array(y_test)\n",
        "        \n",
        "    print(x_test.shape, y_test.shape, scaler.scale_)\n",
        "    return x_test, y_test, scaler.scale_\n",
        "    \n",
        "x_test, y_test, test_scale = test_prep(test_data, train_data, 5)"
      ],
      "execution_count": 100,
      "outputs": [
        {
          "output_type": "stream",
          "text": [
            "(86, 5, 1) (86, 1) [0.00030466]\n"
          ],
          "name": "stdout"
        }
      ]
    },
    {
      "cell_type": "code",
      "metadata": {
        "colab": {
          "base_uri": "https://localhost:8080/"
        },
        "id": "7O41BHXumthW",
        "outputId": "a529db14-15b0-4ac0-c22b-f4b511335b47"
      },
      "source": [
        "def val_prep(val_data, test_data, window):\n",
        "    \n",
        "    scaler = MinMaxScaler((0, 1))\n",
        "    val_data = np.concatenate((test_data[:window], val_data), axis = 0) #Add last previous observations of train data to test\n",
        "    scaled_val_data = scaler.fit_transform(val_data)\n",
        "\n",
        "    x_val = []\n",
        "    y_val = []\n",
        "\n",
        "    for i in range(window, val_data.shape[0], window+1):\n",
        "        x_val.append(val_data[i-window:i])\n",
        "        y_val.append(val_data[i:i+1, 0])\n",
        "\n",
        "    x_val = np.array(x_val)\n",
        "    y_val = np.array(y_val)\n",
        "        \n",
        "    print(x_val.shape, y_val.shape, scaler.scale_)\n",
        "    return x_val, y_val, scaler.scale_\n",
        "    \n",
        "x_val, y_val, val_scale = val_prep(val_data, test_data, 5)"
      ],
      "execution_count": 101,
      "outputs": [
        {
          "output_type": "stream",
          "text": [
            "(172, 5, 1) (172, 1) [0.0003726]\n"
          ],
          "name": "stdout"
        }
      ]
    },
    {
      "cell_type": "markdown",
      "metadata": {
        "id": "l7wsVtrOmthX"
      },
      "source": [
        "## Building the LSTM"
      ]
    },
    {
      "cell_type": "markdown",
      "metadata": {
        "id": "8-GsszJ0mthX"
      },
      "source": [
        "#### We chose the GRU model as it performed the best on our problem. The architecture is such that there are two layers of GRU. The first layer takes the input as we defined in train and test sets. It then forwards its results to the second layer which works similarly. Both layers are activated by ReLU on the output to ensure non-linearity of our problem. "
      ]
    },
    {
      "cell_type": "code",
      "metadata": {
        "colab": {
          "base_uri": "https://localhost:8080/",
          "height": 607
        },
        "id": "lwdXbtyYmthX",
        "outputId": "0c6dfc82-0f3f-415f-e6bd-36d30dbd0eea"
      },
      "source": [
        "def create_model(x_train, units_1, units_2):\n",
        "\n",
        "    model = Sequential()\n",
        "\n",
        "    model.add(GRU(units = units_1, activation = 'relu', return_sequences = True, input_shape = (x_train.shape[1], x_train.shape[2])))\n",
        "\n",
        "    model.add(GRU(units = units_2, activation = 'relu'))\n",
        "\n",
        "    model.add(Dense(units = 1))\n",
        "    \n",
        "    return model\n",
        "    \n",
        "model = create_model(x_train, 16, 32)\n",
        "\n",
        "model.summary()\n",
        "\n",
        "plot_model(model, to_file='model.png')"
      ],
      "execution_count": 102,
      "outputs": [
        {
          "output_type": "stream",
          "text": [
            "Model: \"sequential_5\"\n",
            "_________________________________________________________________\n",
            "Layer (type)                 Output Shape              Param #   \n",
            "=================================================================\n",
            "gru_10 (GRU)                 (None, 5, 16)             912       \n",
            "_________________________________________________________________\n",
            "gru_11 (GRU)                 (None, 32)                4800      \n",
            "_________________________________________________________________\n",
            "dense_5 (Dense)              (None, 1)                 33        \n",
            "=================================================================\n",
            "Total params: 5,745\n",
            "Trainable params: 5,745\n",
            "Non-trainable params: 0\n",
            "_________________________________________________________________\n"
          ],
          "name": "stdout"
        },
        {
          "output_type": "execute_result",
          "data": {
            "image/png": "[encoded data removed]",
            "text/plain": [
              "<IPython.core.display.Image object>"
            ]
          },
          "metadata": {
            "tags": []
          },
          "execution_count": 102
        }
      ]
    },
    {
      "cell_type": "markdown",
      "metadata": {
        "id": "vLuA94bJmthX"
      },
      "source": [
        "#### ADAM is an optimizer used to optimize the Stochastic Gradient Descent used to minimize the error the model makes. Mean Squared Error is the error or loss function used to tell the model how to minimize the error in each step. The number of epochs is defined as how many times the model would need to go through the whole data in order to reach the minimum point of the loss. We have chosen the number at which we are sure the loss becomes constant and does not drop significiantly anymore. The batch size is defined as how many training examples should it put in one batch since the parameters are adjusted after each batch."
      ]
    },
    {
      "cell_type": "code",
      "metadata": {
        "scrolled": false,
        "colab": {
          "base_uri": "https://localhost:8080/"
        },
        "id": "U9DxZPrQmthX",
        "outputId": "0cc2aba6-45d9-42f0-8d2f-0c745e1fa491"
      },
      "source": [
        "def compile_model(model, x_train, y_train, x_test, y_test):\n",
        "\n",
        "    model.compile(optimizer='adam', loss= 'mean_squared_error')\n",
        "    history = model.fit(x_train, y_train, epochs=10, batch_size=32, validation_data = (x_test, y_test), verbose = 1)\n",
        "    return history\n",
        "\n",
        "history = compile_model(model, x_train, y_train, x_test, y_test)\n",
        "model.save(\"LSTM\")"
      ],
      "execution_count": 103,
      "outputs": [
        {
          "output_type": "stream",
          "text": [
            "Epoch 1/10\n",
            "19/19 [==============================] - 3s 26ms/step - loss: 343987.6688 - val_loss: 5439424.5000\n",
            "Epoch 2/10\n",
            "19/19 [==============================] - 0s 8ms/step - loss: 394338.2219 - val_loss: 3515071.0000\n",
            "Epoch 3/10\n",
            "19/19 [==============================] - 0s 8ms/step - loss: 138986.3449 - val_loss: 706879.4375\n",
            "Epoch 4/10\n",
            "19/19 [==============================] - 0s 8ms/step - loss: 19576.0161 - val_loss: 71065.6094\n",
            "Epoch 5/10\n",
            "19/19 [==============================] - 0s 8ms/step - loss: 396.4156 - val_loss: 70189.1094\n",
            "Epoch 6/10\n",
            "19/19 [==============================] - 0s 9ms/step - loss: 648.8686 - val_loss: 71714.3750\n",
            "Epoch 7/10\n",
            "19/19 [==============================] - 0s 8ms/step - loss: 455.3849 - val_loss: 70265.2734\n",
            "Epoch 8/10\n",
            "19/19 [==============================] - 0s 8ms/step - loss: 584.0976 - val_loss: 70634.4531\n",
            "Epoch 9/10\n",
            "19/19 [==============================] - 0s 9ms/step - loss: 286.4533 - val_loss: 70049.8516\n",
            "Epoch 10/10\n",
            "19/19 [==============================] - 0s 9ms/step - loss: 571.0022 - val_loss: 69750.8750\n",
            "INFO:tensorflow:Assets written to: LSTM/assets\n"
          ],
          "name": "stdout"
        }
      ]
    },
    {
      "cell_type": "code",
      "metadata": {
        "id": "SSlT66wmmthY"
      },
      "source": [
        ""
      ],
      "execution_count": 103,
      "outputs": []
    },
    {
      "cell_type": "markdown",
      "metadata": {
        "id": "fDD60l7gmthY"
      },
      "source": [
        "## Testing"
      ]
    },
    {
      "cell_type": "markdown",
      "metadata": {
        "id": "VoE6kiazmthY"
      },
      "source": [
        "#### This is the part where we test our results. y_hat is an array which holds the predictions done on the test dataset we created earlier. After we have y_hat, we revert the scale of data to get original prices once again. These prices are then plotted to closely see how our model is behaving."
      ]
    },
    {
      "cell_type": "code",
      "metadata": {
        "id": "M5Evo9A5mthY"
      },
      "source": [
        "y_hat = model.predict(x_test) #Prediction over test set\n"
      ],
      "execution_count": 104,
      "outputs": []
    },
    {
      "cell_type": "code",
      "metadata": {
        "id": "_l9_JkObmthY"
      },
      "source": [
        "\n",
        "\n",
        "#Scaling back to original values\n"
      ],
      "execution_count": 105,
      "outputs": []
    },
    {
      "cell_type": "code",
      "metadata": {
        "colab": {
          "base_uri": "https://localhost:8080/",
          "height": 350
        },
        "id": "leKPhi5-mthY",
        "outputId": "2b26e8ff-8fe6-4a50-80a7-eb1097528e24"
      },
      "source": [
        "def plot_comparison(y_test, y_hat):\n",
        "\n",
        "    plt.figure(figsize=(14,5))\n",
        "    plt.plot(y_test[:], color = 'red', label = 'Real Stock Price')\n",
        "    plt.plot(y_hat[:], color = 'blue', label = 'Predicted Stock Price')\n",
        "    plt.title('Stock Price Prediction')\n",
        "    plt.xlabel('Time')\n",
        "    plt.ylabel('Stock Price')\n",
        "    plt.legend()\n",
        "    plt.show()\n",
        "    \n",
        "plot_comparison(y_test, y_hat)"
      ],
      "execution_count": 106,
      "outputs": [
        {
          "output_type": "display_data",
          "data": {
            "image/png": "[encoded data removed]",
            "text/plain": [
              "<Figure size 1008x360 with 1 Axes>"
            ]
          },
          "metadata": {
            "tags": [],
            "needs_background": "light"
          }
        }
      ]
    },
    {
      "cell_type": "code",
      "metadata": {
        "id": "y6UV8xaYmthY"
      },
      "source": [
        "\n"
      ],
      "execution_count": 106,
      "outputs": []
    },
    {
      "cell_type": "code",
      "metadata": {
        "id": "sFoNupA1mthZ"
      },
      "source": [
        ""
      ],
      "execution_count": 106,
      "outputs": []
    },
    {
      "cell_type": "code",
      "metadata": {
        "id": "sUeqfe97mthZ"
      },
      "source": [
        ""
      ],
      "execution_count": 106,
      "outputs": []
    },
    {
      "cell_type": "markdown",
      "metadata": {
        "id": "dlDOHkn7mthZ"
      },
      "source": [
        "## Validating\n",
        "\n"
      ]
    },
    {
      "cell_type": "code",
      "metadata": {
        "id": "Z_awaLg8mthZ"
      },
      "source": [
        "y_hat_val = model.predict(x_val) #Prediction over val set\n",
        "\n"
      ],
      "execution_count": 107,
      "outputs": []
    },
    {
      "cell_type": "code",
      "metadata": {
        "id": "02tLogHbmthZ"
      },
      "source": [
        "\n",
        "#Scaling back to original values\n"
      ],
      "execution_count": 108,
      "outputs": []
    },
    {
      "cell_type": "code",
      "metadata": {
        "colab": {
          "base_uri": "https://localhost:8080/",
          "height": 350
        },
        "id": "neVwlHXzmthZ",
        "outputId": "9d1e5b2b-3c84-4fbf-eec7-205cdf910675"
      },
      "source": [
        "plot_comparison(y_val, y_hat_val)"
      ],
      "execution_count": 109,
      "outputs": [
        {
          "output_type": "display_data",
          "data": {
            "image/png": "[encoded data removed]",
            "text/plain": [
              "<Figure size 1008x360 with 1 Axes>"
            ]
          },
          "metadata": {
            "tags": [],
            "needs_background": "light"
          }
        }
      ]
    },
    {
      "cell_type": "code",
      "metadata": {
        "colab": {
          "base_uri": "https://localhost:8080/",
          "height": 204
        },
        "id": "g9iQpzdimthZ",
        "outputId": "4e85d19b-57cd-403e-ea55-98017f0cda73"
      },
      "source": [
        "df = pd.DataFrame(columns = ['Date', 'Predicted Price'])\n",
        "df['Date'] = dates1\n",
        "df.head() "
      ],
      "execution_count": 116,
      "outputs": [
        {
          "output_type": "execute_result",
          "data": {
            "text/html": [
              "<div>\n",
              "<style scoped>\n",
              "    .dataframe tbody tr th:only-of-type {\n",
              "        vertical-align: middle;\n",
              "    }\n",
              "\n",
              "    .dataframe tbody tr th {\n",
              "        vertical-align: top;\n",
              "    }\n",
              "\n",
              "    .dataframe thead th {\n",
              "        text-align: right;\n",
              "    }\n",
              "</style>\n",
              "<table border=\"1\" class=\"dataframe\">\n",
              "  <thead>\n",
              "    <tr style=\"text-align: right;\">\n",
              "      <th></th>\n",
              "      <th>Date</th>\n",
              "      <th>Predicted Price</th>\n",
              "    </tr>\n",
              "  </thead>\n",
              "  <tbody>\n",
              "    <tr>\n",
              "      <th>3610</th>\n",
              "      <td>2014-11-04</td>\n",
              "      <td>NaN</td>\n",
              "    </tr>\n",
              "    <tr>\n",
              "      <th>3611</th>\n",
              "      <td>2014-11-05</td>\n",
              "      <td>NaN</td>\n",
              "    </tr>\n",
              "    <tr>\n",
              "      <th>3612</th>\n",
              "      <td>2014-11-06</td>\n",
              "      <td>NaN</td>\n",
              "    </tr>\n",
              "    <tr>\n",
              "      <th>3613</th>\n",
              "      <td>2014-11-07</td>\n",
              "      <td>NaN</td>\n",
              "    </tr>\n",
              "    <tr>\n",
              "      <th>3614</th>\n",
              "      <td>2014-11-10</td>\n",
              "      <td>NaN</td>\n",
              "    </tr>\n",
              "  </tbody>\n",
              "</table>\n",
              "</div>"
            ],
            "text/plain": [
              "            Date Predicted Price\n",
              "3610  2014-11-04             NaN\n",
              "3611  2014-11-05             NaN\n",
              "3612  2014-11-06             NaN\n",
              "3613  2014-11-07             NaN\n",
              "3614  2014-11-10             NaN"
            ]
          },
          "metadata": {
            "tags": []
          },
          "execution_count": 116
        }
      ]
    },
    {
      "cell_type": "code",
      "metadata": {
        "colab": {
          "base_uri": "https://localhost:8080/",
          "height": 359
        },
        "id": "uD_0gmGvmthZ",
        "outputId": "6132efc2-9b88-4ada-8d12-4914462d041a"
      },
      "source": [
        "i = int(len(dates)*0.7)\n",
        "for j in range (len(y_val)):\n",
        "  df['Predicted Price'][i] = y_val[j][0]\n",
        "  i+=6\n",
        "\n",
        "i = int(len(dates)*0.8)\n",
        "for j in range (len(y_hat_val)):\n",
        "  df['Predicted Price'][i] = y_hat_val[j][0]\n",
        "  i+=6\n",
        "\n",
        "df.tail(10)"
      ],
      "execution_count": 119,
      "outputs": [
        {
          "output_type": "execute_result",
          "data": {
            "text/html": [
              "<div>\n",
              "<style scoped>\n",
              "    .dataframe tbody tr th:only-of-type {\n",
              "        vertical-align: middle;\n",
              "    }\n",
              "\n",
              "    .dataframe tbody tr th {\n",
              "        vertical-align: top;\n",
              "    }\n",
              "\n",
              "    .dataframe thead th {\n",
              "        text-align: right;\n",
              "    }\n",
              "</style>\n",
              "<table border=\"1\" class=\"dataframe\">\n",
              "  <thead>\n",
              "    <tr style=\"text-align: right;\">\n",
              "      <th></th>\n",
              "      <th>Date</th>\n",
              "      <th>Predicted Price</th>\n",
              "    </tr>\n",
              "  </thead>\n",
              "  <tbody>\n",
              "    <tr>\n",
              "      <th>5148</th>\n",
              "      <td>2020-09-25</td>\n",
              "      <td>NaN</td>\n",
              "    </tr>\n",
              "    <tr>\n",
              "      <th>5149</th>\n",
              "      <td>2020-09-28</td>\n",
              "      <td>NaN</td>\n",
              "    </tr>\n",
              "    <tr>\n",
              "      <th>5150</th>\n",
              "      <td>2020-09-29</td>\n",
              "      <td>NaN</td>\n",
              "    </tr>\n",
              "    <tr>\n",
              "      <th>5151</th>\n",
              "      <td>2020-09-30</td>\n",
              "      <td>NaN</td>\n",
              "    </tr>\n",
              "    <tr>\n",
              "      <th>5152</th>\n",
              "      <td>2020-10-01</td>\n",
              "      <td>1645.68</td>\n",
              "    </tr>\n",
              "    <tr>\n",
              "      <th>5153</th>\n",
              "      <td>2020-10-02</td>\n",
              "      <td>NaN</td>\n",
              "    </tr>\n",
              "    <tr>\n",
              "      <th>5154</th>\n",
              "      <td>2020-10-05</td>\n",
              "      <td>NaN</td>\n",
              "    </tr>\n",
              "    <tr>\n",
              "      <th>5155</th>\n",
              "      <td>2020-10-06</td>\n",
              "      <td>NaN</td>\n",
              "    </tr>\n",
              "    <tr>\n",
              "      <th>5156</th>\n",
              "      <td>2020-10-07</td>\n",
              "      <td>NaN</td>\n",
              "    </tr>\n",
              "    <tr>\n",
              "      <th>5157</th>\n",
              "      <td>2020-10-08</td>\n",
              "      <td>NaN</td>\n",
              "    </tr>\n",
              "  </tbody>\n",
              "</table>\n",
              "</div>"
            ],
            "text/plain": [
              "            Date Predicted Price\n",
              "5148  2020-09-25             NaN\n",
              "5149  2020-09-28             NaN\n",
              "5150  2020-09-29             NaN\n",
              "5151  2020-09-30             NaN\n",
              "5152  2020-10-01         1645.68\n",
              "5153  2020-10-02             NaN\n",
              "5154  2020-10-05             NaN\n",
              "5155  2020-10-06             NaN\n",
              "5156  2020-10-07             NaN\n",
              "5157  2020-10-08             NaN"
            ]
          },
          "metadata": {
            "tags": []
          },
          "execution_count": 119
        }
      ]
    },
    {
      "cell_type": "code",
      "metadata": {
        "id": "S2GbU52Hmtha"
      },
      "source": [
        ""
      ],
      "execution_count": 109,
      "outputs": []
    },
    {
      "cell_type": "code",
      "metadata": {
        "id": "6GkOcHFSmtha"
      },
      "source": [
        ""
      ],
      "execution_count": 109,
      "outputs": []
    }
  ]
}