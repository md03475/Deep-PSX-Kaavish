{
 "cells": [
  {
   "cell_type": "markdown",
   "metadata": {},
   "source": [
    "## Import all relevant libraries and data"
   ]
  },
  {
   "cell_type": "code",
   "execution_count": 1,
   "metadata": {},
   "outputs": [],
   "source": [
    "#conda install -c anaconda git\n"
   ]
  },
  {
   "cell_type": "code",
   "execution_count": 2,
   "metadata": {},
   "outputs": [],
   "source": [
    "#conda install pydot"
   ]
  },
  {
   "cell_type": "code",
   "execution_count": 3,
   "metadata": {},
   "outputs": [
    {
     "name": "stderr",
     "output_type": "stream",
     "text": [
      "C:\\Users\\CZ\\anaconda3\\lib\\site-packages\\tensorflow\\python\\framework\\dtypes.py:516: FutureWarning: Passing (type, 1) or '1type' as a synonym of type is deprecated; in a future version of numpy, it will be understood as (type, (1,)) / '(1,)type'.\n",
      "  _np_qint8 = np.dtype([(\"qint8\", np.int8, 1)])\n",
      "C:\\Users\\CZ\\anaconda3\\lib\\site-packages\\tensorflow\\python\\framework\\dtypes.py:517: FutureWarning: Passing (type, 1) or '1type' as a synonym of type is deprecated; in a future version of numpy, it will be understood as (type, (1,)) / '(1,)type'.\n",
      "  _np_quint8 = np.dtype([(\"quint8\", np.uint8, 1)])\n",
      "C:\\Users\\CZ\\anaconda3\\lib\\site-packages\\tensorflow\\python\\framework\\dtypes.py:518: FutureWarning: Passing (type, 1) or '1type' as a synonym of type is deprecated; in a future version of numpy, it will be understood as (type, (1,)) / '(1,)type'.\n",
      "  _np_qint16 = np.dtype([(\"qint16\", np.int16, 1)])\n",
      "C:\\Users\\CZ\\anaconda3\\lib\\site-packages\\tensorflow\\python\\framework\\dtypes.py:519: FutureWarning: Passing (type, 1) or '1type' as a synonym of type is deprecated; in a future version of numpy, it will be understood as (type, (1,)) / '(1,)type'.\n",
      "  _np_quint16 = np.dtype([(\"quint16\", np.uint16, 1)])\n",
      "C:\\Users\\CZ\\anaconda3\\lib\\site-packages\\tensorflow\\python\\framework\\dtypes.py:520: FutureWarning: Passing (type, 1) or '1type' as a synonym of type is deprecated; in a future version of numpy, it will be understood as (type, (1,)) / '(1,)type'.\n",
      "  _np_qint32 = np.dtype([(\"qint32\", np.int32, 1)])\n",
      "C:\\Users\\CZ\\anaconda3\\lib\\site-packages\\tensorflow\\python\\framework\\dtypes.py:525: FutureWarning: Passing (type, 1) or '1type' as a synonym of type is deprecated; in a future version of numpy, it will be understood as (type, (1,)) / '(1,)type'.\n",
      "  np_resource = np.dtype([(\"resource\", np.ubyte, 1)])\n",
      "C:\\Users\\CZ\\anaconda3\\lib\\site-packages\\tensorboard\\compat\\tensorflow_stub\\dtypes.py:541: FutureWarning: Passing (type, 1) or '1type' as a synonym of type is deprecated; in a future version of numpy, it will be understood as (type, (1,)) / '(1,)type'.\n",
      "  _np_qint8 = np.dtype([(\"qint8\", np.int8, 1)])\n",
      "C:\\Users\\CZ\\anaconda3\\lib\\site-packages\\tensorboard\\compat\\tensorflow_stub\\dtypes.py:542: FutureWarning: Passing (type, 1) or '1type' as a synonym of type is deprecated; in a future version of numpy, it will be understood as (type, (1,)) / '(1,)type'.\n",
      "  _np_quint8 = np.dtype([(\"quint8\", np.uint8, 1)])\n",
      "C:\\Users\\CZ\\anaconda3\\lib\\site-packages\\tensorboard\\compat\\tensorflow_stub\\dtypes.py:543: FutureWarning: Passing (type, 1) or '1type' as a synonym of type is deprecated; in a future version of numpy, it will be understood as (type, (1,)) / '(1,)type'.\n",
      "  _np_qint16 = np.dtype([(\"qint16\", np.int16, 1)])\n",
      "C:\\Users\\CZ\\anaconda3\\lib\\site-packages\\tensorboard\\compat\\tensorflow_stub\\dtypes.py:544: FutureWarning: Passing (type, 1) or '1type' as a synonym of type is deprecated; in a future version of numpy, it will be understood as (type, (1,)) / '(1,)type'.\n",
      "  _np_quint16 = np.dtype([(\"quint16\", np.uint16, 1)])\n",
      "C:\\Users\\CZ\\anaconda3\\lib\\site-packages\\tensorboard\\compat\\tensorflow_stub\\dtypes.py:545: FutureWarning: Passing (type, 1) or '1type' as a synonym of type is deprecated; in a future version of numpy, it will be understood as (type, (1,)) / '(1,)type'.\n",
      "  _np_qint32 = np.dtype([(\"qint32\", np.int32, 1)])\n",
      "C:\\Users\\CZ\\anaconda3\\lib\\site-packages\\tensorboard\\compat\\tensorflow_stub\\dtypes.py:550: FutureWarning: Passing (type, 1) or '1type' as a synonym of type is deprecated; in a future version of numpy, it will be understood as (type, (1,)) / '(1,)type'.\n",
      "  np_resource = np.dtype([(\"resource\", np.ubyte, 1)])\n",
      "Using TensorFlow backend.\n"
     ]
    }
   ],
   "source": [
    "import pandas as pd\n",
    "import numpy as np\n",
    "import matplotlib.pyplot as plt\n",
    "import seaborn as sns\n",
    "import tensorflow as tf\n",
    "import tensorflow_docs as tfdocs\n",
    "import tensorflow_docs.modeling\n",
    "import tensorflow_docs.plots\n",
    "import tensorflow_docs as tfdocs\n",
    "from keras.optimizers import adam\n",
    "from keras.utils import plot_model\n",
    "from tensorflow import keras\n",
    "from keras.models import Sequential, save_model, load_model\n",
    "from keras.layers import LSTM,Dense, Dropout\n",
    "from sklearn.preprocessing import MinMaxScaler\n"
   ]
  },
  {
   "cell_type": "code",
   "execution_count": 25,
   "metadata": {},
   "outputs": [
    {
     "data": {
      "text/html": [
       "<div>\n",
       "<style scoped>\n",
       "    .dataframe tbody tr th:only-of-type {\n",
       "        vertical-align: middle;\n",
       "    }\n",
       "\n",
       "    .dataframe tbody tr th {\n",
       "        vertical-align: top;\n",
       "    }\n",
       "\n",
       "    .dataframe thead th {\n",
       "        text-align: right;\n",
       "    }\n",
       "</style>\n",
       "<table border=\"1\" class=\"dataframe\">\n",
       "  <thead>\n",
       "    <tr style=\"text-align: right;\">\n",
       "      <th></th>\n",
       "      <th>Date</th>\n",
       "      <th>Open</th>\n",
       "      <th>High</th>\n",
       "      <th>Low</th>\n",
       "      <th>Close</th>\n",
       "      <th>Volume</th>\n",
       "    </tr>\n",
       "  </thead>\n",
       "  <tbody>\n",
       "    <tr>\n",
       "      <th>0</th>\n",
       "      <td>2005-08-17 00:00:00</td>\n",
       "      <td>1.4809</td>\n",
       "      <td>7.2563</td>\n",
       "      <td>5.1831</td>\n",
       "      <td>6.2789</td>\n",
       "      <td>38266.0</td>\n",
       "    </tr>\n",
       "    <tr>\n",
       "      <th>1</th>\n",
       "      <td>2005-08-18 00:00:00</td>\n",
       "      <td>1.4809</td>\n",
       "      <td>7.2563</td>\n",
       "      <td>5.1831</td>\n",
       "      <td>6.2789</td>\n",
       "      <td>38266.0</td>\n",
       "    </tr>\n",
       "    <tr>\n",
       "      <th>2</th>\n",
       "      <td>2005-08-19 00:00:00</td>\n",
       "      <td>6.2789</td>\n",
       "      <td>6.2938</td>\n",
       "      <td>6.1086</td>\n",
       "      <td>6.2789</td>\n",
       "      <td>16582.0</td>\n",
       "    </tr>\n",
       "    <tr>\n",
       "      <th>3</th>\n",
       "      <td>2005-08-22 00:00:00</td>\n",
       "      <td>6.2789</td>\n",
       "      <td>6.4418</td>\n",
       "      <td>6.2567</td>\n",
       "      <td>6.3678</td>\n",
       "      <td>73980.0</td>\n",
       "    </tr>\n",
       "    <tr>\n",
       "      <th>4</th>\n",
       "      <td>2005-08-23 00:00:00</td>\n",
       "      <td>6.3678</td>\n",
       "      <td>6.3678</td>\n",
       "      <td>6.0494</td>\n",
       "      <td>6.3086</td>\n",
       "      <td>42092.0</td>\n",
       "    </tr>\n",
       "  </tbody>\n",
       "</table>\n",
       "</div>"
      ],
      "text/plain": [
       "                  Date    Open    High     Low   Close   Volume\n",
       "0  2005-08-17 00:00:00  1.4809  7.2563  5.1831  6.2789  38266.0\n",
       "1  2005-08-18 00:00:00  1.4809  7.2563  5.1831  6.2789  38266.0\n",
       "2  2005-08-19 00:00:00  6.2789  6.2938  6.1086  6.2789  16582.0\n",
       "3  2005-08-22 00:00:00  6.2789  6.4418  6.2567  6.3678  73980.0\n",
       "4  2005-08-23 00:00:00  6.3678  6.3678  6.0494  6.3086  42092.0"
      ]
     },
     "execution_count": 25,
     "metadata": {},
     "output_type": "execute_result"
    }
   ],
   "source": [
    "abl = pd.read_csv('ABL PA Equity.csv')\n",
    "abl.head()"
   ]
  },
  {
   "cell_type": "markdown",
   "metadata": {},
   "source": [
    "## Data Visualization"
   ]
  },
  {
   "cell_type": "code",
   "execution_count": 5,
   "metadata": {},
   "outputs": [
    {
     "data": {
      "image/png": "[encoded data removed]",
      "text/plain": [
       "<Figure size 1296x648 with 1 Axes>"
      ]
     },
     "metadata": {
      "needs_background": "light"
     },
     "output_type": "display_data"
    }
   ],
   "source": [
    "plt.figure(figsize = (18,9))\n",
    "plt.plot(range(abl.shape[0]), abl['Close'])\n",
    "plt.xticks(range(0, abl.shape[0], 500), abl['Date'].loc[::500], rotation=45)\n",
    "plt.xlabel('Date', fontsize=18)\n",
    "plt.ylabel('Close', fontsize=18)\n",
    "plt.show()"
   ]
  },
  {
   "cell_type": "markdown",
   "metadata": {},
   "source": [
    "## Test-Train Split"
   ]
  },
  {
   "cell_type": "code",
   "execution_count": 6,
   "metadata": {},
   "outputs": [
    {
     "name": "stdout",
     "output_type": "stream",
     "text": [
      "3162\n",
      "791\n"
     ]
    }
   ],
   "source": [
    "def test_train_split(df):\n",
    "\n",
    "    close_prices = df['Close'] #We choose to predict the close price\n",
    "\n",
    "    # 80-10-10 split into Train-Validation-Test\n",
    "\n",
    "    train_data = close_prices[:int(len(close_prices)*0.8)]\n",
    "    #valid_data = close_prices[int(len(close_prices)*0.8):int(len(close_prices)*0.9)]\n",
    "    test_data = close_prices[int(len(close_prices)*0.8):]\n",
    "\n",
    "    train_data = np.asarray(train_data)\n",
    "    #valid_data = np.asarray(valid_data)\n",
    "    test_data = np.asarray(test_data)\n",
    "\n",
    "    train_data = train_data.reshape(-1, 1)\n",
    "    #valid_data = valid_data.reshape(-1, 1)\n",
    "    test_data = test_data.reshape(-1, 1)\n",
    "\n",
    "\n",
    "    print(train_data.shape[0])\n",
    "    #print(valid_data.shape[0])\n",
    "    print(test_data.shape[0])\n",
    "    \n",
    "    return train_data, test_data\n",
    "    \n",
    "train_data, test_data = test_train_split(abl)"
   ]
  },
  {
   "cell_type": "markdown",
   "metadata": {},
   "source": [
    "## Check distribution of data"
   ]
  },
  {
   "cell_type": "code",
   "execution_count": 7,
   "metadata": {},
   "outputs": [
    {
     "data": {
      "text/plain": [
       "{'whiskers': [<matplotlib.lines.Line2D at 0x1effa062c08>,\n",
       "  <matplotlib.lines.Line2D at 0x1effa391248>],\n",
       " 'caps': [<matplotlib.lines.Line2D at 0x1effa07dd08>,\n",
       "  <matplotlib.lines.Line2D at 0x1effa084ec8>],\n",
       " 'boxes': [<matplotlib.patches.PathPatch at 0x1effa07d748>],\n",
       " 'medians': [<matplotlib.lines.Line2D at 0x1effa084fc8>],\n",
       " 'fliers': [<matplotlib.lines.Line2D at 0x1effa089b88>],\n",
       " 'means': []}"
      ]
     },
     "execution_count": 7,
     "metadata": {},
     "output_type": "execute_result"
    },
    {
     "data": {
      "image/png": "[encoded data removed]",
      "text/plain": [
       "<Figure size 432x288 with 1 Axes>"
      ]
     },
     "metadata": {
      "needs_background": "light"
     },
     "output_type": "display_data"
    }
   ],
   "source": [
    "fig1, ax1 = plt.subplots()\n",
    "ax1.set_title('Basic Plot')\n",
    "ax1.boxplot(train_data, patch_artist=True)\n",
    "\n"
   ]
  },
  {
   "cell_type": "markdown",
   "metadata": {},
   "source": [
    "## Prepare Train set"
   ]
  },
  {
   "cell_type": "code",
   "execution_count": null,
   "metadata": {},
   "outputs": [],
   "source": []
  },
  {
   "cell_type": "code",
   "execution_count": 8,
   "metadata": {},
   "outputs": [
    {
     "name": "stdout",
     "output_type": "stream",
     "text": [
      "(3102, 60, 1) (3102,) [0.01156523]\n"
     ]
    }
   ],
   "source": [
    "def train_prep(train_data):\n",
    "\n",
    "    scaler = MinMaxScaler()\n",
    "    train_data = scaler.fit_transform(train_data)\n",
    "\n",
    "    x_train = [] #Features\n",
    "    y_train = [] #Labels\n",
    "\n",
    "    for i in range(60, train_data.shape[0]): #Make windows of 60 days for training until last day\n",
    "\n",
    "        x_train.append(train_data[i-60:i]) #60 day window\n",
    "        y_train.append(train_data[i, 0]) #60th day price\n",
    "\n",
    "    x_train = np.array(x_train) \n",
    "    y_train = np.array(y_train)\n",
    "    \n",
    "    print(x_train.shape, y_train.shape, scaler.scale_)\n",
    "    \n",
    "    return x_train, y_train, scaler.scale_\n",
    "    \n",
    "x_train, y_train, scale_train = train_prep(train_data)"
   ]
  },
  {
   "cell_type": "code",
   "execution_count": null,
   "metadata": {},
   "outputs": [],
   "source": []
  },
  {
   "cell_type": "code",
   "execution_count": null,
   "metadata": {},
   "outputs": [],
   "source": []
  },
  {
   "cell_type": "markdown",
   "metadata": {},
   "source": [
    "## Prepare test set"
   ]
  },
  {
   "cell_type": "code",
   "execution_count": null,
   "metadata": {},
   "outputs": [],
   "source": [
    "\n"
   ]
  },
  {
   "cell_type": "code",
   "execution_count": 9,
   "metadata": {},
   "outputs": [
    {
     "name": "stdout",
     "output_type": "stream",
     "text": [
      "(791, 60, 1) (791,) [0.00997343]\n"
     ]
    }
   ],
   "source": [
    "def test_prep(test_data, train_data):\n",
    "    \n",
    "    scaler = MinMaxScaler()\n",
    "    test_data = np.concatenate((train_data[:60], test_data), axis = 0) #Add last 60 observations of train data to test\n",
    "    test_data = scaler.fit_transform(test_data)\n",
    "\n",
    "    x_test = []\n",
    "    y_test = []\n",
    "\n",
    "    for i in range(60, test_data.shape[0]):\n",
    "        x_test.append(test_data[i-60:i])\n",
    "        y_test.append(test_data[i, 0])\n",
    "\n",
    "    x_test = np.array(x_test)\n",
    "    y_test = np.array(y_test)\n",
    "        \n",
    "    print(x_test.shape, y_test.shape, scaler.scale_)\n",
    "    return x_test, y_test, scaler.scale_\n",
    "    \n",
    "x_test, y_test, test_scale = test_prep(test_data, train_data)"
   ]
  },
  {
   "cell_type": "markdown",
   "metadata": {},
   "source": [
    "## Building the LSTM"
   ]
  },
  {
   "cell_type": "code",
   "execution_count": 10,
   "metadata": {},
   "outputs": [
    {
     "name": "stdout",
     "output_type": "stream",
     "text": [
      "Model: \"sequential_1\"\n",
      "_________________________________________________________________\n",
      "Layer (type)                 Output Shape              Param #   \n",
      "=================================================================\n",
      "lstm_1 (LSTM)                (None, 60, 64)            16896     \n",
      "_________________________________________________________________\n",
      "dropout_1 (Dropout)          (None, 60, 64)            0         \n",
      "_________________________________________________________________\n",
      "lstm_2 (LSTM)                (None, 128)               98816     \n",
      "_________________________________________________________________\n",
      "dropout_2 (Dropout)          (None, 128)               0         \n",
      "_________________________________________________________________\n",
      "dense_1 (Dense)              (None, 1)                 129       \n",
      "=================================================================\n",
      "Total params: 115,841\n",
      "Trainable params: 115,841\n",
      "Non-trainable params: 0\n",
      "_________________________________________________________________\n"
     ]
    },
    {
     "data": {
      "image/png": "[encoded data removed]",
      "text/plain": [
       "<IPython.core.display.Image object>"
      ]
     },
     "execution_count": 10,
     "metadata": {},
     "output_type": "execute_result"
    }
   ],
   "source": [
    "'''model = Sequential()\n",
    "model.add(LSTM(units = 60, activation = 'relu', input_shape = (x_train.shape[1], 1)))\n",
    "model.add(Dropout(0.2))\n",
    "model.add(Dense(units = 1))\n",
    "model.summary()'''\n",
    "\n",
    "model = Sequential()\n",
    "\n",
    "model.add(LSTM(units = 64, activation = 'relu', return_sequences = True, input_shape = (x_train.shape[1], 1)))\n",
    "model.add(Dropout(0.2))\n",
    "\n",
    "model.add(LSTM(units = 128, activation = 'relu'))\n",
    "model.add(Dropout(0.2))\n",
    "\n",
    "model.add(Dense(units = 1))\n",
    "\n",
    "model.summary()\n",
    "\n",
    "plot_model(model, to_file='model.png')"
   ]
  },
  {
   "cell_type": "code",
   "execution_count": null,
   "metadata": {},
   "outputs": [],
   "source": []
  },
  {
   "cell_type": "code",
   "execution_count": 11,
   "metadata": {
    "scrolled": false
   },
   "outputs": [
    {
     "name": "stdout",
     "output_type": "stream",
     "text": [
      "WARNING:tensorflow:From C:\\Users\\CZ\\anaconda3\\lib\\site-packages\\keras\\backend\\tensorflow_backend.py:422: The name tf.global_variables is deprecated. Please use tf.compat.v1.global_variables instead.\n",
      "\n",
      "Train on 3102 samples, validate on 791 samples\n",
      "Epoch 1/50\n",
      "3102/3102 [==============================] - 16s 5ms/step - loss: 0.0168 - accuracy: 6.4475e-04 - val_loss: 0.0053 - val_accuracy: 0.0013\n",
      "Epoch 2/50\n",
      "3102/3102 [==============================] - 13s 4ms/step - loss: 0.0021 - accuracy: 6.4475e-04 - val_loss: 0.0057 - val_accuracy: 0.0013\n",
      "Epoch 3/50\n",
      "3102/3102 [==============================] - 13s 4ms/step - loss: 0.0021 - accuracy: 6.4475e-04 - val_loss: 0.0047 - val_accuracy: 0.0013\n",
      "Epoch 4/50\n",
      "3102/3102 [==============================] - 13s 4ms/step - loss: 0.0019 - accuracy: 6.4475e-04 - val_loss: 0.0064 - val_accuracy: 0.0013\n",
      "Epoch 5/50\n",
      "3102/3102 [==============================] - 13s 4ms/step - loss: 0.0019 - accuracy: 6.4475e-04 - val_loss: 0.0050 - val_accuracy: 0.0013\n",
      "Epoch 6/50\n",
      "3102/3102 [==============================] - 13s 4ms/step - loss: 0.0016 - accuracy: 6.4475e-04 - val_loss: 0.0041 - val_accuracy: 0.0013\n",
      "Epoch 7/50\n",
      "3102/3102 [==============================] - 13s 4ms/step - loss: 0.0017 - accuracy: 6.4475e-04 - val_loss: 0.0040 - val_accuracy: 0.0013\n",
      "Epoch 8/50\n",
      "3102/3102 [==============================] - 13s 4ms/step - loss: 0.0016 - accuracy: 6.4475e-04 - val_loss: 0.0046 - val_accuracy: 0.0013\n",
      "Epoch 9/50\n",
      "3102/3102 [==============================] - 13s 4ms/step - loss: 0.0014 - accuracy: 6.4475e-04 - val_loss: 0.0045 - val_accuracy: 0.0013\n",
      "Epoch 10/50\n",
      "3102/3102 [==============================] - 12s 4ms/step - loss: 0.0015 - accuracy: 6.4475e-04 - val_loss: 0.0042 - val_accuracy: 0.0013\n",
      "Epoch 11/50\n",
      "3102/3102 [==============================] - 13s 4ms/step - loss: 0.0014 - accuracy: 6.4475e-04 - val_loss: 0.0040 - val_accuracy: 0.0013\n",
      "Epoch 12/50\n",
      "3102/3102 [==============================] - 13s 4ms/step - loss: 0.0013 - accuracy: 6.4475e-04 - val_loss: 0.0040 - val_accuracy: 0.0013\n",
      "Epoch 13/50\n",
      "3102/3102 [==============================] - 13s 4ms/step - loss: 0.0014 - accuracy: 6.4475e-04 - val_loss: 0.0037 - val_accuracy: 0.0013\n",
      "Epoch 14/50\n",
      "3102/3102 [==============================] - 13s 4ms/step - loss: 0.0012 - accuracy: 6.4475e-04 - val_loss: 0.0037 - val_accuracy: 0.0013\n",
      "Epoch 15/50\n",
      "3102/3102 [==============================] - 13s 4ms/step - loss: 0.0013 - accuracy: 6.4475e-04 - val_loss: 0.0063 - val_accuracy: 0.0013\n",
      "Epoch 16/50\n",
      "3102/3102 [==============================] - 13s 4ms/step - loss: 0.0012 - accuracy: 6.4475e-04 - val_loss: 0.0040 - val_accuracy: 0.0013\n",
      "Epoch 17/50\n",
      "3102/3102 [==============================] - 13s 4ms/step - loss: 0.0011 - accuracy: 6.4475e-04 - val_loss: 0.0035 - val_accuracy: 0.0013\n",
      "Epoch 18/50\n",
      "3102/3102 [==============================] - 13s 4ms/step - loss: 0.0012 - accuracy: 6.4475e-04 - val_loss: 0.0035 - val_accuracy: 0.0013\n",
      "Epoch 19/50\n",
      "3102/3102 [==============================] - 13s 4ms/step - loss: 0.0013 - accuracy: 6.4475e-04 - val_loss: 0.0035 - val_accuracy: 0.0013\n",
      "Epoch 20/50\n",
      "3102/3102 [==============================] - 13s 4ms/step - loss: 0.0011 - accuracy: 6.4475e-04 - val_loss: 0.0034 - val_accuracy: 0.0013\n",
      "Epoch 21/50\n",
      "3102/3102 [==============================] - 13s 4ms/step - loss: 0.0012 - accuracy: 6.4475e-04 - val_loss: 0.0035 - val_accuracy: 0.0013\n",
      "Epoch 22/50\n",
      "3102/3102 [==============================] - 13s 4ms/step - loss: 0.0010 - accuracy: 6.4475e-04 - val_loss: 0.0036 - val_accuracy: 0.0013\n",
      "Epoch 23/50\n",
      "3102/3102 [==============================] - 13s 4ms/step - loss: 0.0011 - accuracy: 6.4475e-04 - val_loss: 0.0038 - val_accuracy: 0.0013\n",
      "Epoch 24/50\n",
      "3102/3102 [==============================] - 13s 4ms/step - loss: 0.0011 - accuracy: 6.4475e-04 - val_loss: 0.0035 - val_accuracy: 0.0013\n",
      "Epoch 25/50\n",
      "3102/3102 [==============================] - 13s 4ms/step - loss: 9.9676e-04 - accuracy: 6.4475e-04 - val_loss: 0.0045 - val_accuracy: 0.0013\n",
      "Epoch 26/50\n",
      "3102/3102 [==============================] - 13s 4ms/step - loss: 0.0010 - accuracy: 6.4475e-04 - val_loss: 0.0034 - val_accuracy: 0.0013\n",
      "Epoch 27/50\n",
      "3102/3102 [==============================] - 13s 4ms/step - loss: 9.9231e-04 - accuracy: 6.4475e-04 - val_loss: 0.0035 - val_accuracy: 0.0013\n",
      "Epoch 28/50\n",
      "3102/3102 [==============================] - 13s 4ms/step - loss: 9.8624e-04 - accuracy: 6.4475e-04 - val_loss: 0.0038 - val_accuracy: 0.0013\n",
      "Epoch 29/50\n",
      "3102/3102 [==============================] - 13s 4ms/step - loss: 8.9765e-04 - accuracy: 6.4475e-04 - val_loss: 0.0035 - val_accuracy: 0.0013\n",
      "Epoch 30/50\n",
      "3102/3102 [==============================] - 13s 4ms/step - loss: 9.2390e-04 - accuracy: 6.4475e-04 - val_loss: 0.0033 - val_accuracy: 0.0013\n",
      "Epoch 31/50\n",
      "3102/3102 [==============================] - 13s 4ms/step - loss: 8.3862e-04 - accuracy: 6.4475e-04 - val_loss: 0.0034 - val_accuracy: 0.0013\n",
      "Epoch 32/50\n",
      "3102/3102 [==============================] - 13s 4ms/step - loss: 8.7864e-04 - accuracy: 6.4475e-04 - val_loss: 0.0036 - val_accuracy: 0.0013\n",
      "Epoch 33/50\n",
      "3102/3102 [==============================] - 13s 4ms/step - loss: 8.9368e-04 - accuracy: 6.4475e-04 - val_loss: 0.0033 - val_accuracy: 0.0013\n",
      "Epoch 34/50\n",
      "3102/3102 [==============================] - 13s 4ms/step - loss: 8.9584e-04 - accuracy: 6.4475e-04 - val_loss: 0.0033 - val_accuracy: 0.0013\n",
      "Epoch 35/50\n",
      "3102/3102 [==============================] - 13s 4ms/step - loss: 8.5721e-04 - accuracy: 6.4475e-04 - val_loss: 0.0034 - val_accuracy: 0.0013\n",
      "Epoch 36/50\n",
      "3102/3102 [==============================] - 13s 4ms/step - loss: 8.7814e-04 - accuracy: 6.4475e-04 - val_loss: 0.0034 - val_accuracy: 0.0013\n",
      "Epoch 37/50\n",
      "3102/3102 [==============================] - 13s 4ms/step - loss: 8.6574e-04 - accuracy: 6.4475e-04 - val_loss: 0.0034 - val_accuracy: 0.0013\n",
      "Epoch 38/50\n",
      "3102/3102 [==============================] - 13s 4ms/step - loss: 9.8342e-04 - accuracy: 6.4475e-04 - val_loss: 0.0039 - val_accuracy: 0.0013\n",
      "Epoch 39/50\n",
      "3102/3102 [==============================] - 13s 4ms/step - loss: 8.1203e-04 - accuracy: 6.4475e-04 - val_loss: 0.0032 - val_accuracy: 0.0013\n",
      "Epoch 40/50\n",
      "3102/3102 [==============================] - 13s 4ms/step - loss: 8.3349e-04 - accuracy: 6.4475e-04 - val_loss: 0.0034 - val_accuracy: 0.0013\n",
      "Epoch 41/50\n",
      "3102/3102 [==============================] - 13s 4ms/step - loss: 8.3014e-04 - accuracy: 6.4475e-04 - val_loss: 0.0040 - val_accuracy: 0.0013\n",
      "Epoch 42/50\n",
      "3102/3102 [==============================] - 13s 4ms/step - loss: 8.7059e-04 - accuracy: 6.4475e-04 - val_loss: 0.0034 - val_accuracy: 0.0013\n",
      "Epoch 43/50\n",
      "3102/3102 [==============================] - 13s 4ms/step - loss: 8.2460e-04 - accuracy: 6.4475e-04 - val_loss: 0.0043 - val_accuracy: 0.0013\n",
      "Epoch 44/50\n",
      "3102/3102 [==============================] - 13s 4ms/step - loss: 8.4340e-04 - accuracy: 6.4475e-04 - val_loss: 0.0036 - val_accuracy: 0.0013\n",
      "Epoch 45/50\n",
      "3102/3102 [==============================] - 13s 4ms/step - loss: 7.8911e-04 - accuracy: 6.4475e-04 - val_loss: 0.0031 - val_accuracy: 0.0013\n",
      "Epoch 46/50\n",
      "3102/3102 [==============================] - 13s 4ms/step - loss: 9.1705e-04 - accuracy: 6.4475e-04 - val_loss: 0.0033 - val_accuracy: 0.0013\n",
      "Epoch 47/50\n",
      "3102/3102 [==============================] - 13s 4ms/step - loss: 7.8515e-04 - accuracy: 6.4475e-04 - val_loss: 0.0032 - val_accuracy: 0.0013\n",
      "Epoch 48/50\n",
      "3102/3102 [==============================] - 13s 4ms/step - loss: 7.2132e-04 - accuracy: 6.4475e-04 - val_loss: 0.0032 - val_accuracy: 0.0013\n",
      "Epoch 49/50\n",
      "3102/3102 [==============================] - 13s 4ms/step - loss: 7.5328e-04 - accuracy: 6.4475e-04 - val_loss: 0.0030 - val_accuracy: 0.0013\n",
      "Epoch 50/50\n",
      "3102/3102 [==============================] - 13s 4ms/step - loss: 7.5056e-04 - accuracy: 6.4475e-04 - val_loss: 0.0030 - val_accuracy: 0.0013\n"
     ]
    },
    {
     "ename": "OSError",
     "evalue": "Unable to create file (unable to open file: name = 'E:/Fall 2020/Kaavish/Module 1/M1-LSTM-Pretrained', errno = 13, error message = 'Permission denied', flags = 13, o_flags = 302)",
     "output_type": "error",
     "traceback": [
      "\u001b[1;31m---------------------------------------------------------------------------\u001b[0m",
      "\u001b[1;31mOSError\u001b[0m                                   Traceback (most recent call last)",
      "\u001b[1;32m<ipython-input-11-7b1ff562ee15>\u001b[0m in \u001b[0;36m<module>\u001b[1;34m\u001b[0m\n\u001b[0;32m      2\u001b[0m \u001b[0mhistory\u001b[0m \u001b[1;33m=\u001b[0m \u001b[0mmodel\u001b[0m\u001b[1;33m.\u001b[0m\u001b[0mfit\u001b[0m\u001b[1;33m(\u001b[0m\u001b[0mx_train\u001b[0m\u001b[1;33m,\u001b[0m \u001b[0my_train\u001b[0m\u001b[1;33m,\u001b[0m \u001b[0mepochs\u001b[0m\u001b[1;33m=\u001b[0m\u001b[1;36m50\u001b[0m\u001b[1;33m,\u001b[0m \u001b[0mbatch_size\u001b[0m\u001b[1;33m=\u001b[0m\u001b[1;36m32\u001b[0m\u001b[1;33m,\u001b[0m \u001b[0mvalidation_data\u001b[0m \u001b[1;33m=\u001b[0m \u001b[1;33m(\u001b[0m\u001b[0mx_test\u001b[0m\u001b[1;33m,\u001b[0m \u001b[0my_test\u001b[0m\u001b[1;33m)\u001b[0m\u001b[1;33m,\u001b[0m \u001b[0mverbose\u001b[0m \u001b[1;33m=\u001b[0m \u001b[1;36m1\u001b[0m\u001b[1;33m)\u001b[0m\u001b[1;33m\u001b[0m\u001b[1;33m\u001b[0m\u001b[0m\n\u001b[0;32m      3\u001b[0m \u001b[0mfilepath\u001b[0m \u001b[1;33m=\u001b[0m \u001b[1;34m'E:/Fall 2020/Kaavish/Module 1/M1-LSTM-Pretrained'\u001b[0m\u001b[1;33m\u001b[0m\u001b[1;33m\u001b[0m\u001b[0m\n\u001b[1;32m----> 4\u001b[1;33m \u001b[0mmodel\u001b[0m\u001b[1;33m.\u001b[0m\u001b[0msave\u001b[0m\u001b[1;33m(\u001b[0m\u001b[0mfilepath\u001b[0m\u001b[1;33m)\u001b[0m\u001b[1;33m\u001b[0m\u001b[1;33m\u001b[0m\u001b[0m\n\u001b[0m\u001b[0;32m      5\u001b[0m \u001b[1;33m\u001b[0m\u001b[0m\n\u001b[0;32m      6\u001b[0m \u001b[1;33m\u001b[0m\u001b[0m\n",
      "\u001b[1;32m~\\anaconda3\\lib\\site-packages\\keras\\engine\\network.py\u001b[0m in \u001b[0;36msave\u001b[1;34m(self, filepath, overwrite, include_optimizer)\u001b[0m\n\u001b[0;32m   1150\u001b[0m             \u001b[1;32mraise\u001b[0m \u001b[0mNotImplementedError\u001b[0m\u001b[1;33m\u001b[0m\u001b[1;33m\u001b[0m\u001b[0m\n\u001b[0;32m   1151\u001b[0m         \u001b[1;32mfrom\u001b[0m \u001b[1;33m.\u001b[0m\u001b[1;33m.\u001b[0m\u001b[0mmodels\u001b[0m \u001b[1;32mimport\u001b[0m \u001b[0msave_model\u001b[0m\u001b[1;33m\u001b[0m\u001b[1;33m\u001b[0m\u001b[0m\n\u001b[1;32m-> 1152\u001b[1;33m         \u001b[0msave_model\u001b[0m\u001b[1;33m(\u001b[0m\u001b[0mself\u001b[0m\u001b[1;33m,\u001b[0m \u001b[0mfilepath\u001b[0m\u001b[1;33m,\u001b[0m \u001b[0moverwrite\u001b[0m\u001b[1;33m,\u001b[0m \u001b[0minclude_optimizer\u001b[0m\u001b[1;33m)\u001b[0m\u001b[1;33m\u001b[0m\u001b[1;33m\u001b[0m\u001b[0m\n\u001b[0m\u001b[0;32m   1153\u001b[0m \u001b[1;33m\u001b[0m\u001b[0m\n\u001b[0;32m   1154\u001b[0m     \u001b[1;33m@\u001b[0m\u001b[0msaving\u001b[0m\u001b[1;33m.\u001b[0m\u001b[0mallow_write_to_gcs\u001b[0m\u001b[1;33m\u001b[0m\u001b[1;33m\u001b[0m\u001b[0m\n",
      "\u001b[1;32m~\\anaconda3\\lib\\site-packages\\keras\\engine\\saving.py\u001b[0m in \u001b[0;36msave_wrapper\u001b[1;34m(obj, filepath, overwrite, *args, **kwargs)\u001b[0m\n\u001b[0;32m    447\u001b[0m                 \u001b[0mos\u001b[0m\u001b[1;33m.\u001b[0m\u001b[0mremove\u001b[0m\u001b[1;33m(\u001b[0m\u001b[0mtmp_filepath\u001b[0m\u001b[1;33m)\u001b[0m\u001b[1;33m\u001b[0m\u001b[1;33m\u001b[0m\u001b[0m\n\u001b[0;32m    448\u001b[0m         \u001b[1;32melse\u001b[0m\u001b[1;33m:\u001b[0m\u001b[1;33m\u001b[0m\u001b[1;33m\u001b[0m\u001b[0m\n\u001b[1;32m--> 449\u001b[1;33m             \u001b[0msave_function\u001b[0m\u001b[1;33m(\u001b[0m\u001b[0mobj\u001b[0m\u001b[1;33m,\u001b[0m \u001b[0mfilepath\u001b[0m\u001b[1;33m,\u001b[0m \u001b[0moverwrite\u001b[0m\u001b[1;33m,\u001b[0m \u001b[1;33m*\u001b[0m\u001b[0margs\u001b[0m\u001b[1;33m,\u001b[0m \u001b[1;33m**\u001b[0m\u001b[0mkwargs\u001b[0m\u001b[1;33m)\u001b[0m\u001b[1;33m\u001b[0m\u001b[1;33m\u001b[0m\u001b[0m\n\u001b[0m\u001b[0;32m    450\u001b[0m \u001b[1;33m\u001b[0m\u001b[0m\n\u001b[0;32m    451\u001b[0m     \u001b[1;32mreturn\u001b[0m \u001b[0msave_wrapper\u001b[0m\u001b[1;33m\u001b[0m\u001b[1;33m\u001b[0m\u001b[0m\n",
      "\u001b[1;32m~\\anaconda3\\lib\\site-packages\\keras\\engine\\saving.py\u001b[0m in \u001b[0;36msave_model\u001b[1;34m(model, filepath, overwrite, include_optimizer)\u001b[0m\n\u001b[0;32m    538\u001b[0m             \u001b[1;32mif\u001b[0m \u001b[1;32mnot\u001b[0m \u001b[0mproceed\u001b[0m\u001b[1;33m:\u001b[0m\u001b[1;33m\u001b[0m\u001b[1;33m\u001b[0m\u001b[0m\n\u001b[0;32m    539\u001b[0m                 \u001b[1;32mreturn\u001b[0m\u001b[1;33m\u001b[0m\u001b[1;33m\u001b[0m\u001b[0m\n\u001b[1;32m--> 540\u001b[1;33m         \u001b[1;32mwith\u001b[0m \u001b[0mH5Dict\u001b[0m\u001b[1;33m(\u001b[0m\u001b[0mfilepath\u001b[0m\u001b[1;33m,\u001b[0m \u001b[0mmode\u001b[0m\u001b[1;33m=\u001b[0m\u001b[1;34m'w'\u001b[0m\u001b[1;33m)\u001b[0m \u001b[1;32mas\u001b[0m \u001b[0mh5dict\u001b[0m\u001b[1;33m:\u001b[0m\u001b[1;33m\u001b[0m\u001b[1;33m\u001b[0m\u001b[0m\n\u001b[0m\u001b[0;32m    541\u001b[0m             \u001b[0m_serialize_model\u001b[0m\u001b[1;33m(\u001b[0m\u001b[0mmodel\u001b[0m\u001b[1;33m,\u001b[0m \u001b[0mh5dict\u001b[0m\u001b[1;33m,\u001b[0m \u001b[0minclude_optimizer\u001b[0m\u001b[1;33m)\u001b[0m\u001b[1;33m\u001b[0m\u001b[1;33m\u001b[0m\u001b[0m\n\u001b[0;32m    542\u001b[0m     \u001b[1;32melif\u001b[0m \u001b[0mhasattr\u001b[0m\u001b[1;33m(\u001b[0m\u001b[0mfilepath\u001b[0m\u001b[1;33m,\u001b[0m \u001b[1;34m'write'\u001b[0m\u001b[1;33m)\u001b[0m \u001b[1;32mand\u001b[0m \u001b[0mcallable\u001b[0m\u001b[1;33m(\u001b[0m\u001b[0mfilepath\u001b[0m\u001b[1;33m.\u001b[0m\u001b[0mwrite\u001b[0m\u001b[1;33m)\u001b[0m\u001b[1;33m:\u001b[0m\u001b[1;33m\u001b[0m\u001b[1;33m\u001b[0m\u001b[0m\n",
      "\u001b[1;32m~\\anaconda3\\lib\\site-packages\\keras\\utils\\io_utils.py\u001b[0m in \u001b[0;36m__init__\u001b[1;34m(self, path, mode)\u001b[0m\n\u001b[0;32m    189\u001b[0m             \u001b[0mself\u001b[0m\u001b[1;33m.\u001b[0m\u001b[0m_is_file\u001b[0m \u001b[1;33m=\u001b[0m \u001b[1;32mFalse\u001b[0m\u001b[1;33m\u001b[0m\u001b[1;33m\u001b[0m\u001b[0m\n\u001b[0;32m    190\u001b[0m         \u001b[1;32melif\u001b[0m \u001b[0misinstance\u001b[0m\u001b[1;33m(\u001b[0m\u001b[0mpath\u001b[0m\u001b[1;33m,\u001b[0m \u001b[0msix\u001b[0m\u001b[1;33m.\u001b[0m\u001b[0mstring_types\u001b[0m\u001b[1;33m)\u001b[0m \u001b[1;32mor\u001b[0m \u001b[0m_is_path_instance\u001b[0m\u001b[1;33m(\u001b[0m\u001b[0mpath\u001b[0m\u001b[1;33m)\u001b[0m\u001b[1;33m:\u001b[0m\u001b[1;33m\u001b[0m\u001b[1;33m\u001b[0m\u001b[0m\n\u001b[1;32m--> 191\u001b[1;33m             \u001b[0mself\u001b[0m\u001b[1;33m.\u001b[0m\u001b[0mdata\u001b[0m \u001b[1;33m=\u001b[0m \u001b[0mh5py\u001b[0m\u001b[1;33m.\u001b[0m\u001b[0mFile\u001b[0m\u001b[1;33m(\u001b[0m\u001b[0mpath\u001b[0m\u001b[1;33m,\u001b[0m \u001b[0mmode\u001b[0m\u001b[1;33m=\u001b[0m\u001b[0mmode\u001b[0m\u001b[1;33m)\u001b[0m\u001b[1;33m\u001b[0m\u001b[1;33m\u001b[0m\u001b[0m\n\u001b[0m\u001b[0;32m    192\u001b[0m             \u001b[0mself\u001b[0m\u001b[1;33m.\u001b[0m\u001b[0m_is_file\u001b[0m \u001b[1;33m=\u001b[0m \u001b[1;32mTrue\u001b[0m\u001b[1;33m\u001b[0m\u001b[1;33m\u001b[0m\u001b[0m\n\u001b[0;32m    193\u001b[0m         \u001b[1;32melif\u001b[0m \u001b[0misinstance\u001b[0m\u001b[1;33m(\u001b[0m\u001b[0mpath\u001b[0m\u001b[1;33m,\u001b[0m \u001b[0mdict\u001b[0m\u001b[1;33m)\u001b[0m\u001b[1;33m:\u001b[0m\u001b[1;33m\u001b[0m\u001b[1;33m\u001b[0m\u001b[0m\n",
      "\u001b[1;32m~\\anaconda3\\lib\\site-packages\\h5py\\_hl\\files.py\u001b[0m in \u001b[0;36m__init__\u001b[1;34m(self, name, mode, driver, libver, userblock_size, swmr, rdcc_nslots, rdcc_nbytes, rdcc_w0, track_order, **kwds)\u001b[0m\n\u001b[0;32m    406\u001b[0m                 fid = make_fid(name, mode, userblock_size,\n\u001b[0;32m    407\u001b[0m                                \u001b[0mfapl\u001b[0m\u001b[1;33m,\u001b[0m \u001b[0mfcpl\u001b[0m\u001b[1;33m=\u001b[0m\u001b[0mmake_fcpl\u001b[0m\u001b[1;33m(\u001b[0m\u001b[0mtrack_order\u001b[0m\u001b[1;33m=\u001b[0m\u001b[0mtrack_order\u001b[0m\u001b[1;33m)\u001b[0m\u001b[1;33m,\u001b[0m\u001b[1;33m\u001b[0m\u001b[1;33m\u001b[0m\u001b[0m\n\u001b[1;32m--> 408\u001b[1;33m                                swmr=swmr)\n\u001b[0m\u001b[0;32m    409\u001b[0m \u001b[1;33m\u001b[0m\u001b[0m\n\u001b[0;32m    410\u001b[0m             \u001b[1;32mif\u001b[0m \u001b[0misinstance\u001b[0m\u001b[1;33m(\u001b[0m\u001b[0mlibver\u001b[0m\u001b[1;33m,\u001b[0m \u001b[0mtuple\u001b[0m\u001b[1;33m)\u001b[0m\u001b[1;33m:\u001b[0m\u001b[1;33m\u001b[0m\u001b[1;33m\u001b[0m\u001b[0m\n",
      "\u001b[1;32m~\\anaconda3\\lib\\site-packages\\h5py\\_hl\\files.py\u001b[0m in \u001b[0;36mmake_fid\u001b[1;34m(name, mode, userblock_size, fapl, fcpl, swmr)\u001b[0m\n\u001b[0;32m    177\u001b[0m         \u001b[0mfid\u001b[0m \u001b[1;33m=\u001b[0m \u001b[0mh5f\u001b[0m\u001b[1;33m.\u001b[0m\u001b[0mcreate\u001b[0m\u001b[1;33m(\u001b[0m\u001b[0mname\u001b[0m\u001b[1;33m,\u001b[0m \u001b[0mh5f\u001b[0m\u001b[1;33m.\u001b[0m\u001b[0mACC_EXCL\u001b[0m\u001b[1;33m,\u001b[0m \u001b[0mfapl\u001b[0m\u001b[1;33m=\u001b[0m\u001b[0mfapl\u001b[0m\u001b[1;33m,\u001b[0m \u001b[0mfcpl\u001b[0m\u001b[1;33m=\u001b[0m\u001b[0mfcpl\u001b[0m\u001b[1;33m)\u001b[0m\u001b[1;33m\u001b[0m\u001b[1;33m\u001b[0m\u001b[0m\n\u001b[0;32m    178\u001b[0m     \u001b[1;32melif\u001b[0m \u001b[0mmode\u001b[0m \u001b[1;33m==\u001b[0m \u001b[1;34m'w'\u001b[0m\u001b[1;33m:\u001b[0m\u001b[1;33m\u001b[0m\u001b[1;33m\u001b[0m\u001b[0m\n\u001b[1;32m--> 179\u001b[1;33m         \u001b[0mfid\u001b[0m \u001b[1;33m=\u001b[0m \u001b[0mh5f\u001b[0m\u001b[1;33m.\u001b[0m\u001b[0mcreate\u001b[0m\u001b[1;33m(\u001b[0m\u001b[0mname\u001b[0m\u001b[1;33m,\u001b[0m \u001b[0mh5f\u001b[0m\u001b[1;33m.\u001b[0m\u001b[0mACC_TRUNC\u001b[0m\u001b[1;33m,\u001b[0m \u001b[0mfapl\u001b[0m\u001b[1;33m=\u001b[0m\u001b[0mfapl\u001b[0m\u001b[1;33m,\u001b[0m \u001b[0mfcpl\u001b[0m\u001b[1;33m=\u001b[0m\u001b[0mfcpl\u001b[0m\u001b[1;33m)\u001b[0m\u001b[1;33m\u001b[0m\u001b[1;33m\u001b[0m\u001b[0m\n\u001b[0m\u001b[0;32m    180\u001b[0m     \u001b[1;32melif\u001b[0m \u001b[0mmode\u001b[0m \u001b[1;33m==\u001b[0m \u001b[1;34m'a'\u001b[0m\u001b[1;33m:\u001b[0m\u001b[1;33m\u001b[0m\u001b[1;33m\u001b[0m\u001b[0m\n\u001b[0;32m    181\u001b[0m         \u001b[1;31m# Open in append mode (read/write).\u001b[0m\u001b[1;33m\u001b[0m\u001b[1;33m\u001b[0m\u001b[1;33m\u001b[0m\u001b[0m\n",
      "\u001b[1;32mh5py\\_objects.pyx\u001b[0m in \u001b[0;36mh5py._objects.with_phil.wrapper\u001b[1;34m()\u001b[0m\n",
      "\u001b[1;32mh5py\\_objects.pyx\u001b[0m in \u001b[0;36mh5py._objects.with_phil.wrapper\u001b[1;34m()\u001b[0m\n",
      "\u001b[1;32mh5py\\h5f.pyx\u001b[0m in \u001b[0;36mh5py.h5f.create\u001b[1;34m()\u001b[0m\n",
      "\u001b[1;31mOSError\u001b[0m: Unable to create file (unable to open file: name = 'E:/Fall 2020/Kaavish/Module 1/M1-LSTM-Pretrained', errno = 13, error message = 'Permission denied', flags = 13, o_flags = 302)"
     ]
    }
   ],
   "source": [
    "model.compile(optimizer='adam', loss = 'mean_squared_error', metrics=['accuracy'])\n",
    "history = model.fit(x_train, y_train, epochs=50, batch_size=32, validation_data = (x_test, y_test), verbose = 1)\n",
    "filepath = 'E:/Fall 2020/Kaavish/Module 1/M1-LSTM-Pretrained'\n",
    "model.save(filepath)\n",
    "\n",
    "\n"
   ]
  },
  {
   "cell_type": "code",
   "execution_count": 12,
   "metadata": {},
   "outputs": [
    {
     "name": "stdout",
     "output_type": "stream",
     "text": [
      "791/791 [==============================] - 1s 1ms/step\n",
      "[0.003017839251260371, 0.0012642225483432412]\n"
     ]
    }
   ],
   "source": [
    "filepath = 'E:/Fall 2020/Kaavish/Module 1/M1-LSTM-Pretrained'\n",
    "#model = keras.models.load_model(filepath)\n",
    "model.compile(optimizer='adam', loss = 'mean_squared_error', metrics=['accuracy'])\n",
    "evaluation = model.evaluate(x_test, y_test)\n",
    "print(evaluation)"
   ]
  },
  {
   "cell_type": "markdown",
   "metadata": {},
   "source": [
    "## Testing"
   ]
  },
  {
   "cell_type": "code",
   "execution_count": 21,
   "metadata": {},
   "outputs": [
    {
     "data": {
      "text/plain": [
       "array([[0.76496214],\n",
       "       [0.76675736],\n",
       "       [0.76376533],\n",
       "       [0.77004859],\n",
       "       [0.77982255],\n",
       "       [0.78540767],\n",
       "       [0.79328668],\n",
       "       [0.83906473],\n",
       "       [0.83178413],\n",
       "       [0.82809396],\n",
       "       [0.82809396],\n",
       "       [0.83846633],\n",
       "       [0.83786792],\n",
       "       [0.85901159],\n",
       "       [0.83736925],\n",
       "       [0.84255543],\n",
       "       [0.83387855],\n",
       "       [0.84774162],\n",
       "       [0.84794108],\n",
       "       [0.8427549 ],\n",
       "       [0.8427549 ],\n",
       "       [0.85272833],\n",
       "       [0.85272833],\n",
       "       [0.84774162],\n",
       "       [0.8834465 ],\n",
       "       [0.87377227],\n",
       "       [0.8764651 ],\n",
       "       [0.8770635 ],\n",
       "       [0.85562063],\n",
       "       [0.86768848],\n",
       "       [0.86938396],\n",
       "       [0.85761531],\n",
       "       [0.85761531],\n",
       "       [0.86469645],\n",
       "       [0.86649167],\n",
       "       [0.85552089],\n",
       "       [0.8567177 ],\n",
       "       [0.84674427],\n",
       "       [0.85771505],\n",
       "       [0.85681744],\n",
       "       [0.86669113],\n",
       "       [0.86758874],\n",
       "       [0.8602084 ],\n",
       "       [0.85083338],\n",
       "       [0.83667111],\n",
       "       [0.84714321],\n",
       "       [0.84445038],\n",
       "       [0.84634534],\n",
       "       [0.84774162],\n",
       "       [0.84774162],\n",
       "       [0.85621903],\n",
       "       [0.84774162],\n",
       "       [0.8462456 ],\n",
       "       [0.84046101],\n",
       "       [0.88324703],\n",
       "       [0.85771505],\n",
       "       [0.8360727 ],\n",
       "       [0.82779475],\n",
       "       [0.82719635],\n",
       "       [0.86499565]])"
      ]
     },
     "execution_count": 21,
     "metadata": {},
     "output_type": "execute_result"
    }
   ],
   "source": [
    "x_test[-1]"
   ]
  },
  {
   "cell_type": "code",
   "execution_count": 13,
   "metadata": {},
   "outputs": [],
   "source": [
    "y_hat = model.predict(x_test)\n"
   ]
  },
  {
   "cell_type": "code",
   "execution_count": 15,
   "metadata": {},
   "outputs": [],
   "source": [
    "y_hat_unscaled = y_hat/test_scale[0]\n",
    "y_test_unscaled = y_test/test_scale[0]\n"
   ]
  },
  {
   "cell_type": "code",
   "execution_count": 16,
   "metadata": {},
   "outputs": [
    {
     "data": {
      "text/plain": [
       "30.339402745069336"
      ]
     },
     "execution_count": 16,
     "metadata": {},
     "output_type": "execute_result"
    }
   ],
   "source": [
    "from sklearn.metrics import mean_squared_error\n",
    "mean_squared_error(y_test_unscaled, y_hat_unscaled)"
   ]
  },
  {
   "cell_type": "code",
   "execution_count": 22,
   "metadata": {},
   "outputs": [
    {
     "data": {
      "image/png": "[encoded data removed]",
      "text/plain": [
       "<Figure size 1008x360 with 1 Axes>"
      ]
     },
     "metadata": {
      "needs_background": "light"
     },
     "output_type": "display_data"
    }
   ],
   "source": [
    "def plot_comparison(y_test, y_hat):\n",
    "\n",
    "    plt.figure(figsize=(14,5))\n",
    "    plt.plot(y_test[:500], color = 'red', label = 'Real Stock Price')\n",
    "    plt.plot(y_hat[:500], color = 'blue', label = 'Predicted Stock Price')\n",
    "    plt.title('Stock Price Prediction')\n",
    "    plt.xlabel('Time')\n",
    "    plt.ylabel('Stock Price')\n",
    "    plt.legend()\n",
    "    plt.show()\n",
    "    \n",
    "plot_comparison(y_test_unscaled, y_hat_unscaled)"
   ]
  },
  {
   "cell_type": "code",
   "execution_count": 19,
   "metadata": {},
   "outputs": [
    {
     "name": "stdout",
     "output_type": "stream",
     "text": [
      "[[13.622849]\n",
      " [15.573967]\n",
      " [18.84751 ]\n",
      " [24.725798]\n",
      " [32.065105]\n",
      " [39.64539 ]\n",
      " [46.808353]\n",
      " [53.037617]\n",
      " [58.324917]\n",
      " [62.155888]\n",
      " [64.91962 ]\n",
      " [66.6456  ]\n",
      " [67.691956]\n",
      " [68.268005]\n",
      " [68.50455 ]\n",
      " [68.56889 ]\n",
      " [68.721245]\n",
      " [68.8448  ]\n",
      " [68.844666]\n",
      " [68.66684 ]\n",
      " [68.41608 ]\n",
      " [67.9285  ]\n",
      " [67.34153 ]\n",
      " [66.5037  ]\n",
      " [65.70796 ]\n",
      " [64.95753 ]\n",
      " [64.45756 ]\n",
      " [64.303246]\n",
      " [64.41109 ]\n",
      " [64.72715 ]\n",
      " [65.40338 ]\n",
      " [66.00333 ]\n",
      " [66.33556 ]\n",
      " [66.45169 ]\n",
      " [66.58499 ]\n",
      " [66.643524]\n",
      " [66.61409 ]\n",
      " [66.47664 ]\n",
      " [66.30117 ]\n",
      " [66.1415  ]\n",
      " [65.95633 ]\n",
      " [65.784515]\n",
      " [65.674324]\n",
      " [65.48948 ]\n",
      " [65.394684]\n",
      " [65.50728 ]\n",
      " [65.72242 ]\n",
      " [65.66362 ]\n",
      " [65.34255 ]\n",
      " [64.95926 ]\n",
      " [64.54804 ]\n",
      " [64.327095]\n",
      " [64.3053  ]\n",
      " [64.355865]\n",
      " [64.5027  ]\n",
      " [64.67401 ]\n",
      " [64.729355]\n",
      " [64.60689 ]\n",
      " [64.29625 ]\n",
      " [64.16295 ]] [[[ 6.2789]\n",
      "  [ 6.2789]\n",
      "  [ 6.2789]\n",
      "  ...\n",
      "  [ 9.2555]\n",
      "  [ 9.3296]\n",
      "  [ 9.5665]]\n",
      "\n",
      " [[ 6.2789]\n",
      "  [ 6.2789]\n",
      "  [ 6.3678]\n",
      "  ...\n",
      "  [ 9.3296]\n",
      "  [ 9.5665]\n",
      "  [69.3087]]\n",
      "\n",
      " [[ 6.2789]\n",
      "  [ 6.3678]\n",
      "  [ 6.3086]\n",
      "  ...\n",
      "  [ 9.5665]\n",
      "  [69.3087]\n",
      "  [70.5049]]\n",
      "\n",
      " ...\n",
      "\n",
      " [[76.5   ]\n",
      "  [76.    ]\n",
      "  [76.7   ]\n",
      "  ...\n",
      "  [86.    ]\n",
      "  [83.83  ]\n",
      "  [83.    ]]\n",
      "\n",
      " [[76.    ]\n",
      "  [76.7   ]\n",
      "  [76.88  ]\n",
      "  ...\n",
      "  [83.83  ]\n",
      "  [83.    ]\n",
      "  [82.94  ]]\n",
      "\n",
      " [[76.7   ]\n",
      "  [76.88  ]\n",
      "  [76.58  ]\n",
      "  ...\n",
      "  [83.    ]\n",
      "  [82.94  ]\n",
      "  [86.73  ]]]\n"
     ]
    }
   ],
   "source": [
    "print(model.predict(x_test[:60])/test_scale[0], x_test/test_scale[0])"
   ]
  },
  {
   "cell_type": "code",
   "execution_count": null,
   "metadata": {},
   "outputs": [],
   "source": [
    "def plot_accuracy(history):\n",
    "\n",
    "    plt.plot(history.history['accuracy'])\n",
    "    plt.plot(history.history['val_accuracy'])\n",
    "    plt.title('model accuracy')\n",
    "    plt.ylabel('accuracy')\n",
    "    plt.xlabel('epoch')\n",
    "    plt.legend(['train', 'val'], loc='upper left')\n",
    "    plt.show()\n",
    "\n",
    "    plt.plot(history.history['loss'])\n",
    "    plt.plot(history.history['val_loss'])\n",
    "    plt.title('model loss')\n",
    "    plt.ylabel('loss')\n",
    "    plt.xlabel('epoch')\n",
    "    plt.legend(['train', 'val'], loc='upper left')\n",
    "    plt.show()\n",
    "    \n",
    "    '''plt.plot(history.history['mean_squared_error'], label='training data')\n",
    "    plt.plot(history.history['val_mean_squared_error'], label='validation data')\n",
    "    plt.title('Loss')\n",
    "    plt.ylabel('MSE value')\n",
    "    plt.xlabel('No. epoch')\n",
    "    plt.legend(loc=\"upper left\")\n",
    "    plt.show()'''\n",
    "    \n",
    "plot_accuracy(history)"
   ]
  },
  {
   "cell_type": "markdown",
   "metadata": {},
   "source": [
    "## Predicting next day price\n",
    "\n"
   ]
  },
  {
   "cell_type": "code",
   "execution_count": null,
   "metadata": {},
   "outputs": [],
   "source": []
  },
  {
   "cell_type": "code",
   "execution_count": null,
   "metadata": {},
   "outputs": [],
   "source": []
  },
  {
   "cell_type": "code",
   "execution_count": null,
   "metadata": {},
   "outputs": [],
   "source": []
  }
 ],
 "metadata": {
  "kernelspec": {
   "display_name": "Python 3",
   "language": "python",
   "name": "python3"
  },
  "language_info": {
   "codemirror_mode": {
    "name": "ipython",
    "version": 3
   },
   "file_extension": ".py",
   "mimetype": "text/x-python",
   "name": "python",
   "nbconvert_exporter": "python",
   "pygments_lexer": "ipython3",
   "version": "3.7.6"
  }
 },
 "nbformat": 4,
 "nbformat_minor": 4
}
