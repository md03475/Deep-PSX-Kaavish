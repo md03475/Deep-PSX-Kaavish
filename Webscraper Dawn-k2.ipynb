{
 "cells": [
  {
   "cell_type": "markdown",
   "metadata": {},
   "source": [
    "# NEWS SCRAPER "
   ]
  },
  {
   "cell_type": "code",
   "execution_count": 1,
   "metadata": {},
   "outputs": [],
   "source": [
    "import requests"
   ]
  },
  {
   "cell_type": "code",
   "execution_count": 2,
   "metadata": {
    "scrolled": true
   },
   "outputs": [
    {
     "name": "stdout",
     "output_type": "stream",
     "text": [
      "Requirement already satisfied: ipython-beautifulsoup in c:\\users\\92335\\appdata\\local\\programs\\python\\python38\\lib\\site-packages (0.3)\n",
      "Requirement already satisfied: pygments in c:\\users\\92335\\appdata\\local\\programs\\python\\python38\\lib\\site-packages (from ipython-beautifulsoup) (2.6.1)\n",
      "Requirement already satisfied: ipython in c:\\users\\92335\\appdata\\local\\programs\\python\\python38\\lib\\site-packages (from ipython-beautifulsoup) (7.17.0)\n",
      "Requirement already satisfied: beautifulsoup4 in c:\\users\\92335\\appdata\\local\\programs\\python\\python38\\lib\\site-packages (from ipython-beautifulsoup) (4.9.1)\n",
      "Requirement already satisfied: decorator in c:\\users\\92335\\appdata\\local\\programs\\python\\python38\\lib\\site-packages (from ipython->ipython-beautifulsoup) (4.4.2)\n",
      "Requirement already satisfied: colorama; sys_platform == \"win32\" in c:\\users\\92335\\appdata\\local\\programs\\python\\python38\\lib\\site-packages (from ipython->ipython-beautifulsoup) (0.4.3)\n",
      "Requirement already satisfied: prompt-toolkit!=3.0.0,!=3.0.1,<3.1.0,>=2.0.0 in c:\\users\\92335\\appdata\\local\\programs\\python\\python38\\lib\\site-packages (from ipython->ipython-beautifulsoup) (3.0.6)\n",
      "Requirement already satisfied: setuptools>=18.5 in c:\\users\\92335\\appdata\\local\\programs\\python\\python38\\lib\\site-packages (from ipython->ipython-beautifulsoup) (47.1.0)\n",
      "Requirement already satisfied: traitlets>=4.2 in c:\\users\\92335\\appdata\\local\\programs\\python\\python38\\lib\\site-packages (from ipython->ipython-beautifulsoup) (4.3.3)\n",
      "Requirement already satisfied: jedi>=0.10 in c:\\users\\92335\\appdata\\local\\programs\\python\\python38\\lib\\site-packages (from ipython->ipython-beautifulsoup) (0.17.2)\n",
      "Requirement already satisfied: pickleshare in c:\\users\\92335\\appdata\\local\\programs\\python\\python38\\lib\\site-packages (from ipython->ipython-beautifulsoup) (0.7.5)\n",
      "Requirement already satisfied: backcall in c:\\users\\92335\\appdata\\local\\programs\\python\\python38\\lib\\site-packages (from ipython->ipython-beautifulsoup) (0.2.0)\n",
      "Requirement already satisfied: soupsieve>1.2 in c:\\users\\92335\\appdata\\local\\programs\\python\\python38\\lib\\site-packages (from beautifulsoup4->ipython-beautifulsoup) (2.0.1)\n",
      "Requirement already satisfied: wcwidth in c:\\users\\92335\\appdata\\local\\programs\\python\\python38\\lib\\site-packages (from prompt-toolkit!=3.0.0,!=3.0.1,<3.1.0,>=2.0.0->ipython->ipython-beautifulsoup) (0.2.5)\n",
      "Requirement already satisfied: six in c:\\users\\92335\\appdata\\local\\programs\\python\\python38\\lib\\site-packages (from traitlets>=4.2->ipython->ipython-beautifulsoup) (1.15.0)\n",
      "Requirement already satisfied: ipython-genutils in c:\\users\\92335\\appdata\\local\\programs\\python\\python38\\lib\\site-packages (from traitlets>=4.2->ipython->ipython-beautifulsoup) (0.2.0)\n",
      "Requirement already satisfied: parso<0.8.0,>=0.7.0 in c:\\users\\92335\\appdata\\local\\programs\\python\\python38\\lib\\site-packages (from jedi>=0.10->ipython->ipython-beautifulsoup) (0.7.1)\n",
      "Note: you may need to restart the kernel to use updated packages.\n"
     ]
    },
    {
     "name": "stderr",
     "output_type": "stream",
     "text": [
      "WARNING: You are using pip version 20.2.4; however, version 21.0 is available.\n",
      "You should consider upgrading via the 'c:\\users\\92335\\appdata\\local\\programs\\python\\python38\\python.exe -m pip install --upgrade pip' command.\n"
     ]
    }
   ],
   "source": [
    "pip install ipython-beautifulsoup"
   ]
  },
  {
   "cell_type": "code",
   "execution_count": 3,
   "metadata": {},
   "outputs": [],
   "source": [
    "import bs4\n",
    "from urllib.request import urlopen as uReq \n",
    "import requests\n",
    "from bs4 import BeautifulSoup, SoupStrainer\n",
    "from urllib.request import urlopen\n",
    "from zipfile import ZipFile\n",
    "import datetime\n",
    "from datetime import date, timedelta\n",
    "import requests\n",
    "import os\n",
    "import datetime\n",
    "from datetime import date\n",
    "\n"
   ]
  },
  {
   "cell_type": "markdown",
   "metadata": {},
   "source": [
    "# DAWN NEWS *news from today gets repeated in all entries"
   ]
  },
  {
   "cell_type": "code",
   "execution_count": 98,
   "metadata": {},
   "outputs": [],
   "source": [
    "basestring_dawn = 'https://www.dawn.com/archive/'\n",
    "def dawn(url,today):\n",
    "    r1 = requests.get(url)\n",
    "    only = SoupStrainer(\"article\")\n",
    "    title = BeautifulSoup(r1.text, 'html.parser', parse_only=only)\n",
    "    headlines = []\n",
    "    for x in title.find_all(\"article\"):\n",
    "        a_tag = x.find_all(\"a\")\n",
    "        if (\"Pakistan\" in a_tag[0].text):\n",
    "            try:\n",
    "                headlines.append(a_tag[1].get_text().strip())\n",
    "            except:\n",
    "                headlines.append(a_tag[0].get_text().strip())\n",
    "    Daily = {str(today):headlines}\n",
    "    print(Daily)"
   ]
  },
  {
   "cell_type": "code",
   "execution_count": 100,
   "metadata": {
    "scrolled": true
   },
   "outputs": [
    {
     "name": "stdout",
     "output_type": "stream",
     "text": [
      "https://www.dawn.com/archive/2011-04-01 2011-04-01\n",
      "{'2011-04-01': ['Judgment on judges` extension case suspended', 'Gilani hints at giving subsidy on oil prices', 'Agencies averse to aerial survey by foreigners', 'SC gives PPP leaders time to file reply in contempt case', 'Quake measuring 5.2 rattles Islamabad, Mansehra', 'Pakistan ready to hand suspected militant to Indonesia', 'PPP always respected judiciary: Sharjeel Memon', 'Gilani to consult politicians on fuel price hike', 'Land reforms vital for women empowerment', 'Bone marrow recipients highlight consequences of poor donation culture', 'Zab Media Festival: An educational discourse', 'Pakistan’s Failure on SACOSAN Commitments', 'Zardari signs reference to reopen case of Bhutto’s ‘judicial murder’', 'So close – and yet so far', 'Senate for probing suicide attacks on Fazl', 'Failed suicide attack kills child, wounds five in Darra Adam Khel', 'Cafe Black: Dazed and confused', 'Mangal Bagh’s convoy attacked in Tirah valley', 'Afridi and Waqar, take a bow', 'Taj Haider, Sharjeel Memon to submit replies by April 25', 'Davis case: Federal, Punjab govts given 10 days to recover heirs', 'Petition in LHC challenges petrol price hike', 'Three guards killed at Nato terminal in Khyber Agency', 'Petrol price raised by 10 per cent', 'Pakistan loses four points on graft perception ranking', 'Pakistan wants closer engagement with US for regional stability', 'Pakistan to stop manual visas from next month', 'Pakistan, Kuwait vow to expand ties', '‘Digital Pakistan coming to life’', 'Pakistan grab late wickets to take command against Proteas at NSK', 'Pakistan women take on SA in T20 series commencing today']}\n",
      "https://www.dawn.com/archive/2011-04-02 2011-04-02\n",
      "{'2011-04-02': ['Copters pound Lashkar bases after infighting', 'Tax on middlemen in agriculture', 'PPP Senators join opposition walkout', 'Pakistan, Britain to initiate strategic dialogue', '15 per cent surcharge applicable to all taxpayers', 'Eleven troops injured in Bara convoy ambush', 'Sindh govt announces holiday on April 4', 'SC receives ZAB reference', '1,757 Afghans voluntarily repatriated during March: UNHCR', 'Five million children to be vaccinated in Sindh', 'Two injured in attack on NATO container', 'Govt will not complete its term, claims Pagara', 'Ten schoolchildren kidnapped in Kurram released', 'Rare dinosaur footprints in Pakistan', 'Militant groups clash in Khyber; four killed', '‘Diyat accepted without any pressure’', 'Zardari signs plea to reopen Bhutto case', 'Spy war dampens detente with India', 'Gilani says ISI chief given one-year extension', 'Pakistan loses four points on graft perception ranking', 'Pakistan wants closer engagement with US for regional stability', 'Pakistan to stop manual visas from next month', 'Pakistan, Kuwait vow to expand ties', '‘Digital Pakistan coming to life’', 'Pakistan grab late wickets to take command against Proteas at NSK', 'Pakistan women take on SA in T20 series commencing today']}\n",
      "https://www.dawn.com/archive/2011-04-03 2011-04-03\n",
      "{'2011-04-03': ['Sixth shrine hit', 'Leaders find gaps in Benazir probe report', 'Carnage at shrine near D.G. Khan', 'BISP will keep encouraging women to set up business: Zardari', 'Twin suicide attacks kill 41 at Dera Ghazi Khan shrine', 'PM strongly condemns terrorist act in DG Khan', 'Two men feeding on dead bodies arrested in Punjab', \"Attack on Bhutto's anniversary foiled: CCPO Karachi\", 'Three more accused identified in Benazir murder case', 'Shahbaz Sharif threatens long march against drone strikes', 'Security forces’ counter attack kills 15 militants in North West', 'Pakistan loses four points on graft perception ranking', 'Pakistan wants closer engagement with US for regional stability', 'Pakistan to stop manual visas from next month', 'Pakistan, Kuwait vow to expand ties', '‘Digital Pakistan coming to life’', 'Pakistan grab late wickets to take command against Proteas at NSK', 'Pakistan women take on SA in T20 series commencing today']}\n",
      "https://www.dawn.com/archive/2011-04-04 2011-04-04\n",
      "{'2011-04-04': ['Another diplomatic row with US brewing', 'LHC allows ministry to go through Bhutto case record', 'Constitution recognises dysfunctional judges, SC told', 'Militant leader to investigate attacks on Fazl', 'House listing begins today amid reservations', 'British security for David Cameron', 'Hackers of SC website denied bail', 'SC to take up ZAB ‘judicial murder’ reference on 13th', 'British PM to visit Islamabad today', 'Karachi traders stick to strike plan as KCCI ‘backtracks’', \"Medical colleges professors asked to help call off doctors' strike\", 'Suicide bomber kills eight in Lower Dir', 'Karachi transporters threaten to go on strike', 'Zardari vows to rectify “historical wrong” in Bhutto decision', 'In memoriam: Zulfikar Bhutto', 'Captured bomber in Pakistan vows attacks', 'Welcome to the greener side', 'Death toll in shrine blast rises to 49', 'Zardari-Singh Kashmir deal not cleared by Kayani: cables', 'US pledges $500m for Bhasha dam', 'Ambassador’s appointment abruptly withdrawn', 'Pakistan loses four points on graft perception ranking', 'Pakistan wants closer engagement with US for regional stability', 'Pakistan to stop manual visas from next month', 'Pakistan, Kuwait vow to expand ties', '‘Digital Pakistan coming to life’', 'Pakistan grab late wickets to take command against Proteas at NSK', 'Pakistan women take on SA in T20 series commencing today']}\n",
      "https://www.dawn.com/archive/2011-04-05 2011-04-05\n",
      "{'2011-04-05': ['Inspection of cargo planes flying over Pakistan ‘not allowed’', 'Wheat output may top 25m tons', 'Trade talks with India to commence on April 27', 'SC wants Reko Diq parties to settle issue', 'Brawl mars traders’ strike in Karachi', 'Govt to follow court directives on Musharraf’s extradition: Firdous', 'Altaf praises traders, businessmen for peaceful strike', 'Thirty arrested in connection with extortion: Malik', 'Explosion in Khyber Agency kills five, injures eight', 'Pakistan orders safety review of nuke plants', 'We want a strong relationship with Pakistan: Cameron', 'Bail plea accepted for Shahzad and Aziz in Benazir case', 'Pakistan revamps Taliban fortress for skiing gala', 'BHU, schools destroyed in Mohmand Agency', 'House count in Sindh begins today', 'Pakistan loses four points on graft perception ranking', 'Pakistan wants closer engagement with US for regional stability', 'Pakistan to stop manual visas from next month', 'Pakistan, Kuwait vow to expand ties', '‘Digital Pakistan coming to life’', 'Pakistan grab late wickets to take command against Proteas at NSK', 'Pakistan women take on SA in T20 series commencing today']}\n",
      "https://www.dawn.com/archive/2011-04-06 2011-04-06\n",
      "{'2011-04-06': ['China willing to invest $15bn in energy sector', 'Postings in foreign missions irk officials', 'Flood-hit people complain of inadequate help', 'Balochistan govt urges SC to decide Reko Diq case', 'Extortionists still preying on Karachi traders', 'Sindh CM sends fiery Mirza ‘on sick leave’', 'Zardari phones Nawaz Sharif, inquires about health', 'Cameron visits Pakistan for a fresh start', 'Students not to get affected by HEC devolution: Rabbani', 'Sketch released of alleged mastermind of Sakhi Sarwar blasts', 'An educational interview', 'PAC concerned over money given to former British MP', 'Draft of Pak-UK prisoner exchange agreement ready: Malik', 'DG FIA Waseem Ahmed resigns from post', 'Dr. Nabi Bux Baloch passes away', 'Two Nato tankers torched in Bolan', 'Four children killed playing with explosive in Kohat', 'Why this blind spot?', 'Two Nato tankers torched in Dhadhar', 'Cricket, not politics', 'Young Doctors Association calls off strike in Islamabad', 'Govt sticks to HEC devolution plan', 'China corporation ready to invest in hydel power projects', 'Pakistan loses four points on graft perception ranking', 'Pakistan wants closer engagement with US for regional stability', 'Pakistan to stop manual visas from next month', 'Pakistan, Kuwait vow to expand ties', '‘Digital Pakistan coming to life’', 'Pakistan grab late wickets to take command against Proteas at NSK', 'Pakistan women take on SA in T20 series commencing today']}\n",
      "https://www.dawn.com/archive/2011-04-07 2011-04-07\n",
      "{'2011-04-07': ['IB inspector killed, 19 injured in Karachi', 'Quetta DIG survives suicide attack', '‘Healthy’ Mirza continues to talk tough', 'Pakistan and US in patch-up efforts', 'Fifty militants killed in Mohmand Agency', 'KESC warns of severe loadshedding', 'End of spirituality and life after shrine blasts', 'Five arrested in Wali Khan murder case', 'Commission to probe deaths during doctors strike: Shahbaz', '82,000 staff imparted training to conduct census 2011: Asif Bajwa', 'Committee formed for recovery of missing persons', 'To Japan with love', 'Pakistan releases Indian prisoner after 23 years', 'Colors of Pakistan', 'Deteriorating healthcare', 'US general holds Pakistan talks amid shaky ties', 'Take a dirty picture for me', 'Suicide blast kills one, injures nine in Quetta', 'Ambush on convoy injures seven troops in Bara', 'Pakistan to start vaccination next week, says minister', 'Pakistan, Kuwait vow to expand ties', 'Pakistan-China joint parliamentary panel soon to oversee CPEC']}\n",
      "https://www.dawn.com/archive/2011-04-08 2011-04-08\n",
      "{'2011-04-08': ['US, Pakistan seek new era in relations', 'Gilani meets Nawaz in London', 'Punjab CNG stations announce strike from 13th', \"'Culture of impunity' in Pakistan: US report\", 'Thirty militants killed in Mohmand operation', 'Government sacks 28 contractual employees', \"Pakistan's inflation outlook disheartening: State Bank\", 'MQM was behind my removal from post: Mirza', 'SC directs FIA to recover money from pilgrims', 'Commission for Standard Higher Education to replace HEC', 'Reach the skies', 'Tough road to post-flood recovery in Pakistan', 'Over 300 suicide bombers being trained in Waziristan', 'Agha Siraj Durrani to become Home Minister Sindh', 'Shoaib Akhtar: Man of a moment', 'Malaysia nabs two Pakistanis with heroin worth $36M', 'Dr. Baloch - An icon of achievement', 'Pakistani troops kill 54 militants in Mohmand', 'SHO critically injured in Peshawar blast', 'TCC counsel tells SC BHP was ready to sell licence for $100', 'VCs of 130 varsities seek reversal of decision on HEC', 'FBR chief figures in scam report', 'Pakistan loses four points on graft perception ranking', 'Pakistan wants closer engagement with US for regional stability', 'Pakistan to stop manual visas from next month', 'Pakistan, Kuwait vow to expand ties', '‘Digital Pakistan coming to life’', 'Pakistan grab late wickets to take command against Proteas at NSK', 'Pakistan women take on SA in T20 series commencing today']}\n",
      "https://www.dawn.com/archive/2011-04-09 2011-04-09\n",
      "{'2011-04-09': ['Economy has stabilised: Zardari', 'The bomber who got a second life', 'PM Gilani meets Altaf, discusses national issues', 'Pakistan intel operations frozen as ties remain strained', 'Kazmi to participate in NA session: Fahmida Mirza', 'MQM invites PPP leaders to its Punjab rally', 'Finance ministry releases withheld grant for HEC', 'Dissolution of HEC challenged in SC', 'Artist Usman Ghouri passes away', 'ATC urges speedy Musharraf arrest in BB murder case', 'Govt appeals SC to review NAB Chairman’s appointment verdict', '“Sesame Street” coming to Pakistan: report', \"Japan's nuclear radioactivity reaches Pakistan: Dr Zaidi\", 'Punjab’s share of water cut to meet Sindh need', 'Pakistan loses four points on graft perception ranking', 'Pakistan wants closer engagement with US for regional stability', 'Pakistan to stop manual visas from next month', 'Pakistan, Kuwait vow to expand ties', '‘Digital Pakistan coming to life’', 'Pakistan grab late wickets to take command against Proteas at NSK', 'Pakistan women take on SA in T20 series commencing today']}\n",
      "https://www.dawn.com/archive/2011-04-10 2011-04-10\n",
      "{'2011-04-10': ['Work stops on 1,300 projects as funds dry up', 'Water crisis deepens as river flows decline', 'Altaf spells out party priorities in address to Lahore rally', 'PM calls on president, discuss political situation', 'Economy needs reliable supply of energy: Gilani', 'Tribesmen start migrating, four more killed in Tirah', 'Mastermind of Sakhi Sarwar blasts arrested in Bajaur', 'Portrait of a land unseen', 'Security forces kill seven militants in Swat', 'Pakistan export boom will not repair economy', 'Gas cylinder blast kills one, injures two in Lahore', 'US-Pakistan intelligence operations frozen: official', 'Swat Taliban used grievances: WB', 'SC judgment suffers from errors, claims govt', 'CJ asks officials not to follow ` illegal orders`', 'Pakistan loses four points on graft perception ranking', 'Pakistan wants closer engagement with US for regional stability', 'Pakistan to stop manual visas from next month', 'Pakistan, Kuwait vow to expand ties', '‘Digital Pakistan coming to life’', 'Pakistan grab late wickets to take command against Proteas at NSK', 'Pakistan women take on SA in T20 series commencing today']}\n",
      "https://www.dawn.com/archive/2011-04-11 2011-04-11\n",
      "{'2011-04-11': ['Pak military asks US to cut number of CIA operatives', 'Opposition leader lashes out at govt, agencies', \"LHC to hear case calling for Musharraf's removal from records\", 'Pak-Iran gas pipeline to be functional by 2015: Qamar', 'PSO refuses to provide oil, KESC warns severe load shedding', 'What possibly could go wrong now in Swat?', 'FIA presents challan against Moonis Elahi', '39 Pakistani prisoners come back home', 'Pakistan to release 89 Indian prisoners on Thursday', 'War in Afghanistan destabilising Pakistan: Zardari', 'US committed to improving relationship with Pakistan: Munter', 'All stakeholders should be consulted on HEC devolution: PM', 'Defence ministry vows to punish military officials in NLC scandal', 'SC adjourns hearing of NRO review petition till tomorrow', \"Pakistan's spy chief to visit US amid tensions\", 'Gunfight in Peshawar kills three militants, one policeman', 'Landmine blast claims three lives in Kurram', 'NA starts its fourth year today', 'Pakistan loses four points on graft perception ranking', 'Pakistan wants closer engagement with US for regional stability', 'Pakistan to stop manual visas from next month', 'Pakistan, Kuwait vow to expand ties', '‘Digital Pakistan coming to life’', 'Pakistan grab late wickets to take command against Proteas at NSK', 'Pakistan women take on SA in T20 series commencing today']}\n",
      "https://www.dawn.com/archive/2011-04-12 2011-04-12\n",
      "{'2011-04-12': ['Relationship with ISI on solid footing: CIA', 'HEC ‘storm in a teacup’ spills over in NA', 'Punja Sahib gives festive look as Besakhi begins', 'Raisani to slash non-development and unnecessary expenditures', 'Three MQM men ‘helping’ census staff shot dead in Karachi', 'SC to take up presidential reference for ZAB’s murder case', 'Pak-US strategic dialogue in May', '‘Pakistan’s request for fewer US trainers reflects fear of spying’', 'Punjab CNG stations to go on strike', 'Proposed exclusion of Forensic Medicine faces backlash', \"'IDPs being repatriated to native areas'\", 'Pakistan and India cannot afford another war: Gilani', 'Balochistan, KP, GB yet to adopt harassment code', 'Contractual doctors soon to be made permanent: Gilani', 'Asahi art exhibition opens at the Commune', 'SC adjourns NRO hearing till April 14', 'The beauty of doing nothing', 'Home ministry given a week to reply in Faheem, Faizan’s heirs case', 'SC orders HEC to keep operating until law amendment', 'Pakistan loses four points on graft perception ranking', 'Pakistan wants closer engagement with US for regional stability', 'Pakistan to stop manual visas from next month', 'Pakistan, Kuwait vow to expand ties', '‘Digital Pakistan coming to life’', 'Pakistan grab late wickets to take command against Proteas at NSK', 'Pakistan women take on SA in T20 series commencing today']}\n",
      "https://www.dawn.com/archive/2011-04-13 2011-04-13\n",
      "{'2011-04-13': ['Karachi loadshedding extended to nine hours', 'Eight gunned down in Karachi', 'ISI chief meets president in Turkey', 'Terrorists benefiting the most from drone attacks: Malik', 'Pakistan flood recovery sees $600 mln shortfall', 'Follow Zardari to Turkey', 'KP doctors for implementation of charter of demands', 'Zardari terms acceptance of reference on ZAB as landmark', 'Illegal immigrants arrested near Pasni', 'CIA has no plans to suspend drone strikes: report', 'Six killed in first drone strike after spy chief meeting', 'Briefing on girls education conference on April 14', 'PVDP constructs 250 latrines', 'Government involved in drone attacks: Shahbaz Sharif', 'Recovering missing persons duty of govt not SC: Justice Javed', 'Sesame Street beams American dream to Pakistan', 'CJ irks FIA’s lack of interest in Steel Mills case', 'Legal rot, political apathy', \"$750m earmarked for Pakistan's tribal women\", 'HEC devolution issue divides parties on provincial lines', 'Women and devolution', 'Pakistan to start vaccination next week, says minister', 'Pakistan, Kuwait vow to expand ties', 'Pakistan-China joint parliamentary panel soon to oversee CPEC']}\n",
      "https://www.dawn.com/archive/2011-04-14 2011-04-14\n",
      "{'2011-04-14': ['Cleric, student killed in Quetta', \"Militant's road ends in Pakistan\", 'SC finds flaws in Bhutto reference', 'Guards using cellphone on duty threaten security in Peshawar', 'Five more activists gunned down', 'Punjab govt amend rules for leasing state land', 'Court rejects Hamid Kazmi’s bail plea', 'Pakistan army to build road link to Afghanistan', 'Unregistered, fake identity sims to be blocked: Malik', 'The calm vibrancy of Lahore', 'Two French militants held in Pakistan: sources', 'Females afraid of repercussions of harassment Act', 'Vicious circle of fluoride contamination, illness and poverty', 'Gilani to visit Afghanistan, hold talks with Karzai', 'PPP, PML-N agree on process of dissolving HEC', 'Security forces attack militant hideouts, kill 18', 'Dr. Salimuzzaman Siddiqui', 'New plan devised to grant extension to Afghan refugees', 'Pakistan embassy official shot and wounded in Nepal', 'CJ for replacement of Awan in judicial commission meeting', 'CNG stations’ strike continues for second day in Punjab', 'Pakistan releases 89 Indian prisoners', 'The Pasha-Panetta puzzle', 'SC allows counsel change in NRO review case', 'Pakistan lodges protest against US attack', 'Pakistan loses four points on graft perception ranking', 'Pakistan wants closer engagement with US for regional stability', 'Pakistan to stop manual visas from next month', 'Pakistan, Kuwait vow to expand ties', '‘Digital Pakistan coming to life’', 'Pakistan grab late wickets to take command against Proteas at NSK', 'Pakistan women take on SA in T20 series commencing today']}\n",
      "https://www.dawn.com/archive/2011-04-15 2011-04-15\n",
      "{'2011-04-15': ['Army calling the shots in KP: Durrani', 'Reshuffle in army top brass', 'Intelligence agencies seize record of two ministries', 'Prime Minister Gilani calls on president', 'All Pakistan CNG Association calls off strike', 'Gen Pasha meets army chief, gives briefing on foreign trips', 'Pakistani innovators head to Intel fair in LA', 'Slow govt development threatens Swat military gains', 'French pair seized by Pakistan police on Bali trail', 'Sindh govt issues notification on increase of trasport fare', 'Highlights from Pakistan', 'UNHCR, Unicef to jointly mainstream Afghan refugees', 'Attorney General asked to submit reply in Davis’ case', 'LHC hears petition against drone strikes in Pakistan', 'No political party involved in target killings: Malik', 'The alphabet jungle', 'Nepra allows KESC to increase per unit price', 'Plagued with a short-term memory', 'Pakistan loses four points on graft perception ranking', 'Pakistan wants closer engagement with US for regional stability', 'Pakistan to stop manual visas from next month', 'Pakistan, Kuwait vow to expand ties', '‘Digital Pakistan coming to life’', 'Pakistan grab late wickets to take command against Proteas at NSK', 'Pakistan women take on SA in T20 series commencing today']}\n",
      "https://www.dawn.com/archive/2011-04-16 2011-04-16\n"
     ]
    },
    {
     "ename": "KeyboardInterrupt",
     "evalue": "",
     "output_type": "error",
     "traceback": [
      "\u001b[1;31m---------------------------------------------------------------------------\u001b[0m",
      "\u001b[1;31mKeyboardInterrupt\u001b[0m                         Traceback (most recent call last)",
      "\u001b[1;32m<ipython-input-100-14a1691ae465>\u001b[0m in \u001b[0;36m<module>\u001b[1;34m\u001b[0m\n\u001b[0;32m     13\u001b[0m             \u001b[0mprint\u001b[0m\u001b[1;33m(\u001b[0m\u001b[0murl\u001b[0m\u001b[1;33m,\u001b[0m\u001b[0msingle_date\u001b[0m\u001b[1;33m)\u001b[0m\u001b[1;33m\u001b[0m\u001b[1;33m\u001b[0m\u001b[0m\n\u001b[0;32m     14\u001b[0m             \u001b[0mdawn\u001b[0m\u001b[1;33m(\u001b[0m\u001b[0murl\u001b[0m\u001b[1;33m,\u001b[0m \u001b[0msingle_date\u001b[0m\u001b[1;33m)\u001b[0m\u001b[1;33m\u001b[0m\u001b[1;33m\u001b[0m\u001b[0m\n\u001b[1;32m---> 15\u001b[1;33m \u001b[0mCorpus_DN\u001b[0m\u001b[1;33m(\u001b[0m\u001b[0mstart_date\u001b[0m\u001b[1;33m,\u001b[0m \u001b[0mend_date\u001b[0m\u001b[1;33m)\u001b[0m\u001b[1;33m\u001b[0m\u001b[1;33m\u001b[0m\u001b[0m\n\u001b[0m",
      "\u001b[1;32m<ipython-input-100-14a1691ae465>\u001b[0m in \u001b[0;36mCorpus_DN\u001b[1;34m(start_date, end_date)\u001b[0m\n\u001b[0;32m     12\u001b[0m             \u001b[0murl\u001b[0m \u001b[1;33m=\u001b[0m \u001b[0mbasestring_dawn\u001b[0m \u001b[1;33m+\u001b[0m \u001b[0msingle_date\u001b[0m\u001b[1;33m\u001b[0m\u001b[1;33m\u001b[0m\u001b[0m\n\u001b[0;32m     13\u001b[0m             \u001b[0mprint\u001b[0m\u001b[1;33m(\u001b[0m\u001b[0murl\u001b[0m\u001b[1;33m,\u001b[0m\u001b[0msingle_date\u001b[0m\u001b[1;33m)\u001b[0m\u001b[1;33m\u001b[0m\u001b[1;33m\u001b[0m\u001b[0m\n\u001b[1;32m---> 14\u001b[1;33m             \u001b[0mdawn\u001b[0m\u001b[1;33m(\u001b[0m\u001b[0murl\u001b[0m\u001b[1;33m,\u001b[0m \u001b[0msingle_date\u001b[0m\u001b[1;33m)\u001b[0m\u001b[1;33m\u001b[0m\u001b[1;33m\u001b[0m\u001b[0m\n\u001b[0m\u001b[0;32m     15\u001b[0m \u001b[0mCorpus_DN\u001b[0m\u001b[1;33m(\u001b[0m\u001b[0mstart_date\u001b[0m\u001b[1;33m,\u001b[0m \u001b[0mend_date\u001b[0m\u001b[1;33m)\u001b[0m\u001b[1;33m\u001b[0m\u001b[1;33m\u001b[0m\u001b[0m\n",
      "\u001b[1;32m<ipython-input-98-0296872da9cd>\u001b[0m in \u001b[0;36mdawn\u001b[1;34m(url, today)\u001b[0m\n\u001b[0;32m      3\u001b[0m     \u001b[0mr1\u001b[0m \u001b[1;33m=\u001b[0m \u001b[0mrequests\u001b[0m\u001b[1;33m.\u001b[0m\u001b[0mget\u001b[0m\u001b[1;33m(\u001b[0m\u001b[0murl\u001b[0m\u001b[1;33m)\u001b[0m\u001b[1;33m\u001b[0m\u001b[1;33m\u001b[0m\u001b[0m\n\u001b[0;32m      4\u001b[0m     \u001b[0monly\u001b[0m \u001b[1;33m=\u001b[0m \u001b[0mSoupStrainer\u001b[0m\u001b[1;33m(\u001b[0m\u001b[1;34m\"article\"\u001b[0m\u001b[1;33m)\u001b[0m\u001b[1;33m\u001b[0m\u001b[1;33m\u001b[0m\u001b[0m\n\u001b[1;32m----> 5\u001b[1;33m     \u001b[0mtitle\u001b[0m \u001b[1;33m=\u001b[0m \u001b[0mBeautifulSoup\u001b[0m\u001b[1;33m(\u001b[0m\u001b[0mr1\u001b[0m\u001b[1;33m.\u001b[0m\u001b[0mtext\u001b[0m\u001b[1;33m,\u001b[0m \u001b[1;34m'html.parser'\u001b[0m\u001b[1;33m,\u001b[0m \u001b[0mparse_only\u001b[0m\u001b[1;33m=\u001b[0m\u001b[0monly\u001b[0m\u001b[1;33m)\u001b[0m\u001b[1;33m\u001b[0m\u001b[1;33m\u001b[0m\u001b[0m\n\u001b[0m\u001b[0;32m      6\u001b[0m     \u001b[0mheadlines\u001b[0m \u001b[1;33m=\u001b[0m \u001b[1;33m[\u001b[0m\u001b[1;33m]\u001b[0m\u001b[1;33m\u001b[0m\u001b[1;33m\u001b[0m\u001b[0m\n\u001b[0;32m      7\u001b[0m     \u001b[1;32mfor\u001b[0m \u001b[0mx\u001b[0m \u001b[1;32min\u001b[0m \u001b[0mtitle\u001b[0m\u001b[1;33m.\u001b[0m\u001b[0mfind_all\u001b[0m\u001b[1;33m(\u001b[0m\u001b[1;34m\"article\"\u001b[0m\u001b[1;33m)\u001b[0m\u001b[1;33m:\u001b[0m\u001b[1;33m\u001b[0m\u001b[1;33m\u001b[0m\u001b[0m\n",
      "\u001b[1;32mc:\\users\\92335\\appdata\\local\\programs\\python\\python38\\lib\\site-packages\\bs4\\__init__.py\u001b[0m in \u001b[0;36m__init__\u001b[1;34m(self, markup, features, builder, parse_only, from_encoding, exclude_encodings, element_classes, **kwargs)\u001b[0m\n\u001b[0;32m    343\u001b[0m             \u001b[0mself\u001b[0m\u001b[1;33m.\u001b[0m\u001b[0mreset\u001b[0m\u001b[1;33m(\u001b[0m\u001b[1;33m)\u001b[0m\u001b[1;33m\u001b[0m\u001b[1;33m\u001b[0m\u001b[0m\n\u001b[0;32m    344\u001b[0m             \u001b[1;32mtry\u001b[0m\u001b[1;33m:\u001b[0m\u001b[1;33m\u001b[0m\u001b[1;33m\u001b[0m\u001b[0m\n\u001b[1;32m--> 345\u001b[1;33m                 \u001b[0mself\u001b[0m\u001b[1;33m.\u001b[0m\u001b[0m_feed\u001b[0m\u001b[1;33m(\u001b[0m\u001b[1;33m)\u001b[0m\u001b[1;33m\u001b[0m\u001b[1;33m\u001b[0m\u001b[0m\n\u001b[0m\u001b[0;32m    346\u001b[0m                 \u001b[0msuccess\u001b[0m \u001b[1;33m=\u001b[0m \u001b[1;32mTrue\u001b[0m\u001b[1;33m\u001b[0m\u001b[1;33m\u001b[0m\u001b[0m\n\u001b[0;32m    347\u001b[0m                 \u001b[1;32mbreak\u001b[0m\u001b[1;33m\u001b[0m\u001b[1;33m\u001b[0m\u001b[0m\n",
      "\u001b[1;32mc:\\users\\92335\\appdata\\local\\programs\\python\\python38\\lib\\site-packages\\bs4\\__init__.py\u001b[0m in \u001b[0;36m_feed\u001b[1;34m(self)\u001b[0m\n\u001b[0;32m    429\u001b[0m         \u001b[0mself\u001b[0m\u001b[1;33m.\u001b[0m\u001b[0mbuilder\u001b[0m\u001b[1;33m.\u001b[0m\u001b[0mreset\u001b[0m\u001b[1;33m(\u001b[0m\u001b[1;33m)\u001b[0m\u001b[1;33m\u001b[0m\u001b[1;33m\u001b[0m\u001b[0m\n\u001b[0;32m    430\u001b[0m \u001b[1;33m\u001b[0m\u001b[0m\n\u001b[1;32m--> 431\u001b[1;33m         \u001b[0mself\u001b[0m\u001b[1;33m.\u001b[0m\u001b[0mbuilder\u001b[0m\u001b[1;33m.\u001b[0m\u001b[0mfeed\u001b[0m\u001b[1;33m(\u001b[0m\u001b[0mself\u001b[0m\u001b[1;33m.\u001b[0m\u001b[0mmarkup\u001b[0m\u001b[1;33m)\u001b[0m\u001b[1;33m\u001b[0m\u001b[1;33m\u001b[0m\u001b[0m\n\u001b[0m\u001b[0;32m    432\u001b[0m         \u001b[1;31m# Close out any unfinished strings and close all the open tags.\u001b[0m\u001b[1;33m\u001b[0m\u001b[1;33m\u001b[0m\u001b[1;33m\u001b[0m\u001b[0m\n\u001b[0;32m    433\u001b[0m         \u001b[0mself\u001b[0m\u001b[1;33m.\u001b[0m\u001b[0mendData\u001b[0m\u001b[1;33m(\u001b[0m\u001b[1;33m)\u001b[0m\u001b[1;33m\u001b[0m\u001b[1;33m\u001b[0m\u001b[0m\n",
      "\u001b[1;32mc:\\users\\92335\\appdata\\local\\programs\\python\\python38\\lib\\site-packages\\bs4\\builder\\_htmlparser.py\u001b[0m in \u001b[0;36mfeed\u001b[1;34m(self, markup)\u001b[0m\n\u001b[0;32m    375\u001b[0m         \u001b[0mparser\u001b[0m\u001b[1;33m.\u001b[0m\u001b[0msoup\u001b[0m \u001b[1;33m=\u001b[0m \u001b[0mself\u001b[0m\u001b[1;33m.\u001b[0m\u001b[0msoup\u001b[0m\u001b[1;33m\u001b[0m\u001b[1;33m\u001b[0m\u001b[0m\n\u001b[0;32m    376\u001b[0m         \u001b[1;32mtry\u001b[0m\u001b[1;33m:\u001b[0m\u001b[1;33m\u001b[0m\u001b[1;33m\u001b[0m\u001b[0m\n\u001b[1;32m--> 377\u001b[1;33m             \u001b[0mparser\u001b[0m\u001b[1;33m.\u001b[0m\u001b[0mfeed\u001b[0m\u001b[1;33m(\u001b[0m\u001b[0mmarkup\u001b[0m\u001b[1;33m)\u001b[0m\u001b[1;33m\u001b[0m\u001b[1;33m\u001b[0m\u001b[0m\n\u001b[0m\u001b[0;32m    378\u001b[0m             \u001b[0mparser\u001b[0m\u001b[1;33m.\u001b[0m\u001b[0mclose\u001b[0m\u001b[1;33m(\u001b[0m\u001b[1;33m)\u001b[0m\u001b[1;33m\u001b[0m\u001b[1;33m\u001b[0m\u001b[0m\n\u001b[0;32m    379\u001b[0m         \u001b[1;32mexcept\u001b[0m \u001b[0mHTMLParseError\u001b[0m \u001b[1;32mas\u001b[0m \u001b[0me\u001b[0m\u001b[1;33m:\u001b[0m\u001b[1;33m\u001b[0m\u001b[1;33m\u001b[0m\u001b[0m\n",
      "\u001b[1;32mc:\\users\\92335\\appdata\\local\\programs\\python\\python38\\lib\\html\\parser.py\u001b[0m in \u001b[0;36mfeed\u001b[1;34m(self, data)\u001b[0m\n\u001b[0;32m    109\u001b[0m         \"\"\"\n\u001b[0;32m    110\u001b[0m         \u001b[0mself\u001b[0m\u001b[1;33m.\u001b[0m\u001b[0mrawdata\u001b[0m \u001b[1;33m=\u001b[0m \u001b[0mself\u001b[0m\u001b[1;33m.\u001b[0m\u001b[0mrawdata\u001b[0m \u001b[1;33m+\u001b[0m \u001b[0mdata\u001b[0m\u001b[1;33m\u001b[0m\u001b[1;33m\u001b[0m\u001b[0m\n\u001b[1;32m--> 111\u001b[1;33m         \u001b[0mself\u001b[0m\u001b[1;33m.\u001b[0m\u001b[0mgoahead\u001b[0m\u001b[1;33m(\u001b[0m\u001b[1;36m0\u001b[0m\u001b[1;33m)\u001b[0m\u001b[1;33m\u001b[0m\u001b[1;33m\u001b[0m\u001b[0m\n\u001b[0m\u001b[0;32m    112\u001b[0m \u001b[1;33m\u001b[0m\u001b[0m\n\u001b[0;32m    113\u001b[0m     \u001b[1;32mdef\u001b[0m \u001b[0mclose\u001b[0m\u001b[1;33m(\u001b[0m\u001b[0mself\u001b[0m\u001b[1;33m)\u001b[0m\u001b[1;33m:\u001b[0m\u001b[1;33m\u001b[0m\u001b[1;33m\u001b[0m\u001b[0m\n",
      "\u001b[1;32mc:\\users\\92335\\appdata\\local\\programs\\python\\python38\\lib\\html\\parser.py\u001b[0m in \u001b[0;36mgoahead\u001b[1;34m(self, end)\u001b[0m\n\u001b[0;32m    169\u001b[0m             \u001b[1;32mif\u001b[0m \u001b[0mstartswith\u001b[0m\u001b[1;33m(\u001b[0m\u001b[1;34m'<'\u001b[0m\u001b[1;33m,\u001b[0m \u001b[0mi\u001b[0m\u001b[1;33m)\u001b[0m\u001b[1;33m:\u001b[0m\u001b[1;33m\u001b[0m\u001b[1;33m\u001b[0m\u001b[0m\n\u001b[0;32m    170\u001b[0m                 \u001b[1;32mif\u001b[0m \u001b[0mstarttagopen\u001b[0m\u001b[1;33m.\u001b[0m\u001b[0mmatch\u001b[0m\u001b[1;33m(\u001b[0m\u001b[0mrawdata\u001b[0m\u001b[1;33m,\u001b[0m \u001b[0mi\u001b[0m\u001b[1;33m)\u001b[0m\u001b[1;33m:\u001b[0m \u001b[1;31m# < + letter\u001b[0m\u001b[1;33m\u001b[0m\u001b[1;33m\u001b[0m\u001b[0m\n\u001b[1;32m--> 171\u001b[1;33m                     \u001b[0mk\u001b[0m \u001b[1;33m=\u001b[0m \u001b[0mself\u001b[0m\u001b[1;33m.\u001b[0m\u001b[0mparse_starttag\u001b[0m\u001b[1;33m(\u001b[0m\u001b[0mi\u001b[0m\u001b[1;33m)\u001b[0m\u001b[1;33m\u001b[0m\u001b[1;33m\u001b[0m\u001b[0m\n\u001b[0m\u001b[0;32m    172\u001b[0m                 \u001b[1;32melif\u001b[0m \u001b[0mstartswith\u001b[0m\u001b[1;33m(\u001b[0m\u001b[1;34m\"</\"\u001b[0m\u001b[1;33m,\u001b[0m \u001b[0mi\u001b[0m\u001b[1;33m)\u001b[0m\u001b[1;33m:\u001b[0m\u001b[1;33m\u001b[0m\u001b[1;33m\u001b[0m\u001b[0m\n\u001b[0;32m    173\u001b[0m                     \u001b[0mk\u001b[0m \u001b[1;33m=\u001b[0m \u001b[0mself\u001b[0m\u001b[1;33m.\u001b[0m\u001b[0mparse_endtag\u001b[0m\u001b[1;33m(\u001b[0m\u001b[0mi\u001b[0m\u001b[1;33m)\u001b[0m\u001b[1;33m\u001b[0m\u001b[1;33m\u001b[0m\u001b[0m\n",
      "\u001b[1;32mc:\\users\\92335\\appdata\\local\\programs\\python\\python38\\lib\\html\\parser.py\u001b[0m in \u001b[0;36mparse_starttag\u001b[1;34m(self, i)\u001b[0m\n\u001b[0;32m    315\u001b[0m         \u001b[1;32mwhile\u001b[0m \u001b[0mk\u001b[0m \u001b[1;33m<\u001b[0m \u001b[0mendpos\u001b[0m\u001b[1;33m:\u001b[0m\u001b[1;33m\u001b[0m\u001b[1;33m\u001b[0m\u001b[0m\n\u001b[0;32m    316\u001b[0m             \u001b[0mm\u001b[0m \u001b[1;33m=\u001b[0m \u001b[0mattrfind_tolerant\u001b[0m\u001b[1;33m.\u001b[0m\u001b[0mmatch\u001b[0m\u001b[1;33m(\u001b[0m\u001b[0mrawdata\u001b[0m\u001b[1;33m,\u001b[0m \u001b[0mk\u001b[0m\u001b[1;33m)\u001b[0m\u001b[1;33m\u001b[0m\u001b[1;33m\u001b[0m\u001b[0m\n\u001b[1;32m--> 317\u001b[1;33m             \u001b[1;32mif\u001b[0m \u001b[1;32mnot\u001b[0m \u001b[0mm\u001b[0m\u001b[1;33m:\u001b[0m\u001b[1;33m\u001b[0m\u001b[1;33m\u001b[0m\u001b[0m\n\u001b[0m\u001b[0;32m    318\u001b[0m                 \u001b[1;32mbreak\u001b[0m\u001b[1;33m\u001b[0m\u001b[1;33m\u001b[0m\u001b[0m\n\u001b[0;32m    319\u001b[0m             \u001b[0mattrname\u001b[0m\u001b[1;33m,\u001b[0m \u001b[0mrest\u001b[0m\u001b[1;33m,\u001b[0m \u001b[0mattrvalue\u001b[0m \u001b[1;33m=\u001b[0m \u001b[0mm\u001b[0m\u001b[1;33m.\u001b[0m\u001b[0mgroup\u001b[0m\u001b[1;33m(\u001b[0m\u001b[1;36m1\u001b[0m\u001b[1;33m,\u001b[0m \u001b[1;36m2\u001b[0m\u001b[1;33m,\u001b[0m \u001b[1;36m3\u001b[0m\u001b[1;33m)\u001b[0m\u001b[1;33m\u001b[0m\u001b[1;33m\u001b[0m\u001b[0m\n",
      "\u001b[1;31mKeyboardInterrupt\u001b[0m: "
     ]
    }
   ],
   "source": [
    "start_date = date(2011,4,1) #start \n",
    "end_date = datetime.date.today()\n",
    "end_date += timedelta(days=1)\n",
    "\n",
    "def daterange(start_date, end_date):\n",
    "    for n in range(int((end_date - start_date).days)):\n",
    "        yield start_date + timedelta(n)\n",
    "def Corpus_DN(start_date, end_date):\n",
    "        for single_date in daterange(start_date, end_date):\n",
    "            #print(single_date)\n",
    "            single_date = single_date.strftime('%Y-%m-%d')\n",
    "            url = basestring_dawn + single_date\n",
    "            #print(url,single_date)\n",
    "            dawn(url, single_date)\n",
    "Corpus_DN(start_date, end_date)\n"
   ]
  },
  {
   "cell_type": "markdown",
   "metadata": {},
   "source": [
    "# BUSINESS RECORDER  st_date =2011,4,1"
   ]
  },
  {
   "cell_type": "code",
   "execution_count": 101,
   "metadata": {},
   "outputs": [],
   "source": [
    "basestring_BR = 'https://www.brecorder.com/pakistan/'\n",
    "\n",
    "def scraper(url, today):\n",
    "    req = requests.get(url)\n",
    "    soup = BeautifulSoup(req.text, 'lxml')\n",
    "    titles = soup.find_all(\"h2\", class_ = 'story__title text-6 mb-2 text-black hover:text-gray-800 font -normal pt-0')\n",
    "    subTitles = soup.find_all(\"div\", class_ = 'story__excerpt text-gray-700 text-4 leading-6 mb-2')\n",
    "    data = []\n",
    "    for t,st in zip(titles, subTitles):\n",
    "        # title and subT are seperated by \"-\" inside list\n",
    "        data.append(t.get_text().strip() + ' - ' + st.get_text().strip())\n",
    "    Daily = {str(today):data}\n",
    "    print(Daily)\n"
   ]
  },
  {
   "cell_type": "code",
   "execution_count": 102,
   "metadata": {},
   "outputs": [
    {
     "name": "stdout",
     "output_type": "stream",
     "text": [
      "https://www.brecorder.com/pakistan/2011-04-01 2011-04-01\n",
      "{'2011-04-01': []}\n",
      "https://www.brecorder.com/pakistan/2011-04-02 2011-04-02\n",
      "{'2011-04-02': [\"Political parties should work for resolution of national issues: Asma Arbab - ISLAMABAD: Pakistan People's Party MNA Asma Arbab Alamgir on Saturday urged all political parties to join hands for the\"]}\n",
      "https://www.brecorder.com/pakistan/2011-04-03 2011-04-03\n",
      "{'2011-04-03': []}\n",
      "https://www.brecorder.com/pakistan/2011-04-04 2011-04-04\n",
      "{'2011-04-04': []}\n",
      "https://www.brecorder.com/pakistan/2011-04-05 2011-04-05\n",
      "{'2011-04-05': ['China to invest in hydel, renewable energy power projects - ISLAMABAD: China will invest in hydel and renewable energy power projects in the country as well as join hands with WAPD']}\n",
      "https://www.brecorder.com/pakistan/2011-04-06 2011-04-06\n",
      "{'2011-04-06': ['Govt mulling to empower eight public sector enterprises - ISLAMABAD: The Economic Advisory Council (EAC) here on Thursday deliberated to devise a comprehensive plan for empowerin', 'China offers financial, technical assistance for energy sector - ISLAMABAD: China on Wednesday offered financial and technical assistance to develop hydro and wind power and upgrade the', 'Shipping activity at Port Qasim - KARACHI: Shipping activity remained active at the Port Qasim where four ships carrying containers and diesel oil were al', 'Rupee gains vs dollar on healthy inflows; stocks up - KARACHI: The rupee rose on Wednesday as dollar supplies outmatched the demand for the US currency, and dealers said they', 'A stable Pakistan is beneficial for Afghanistan, world: Firdous - ISLAMABAD: Federal Information Minister Dr. Firdous Ashiq Awan has said that a stable Pakistan is necessary for a stable', 'Britain can play major role in improving education: Analyst - ISLAMABAD: Defence analyst, Major General (R) Jamshed Ayaz has said that Britain can play a major role in improving educ']}\n",
      "https://www.brecorder.com/pakistan/2011-04-07 2011-04-07\n",
      "{'2011-04-07': ['Gold eases at Rs 39,600 after touching record - KARACHI: Gold slipped by Rs 128 to Rs 39,600 per 10 grams in local bullion market Thursday, as its international price a', 'Saud, Khurram Shahzad released on bail - ISLAMABAD: Two senior police officers Saud Aziz and Khurram Shahzad, who were detained in Benazir Bhutto assassination c', 'Rupee gains further; stocks fall - KARACHI: Rupee gained further on Thursday amid continuous healthy dollar inflows, but dealers said the rupee may ease ne', 'Over 400 industrial units shut due to gas closure - FAISALABAD: More than 400 industrial units were closed, rendering thousands of daily wagers jobless due to three-day Sui', 'Shipping activity at Port Qasim - KARACHI: Shipping activity remained active at the port Qasim where four ships carrying containers and chemical were allo', \"China state co ready to invest $15bn in Pakistan energy sector - KARACHI: China Three Gorges Corp, the country's largest hydropower developer, is ready to invest $15 billion in Pakistan\", 'Energy Limited to achieve Financial Close for setting up 49.5 MW wind power project - ISLAMABD: The Energy Limited of Fauji Fertilizer Company (FFC) has all set to achieve financial close in the current mon', 'Najmuddin Sheikh urged exploitation of resources with help of China - ISLAMABAD: Former foreign secretary Najmuddin Sheikh said that Pakistan should exploit its water resources for power gen']}\n",
      "https://www.brecorder.com/pakistan/2011-04-08 2011-04-08\n",
      "{'2011-04-08': ['KSE offers new rectification procedure for erroneous trades - KARACHI: Karachi Stock Exchange has modified and developed the current reporting NCHS interface whereby all erroneous tr', 'KSE end up; rupee flat; o/n rates down - KARACHI: Karachi Stock Exchange (KSE) ended higher on Friday, led by Pakistan Oilfields (POL) and following a rise in in', 'PM Gilani meets Nawaz Sharif - LONDON: Prime Minister Syed Yousaf Raza Gilani called on the PML-N Chief Nawaz Sharif at his Park Lane apartment on Frid', 'Chinese Company to build power plant at Sukkur barrage - ISLAMABAD: An agreement of cooperation in energy sector has been signed between the Sindh govt and a Chinese company.', 'Pakistan sees at least 25mn ton wheat from 2010/11 crop - ISLAMABAD: Pakistan is expected to produce at least 25 million tonnes of wheat in its 2010/11 crop, Finance Minister Haf']}\n",
      "https://www.brecorder.com/pakistan/2011-04-09 2011-04-09\n",
      "{'2011-04-09': ['Pakistan to have first on-grid solar electricity generation system - ISLAMABAD: The Pakistan Engineering Council (PEC) is all set to establish first on-grid solar electricity generation sys', 'Prices of summer electronics increased in local markets - ISLAMABAD: Prices of summer required electronics including air coolers, refrigerators, fans and water dispensers increas', 'Security tightens for MQM public meeting - ISLAMABAD: The Punjab government have made tight security arrangements for the Muttahida Quami Movement (MQM) public mee', 'Shipping activity at Port Qasim - KARACHI: Shipping activity remained active at the port where three Ships carrying containers, edible oil and boutumen we', 'Females can make cheap summer dresses beautiful at home - ISLAMABAD: Dress designer, Mohsin Saeed said that females can make their low rate dresses, appealing and can give these', 'Sub-standard milk, beverages sale on rise in twin cities - ISLAMABAD: Substandard milk, water and beverages have been causing health problems in twin cities of Rawalpindi and Isla']}\n",
      "https://www.brecorder.com/pakistan/2011-04-10 2011-04-10\n",
      "{'2011-04-10': ['Country producing 15pc of total oil consumption - ISLAMABAD: The Ministry of Petroleum and Natural Resources is making all out efforts to accelerate oil and gas explorati', \"PIA's restructuring plan being finalized: Mukhtar - ISLAMABAD: Defence Minister Chaudhry Ahmed Mukhtar has said that a restructuring plan for Pakistan International Airline\", 'Chashma Power Plant-II completed, starts producing 300 MW electricity on trial basis - ISLAMABAD: Pakistan has completed construction of Chashma nuclear power plant II with the cooperation of China and the p']}\n",
      "https://www.brecorder.com/pakistan/2011-04-11 2011-04-11\n",
      "{'2011-04-11': ['CNG body announces closure schedule - KARACHI: All Pakistan CNG Association (APA) Monday issued the closure schedule of CNG filling stations in Sindh includin', 'SECP registers 342 companies in March - KARACHI: The Securities and Exchange Commission of Pakistan (SECP) registered 324 companies with the authorized and paid', 'War in Afghanistan destabilising Pakistan: Zardari - ISLAMABAD: President Asif Ali Zardari Monday said war in Afghanistan was destabilising Pakistan and seriously underminin', 'Power shortfall further dips to 3,002 MW - ISLAMABAD: The power shortfall on Monday further dipped to 3,002 MW from 3,100 MW as the total power generation was reco', 'Energy issues to be handled by govt and private sector: Dr Ashfaq - ISLAMABAD: Prominent economic expert Dr Ashfaq Hasan said on Monday that the current energy issues should be handled by']}\n",
      "https://www.brecorder.com/pakistan/2011-04-12 2011-04-12\n"
     ]
    },
    {
     "ename": "KeyboardInterrupt",
     "evalue": "",
     "output_type": "error",
     "traceback": [
      "\u001b[1;31m---------------------------------------------------------------------------\u001b[0m",
      "\u001b[1;31mKeyboardInterrupt\u001b[0m                         Traceback (most recent call last)",
      "\u001b[1;32m<ipython-input-102-2f6cfe531c7c>\u001b[0m in \u001b[0;36m<module>\u001b[1;34m\u001b[0m\n\u001b[0;32m     10\u001b[0m             \u001b[0mprint\u001b[0m\u001b[1;33m(\u001b[0m\u001b[0murl\u001b[0m\u001b[1;33m,\u001b[0m\u001b[0msingle_date\u001b[0m\u001b[1;33m)\u001b[0m\u001b[1;33m\u001b[0m\u001b[1;33m\u001b[0m\u001b[0m\n\u001b[0;32m     11\u001b[0m             \u001b[0mscraper\u001b[0m\u001b[1;33m(\u001b[0m\u001b[0murl\u001b[0m\u001b[1;33m,\u001b[0m \u001b[0msingle_date\u001b[0m\u001b[1;33m)\u001b[0m\u001b[1;33m\u001b[0m\u001b[1;33m\u001b[0m\u001b[0m\n\u001b[1;32m---> 12\u001b[1;33m \u001b[0mCorpus_BR\u001b[0m\u001b[1;33m(\u001b[0m\u001b[0mstart_date\u001b[0m\u001b[1;33m,\u001b[0m \u001b[0mend_date\u001b[0m\u001b[1;33m)\u001b[0m\u001b[1;33m\u001b[0m\u001b[1;33m\u001b[0m\u001b[0m\n\u001b[0m",
      "\u001b[1;32m<ipython-input-102-2f6cfe531c7c>\u001b[0m in \u001b[0;36mCorpus_BR\u001b[1;34m(start_date, end_date)\u001b[0m\n\u001b[0;32m      9\u001b[0m             \u001b[0murl\u001b[0m \u001b[1;33m=\u001b[0m \u001b[0mbasestring_BR\u001b[0m \u001b[1;33m+\u001b[0m \u001b[0msingle_date\u001b[0m\u001b[1;33m\u001b[0m\u001b[1;33m\u001b[0m\u001b[0m\n\u001b[0;32m     10\u001b[0m             \u001b[0mprint\u001b[0m\u001b[1;33m(\u001b[0m\u001b[0murl\u001b[0m\u001b[1;33m,\u001b[0m\u001b[0msingle_date\u001b[0m\u001b[1;33m)\u001b[0m\u001b[1;33m\u001b[0m\u001b[1;33m\u001b[0m\u001b[0m\n\u001b[1;32m---> 11\u001b[1;33m             \u001b[0mscraper\u001b[0m\u001b[1;33m(\u001b[0m\u001b[0murl\u001b[0m\u001b[1;33m,\u001b[0m \u001b[0msingle_date\u001b[0m\u001b[1;33m)\u001b[0m\u001b[1;33m\u001b[0m\u001b[1;33m\u001b[0m\u001b[0m\n\u001b[0m\u001b[0;32m     12\u001b[0m \u001b[0mCorpus_BR\u001b[0m\u001b[1;33m(\u001b[0m\u001b[0mstart_date\u001b[0m\u001b[1;33m,\u001b[0m \u001b[0mend_date\u001b[0m\u001b[1;33m)\u001b[0m\u001b[1;33m\u001b[0m\u001b[1;33m\u001b[0m\u001b[0m\n",
      "\u001b[1;32m<ipython-input-101-e9935a301588>\u001b[0m in \u001b[0;36mscraper\u001b[1;34m(url, today)\u001b[0m\n\u001b[0;32m      2\u001b[0m \u001b[1;33m\u001b[0m\u001b[0m\n\u001b[0;32m      3\u001b[0m \u001b[1;32mdef\u001b[0m \u001b[0mscraper\u001b[0m\u001b[1;33m(\u001b[0m\u001b[0murl\u001b[0m\u001b[1;33m,\u001b[0m \u001b[0mtoday\u001b[0m\u001b[1;33m)\u001b[0m\u001b[1;33m:\u001b[0m\u001b[1;33m\u001b[0m\u001b[1;33m\u001b[0m\u001b[0m\n\u001b[1;32m----> 4\u001b[1;33m     \u001b[0mreq\u001b[0m \u001b[1;33m=\u001b[0m \u001b[0mrequests\u001b[0m\u001b[1;33m.\u001b[0m\u001b[0mget\u001b[0m\u001b[1;33m(\u001b[0m\u001b[0murl\u001b[0m\u001b[1;33m)\u001b[0m\u001b[1;33m\u001b[0m\u001b[1;33m\u001b[0m\u001b[0m\n\u001b[0m\u001b[0;32m      5\u001b[0m     \u001b[0msoup\u001b[0m \u001b[1;33m=\u001b[0m \u001b[0mBeautifulSoup\u001b[0m\u001b[1;33m(\u001b[0m\u001b[0mreq\u001b[0m\u001b[1;33m.\u001b[0m\u001b[0mtext\u001b[0m\u001b[1;33m,\u001b[0m \u001b[1;34m'lxml'\u001b[0m\u001b[1;33m)\u001b[0m\u001b[1;33m\u001b[0m\u001b[1;33m\u001b[0m\u001b[0m\n\u001b[0;32m      6\u001b[0m     \u001b[0mtitles\u001b[0m \u001b[1;33m=\u001b[0m \u001b[0msoup\u001b[0m\u001b[1;33m.\u001b[0m\u001b[0mfind_all\u001b[0m\u001b[1;33m(\u001b[0m\u001b[1;34m\"h2\"\u001b[0m\u001b[1;33m,\u001b[0m \u001b[0mclass_\u001b[0m \u001b[1;33m=\u001b[0m \u001b[1;34m'story__title text-6 mb-2 text-black hover:text-gray-800 font -normal pt-0'\u001b[0m\u001b[1;33m)\u001b[0m\u001b[1;33m\u001b[0m\u001b[1;33m\u001b[0m\u001b[0m\n",
      "\u001b[1;32mc:\\users\\92335\\appdata\\local\\programs\\python\\python38\\lib\\site-packages\\requests\\api.py\u001b[0m in \u001b[0;36mget\u001b[1;34m(url, params, **kwargs)\u001b[0m\n\u001b[0;32m     74\u001b[0m \u001b[1;33m\u001b[0m\u001b[0m\n\u001b[0;32m     75\u001b[0m     \u001b[0mkwargs\u001b[0m\u001b[1;33m.\u001b[0m\u001b[0msetdefault\u001b[0m\u001b[1;33m(\u001b[0m\u001b[1;34m'allow_redirects'\u001b[0m\u001b[1;33m,\u001b[0m \u001b[1;32mTrue\u001b[0m\u001b[1;33m)\u001b[0m\u001b[1;33m\u001b[0m\u001b[1;33m\u001b[0m\u001b[0m\n\u001b[1;32m---> 76\u001b[1;33m     \u001b[1;32mreturn\u001b[0m \u001b[0mrequest\u001b[0m\u001b[1;33m(\u001b[0m\u001b[1;34m'get'\u001b[0m\u001b[1;33m,\u001b[0m \u001b[0murl\u001b[0m\u001b[1;33m,\u001b[0m \u001b[0mparams\u001b[0m\u001b[1;33m=\u001b[0m\u001b[0mparams\u001b[0m\u001b[1;33m,\u001b[0m \u001b[1;33m**\u001b[0m\u001b[0mkwargs\u001b[0m\u001b[1;33m)\u001b[0m\u001b[1;33m\u001b[0m\u001b[1;33m\u001b[0m\u001b[0m\n\u001b[0m\u001b[0;32m     77\u001b[0m \u001b[1;33m\u001b[0m\u001b[0m\n\u001b[0;32m     78\u001b[0m \u001b[1;33m\u001b[0m\u001b[0m\n",
      "\u001b[1;32mc:\\users\\92335\\appdata\\local\\programs\\python\\python38\\lib\\site-packages\\requests\\api.py\u001b[0m in \u001b[0;36mrequest\u001b[1;34m(method, url, **kwargs)\u001b[0m\n\u001b[0;32m     59\u001b[0m     \u001b[1;31m# cases, and look like a memory leak in others.\u001b[0m\u001b[1;33m\u001b[0m\u001b[1;33m\u001b[0m\u001b[1;33m\u001b[0m\u001b[0m\n\u001b[0;32m     60\u001b[0m     \u001b[1;32mwith\u001b[0m \u001b[0msessions\u001b[0m\u001b[1;33m.\u001b[0m\u001b[0mSession\u001b[0m\u001b[1;33m(\u001b[0m\u001b[1;33m)\u001b[0m \u001b[1;32mas\u001b[0m \u001b[0msession\u001b[0m\u001b[1;33m:\u001b[0m\u001b[1;33m\u001b[0m\u001b[1;33m\u001b[0m\u001b[0m\n\u001b[1;32m---> 61\u001b[1;33m         \u001b[1;32mreturn\u001b[0m \u001b[0msession\u001b[0m\u001b[1;33m.\u001b[0m\u001b[0mrequest\u001b[0m\u001b[1;33m(\u001b[0m\u001b[0mmethod\u001b[0m\u001b[1;33m=\u001b[0m\u001b[0mmethod\u001b[0m\u001b[1;33m,\u001b[0m \u001b[0murl\u001b[0m\u001b[1;33m=\u001b[0m\u001b[0murl\u001b[0m\u001b[1;33m,\u001b[0m \u001b[1;33m**\u001b[0m\u001b[0mkwargs\u001b[0m\u001b[1;33m)\u001b[0m\u001b[1;33m\u001b[0m\u001b[1;33m\u001b[0m\u001b[0m\n\u001b[0m\u001b[0;32m     62\u001b[0m \u001b[1;33m\u001b[0m\u001b[0m\n\u001b[0;32m     63\u001b[0m \u001b[1;33m\u001b[0m\u001b[0m\n",
      "\u001b[1;32mc:\\users\\92335\\appdata\\local\\programs\\python\\python38\\lib\\site-packages\\requests\\sessions.py\u001b[0m in \u001b[0;36mrequest\u001b[1;34m(self, method, url, params, data, headers, cookies, files, auth, timeout, allow_redirects, proxies, hooks, stream, verify, cert, json)\u001b[0m\n\u001b[0;32m    528\u001b[0m         }\n\u001b[0;32m    529\u001b[0m         \u001b[0msend_kwargs\u001b[0m\u001b[1;33m.\u001b[0m\u001b[0mupdate\u001b[0m\u001b[1;33m(\u001b[0m\u001b[0msettings\u001b[0m\u001b[1;33m)\u001b[0m\u001b[1;33m\u001b[0m\u001b[1;33m\u001b[0m\u001b[0m\n\u001b[1;32m--> 530\u001b[1;33m         \u001b[0mresp\u001b[0m \u001b[1;33m=\u001b[0m \u001b[0mself\u001b[0m\u001b[1;33m.\u001b[0m\u001b[0msend\u001b[0m\u001b[1;33m(\u001b[0m\u001b[0mprep\u001b[0m\u001b[1;33m,\u001b[0m \u001b[1;33m**\u001b[0m\u001b[0msend_kwargs\u001b[0m\u001b[1;33m)\u001b[0m\u001b[1;33m\u001b[0m\u001b[1;33m\u001b[0m\u001b[0m\n\u001b[0m\u001b[0;32m    531\u001b[0m \u001b[1;33m\u001b[0m\u001b[0m\n\u001b[0;32m    532\u001b[0m         \u001b[1;32mreturn\u001b[0m \u001b[0mresp\u001b[0m\u001b[1;33m\u001b[0m\u001b[1;33m\u001b[0m\u001b[0m\n",
      "\u001b[1;32mc:\\users\\92335\\appdata\\local\\programs\\python\\python38\\lib\\site-packages\\requests\\sessions.py\u001b[0m in \u001b[0;36msend\u001b[1;34m(self, request, **kwargs)\u001b[0m\n\u001b[0;32m    641\u001b[0m \u001b[1;33m\u001b[0m\u001b[0m\n\u001b[0;32m    642\u001b[0m         \u001b[1;31m# Send the request\u001b[0m\u001b[1;33m\u001b[0m\u001b[1;33m\u001b[0m\u001b[1;33m\u001b[0m\u001b[0m\n\u001b[1;32m--> 643\u001b[1;33m         \u001b[0mr\u001b[0m \u001b[1;33m=\u001b[0m \u001b[0madapter\u001b[0m\u001b[1;33m.\u001b[0m\u001b[0msend\u001b[0m\u001b[1;33m(\u001b[0m\u001b[0mrequest\u001b[0m\u001b[1;33m,\u001b[0m \u001b[1;33m**\u001b[0m\u001b[0mkwargs\u001b[0m\u001b[1;33m)\u001b[0m\u001b[1;33m\u001b[0m\u001b[1;33m\u001b[0m\u001b[0m\n\u001b[0m\u001b[0;32m    644\u001b[0m \u001b[1;33m\u001b[0m\u001b[0m\n\u001b[0;32m    645\u001b[0m         \u001b[1;31m# Total elapsed time of the request (approximately)\u001b[0m\u001b[1;33m\u001b[0m\u001b[1;33m\u001b[0m\u001b[1;33m\u001b[0m\u001b[0m\n",
      "\u001b[1;32mc:\\users\\92335\\appdata\\local\\programs\\python\\python38\\lib\\site-packages\\requests\\adapters.py\u001b[0m in \u001b[0;36msend\u001b[1;34m(self, request, stream, timeout, verify, cert, proxies)\u001b[0m\n\u001b[0;32m    437\u001b[0m         \u001b[1;32mtry\u001b[0m\u001b[1;33m:\u001b[0m\u001b[1;33m\u001b[0m\u001b[1;33m\u001b[0m\u001b[0m\n\u001b[0;32m    438\u001b[0m             \u001b[1;32mif\u001b[0m \u001b[1;32mnot\u001b[0m \u001b[0mchunked\u001b[0m\u001b[1;33m:\u001b[0m\u001b[1;33m\u001b[0m\u001b[1;33m\u001b[0m\u001b[0m\n\u001b[1;32m--> 439\u001b[1;33m                 resp = conn.urlopen(\n\u001b[0m\u001b[0;32m    440\u001b[0m                     \u001b[0mmethod\u001b[0m\u001b[1;33m=\u001b[0m\u001b[0mrequest\u001b[0m\u001b[1;33m.\u001b[0m\u001b[0mmethod\u001b[0m\u001b[1;33m,\u001b[0m\u001b[1;33m\u001b[0m\u001b[1;33m\u001b[0m\u001b[0m\n\u001b[0;32m    441\u001b[0m                     \u001b[0murl\u001b[0m\u001b[1;33m=\u001b[0m\u001b[0murl\u001b[0m\u001b[1;33m,\u001b[0m\u001b[1;33m\u001b[0m\u001b[1;33m\u001b[0m\u001b[0m\n",
      "\u001b[1;32mc:\\users\\92335\\appdata\\local\\programs\\python\\python38\\lib\\site-packages\\urllib3\\connectionpool.py\u001b[0m in \u001b[0;36murlopen\u001b[1;34m(self, method, url, body, headers, retries, redirect, assert_same_host, timeout, pool_timeout, release_conn, chunked, body_pos, **response_kw)\u001b[0m\n\u001b[0;32m    668\u001b[0m \u001b[1;33m\u001b[0m\u001b[0m\n\u001b[0;32m    669\u001b[0m             \u001b[1;31m# Make the request on the httplib connection object.\u001b[0m\u001b[1;33m\u001b[0m\u001b[1;33m\u001b[0m\u001b[1;33m\u001b[0m\u001b[0m\n\u001b[1;32m--> 670\u001b[1;33m             httplib_response = self._make_request(\n\u001b[0m\u001b[0;32m    671\u001b[0m                 \u001b[0mconn\u001b[0m\u001b[1;33m,\u001b[0m\u001b[1;33m\u001b[0m\u001b[1;33m\u001b[0m\u001b[0m\n\u001b[0;32m    672\u001b[0m                 \u001b[0mmethod\u001b[0m\u001b[1;33m,\u001b[0m\u001b[1;33m\u001b[0m\u001b[1;33m\u001b[0m\u001b[0m\n",
      "\u001b[1;32mc:\\users\\92335\\appdata\\local\\programs\\python\\python38\\lib\\site-packages\\urllib3\\connectionpool.py\u001b[0m in \u001b[0;36m_make_request\u001b[1;34m(self, conn, method, url, timeout, chunked, **httplib_request_kw)\u001b[0m\n\u001b[0;32m    424\u001b[0m                     \u001b[1;31m# Python 3 (including for exceptions like SystemExit).\u001b[0m\u001b[1;33m\u001b[0m\u001b[1;33m\u001b[0m\u001b[1;33m\u001b[0m\u001b[0m\n\u001b[0;32m    425\u001b[0m                     \u001b[1;31m# Otherwise it looks like a bug in the code.\u001b[0m\u001b[1;33m\u001b[0m\u001b[1;33m\u001b[0m\u001b[1;33m\u001b[0m\u001b[0m\n\u001b[1;32m--> 426\u001b[1;33m                     \u001b[0msix\u001b[0m\u001b[1;33m.\u001b[0m\u001b[0mraise_from\u001b[0m\u001b[1;33m(\u001b[0m\u001b[0me\u001b[0m\u001b[1;33m,\u001b[0m \u001b[1;32mNone\u001b[0m\u001b[1;33m)\u001b[0m\u001b[1;33m\u001b[0m\u001b[1;33m\u001b[0m\u001b[0m\n\u001b[0m\u001b[0;32m    427\u001b[0m         \u001b[1;32mexcept\u001b[0m \u001b[1;33m(\u001b[0m\u001b[0mSocketTimeout\u001b[0m\u001b[1;33m,\u001b[0m \u001b[0mBaseSSLError\u001b[0m\u001b[1;33m,\u001b[0m \u001b[0mSocketError\u001b[0m\u001b[1;33m)\u001b[0m \u001b[1;32mas\u001b[0m \u001b[0me\u001b[0m\u001b[1;33m:\u001b[0m\u001b[1;33m\u001b[0m\u001b[1;33m\u001b[0m\u001b[0m\n\u001b[0;32m    428\u001b[0m             \u001b[0mself\u001b[0m\u001b[1;33m.\u001b[0m\u001b[0m_raise_timeout\u001b[0m\u001b[1;33m(\u001b[0m\u001b[0merr\u001b[0m\u001b[1;33m=\u001b[0m\u001b[0me\u001b[0m\u001b[1;33m,\u001b[0m \u001b[0murl\u001b[0m\u001b[1;33m=\u001b[0m\u001b[0murl\u001b[0m\u001b[1;33m,\u001b[0m \u001b[0mtimeout_value\u001b[0m\u001b[1;33m=\u001b[0m\u001b[0mread_timeout\u001b[0m\u001b[1;33m)\u001b[0m\u001b[1;33m\u001b[0m\u001b[1;33m\u001b[0m\u001b[0m\n",
      "\u001b[1;32mc:\\users\\92335\\appdata\\local\\programs\\python\\python38\\lib\\site-packages\\urllib3\\packages\\six.py\u001b[0m in \u001b[0;36mraise_from\u001b[1;34m(value, from_value)\u001b[0m\n",
      "\u001b[1;32mc:\\users\\92335\\appdata\\local\\programs\\python\\python38\\lib\\site-packages\\urllib3\\connectionpool.py\u001b[0m in \u001b[0;36m_make_request\u001b[1;34m(self, conn, method, url, timeout, chunked, **httplib_request_kw)\u001b[0m\n\u001b[0;32m    419\u001b[0m                 \u001b[1;31m# Python 3\u001b[0m\u001b[1;33m\u001b[0m\u001b[1;33m\u001b[0m\u001b[1;33m\u001b[0m\u001b[0m\n\u001b[0;32m    420\u001b[0m                 \u001b[1;32mtry\u001b[0m\u001b[1;33m:\u001b[0m\u001b[1;33m\u001b[0m\u001b[1;33m\u001b[0m\u001b[0m\n\u001b[1;32m--> 421\u001b[1;33m                     \u001b[0mhttplib_response\u001b[0m \u001b[1;33m=\u001b[0m \u001b[0mconn\u001b[0m\u001b[1;33m.\u001b[0m\u001b[0mgetresponse\u001b[0m\u001b[1;33m(\u001b[0m\u001b[1;33m)\u001b[0m\u001b[1;33m\u001b[0m\u001b[1;33m\u001b[0m\u001b[0m\n\u001b[0m\u001b[0;32m    422\u001b[0m                 \u001b[1;32mexcept\u001b[0m \u001b[0mBaseException\u001b[0m \u001b[1;32mas\u001b[0m \u001b[0me\u001b[0m\u001b[1;33m:\u001b[0m\u001b[1;33m\u001b[0m\u001b[1;33m\u001b[0m\u001b[0m\n\u001b[0;32m    423\u001b[0m                     \u001b[1;31m# Remove the TypeError from the exception chain in\u001b[0m\u001b[1;33m\u001b[0m\u001b[1;33m\u001b[0m\u001b[1;33m\u001b[0m\u001b[0m\n",
      "\u001b[1;32mc:\\users\\92335\\appdata\\local\\programs\\python\\python38\\lib\\http\\client.py\u001b[0m in \u001b[0;36mgetresponse\u001b[1;34m(self)\u001b[0m\n\u001b[0;32m   1345\u001b[0m         \u001b[1;32mtry\u001b[0m\u001b[1;33m:\u001b[0m\u001b[1;33m\u001b[0m\u001b[1;33m\u001b[0m\u001b[0m\n\u001b[0;32m   1346\u001b[0m             \u001b[1;32mtry\u001b[0m\u001b[1;33m:\u001b[0m\u001b[1;33m\u001b[0m\u001b[1;33m\u001b[0m\u001b[0m\n\u001b[1;32m-> 1347\u001b[1;33m                 \u001b[0mresponse\u001b[0m\u001b[1;33m.\u001b[0m\u001b[0mbegin\u001b[0m\u001b[1;33m(\u001b[0m\u001b[1;33m)\u001b[0m\u001b[1;33m\u001b[0m\u001b[1;33m\u001b[0m\u001b[0m\n\u001b[0m\u001b[0;32m   1348\u001b[0m             \u001b[1;32mexcept\u001b[0m \u001b[0mConnectionError\u001b[0m\u001b[1;33m:\u001b[0m\u001b[1;33m\u001b[0m\u001b[1;33m\u001b[0m\u001b[0m\n\u001b[0;32m   1349\u001b[0m                 \u001b[0mself\u001b[0m\u001b[1;33m.\u001b[0m\u001b[0mclose\u001b[0m\u001b[1;33m(\u001b[0m\u001b[1;33m)\u001b[0m\u001b[1;33m\u001b[0m\u001b[1;33m\u001b[0m\u001b[0m\n",
      "\u001b[1;32mc:\\users\\92335\\appdata\\local\\programs\\python\\python38\\lib\\http\\client.py\u001b[0m in \u001b[0;36mbegin\u001b[1;34m(self)\u001b[0m\n\u001b[0;32m    305\u001b[0m         \u001b[1;31m# read until we get a non-100 response\u001b[0m\u001b[1;33m\u001b[0m\u001b[1;33m\u001b[0m\u001b[1;33m\u001b[0m\u001b[0m\n\u001b[0;32m    306\u001b[0m         \u001b[1;32mwhile\u001b[0m \u001b[1;32mTrue\u001b[0m\u001b[1;33m:\u001b[0m\u001b[1;33m\u001b[0m\u001b[1;33m\u001b[0m\u001b[0m\n\u001b[1;32m--> 307\u001b[1;33m             \u001b[0mversion\u001b[0m\u001b[1;33m,\u001b[0m \u001b[0mstatus\u001b[0m\u001b[1;33m,\u001b[0m \u001b[0mreason\u001b[0m \u001b[1;33m=\u001b[0m \u001b[0mself\u001b[0m\u001b[1;33m.\u001b[0m\u001b[0m_read_status\u001b[0m\u001b[1;33m(\u001b[0m\u001b[1;33m)\u001b[0m\u001b[1;33m\u001b[0m\u001b[1;33m\u001b[0m\u001b[0m\n\u001b[0m\u001b[0;32m    308\u001b[0m             \u001b[1;32mif\u001b[0m \u001b[0mstatus\u001b[0m \u001b[1;33m!=\u001b[0m \u001b[0mCONTINUE\u001b[0m\u001b[1;33m:\u001b[0m\u001b[1;33m\u001b[0m\u001b[1;33m\u001b[0m\u001b[0m\n\u001b[0;32m    309\u001b[0m                 \u001b[1;32mbreak\u001b[0m\u001b[1;33m\u001b[0m\u001b[1;33m\u001b[0m\u001b[0m\n",
      "\u001b[1;32mc:\\users\\92335\\appdata\\local\\programs\\python\\python38\\lib\\http\\client.py\u001b[0m in \u001b[0;36m_read_status\u001b[1;34m(self)\u001b[0m\n\u001b[0;32m    266\u001b[0m \u001b[1;33m\u001b[0m\u001b[0m\n\u001b[0;32m    267\u001b[0m     \u001b[1;32mdef\u001b[0m \u001b[0m_read_status\u001b[0m\u001b[1;33m(\u001b[0m\u001b[0mself\u001b[0m\u001b[1;33m)\u001b[0m\u001b[1;33m:\u001b[0m\u001b[1;33m\u001b[0m\u001b[1;33m\u001b[0m\u001b[0m\n\u001b[1;32m--> 268\u001b[1;33m         \u001b[0mline\u001b[0m \u001b[1;33m=\u001b[0m \u001b[0mstr\u001b[0m\u001b[1;33m(\u001b[0m\u001b[0mself\u001b[0m\u001b[1;33m.\u001b[0m\u001b[0mfp\u001b[0m\u001b[1;33m.\u001b[0m\u001b[0mreadline\u001b[0m\u001b[1;33m(\u001b[0m\u001b[0m_MAXLINE\u001b[0m \u001b[1;33m+\u001b[0m \u001b[1;36m1\u001b[0m\u001b[1;33m)\u001b[0m\u001b[1;33m,\u001b[0m \u001b[1;34m\"iso-8859-1\"\u001b[0m\u001b[1;33m)\u001b[0m\u001b[1;33m\u001b[0m\u001b[1;33m\u001b[0m\u001b[0m\n\u001b[0m\u001b[0;32m    269\u001b[0m         \u001b[1;32mif\u001b[0m \u001b[0mlen\u001b[0m\u001b[1;33m(\u001b[0m\u001b[0mline\u001b[0m\u001b[1;33m)\u001b[0m \u001b[1;33m>\u001b[0m \u001b[0m_MAXLINE\u001b[0m\u001b[1;33m:\u001b[0m\u001b[1;33m\u001b[0m\u001b[1;33m\u001b[0m\u001b[0m\n\u001b[0;32m    270\u001b[0m             \u001b[1;32mraise\u001b[0m \u001b[0mLineTooLong\u001b[0m\u001b[1;33m(\u001b[0m\u001b[1;34m\"status line\"\u001b[0m\u001b[1;33m)\u001b[0m\u001b[1;33m\u001b[0m\u001b[1;33m\u001b[0m\u001b[0m\n",
      "\u001b[1;32mc:\\users\\92335\\appdata\\local\\programs\\python\\python38\\lib\\socket.py\u001b[0m in \u001b[0;36mreadinto\u001b[1;34m(self, b)\u001b[0m\n\u001b[0;32m    667\u001b[0m         \u001b[1;32mwhile\u001b[0m \u001b[1;32mTrue\u001b[0m\u001b[1;33m:\u001b[0m\u001b[1;33m\u001b[0m\u001b[1;33m\u001b[0m\u001b[0m\n\u001b[0;32m    668\u001b[0m             \u001b[1;32mtry\u001b[0m\u001b[1;33m:\u001b[0m\u001b[1;33m\u001b[0m\u001b[1;33m\u001b[0m\u001b[0m\n\u001b[1;32m--> 669\u001b[1;33m                 \u001b[1;32mreturn\u001b[0m \u001b[0mself\u001b[0m\u001b[1;33m.\u001b[0m\u001b[0m_sock\u001b[0m\u001b[1;33m.\u001b[0m\u001b[0mrecv_into\u001b[0m\u001b[1;33m(\u001b[0m\u001b[0mb\u001b[0m\u001b[1;33m)\u001b[0m\u001b[1;33m\u001b[0m\u001b[1;33m\u001b[0m\u001b[0m\n\u001b[0m\u001b[0;32m    670\u001b[0m             \u001b[1;32mexcept\u001b[0m \u001b[0mtimeout\u001b[0m\u001b[1;33m:\u001b[0m\u001b[1;33m\u001b[0m\u001b[1;33m\u001b[0m\u001b[0m\n\u001b[0;32m    671\u001b[0m                 \u001b[0mself\u001b[0m\u001b[1;33m.\u001b[0m\u001b[0m_timeout_occurred\u001b[0m \u001b[1;33m=\u001b[0m \u001b[1;32mTrue\u001b[0m\u001b[1;33m\u001b[0m\u001b[1;33m\u001b[0m\u001b[0m\n",
      "\u001b[1;32mc:\\users\\92335\\appdata\\local\\programs\\python\\python38\\lib\\ssl.py\u001b[0m in \u001b[0;36mrecv_into\u001b[1;34m(self, buffer, nbytes, flags)\u001b[0m\n\u001b[0;32m   1239\u001b[0m                   \u001b[1;34m\"non-zero flags not allowed in calls to recv_into() on %s\"\u001b[0m \u001b[1;33m%\u001b[0m\u001b[1;33m\u001b[0m\u001b[1;33m\u001b[0m\u001b[0m\n\u001b[0;32m   1240\u001b[0m                   self.__class__)\n\u001b[1;32m-> 1241\u001b[1;33m             \u001b[1;32mreturn\u001b[0m \u001b[0mself\u001b[0m\u001b[1;33m.\u001b[0m\u001b[0mread\u001b[0m\u001b[1;33m(\u001b[0m\u001b[0mnbytes\u001b[0m\u001b[1;33m,\u001b[0m \u001b[0mbuffer\u001b[0m\u001b[1;33m)\u001b[0m\u001b[1;33m\u001b[0m\u001b[1;33m\u001b[0m\u001b[0m\n\u001b[0m\u001b[0;32m   1242\u001b[0m         \u001b[1;32melse\u001b[0m\u001b[1;33m:\u001b[0m\u001b[1;33m\u001b[0m\u001b[1;33m\u001b[0m\u001b[0m\n\u001b[0;32m   1243\u001b[0m             \u001b[1;32mreturn\u001b[0m \u001b[0msuper\u001b[0m\u001b[1;33m(\u001b[0m\u001b[1;33m)\u001b[0m\u001b[1;33m.\u001b[0m\u001b[0mrecv_into\u001b[0m\u001b[1;33m(\u001b[0m\u001b[0mbuffer\u001b[0m\u001b[1;33m,\u001b[0m \u001b[0mnbytes\u001b[0m\u001b[1;33m,\u001b[0m \u001b[0mflags\u001b[0m\u001b[1;33m)\u001b[0m\u001b[1;33m\u001b[0m\u001b[1;33m\u001b[0m\u001b[0m\n",
      "\u001b[1;32mc:\\users\\92335\\appdata\\local\\programs\\python\\python38\\lib\\ssl.py\u001b[0m in \u001b[0;36mread\u001b[1;34m(self, len, buffer)\u001b[0m\n\u001b[0;32m   1097\u001b[0m         \u001b[1;32mtry\u001b[0m\u001b[1;33m:\u001b[0m\u001b[1;33m\u001b[0m\u001b[1;33m\u001b[0m\u001b[0m\n\u001b[0;32m   1098\u001b[0m             \u001b[1;32mif\u001b[0m \u001b[0mbuffer\u001b[0m \u001b[1;32mis\u001b[0m \u001b[1;32mnot\u001b[0m \u001b[1;32mNone\u001b[0m\u001b[1;33m:\u001b[0m\u001b[1;33m\u001b[0m\u001b[1;33m\u001b[0m\u001b[0m\n\u001b[1;32m-> 1099\u001b[1;33m                 \u001b[1;32mreturn\u001b[0m \u001b[0mself\u001b[0m\u001b[1;33m.\u001b[0m\u001b[0m_sslobj\u001b[0m\u001b[1;33m.\u001b[0m\u001b[0mread\u001b[0m\u001b[1;33m(\u001b[0m\u001b[0mlen\u001b[0m\u001b[1;33m,\u001b[0m \u001b[0mbuffer\u001b[0m\u001b[1;33m)\u001b[0m\u001b[1;33m\u001b[0m\u001b[1;33m\u001b[0m\u001b[0m\n\u001b[0m\u001b[0;32m   1100\u001b[0m             \u001b[1;32melse\u001b[0m\u001b[1;33m:\u001b[0m\u001b[1;33m\u001b[0m\u001b[1;33m\u001b[0m\u001b[0m\n\u001b[0;32m   1101\u001b[0m                 \u001b[1;32mreturn\u001b[0m \u001b[0mself\u001b[0m\u001b[1;33m.\u001b[0m\u001b[0m_sslobj\u001b[0m\u001b[1;33m.\u001b[0m\u001b[0mread\u001b[0m\u001b[1;33m(\u001b[0m\u001b[0mlen\u001b[0m\u001b[1;33m)\u001b[0m\u001b[1;33m\u001b[0m\u001b[1;33m\u001b[0m\u001b[0m\n",
      "\u001b[1;31mKeyboardInterrupt\u001b[0m: "
     ]
    }
   ],
   "source": [
    "start_date = date(2011,4,1) #start \n",
    "end_date = datetime.date.today()\n",
    "end_date += timedelta(days=1)\n",
    "\n",
    "def Corpus_BR(start_date, end_date):\n",
    "        for single_date in daterange(start_date, end_date):\n",
    "            #print(single_date)\n",
    "            single_date = single_date.strftime('%Y-%m-%d')\n",
    "            url = basestring_BR + single_date\n",
    "            print(url,single_date)\n",
    "            scraper(url, single_date)\n",
    "Corpus_BR(start_date, end_date)\n"
   ]
  },
  {
   "cell_type": "markdown",
   "metadata": {},
   "source": [
    "# BR: Making a csv file for nlkt "
   ]
  },
  {
   "cell_type": "markdown",
   "metadata": {},
   "source": [
    "Create a dataframe to store our news. "
   ]
  },
  {
   "cell_type": "code",
   "execution_count": 259,
   "metadata": {},
   "outputs": [],
   "source": [
    "import pandas as pd\n",
    "\n",
    "BR_News = pd.DataFrame(columns=['date','news'])\n"
   ]
  },
  {
   "cell_type": "code",
   "execution_count": 260,
   "metadata": {},
   "outputs": [],
   "source": [
    "basestring_BR = 'https://www.brecorder.com/pakistan/'\n",
    "\n",
    "start_date = date(2011,4,1) #start \n",
    "end_date = datetime.date.today()\n",
    "end_date += timedelta(days=1)\n",
    "\n",
    "def Br_Downloader(start_date, end_date, BR_News):\n",
    "    for single_date in daterange(start_date, end_date):\n",
    "        single_date = single_date.strftime('%Y-%m-%d')\n",
    "        url = basestring_BR + single_date\n",
    "        req = requests.get(url)\n",
    "        soup = BeautifulSoup(req.text, 'lxml')\n",
    "        titles = soup.find_all(\"h2\", class_ = 'story__title text-6 mb-2 text-black hover:text-gray-800 font -normal pt-0')\n",
    "        subTitles = soup.find_all(\"div\", class_ = 'story__excerpt text-gray-700 text-4 leading-6 mb-2')\n",
    "        data = []\n",
    "        for t,st in zip(titles, subTitles):\n",
    "            # title and subT are seperated by \"-\" inside list\n",
    "            new_row = {'date' : str(single_date), 'news': t.get_text().strip() + ' - ' + st.get_text().strip()}\n",
    "            #print(type(new_row))\n",
    "            BR_News = BR_News.append(new_row, ignore_index=True)\n",
    "    BR_News.to_csv(r'C:\\Users\\92335\\Desktop\\Kaavish\\BR_News', index=True) \n",
    "    #print(BR_News)\n",
    "\n",
    "Br_Downloader(start_date, end_date, BR_News)\n"
   ]
  },
  {
   "cell_type": "markdown",
   "metadata": {},
   "source": [
    "# DAWN: Making a csv file for nlkt "
   ]
  },
  {
   "cell_type": "code",
   "execution_count": 262,
   "metadata": {},
   "outputs": [],
   "source": [
    "import pandas as pd\n",
    "\n",
    "Dawn_News = pd.DataFrame(columns=['date','news'])\n"
   ]
  },
  {
   "cell_type": "code",
   "execution_count": 263,
   "metadata": {},
   "outputs": [],
   "source": [
    "basestring_dawn = 'https://www.dawn.com/archive/'\n",
    "\n",
    "start_date = date(2011,4,1) #start \n",
    "end_date = datetime.date.today()\n",
    "end_date += timedelta(days=1)\n",
    "\n",
    "\n",
    "def Dawn_Downloader(start_date, end_date, Dawn_News):\n",
    "    for single_date in daterange(start_date, end_date):\n",
    "        single_date = single_date.strftime('%Y-%m-%d')\n",
    "        url = basestring_dawn + single_date\n",
    "        r1 = requests.get(url)\n",
    "        only = SoupStrainer(\"article\")\n",
    "        title = BeautifulSoup(r1.text, 'html.parser', parse_only=only)\n",
    "        headlines = []\n",
    "        for x in title.find_all(\"article\"):\n",
    "            a_tag = x.find_all(\"a\")\n",
    "            \n",
    "            if (\"Pakistan\" in a_tag[0].text):\n",
    "                try:\n",
    "                    headlines.append(a_tag[1].get_text().strip())\n",
    "                except:\n",
    "                    headlines.append(a_tag[0].get_text().strip())\n",
    "        n = len(headlines)\n",
    "        for i in range(n):\n",
    "            new_row1 = {'date':str(single_date), 'news': headlines[i]}\n",
    "            Dawn_News = Dawn_News.append(new_row1, ignore_index=True)\n",
    "    Dawn_News.to_csv(r'C:\\Users\\92335\\Desktop\\Kaavish\\Dawn_News', index=True) \n",
    "    \n",
    "Dawn_Downloader(start_date, end_date, Dawn_News)\n",
    "#print(BR_News)          \n",
    "            \n",
    "    \n"
   ]
  },
  {
   "cell_type": "code",
   "execution_count": null,
   "metadata": {},
   "outputs": [],
   "source": []
  }
 ],
 "metadata": {
  "kernelspec": {
   "display_name": "Python 3",
   "language": "python",
   "name": "python3"
  },
  "language_info": {
   "codemirror_mode": {
    "name": "ipython",
    "version": 3
   },
   "file_extension": ".py",
   "mimetype": "text/x-python",
   "name": "python",
   "nbconvert_exporter": "python",
   "pygments_lexer": "ipython3",
   "version": "3.8.5"
  }
 },
 "nbformat": 4,
 "nbformat_minor": 4
}
